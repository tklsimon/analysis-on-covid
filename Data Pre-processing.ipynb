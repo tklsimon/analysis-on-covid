{
 "cells": [
  {
   "cell_type": "markdown",
   "id": "83a88ed7-5706-44dd-845a-a1b16cd8197d",
   "metadata": {},
   "source": [
    "# The University of Hong Kong\n",
    "## DASC7600 Data Science Project 2024"
   ]
  },
  {
   "cell_type": "markdown",
   "id": "f8139402-7788-4fd5-8534-73a08f647dcd",
   "metadata": {},
   "source": [
    "# Import modules"
   ]
  },
  {
   "cell_type": "code",
   "execution_count": 1,
   "id": "cb5e596c-3f45-48b1-bce5-d1570345b162",
   "metadata": {},
   "outputs": [],
   "source": [
    "import pandas as pd\n",
    "import warnings\n",
    "\n",
    "warnings.filterwarnings('ignore')"
   ]
  },
  {
   "cell_type": "markdown",
   "id": "67c15c8d-2d00-4665-abbd-c8e9113c8d69",
   "metadata": {},
   "source": [
    "# Functions"
   ]
  },
  {
   "cell_type": "code",
   "execution_count": 2,
   "id": "66daba91-7816-4443-9d4c-2a457fa4451c",
   "metadata": {},
   "outputs": [],
   "source": [
    "def get_import_local_col(value: str) -> str:\n",
    "    if 'IMPORT' in value.upper():\n",
    "        return 'import'\n",
    "    elif 'LOCAL' in value.upper():\n",
    "        return 'local'\n",
    "    else:\n",
    "        return 'NA'\n",
    "\n",
    "def get_year_month_part(df: pd.DataFrame,\n",
    "                  column_name: str,\n",
    "                  date_format: str) -> None:\n",
    "    for (date_part, date_part_format) in [('year','%Y'), ('year_month','%Y%m')]:\n",
    "        new_column_name = column_name.removesuffix('_date') + '_' + date_part\n",
    "        df[new_column_name] = \\\n",
    "            pd.to_datetime(df[column_name], format=date_format, errors='coerce') \\\n",
    "            .dt.strftime(date_part_format) \\\n",
    "            .fillna('NA')\n",
    "\n",
    "def one_hot_encoding(df: pd.DataFrame,\n",
    "                     column_name: str) -> pd.DataFrame:\n",
    "    distinct_values = set(df[column_name])\n",
    "    \n",
    "    for value in distinct_values:\n",
    "        new_column_name = column_name + '_' + value\n",
    "        df[new_column_name] = df[column_name].apply(lambda col: 1 if col == value else 0)\n",
    "    \n",
    "    df = df.drop(column_name, axis=1)\n",
    "    \n",
    "    return df"
   ]
  },
  {
   "cell_type": "markdown",
   "id": "c4a9be81-a126-460e-9664-8c040c20b70f",
   "metadata": {},
   "source": [
    "# Load Data"
   ]
  },
  {
   "cell_type": "code",
   "execution_count": 3,
   "id": "46e9a44f-7abb-4ef3-9b8d-85e956a3097c",
   "metadata": {},
   "outputs": [],
   "source": [
    "# Read csv files\n",
    "covid_hk_std = pd.read_csv('./data/raw_data/hk/enhanced_sur_covid_19_eng.csv')"
   ]
  },
  {
   "cell_type": "markdown",
   "id": "c637da53-f43f-44b5-aee7-0327c24fca5b",
   "metadata": {},
   "source": [
    "# Modify Column Names"
   ]
  },
  {
   "cell_type": "code",
   "execution_count": 4,
   "id": "00b0a8c7-6cbd-412c-9a3f-26c1d2e44c81",
   "metadata": {},
   "outputs": [],
   "source": [
    "# Rename columns\n",
    "col_name_map = {'Case no.': 'case_id',\n",
    "                'Report date': 'report_date',\n",
    "                'Date of onset': 'onset_date',\n",
    "                'Gender': 'gender',\n",
    "                'Age': 'age',\n",
    "                'Name of hospital admitted': 'hospital_name',\n",
    "                'Hospitalised/Discharged/Deceased': 'case_outcome',\n",
    "                'HK/Non-HK resident': 'resident',\n",
    "                'Classification*': 'case_type',\n",
    "                'Case status*': 'case_status'}\n",
    "\n",
    "covid_hk_std.rename(columns=col_name_map, inplace=True)"
   ]
  },
  {
   "cell_type": "markdown",
   "id": "bc6d0641-4741-435b-a086-f420b06b0825",
   "metadata": {},
   "source": [
    "# Drop non-informative column"
   ]
  },
  {
   "cell_type": "code",
   "execution_count": 5,
   "id": "5b729b78-c970-4def-ac69-fa75c8d6003c",
   "metadata": {},
   "outputs": [],
   "source": [
    "# Drop hospital name column\n",
    "covid_hk_std = covid_hk_std.drop(['case_id', 'hospital_name'], axis=1)"
   ]
  },
  {
   "cell_type": "markdown",
   "id": "4fd736eb-b682-434f-afb1-3212bc60f96c",
   "metadata": {},
   "source": [
    "# Drop deleted records"
   ]
  },
  {
   "cell_type": "code",
   "execution_count": 6,
   "id": "414cd1c2-e644-41a3-aaf2-d473d457813d",
   "metadata": {},
   "outputs": [],
   "source": [
    "# Drop records with status \"Deleted\"\n",
    "covid_hk_std = covid_hk_std[~covid_hk_std['case_status'].isin(['Deleted'])]"
   ]
  },
  {
   "cell_type": "markdown",
   "id": "608b7ff9-c9f7-4e4a-9c08-42ee9ee1a55e",
   "metadata": {},
   "source": [
    "# Fill NA and replace values in columns"
   ]
  },
  {
   "cell_type": "code",
   "execution_count": 7,
   "id": "1c91deb2-08e0-4d7c-9514-b2f5ec1ae112",
   "metadata": {},
   "outputs": [],
   "source": [
    "# Fill NA with \"N/A\"\n",
    "covid_hk_std = covid_hk_std \\\n",
    "    .fillna('NA')"
   ]
  },
  {
   "cell_type": "code",
   "execution_count": 8,
   "id": "f71e85cc-8de3-4f69-97ce-65ada4fb87d9",
   "metadata": {
    "scrolled": true
   },
   "outputs": [],
   "source": [
    "# Replace \"Pending\" and \"Unknown\" with \"N/A\"\n",
    "covid_hk_std = covid_hk_std \\\n",
    "    .replace({'Pending': 'NA',\n",
    "              'Unknown': 'NA'})"
   ]
  },
  {
   "cell_type": "code",
   "execution_count": 9,
   "id": "870a5c6e-3ff7-4da1-a13f-2cd4a9989553",
   "metadata": {},
   "outputs": [],
   "source": [
    "# Modify value in field \"onset_date\" and \"age\"\n",
    "covid_hk_std = covid_hk_std \\\n",
    "    .replace({'onset_date': {'Asymptomatic': 'NA',\n",
    "                             'January': '15/01/2020',\n",
    "                             'Mid-March': '15/03/2020',\n",
    "                             'Mid-July': '15/07/2020',\n",
    "                             'October': '15/10/2020'},\n",
    "              'age': {'<1': '0'}})"
   ]
  },
  {
   "cell_type": "markdown",
   "id": "d1571025-35da-4cf0-b663-78f224fbb63c",
   "metadata": {},
   "source": [
    "# Feature Creation"
   ]
  },
  {
   "cell_type": "code",
   "execution_count": 10,
   "id": "3b90e1a7-f50b-41d9-99cc-270fb33b6039",
   "metadata": {},
   "outputs": [],
   "source": [
    "# Create age group column\n",
    "covid_hk_std['age_group'] = pd.cut(covid_hk_std[(covid_hk_std['age'] != 'NA')]['age'].astype('int'),\n",
    "                                   bins=[0, 20, 40, 60, 80, 101],\n",
    "                                   labels=['0-19','20-39','40-59','60-79','80-100'],\n",
    "                                   right=False)"
   ]
  },
  {
   "cell_type": "code",
   "execution_count": 11,
   "id": "a48c96bc-7aaa-4757-823d-41c5d13fa030",
   "metadata": {},
   "outputs": [],
   "source": [
    "covid_hk_std['import_local'] = covid_hk_std['case_type'].apply(lambda col: get_import_local_col(col))"
   ]
  },
  {
   "cell_type": "code",
   "execution_count": 12,
   "id": "2b9d7803-2a48-488e-ba9e-c8acf2e80f36",
   "metadata": {},
   "outputs": [],
   "source": [
    "# Create year, month and day columns for report date and onset date\n",
    "get_year_month_part(covid_hk_std, 'report_date', '%d/%m/%Y')\n",
    "# get_year_month_part(covid_hk_std, 'onset_date', '%d/%m/%Y')"
   ]
  },
  {
   "cell_type": "markdown",
   "id": "641361f5-d8e5-4341-8311-101363a2b772",
   "metadata": {},
   "source": [
    "# Feature Transformation"
   ]
  },
  {
   "cell_type": "code",
   "execution_count": 13,
   "id": "5b3da493-8d23-4f19-9324-9dd9f6ce66ec",
   "metadata": {},
   "outputs": [],
   "source": [
    "# TBD"
   ]
  },
  {
   "cell_type": "markdown",
   "id": "6892baea-fcd3-4bb1-a536-08e07d50fc46",
   "metadata": {},
   "source": [
    "# Categorical Features Handling"
   ]
  },
  {
   "cell_type": "code",
   "execution_count": 14,
   "id": "c340d27a-8dca-453e-9b17-955697fa6d02",
   "metadata": {},
   "outputs": [],
   "source": [
    "covid_hk_std = one_hot_encoding(covid_hk_std, 'gender')\n",
    "# covid_hk_std = one_hot_encoding(covid_hk_std, 'resident')\n",
    "# covid_hk_std = one_hot_encoding(covid_hk_std, 'case_type')"
   ]
  },
  {
   "cell_type": "markdown",
   "id": "6c6912e0-2a72-4893-ad3f-5267b311af17",
   "metadata": {},
   "source": [
    "# Export Data Pre-processing Result to csv File"
   ]
  },
  {
   "cell_type": "code",
   "execution_count": 15,
   "id": "fa663f2d-a5b2-487f-9834-c1d96b3f9db7",
   "metadata": {},
   "outputs": [],
   "source": [
    "# Export to csv file\n",
    "covid_hk_std.to_csv('./data/std_data/hk/covid_hk_std.csv')"
   ]
  },
  {
   "cell_type": "code",
   "execution_count": null,
   "id": "1b824df8-09e6-4be4-9fc2-f86b67eb08c2",
   "metadata": {},
   "outputs": [],
   "source": []
  },
  {
   "cell_type": "code",
   "execution_count": null,
   "id": "4c8cb359-d3f1-46c6-9218-ee54f988ab32",
   "metadata": {},
   "outputs": [],
   "source": []
  }
 ],
 "metadata": {
  "kernelspec": {
   "display_name": "Python 3 (ipykernel)",
   "language": "python",
   "name": "python3"
  },
  "language_info": {
   "codemirror_mode": {
    "name": "ipython",
    "version": 3
   },
   "file_extension": ".py",
   "mimetype": "text/x-python",
   "name": "python",
   "nbconvert_exporter": "python",
   "pygments_lexer": "ipython3",
   "version": "3.11.4"
  }
 },
 "nbformat": 4,
 "nbformat_minor": 5
}
