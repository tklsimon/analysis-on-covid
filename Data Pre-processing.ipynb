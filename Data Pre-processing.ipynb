{
 "cells": [
  {
   "cell_type": "markdown",
   "id": "83a88ed7-5706-44dd-845a-a1b16cd8197d",
   "metadata": {},
   "source": [
    "# The University of Hong Kong\n",
    "## DASC7600 Data Science Project 2024"
   ]
  },
  {
   "cell_type": "markdown",
   "id": "f8139402-7788-4fd5-8534-73a08f647dcd",
   "metadata": {},
   "source": [
    "# Import modules and configuration"
   ]
  },
  {
   "cell_type": "code",
   "execution_count": 1,
   "id": "cb5e596c-3f45-48b1-bce5-d1570345b162",
   "metadata": {},
   "outputs": [],
   "source": [
    "import pandas as pd\n",
    "import warnings\n",
    "\n",
    "warnings.filterwarnings(\"ignore\")"
   ]
  },
  {
   "cell_type": "markdown",
   "id": "67c15c8d-2d00-4665-abbd-c8e9113c8d69",
   "metadata": {},
   "source": [
    "# Functions"
   ]
  },
  {
   "cell_type": "code",
   "execution_count": null,
   "id": "66daba91-7816-4443-9d4c-2a457fa4451c",
   "metadata": {},
   "outputs": [],
   "source": []
  },
  {
   "cell_type": "markdown",
   "id": "c4a9be81-a126-460e-9664-8c040c20b70f",
   "metadata": {},
   "source": [
    "# Load Data"
   ]
  },
  {
   "cell_type": "code",
   "execution_count": 2,
   "id": "46e9a44f-7abb-4ef3-9b8d-85e956a3097c",
   "metadata": {},
   "outputs": [],
   "source": [
    "# Read csv files\n",
    "covid_hk_df = pd.read_csv(\"./data/raw_data/hk/enhanced_sur_covid_19_eng.csv\")"
   ]
  },
  {
   "cell_type": "markdown",
   "id": "c637da53-f43f-44b5-aee7-0327c24fca5b",
   "metadata": {},
   "source": [
    "# Modify Column Names"
   ]
  },
  {
   "cell_type": "code",
   "execution_count": 3,
   "id": "00b0a8c7-6cbd-412c-9a3f-26c1d2e44c81",
   "metadata": {},
   "outputs": [],
   "source": [
    "# Rename columns\n",
    "col_name_map = {\"Case no.\": \"case_id\",\n",
    "                \"Report date\": \"report_date\",\n",
    "                \"Date of onset\": \"onset_date\",\n",
    "                \"Gender\": \"gender\",\n",
    "                \"Age\": \"age\",\n",
    "                \"Name of hospital admitted\": \"hospital_name\",\n",
    "                \"Hospitalised/Discharged/Deceased\": \"case_outcome\",\n",
    "                \"HK/Non-HK resident\": \"resident\",\n",
    "                \"Classification*\": \"case_type\",\n",
    "                \"Case status*\": \"case_status\"}\n",
    "\n",
    "covid_hk_df.rename(columns=col_name_map, inplace=True)"
   ]
  },
  {
   "cell_type": "markdown",
   "id": "bc6d0641-4741-435b-a086-f420b06b0825",
   "metadata": {},
   "source": [
    "# Drop non-informative column"
   ]
  },
  {
   "cell_type": "code",
   "execution_count": 4,
   "id": "5b729b78-c970-4def-ac69-fa75c8d6003c",
   "metadata": {},
   "outputs": [],
   "source": [
    "# Drop hospital name column\n",
    "covid_hk_df = covid_hk_df.drop([\"hospital_name\"], axis=1)"
   ]
  },
  {
   "cell_type": "markdown",
   "id": "4fd736eb-b682-434f-afb1-3212bc60f96c",
   "metadata": {},
   "source": [
    "# Drop non-informative records"
   ]
  },
  {
   "cell_type": "code",
   "execution_count": 5,
   "id": "414cd1c2-e644-41a3-aaf2-d473d457813d",
   "metadata": {},
   "outputs": [],
   "source": [
    "# Drop records with status \"Deleted\" or \"Unknown\"\n",
    "covid_hk_df = covid_hk_df[~covid_hk_df[\"case_status\"].isin([\"Deleted\", \"Unknown\"])]"
   ]
  },
  {
   "cell_type": "markdown",
   "id": "6c6912e0-2a72-4893-ad3f-5267b311af17",
   "metadata": {},
   "source": [
    "# Export Pre-processing Result to csv file"
   ]
  },
  {
   "cell_type": "code",
   "execution_count": 7,
   "id": "fa663f2d-a5b2-487f-9834-c1d96b3f9db7",
   "metadata": {},
   "outputs": [],
   "source": [
    "# Export to csv file\n",
    "covid_hk_df.to_csv(\"./data/std_data/hk/covid_hk.csv\")"
   ]
  }
 ],
 "metadata": {
  "kernelspec": {
   "display_name": "Python 3 (ipykernel)",
   "language": "python",
   "name": "python3"
  },
  "language_info": {
   "codemirror_mode": {
    "name": "ipython",
    "version": 3
   },
   "file_extension": ".py",
   "mimetype": "text/x-python",
   "name": "python",
   "nbconvert_exporter": "python",
   "pygments_lexer": "ipython3",
   "version": "3.11.4"
  }
 },
 "nbformat": 4,
 "nbformat_minor": 5
}
