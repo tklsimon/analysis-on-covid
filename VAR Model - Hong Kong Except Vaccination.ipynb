{
 "cells": [
  {
   "cell_type": "markdown",
   "id": "5f5fa870-3875-4d53-a621-24aefb924a65",
   "metadata": {},
   "source": [
    "# The University of Hong Kong\n",
    "## DASC7600 Data Science Project 2024\n",
    "## VAR Model - Hong Kong (Except Vaccination)"
   ]
  },
  {
   "cell_type": "markdown",
   "id": "ed22e8c9-8dbc-4134-90ac-8a4f8c4c1c25",
   "metadata": {},
   "source": [
    "# Import Modules and Settings"
   ]
  },
  {
   "cell_type": "code",
   "execution_count": 1,
   "id": "b62df672",
   "metadata": {},
   "outputs": [],
   "source": [
    "import pandas as pd\n",
    "import statsmodels.api as sm\n",
    "import warnings\n",
    "\n",
    "import tree_module\n",
    "import var_module\n",
    "\n",
    "# Settings\n",
    "warnings.filterwarnings('ignore')"
   ]
  },
  {
   "cell_type": "markdown",
   "id": "95d0a5b5",
   "metadata": {},
   "source": [
    "# Load Data"
   ]
  },
  {
   "cell_type": "code",
   "execution_count": 2,
   "id": "c7d32cf5-bad0-4d70-9161-80950b01e096",
   "metadata": {},
   "outputs": [],
   "source": [
    "# Read csv files\n",
    "covid_hk_case_cnt_std = pd.read_csv('./data/std_data/hk/covid_hk_case_count_std.csv')\n",
    "covid_hk_policy_std = pd.read_csv('./data/std_data/hk/covid_hk_policy_std.csv')\n",
    "hk_daily_avg_temp_std = pd.read_csv('./data/std_data/hk/hk_daily_avg_temp_std.csv')\n",
    "hk_daily_avg_humid_std = pd.read_csv('./data/std_data/hk/hk_daily_avg_humid_std.csv')"
   ]
  },
  {
   "cell_type": "markdown",
   "id": "52b08bc3-0d1e-4d93-a752-708cbe623954",
   "metadata": {},
   "source": [
    "# Drop Columns and Modify Data Type of Date Column"
   ]
  },
  {
   "cell_type": "code",
   "execution_count": 3,
   "id": "0ac95a57",
   "metadata": {},
   "outputs": [],
   "source": [
    "for df in [covid_hk_case_cnt_std,\n",
    "           covid_hk_policy_std,\n",
    "           hk_daily_avg_temp_std,\n",
    "           hk_daily_avg_humid_std]:\n",
    "    df.drop(['report_year', 'report_month', 'report_year_month'], axis=1, inplace=True, errors='ignore')\n",
    "    \n",
    "    df['report_date'] = pd.to_datetime(df['report_date'], format='%Y%m%d')"
   ]
  },
  {
   "cell_type": "markdown",
   "id": "f0c2bd23-8807-45d4-9959-e13bf870fc63",
   "metadata": {},
   "source": [
    "# Combine Datasets"
   ]
  },
  {
   "cell_type": "code",
   "execution_count": 4,
   "id": "beef54e1-8e5a-44c4-b128-57cd7c84a6d7",
   "metadata": {},
   "outputs": [],
   "source": [
    "# covid_hk_case_cnt_std: from 2020-01-08 to 2023-01-29\n",
    "# covid_hk_policy_std: from 2020-01-01 to 2023-02-28\n",
    "# hk_daily_avg_temp_std: from 2020-01-01 to 2024-06-30\n",
    "# hk_daily_avg_humid_std: from 2020-01-01 to 2024-09-30\n",
    "var_data = covid_hk_case_cnt_std \\\n",
    "    .merge(covid_hk_policy_std,\n",
    "           'left',\n",
    "           'report_date') \\\n",
    "    .merge(hk_daily_avg_temp_std,\n",
    "           'left',\n",
    "           'report_date') \\\n",
    "    .merge(hk_daily_avg_humid_std,\n",
    "           'left',\n",
    "           'report_date')\n",
    "\n",
    "var_data.set_index('report_date', inplace=True)"
   ]
  },
  {
   "cell_type": "markdown",
   "id": "e60a5628-1597-4660-837e-97dd99c9033a",
   "metadata": {},
   "source": [
    "# Handle Non-Stationary Columns"
   ]
  },
  {
   "cell_type": "code",
   "execution_count": 5,
   "id": "f842cd0d-5e45-4fa2-a174-dcab7500443c",
   "metadata": {},
   "outputs": [
    {
     "name": "stdout",
     "output_type": "stream",
     "text": [
      "Running the function stationary_and_difference using for loop ...\n",
      "\n",
      "Running Loop #1 ...\n",
      "\n",
      "Running Loop #2 ...\n",
      "\n",
      "All target columns are now stationary.\n",
      "Loop Ended.\n"
     ]
    }
   ],
   "source": [
    "var_module.stationary_and_difference_loop(var_data, print_ind=False)"
   ]
  },
  {
   "cell_type": "markdown",
   "id": "b96c626e-c477-4d82-881c-8796e8f0bb3c",
   "metadata": {},
   "source": [
    "# Set Independent Variable, Dependent Variable and Threshold"
   ]
  },
  {
   "cell_type": "code",
   "execution_count": 6,
   "id": "0b2dfaa1-a5a6-4fa9-9232-87ad8add5273",
   "metadata": {},
   "outputs": [],
   "source": [
    "X_col_list, y_col_list, p_val_thrhld = ['avg_temp'], ['new_case_cnt'], 0.05\n",
    "\n",
    "# X_col_list, y_col_list, p_val_thrhld = ['avg_humid'], ['new_case_cnt'], 0.1\n",
    "\n",
    "# X_col_list, y_col_list, p_val_thrhld = \\\n",
    "#     ['school', 'no_hong_kong_p', 'hong_kong_group', 'hong_kong_all', 'home_other_14',\n",
    "#      # 'hotel_21', 'hotel_14', 'hotel_7', 'hotel_3',\n",
    "#      'type_1_close',\n",
    "#      'type_2_close', 'type_3_close', 'people2', 'people4', 'people8',\n",
    "#      '0500_1800','0500_2200','0500_0200'], \\\n",
    "#     ['new_case_cnt'], \\\n",
    "#     0.05"
   ]
  },
  {
   "cell_type": "markdown",
   "id": "a4b7d241-76e2-40ef-bb36-9d542d445e55",
   "metadata": {},
   "source": [
    "# Fit Vector Autoregression Model and Obtain Significant Variables"
   ]
  },
  {
   "cell_type": "code",
   "execution_count": 7,
   "id": "b7b24b04-3a9d-4c09-ad2b-6b20548c0a84",
   "metadata": {},
   "outputs": [
    {
     "name": "stdout",
     "output_type": "stream",
     "text": [
      "Fitting the VAR model with maximum lag 14 ...\n",
      "Done.\n",
      "\n",
      "Results for equation new_case_cnt\n",
      "======================================================================================\n",
      "                         coefficient       std. error           t-stat            prob\n",
      "--------------------------------------------------------------------------------------\n",
      "const                      61.225614        41.104695            1.490           0.136\n",
      "L1.avg_temp_diff_1         41.010394        30.554174            1.342           0.180\n",
      "L1.new_case_cnt             0.868453         0.030318           28.645           0.000\n",
      "L2.avg_temp_diff_1          5.138682        30.690881            0.167           0.867\n",
      "L2.new_case_cnt             0.132836         0.040190            3.305           0.001\n",
      "L3.avg_temp_diff_1         -2.880826        32.401154           -0.089           0.929\n",
      "L3.new_case_cnt            -0.236367         0.040215           -5.878           0.000\n",
      "L4.avg_temp_diff_1        -28.260121        32.809589           -0.861           0.389\n",
      "L4.new_case_cnt             0.500504         0.040799           12.268           0.000\n",
      "L5.avg_temp_diff_1         -3.604020        32.916876           -0.109           0.913\n",
      "L5.new_case_cnt            -0.123094         0.043416           -2.835           0.005\n",
      "L6.avg_temp_diff_1        -93.678200        33.075030           -2.832           0.005\n",
      "L6.new_case_cnt            -0.129709         0.043567           -2.977           0.003\n",
      "L7.avg_temp_diff_1        -83.006724        33.507271           -2.477           0.013\n",
      "L7.new_case_cnt            -0.013563         0.043224           -0.314           0.754\n",
      "L8.avg_temp_diff_1        -24.387268        33.590757           -0.726           0.468\n",
      "L8.new_case_cnt            -0.208145         0.043323           -4.805           0.000\n",
      "L9.avg_temp_diff_1        -77.848087        33.281773           -2.339           0.019\n",
      "L9.new_case_cnt             0.020079         0.043575            0.461           0.645\n",
      "L10.avg_temp_diff_1       -83.712318        33.106120           -2.529           0.011\n",
      "L10.new_case_cnt            0.152493         0.043420            3.512           0.000\n",
      "L11.avg_temp_diff_1       -48.205855        33.014423           -1.460           0.144\n",
      "L11.new_case_cnt           -0.082186         0.040999           -2.005           0.045\n",
      "L12.avg_temp_diff_1       -30.007534        32.610039           -0.920           0.357\n",
      "L12.new_case_cnt            0.122987         0.040470            3.039           0.002\n",
      "L13.avg_temp_diff_1       -61.692320        30.842259           -2.000           0.045\n",
      "L13.new_case_cnt            0.046390         0.040452            1.147           0.251\n",
      "L14.avg_temp_diff_1        11.958238        31.056673            0.385           0.700\n",
      "L14.new_case_cnt           -0.107287         0.030257           -3.546           0.000\n",
      "======================================================================================\n",
      "\n"
     ]
    }
   ],
   "source": [
    "var_model = var_module.fit_var_model(var_data, X_col_list, y_col_list, print_result_ind=True)"
   ]
  },
  {
   "cell_type": "code",
   "execution_count": 8,
   "id": "a3bfc83c-aa5e-47d8-9eb1-3c877e0492d9",
   "metadata": {},
   "outputs": [
    {
     "name": "stdout",
     "output_type": "stream",
     "text": [
      "For new_case_cnt,\n",
      "The following variables are significant (p-value < 0.05):\n",
      "(variable name: p-value)\n",
      "L1.new_case_cnt: 1.86e-180\n",
      "L2.new_case_cnt: 0.000949\n",
      "L3.new_case_cnt: 4.16e-09\n",
      "L4.new_case_cnt: 1.35e-34\n",
      "L5.new_case_cnt: 0.00458\n",
      "L6.avg_temp_diff_1: 0.00462\n",
      "L6.new_case_cnt: 0.00291\n",
      "L7.avg_temp_diff_1: 0.0132\n",
      "L8.new_case_cnt: 1.55e-06\n",
      "L9.avg_temp_diff_1: 0.0193\n",
      "L10.avg_temp_diff_1: 0.0115\n",
      "L10.new_case_cnt: 0.000445\n",
      "L11.new_case_cnt: 0.045\n",
      "L12.new_case_cnt: 0.00237\n",
      "L13.avg_temp_diff_1: 0.0455\n",
      "L14.new_case_cnt: 0.000391\n",
      "\n"
     ]
    }
   ],
   "source": [
    "var_signf_X_col_list = var_module.get_significant_variable(var_model, y_col_list, p_val_thrhld)"
   ]
  },
  {
   "cell_type": "markdown",
   "id": "dd058342-ae2d-489f-b7bb-f70222e756e5",
   "metadata": {},
   "source": [
    "# Fit Ordinary Least Squares Regress Model"
   ]
  },
  {
   "cell_type": "code",
   "execution_count": 9,
   "id": "6dbbc515-22ae-44f5-aacf-984c7ac4c1cf",
   "metadata": {},
   "outputs": [],
   "source": [
    "X = var_module.add_lagged_column(var_data, var_signf_X_col_list)\n",
    "X = X.iloc[var_model.max_lag_order:, :]\n",
    "X = X[var_signf_X_col_list]\n",
    "# X = X[sorted(X.columns)]\n",
    "\n",
    "y = var_data[y_col_list].iloc[var_model.max_lag_order:, :]"
   ]
  },
  {
   "cell_type": "code",
   "execution_count": 10,
   "id": "79c9f1c4-61f2-4478-bb09-920037a6b78d",
   "metadata": {},
   "outputs": [],
   "source": [
    "# tree_module.fit_and_print_random_forest_feature_importance(X, y, random_state=2024)"
   ]
  },
  {
   "cell_type": "code",
   "execution_count": 11,
   "id": "cbb106ca-a035-468e-8aa4-70b2486bcb12",
   "metadata": {},
   "outputs": [
    {
     "name": "stdout",
     "output_type": "stream",
     "text": [
      "                            OLS Regression Results                            \n",
      "==============================================================================\n",
      "Dep. Variable:           new_case_cnt   R-squared:                       0.914\n",
      "Model:                            OLS   Adj. R-squared:                  0.913\n",
      "Method:                 Least Squares   F-statistic:                     721.9\n",
      "Date:                Sun, 20 Oct 2024   Prob (F-statistic):               0.00\n",
      "Time:                        18:11:17   Log-Likelihood:                -9476.6\n",
      "No. Observations:                1104   AIC:                         1.899e+04\n",
      "Df Residuals:                    1087   BIC:                         1.907e+04\n",
      "Df Model:                          16                                         \n",
      "Covariance Type:            nonrobust                                         \n",
      "=======================================================================================\n",
      "                          coef    std err          t      P>|t|      [0.025      0.975]\n",
      "---------------------------------------------------------------------------------------\n",
      "const                  63.7165     40.980      1.555      0.120     -16.693     144.126\n",
      "L1.new_case_cnt         0.8746      0.030     29.581      0.000       0.817       0.933\n",
      "L2.new_case_cnt         0.1326      0.040      3.328      0.001       0.054       0.211\n",
      "L3.new_case_cnt        -0.2395      0.038     -6.331      0.000      -0.314      -0.165\n",
      "L4.new_case_cnt         0.5027      0.038     13.228      0.000       0.428       0.577\n",
      "L5.new_case_cnt        -0.1253      0.040     -3.136      0.002      -0.204      -0.047\n",
      "L6.avg_temp_diff_1    -75.7535     28.737     -2.636      0.009    -132.140     -19.367\n",
      "L6.new_case_cnt        -0.1485      0.036     -4.072      0.000      -0.220      -0.077\n",
      "L7.avg_temp_diff_1    -71.9737     29.942     -2.404      0.016    -130.725     -13.223\n",
      "L8.new_case_cnt        -0.1978      0.030     -6.588      0.000      -0.257      -0.139\n",
      "L9.avg_temp_diff_1    -59.5301     29.710     -2.004      0.045    -117.825      -1.235\n",
      "L10.avg_temp_diff_1   -68.5847     29.481     -2.326      0.020    -126.430     -10.739\n",
      "L10.new_case_cnt        0.1575      0.035      4.466      0.000       0.088       0.227\n",
      "L11.new_case_cnt       -0.0695      0.037     -1.885      0.060      -0.142       0.003\n",
      "L12.new_case_cnt        0.1396      0.035      3.989      0.000       0.071       0.208\n",
      "L13.avg_temp_diff_1   -46.8462     28.883     -1.622      0.105    -103.519       9.827\n",
      "L14.new_case_cnt       -0.0847      0.022     -3.835      0.000      -0.128      -0.041\n",
      "==============================================================================\n",
      "Omnibus:                     2382.065   Durbin-Watson:                   2.016\n",
      "Prob(Omnibus):                  0.000   Jarque-Bera (JB):         11143296.758\n",
      "Skew:                          17.789   Prob(JB):                         0.00\n",
      "Kurtosis:                     493.897   Cond. No.                     1.39e+04\n",
      "==============================================================================\n",
      "\n",
      "Notes:\n",
      "[1] Standard Errors assume that the covariance matrix of the errors is correctly specified.\n",
      "[2] The condition number is large, 1.39e+04. This might indicate that there are\n",
      "strong multicollinearity or other numerical problems.\n"
     ]
    }
   ],
   "source": [
    "# Add the constant term for OLS Regression Model\n",
    "OLS_reg_X = sm.add_constant(X)\n",
    "\n",
    "# Ordinary Least Squares Regression Model\n",
    "OLS_reg_model = sm.OLS(y, OLS_reg_X)\n",
    "OLS_reg_model = OLS_reg_model.fit()\n",
    "\n",
    "# Print the summary of the fitted model\n",
    "print(OLS_reg_model.summary())"
   ]
  },
  {
   "cell_type": "code",
   "execution_count": null,
   "id": "6e6274a4-0762-4566-863f-249f1c03d767",
   "metadata": {},
   "outputs": [],
   "source": []
  },
  {
   "cell_type": "code",
   "execution_count": null,
   "id": "6ec39156-3576-4f13-a80e-128e6acae9b1",
   "metadata": {},
   "outputs": [],
   "source": []
  }
 ],
 "metadata": {
  "kernelspec": {
   "display_name": "Python 3 (ipykernel)",
   "language": "python",
   "name": "python3"
  },
  "language_info": {
   "codemirror_mode": {
    "name": "ipython",
    "version": 3
   },
   "file_extension": ".py",
   "mimetype": "text/x-python",
   "name": "python",
   "nbconvert_exporter": "python",
   "pygments_lexer": "ipython3",
   "version": "3.11.4"
  }
 },
 "nbformat": 4,
 "nbformat_minor": 5
}
