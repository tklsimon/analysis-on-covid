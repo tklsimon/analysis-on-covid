{
 "cells": [
  {
   "cell_type": "markdown",
   "id": "3037b31e-f1e3-4f1f-8c4f-e1392bf1abac",
   "metadata": {},
   "source": [
    "# The University of Hong Kong\n",
    "## DASC7600 Data Science Project 2024"
   ]
  },
  {
   "cell_type": "markdown",
   "id": "3d5aa7f7-58c4-455b-bdef-b98060e3921b",
   "metadata": {},
   "source": [
    "# Import modules"
   ]
  },
  {
   "cell_type": "code",
   "execution_count": 1,
   "id": "370db1eb-1bfd-44ed-b01a-da59e388988a",
   "metadata": {},
   "outputs": [],
   "source": [
    "import os\n",
    "import numpy as np\n",
    "import pandas as pd\n",
    "import graphviz\n",
    "import warnings\n",
    "from matplotlib import pyplot as plt\n",
    "from sklearn.tree import DecisionTreeClassifier, export_graphviz\n",
    "from sklearn.model_selection import train_test_split\n",
    "from imblearn.under_sampling import RandomUnderSampler\n",
    "\n",
    "warnings.filterwarnings(\"ignore\")\n",
    "%matplotlib inline\n",
    "\n",
    "os.environ[\"PATH\"] += os.pathsep + \"C:/Program Files/Graphviz/bin\" # Fix the error message of graphviz"
   ]
  },
  {
   "cell_type": "markdown",
   "id": "30ebdca7-3db1-43e4-b383-15b4102c043a",
   "metadata": {},
   "source": [
    "# Load Data"
   ]
  },
  {
   "cell_type": "code",
   "execution_count": 2,
   "id": "06fe7390-634a-4c77-b2eb-3353b934b52d",
   "metadata": {},
   "outputs": [],
   "source": [
    "# Read csv files\n",
    "covid_hk_std = pd.read_csv('./data/std_data/hk/covid_hk_std.csv')"
   ]
  },
  {
   "cell_type": "markdown",
   "id": "a2d98b2f-de52-4387-ab8b-b19c21307a52",
   "metadata": {},
   "source": [
    "# Decision Tree Classifier"
   ]
  },
  {
   "cell_type": "code",
   "execution_count": 3,
   "id": "05dd6583-5ae2-4a38-bc96-b8a14abcd469",
   "metadata": {},
   "outputs": [],
   "source": [
    "# To remove cases with imcomplete information\n",
    "covid_hk_std = covid_hk_std[covid_hk_std[\"report_year\"] <= 2021]\n",
    "covid_hk_std = covid_hk_std[covid_hk_std[\"case_outcome\"].isin(['Discharged', 'Deceased'])]\n",
    "\n",
    "# Independent variables and target varible \n",
    "X = covid_hk_std[['gender_M', 'age_group', 'resident', 'import_local', 'report_year_month']]\n",
    "y = covid_hk_std[['case_outcome']]\n",
    "\n",
    "# Transform values to numeric for Decision Tree Classifier\n",
    "X = X.replace({\"age_group\": {\"0-19\": 0, \"20-39\": 2, \"40-59\": 4, \"60-79\": 6, \"80-100\": 8}})\n",
    "X = X.replace({\"resident\": {\"Non-HK resident\": 0, \"HK resident\": 1}})\n",
    "X = X.rename(columns={'import_local': 'local'}).replace({\"local\": {\"import\": 0, \"local\": 1}})\n",
    "\n",
    "# Under-sampling since the dataset is imbalance\n",
    "X_sample, y_sample = RandomUnderSampler(random_state=2024, replacement=True).fit_resample(X, y)\n",
    "\n",
    "# Split into train set and test set with ratio 0.8 : 0.2\n",
    "X_train, X_test, y_train, y_test = train_test_split(X_sample, y_sample, test_size=0.2, random_state=2024)"
   ]
  },
  {
   "cell_type": "code",
   "execution_count": 4,
   "id": "7ab0fea6-933c-4999-9b6b-34f120401f6d",
   "metadata": {
    "scrolled": true
   },
   "outputs": [
    {
     "name": "stdout",
     "output_type": "stream",
     "text": [
      "Test score of Decision Tree Classifier is  0.8256.\n"
     ]
    }
   ],
   "source": [
    "# Fie Decision Tree Classifier\n",
    "covid_tree = DecisionTreeClassifier(criterion=\"gini\", min_samples_leaf=2, max_depth=3, random_state=2024)\n",
    "covid_tree.fit(X_train, y_train)\n",
    "covid_tree_score = covid_tree.score(X_test, y_test)\n",
    "print(f\"Test score of Decision Tree Classifier is {covid_tree_score: .4f}.\")"
   ]
  },
  {
   "cell_type": "code",
   "execution_count": 5,
   "id": "6ffb5d58-5189-44f0-baa7-328b16c6747d",
   "metadata": {},
   "outputs": [],
   "source": [
    "# Export a decision tree in DOT format with Graphviz\n",
    "dot_graph = export_graphviz(covid_tree,\n",
    "                            feature_names=covid_tree.feature_names_in_,\n",
    "                            class_names=covid_tree.classes_,\n",
    "                            filled=True,\n",
    "                            rounded=True,\n",
    "                            special_characters=True)\n",
    "\n",
    "tree_graph = graphviz.Source(dot_graph, format=\"png\")\n",
    "\n",
    "# Print the structure of regression tree\n",
    "# tree_graph"
   ]
  },
  {
   "cell_type": "code",
   "execution_count": null,
   "id": "8cb9c54b-8ccc-4310-a17e-5cd87ac62f49",
   "metadata": {},
   "outputs": [],
   "source": []
  }
 ],
 "metadata": {
  "kernelspec": {
   "display_name": "Python 3 (ipykernel)",
   "language": "python",
   "name": "python3"
  },
  "language_info": {
   "codemirror_mode": {
    "name": "ipython",
    "version": 3
   },
   "file_extension": ".py",
   "mimetype": "text/x-python",
   "name": "python",
   "nbconvert_exporter": "python",
   "pygments_lexer": "ipython3",
   "version": "3.11.4"
  }
 },
 "nbformat": 4,
 "nbformat_minor": 5
}
