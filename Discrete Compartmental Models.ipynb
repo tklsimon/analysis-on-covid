{
 "cells": [
  {
   "cell_type": "markdown",
   "id": "083a79b8-9dc6-4cec-9168-1f2d1f5ac273",
   "metadata": {},
   "source": [
    "# The University of Hong Kong\n",
    "## DASC7600 Data Science Project 2024\n",
    "## Discrete Compartmental Model"
   ]
  },
  {
   "cell_type": "markdown",
   "id": "8a9db551-328c-48de-82ad-832ded81563a",
   "metadata": {},
   "source": [
    "# Import Modules and Settings"
   ]
  },
  {
   "cell_type": "code",
   "execution_count": 1,
   "id": "c20434b2-858f-4647-9db2-8ed8da3accc3",
   "metadata": {},
   "outputs": [],
   "source": [
    "import matplotlib.pyplot as plt\n",
    "import numpy as np\n",
    "import pandas as pd\n",
    "import warnings\n",
    "from scipy.signal import find_peaks, peak_widths\n",
    "\n",
    "import covid_module\n",
    "from discrete_compartmental_model import *\n",
    "\n",
    "# Settings\n",
    "warnings.filterwarnings('ignore')"
   ]
  },
  {
   "cell_type": "markdown",
   "id": "aaec39fa-f2d4-4908-8401-c8ca52c28233",
   "metadata": {},
   "source": [
    "# Load Data"
   ]
  },
  {
   "cell_type": "code",
   "execution_count": 2,
   "id": "779ddf9c-f354-4d73-bee8-8363bdbfdff5",
   "metadata": {},
   "outputs": [],
   "source": [
    "# Read csv file\n",
    "covid_hk_case_std = pd.read_csv('./data/std_data/hk/covid_hk_case_std.csv')"
   ]
  },
  {
   "cell_type": "markdown",
   "id": "94b919dc-a2b9-4aac-8429-5239003d0e80",
   "metadata": {},
   "source": [
    "# New Case Counts"
   ]
  },
  {
   "cell_type": "code",
   "execution_count": 3,
   "id": "effc17f4-b659-4d30-907e-35082f60c08f",
   "metadata": {},
   "outputs": [],
   "source": [
    "covid_hk_new_case_cnt_df = covid_module.get_date_count(covid_hk_case_std, 'report_date', '%Y%m%d')"
   ]
  },
  {
   "cell_type": "markdown",
   "id": "399d3529-5a62-4963-a33a-571a507bdd19",
   "metadata": {},
   "source": [
    "# Fitting Model - First Wave"
   ]
  },
  {
   "cell_type": "code",
   "execution_count": 4,
   "id": "fb31a985-af06-494d-8a98-3a2e515296fb",
   "metadata": {},
   "outputs": [],
   "source": [
    "# New case counts for 1st wave\n",
    "first_wave_new_case_cnt = covid_hk_new_case_cnt_df[\"count\"].values[43:89].tolist()"
   ]
  },
  {
   "cell_type": "code",
   "execution_count": 5,
   "id": "f66d7984-1914-4542-afd2-a1e18b8a97df",
   "metadata": {},
   "outputs": [],
   "source": [
    "# Discrete_SIR_model_first_wave = Discrete_SIR_model(first_wave_new_case_cnt, [sum(first_wave_new_case_cnt[1:]), first_wave_new_case_cnt[0], 0])\n",
    "# plot_compartmental_model_result(Discrete_SIR_model_first_wave.fit(), first_wave_new_case_cnt, Discrete_SIR_model_first_wave.classes)"
   ]
  },
  {
   "cell_type": "code",
   "execution_count": 6,
   "id": "cba14ce0-c3a4-4626-bf23-f0222384d71c",
   "metadata": {},
   "outputs": [],
   "source": [
    "# Discrete_SIS_model_first_wave = Discrete_SIS_model(first_wave_new_case_cnt, [sum(first_wave_new_case_cnt[1:]), first_wave_new_case_cnt[0]])\n",
    "# plot_compartmental_model_result(Discrete_SIS_model_first_wave.fit(), first_wave_new_case_cnt, Discrete_SIS_model_first_wave.classes)"
   ]
  },
  {
   "cell_type": "code",
   "execution_count": 7,
   "id": "754ce2ef-442e-4761-9136-5070f994dba4",
   "metadata": {},
   "outputs": [],
   "source": [
    "# Discrete_SIRS_model_first_wave = Discrete_SIRS_model(first_wave_new_case_cnt, [sum(first_wave_new_case_cnt[1:]), first_wave_new_case_cnt[0], 0])\n",
    "# plot_compartmental_model_result(Discrete_SIRS_model_first_wave.fit(), first_wave_new_case_cnt, Discrete_SIRS_model_first_wave.classes)"
   ]
  },
  {
   "cell_type": "code",
   "execution_count": 8,
   "id": "85d628c6-a00e-4a8b-ae0e-3aa4c9bb0ca7",
   "metadata": {},
   "outputs": [],
   "source": [
    "# Discrete_SEIR_model_first_wave = Discrete_SEIR_model(first_wave_new_case_cnt,\n",
    "#                                                      [sum(first_wave_new_case_cnt[1:]), first_wave_new_case_cnt[0]/2, first_wave_new_case_cnt[0]/2, 0])\n",
    "# plot_compartmental_model_result(Discrete_SEIR_model_first_wave.fit(), first_wave_new_case_cnt, Discrete_SEIR_model_first_wave.classes)"
   ]
  },
  {
   "cell_type": "markdown",
   "id": "d22f616b-a2dd-4f62-9a37-6898030d7b8b",
   "metadata": {},
   "source": [
    "# Wave Detection"
   ]
  },
  {
   "cell_type": "code",
   "execution_count": 9,
   "id": "85416bb7-fed1-4b1e-92e7-8bd5eaa786ee",
   "metadata": {},
   "outputs": [],
   "source": [
    "new_case_cnt = covid_hk_new_case_cnt_df['count']\n",
    "wave_peaks, _ = find_peaks(new_case_cnt, height=0, width=5) # Return: peaks (ndarray), properties (dict)\n",
    "wave_widths = peak_widths(new_case_cnt, wave_peaks, rel_height=1) # Return: widths (ndarray), width_heights (ndarray), left_ips (ndarray), right_ips (ndarray)"
   ]
  },
  {
   "cell_type": "code",
   "execution_count": 10,
   "id": "6578a52f-d17c-4cd5-841c-a6c17df5fe70",
   "metadata": {},
   "outputs": [],
   "source": [
    "# # Plot the new case counts with different waves identified\n",
    "# plt.subplots(figsize=(15, 6))\n",
    "# ## New Case counts\n",
    "# plt.plot(new_case_cnt)\n",
    "# ## x-axis\n",
    "# plt.plot(np.zeros_like(new_case_cnt), '--', color='gray')\n",
    "# ## Peak of each wave\n",
    "# plt.plot(wave_peaks, new_case_cnt[wave_peaks], 'x', color='green')\n",
    "# ## Period of each wave\n",
    "# plt.plot(wave_widths[2], wave_widths[1], '|', color='g')\n",
    "# plt.plot(wave_widths[3], wave_widths[1], '|', color='g')\n",
    "# plt.hlines(*wave_widths[1:], color='g')\n",
    "# ## Title, x-axis label, y-axis label\n",
    "# plt.title('Number of Covid-19 cases and waves identified (Hong Kong)')\n",
    "# plt.xlabel('Days')\n",
    "# plt.ylabel('Count')\n",
    "# plt.show()"
   ]
  },
  {
   "cell_type": "code",
   "execution_count": null,
   "id": "00ffaf88-e4db-433c-acc1-ab3c88f970d1",
   "metadata": {},
   "outputs": [],
   "source": []
  },
  {
   "cell_type": "markdown",
   "id": "6f7748b9-8261-4521-b43f-967da5fd6f90",
   "metadata": {},
   "source": [
    "# Fitting SIR Model on Detected Waves"
   ]
  },
  {
   "cell_type": "code",
   "execution_count": 11,
   "id": "8d159764-e16e-42d6-a6c4-e9f7064e229a",
   "metadata": {},
   "outputs": [
    {
     "name": "stdout",
     "output_type": "stream",
     "text": [
      "The optimal parameters are: [5.40538030e-04 8.60487927e-01 1.02100332e-01]\n",
      "The optimal parameters are: [8.42221671e-05 7.20361529e-01 1.41394342e-01]\n",
      "The optimal parameters are: [0.00061599 0.01281842 0.15153177]\n",
      "The optimal parameters are: [0.00116735 0.49535694 0.01046545]\n"
     ]
    }
   ],
   "source": [
    "nbr_wave = len(wave_widths[0])\n",
    "\n",
    "wave_index_list = []\n",
    "wave_predicted_cnt_list = []\n",
    "for i in range(nbr_wave):\n",
    "    wave_start_index = int(wave_widths[2][i])+1\n",
    "    wave_end_index = int(wave_widths[3][i])\n",
    "    wave_new_case_cnt = covid_hk_new_case_cnt_df[\"count\"].values[wave_start_index:wave_end_index].tolist()\n",
    "    Discrete_SIR_model_hk = Discrete_SEIR_model(wave_new_case_cnt,\n",
    "                                                [sum(wave_new_case_cnt[1:]), wave_new_case_cnt[0]/2, wave_new_case_cnt[0]/2, 0])\n",
    "    wave_predicted_cnt = Discrete_SIR_model_hk.fit()[1]\n",
    "    wave_index_list.append(range(wave_start_index, wave_end_index))\n",
    "    wave_predicted_cnt_list.append(wave_predicted_cnt)"
   ]
  },
  {
   "cell_type": "code",
   "execution_count": 12,
   "id": "9f327736-503d-4826-8b40-41e1d2f1ef37",
   "metadata": {},
   "outputs": [
    {
     "name": "stdout",
     "output_type": "stream",
     "text": [
      "The optimal parameters are: [4.86479231e-04 8.41590364e-01 1.05363404e-01]\n",
      "The optimal parameters are: [7.90838080e-05 7.30233728e-01 1.43452088e-01]\n",
      "The optimal parameters are: [0.00075779 0.01113818 0.12320952]\n",
      "The optimal parameters are: [0.000778   0.59396067 0.04215844]\n"
     ]
    }
   ],
   "source": [
    "nbr_wave = len(wave_widths[0])\n",
    "\n",
    "wave_index_list = []\n",
    "wave_predicted_cnt_list = []\n",
    "for i in range(nbr_wave):\n",
    "    wave_start_index = int(wave_widths[2][i])+1\n",
    "    wave_end_index = int(wave_widths[3][i])\n",
    "    wave_new_case_cnt = covid_hk_new_case_cnt_df[\"count\"].values[wave_start_index:wave_end_index].tolist()\n",
    "    Discrete_SIR_model_hk = Discrete_SEIR_model(wave_new_case_cnt,\n",
    "                                                [sum(wave_new_case_cnt[1:]), wave_new_case_cnt[0], wave_new_case_cnt[0], 0])\n",
    "    wave_predicted_cnt = Discrete_SIR_model_hk.fit()[1]\n",
    "    wave_index_list.append(range(wave_start_index, wave_end_index))\n",
    "    wave_predicted_cnt_list.append(wave_predicted_cnt)"
   ]
  },
  {
   "cell_type": "code",
   "execution_count": 13,
   "id": "a3d0d114-4f20-47dc-9557-903dbff58b19",
   "metadata": {},
   "outputs": [],
   "source": [
    "# # Plot the new case counts with different waves identified and their predicted counts\n",
    "# plt.subplots(figsize=(15, 6))\n",
    "# ## New Case counts\n",
    "# plt.plot(new_case_cnt)\n",
    "# ## x-axis\n",
    "# plt.plot(np.zeros_like(new_case_cnt), '--', color='gray')\n",
    "# ## Peak of each wave\n",
    "# plt.plot(wave_peaks, new_case_cnt[wave_peaks], 'x', color='green')\n",
    "# ## Period of each wave\n",
    "# plt.plot(wave_widths[2], wave_widths[1], '|', color='green')\n",
    "# plt.plot(wave_widths[3], wave_widths[1], '|', color='green')\n",
    "# plt.hlines(*wave_widths[1:], color='green')\n",
    "# ## Title\n",
    "# plt.title('Number of Covid-19 cases and waves identified (Hong Kong)')\n",
    "# plt.xlabel('Days')\n",
    "# plt.ylabel('Count')\n",
    "# # Predicted new case counts counts\n",
    "# for i in range(nbr_wave):\n",
    "#     plt.plot(wave_index_list[i], wave_predicted_cnt_list[i], color='red')\n",
    "# plt.show()"
   ]
  },
  {
   "cell_type": "code",
   "execution_count": null,
   "id": "53c2f389-3e88-4c82-92f9-bea9e573f3db",
   "metadata": {},
   "outputs": [],
   "source": []
  },
  {
   "cell_type": "code",
   "execution_count": null,
   "id": "3d18619a-faee-4836-8d31-34ad0e46f374",
   "metadata": {},
   "outputs": [],
   "source": []
  },
  {
   "cell_type": "code",
   "execution_count": null,
   "id": "cfcae4f9-0cbb-4f71-9a9f-ef59a23eb9d4",
   "metadata": {},
   "outputs": [],
   "source": []
  }
 ],
 "metadata": {
  "kernelspec": {
   "display_name": "Python 3 (ipykernel)",
   "language": "python",
   "name": "python3"
  },
  "language_info": {
   "codemirror_mode": {
    "name": "ipython",
    "version": 3
   },
   "file_extension": ".py",
   "mimetype": "text/x-python",
   "name": "python",
   "nbconvert_exporter": "python",
   "pygments_lexer": "ipython3",
   "version": "3.11.4"
  }
 },
 "nbformat": 4,
 "nbformat_minor": 5
}
