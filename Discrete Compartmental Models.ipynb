{
 "cells": [
  {
   "cell_type": "markdown",
   "id": "083a79b8-9dc6-4cec-9168-1f2d1f5ac273",
   "metadata": {},
   "source": [
    "# The University of Hong Kong\n",
    "## DASC7600 Data Science Project 2024\n",
    "## Discrete Compartmental Model"
   ]
  },
  {
   "cell_type": "markdown",
   "id": "8a9db551-328c-48de-82ad-832ded81563a",
   "metadata": {},
   "source": [
    "# Import Modules and Settings"
   ]
  },
  {
   "cell_type": "code",
   "execution_count": 1,
   "id": "c20434b2-858f-4647-9db2-8ed8da3accc3",
   "metadata": {},
   "outputs": [],
   "source": [
    "import matplotlib.pyplot as plt\n",
    "import numpy as np\n",
    "import pandas as pd\n",
    "import warnings\n",
    "from scipy.signal import find_peaks, peak_widths\n",
    "\n",
    "import covid_module\n",
    "from discrete_compartmental_model import *\n",
    "\n",
    "# Settings\n",
    "warnings.filterwarnings('ignore')"
   ]
  },
  {
   "cell_type": "markdown",
   "id": "aaec39fa-f2d4-4908-8401-c8ca52c28233",
   "metadata": {},
   "source": [
    "# Load Data"
   ]
  },
  {
   "cell_type": "code",
   "execution_count": 2,
   "id": "779ddf9c-f354-4d73-bee8-8363bdbfdff5",
   "metadata": {},
   "outputs": [],
   "source": [
    "# Read csv file\n",
    "covid_hk_case_cnt_std = pd.read_csv('./data/std_data/hk/covid_hk_case_count_std.csv')"
   ]
  },
  {
   "cell_type": "markdown",
   "id": "94b919dc-a2b9-4aac-8429-5239003d0e80",
   "metadata": {},
   "source": [
    "# New Case Counts"
   ]
  },
  {
   "cell_type": "code",
   "execution_count": 3,
   "id": "5afbe97b-ae0d-43ad-91e0-b3fb2f993174",
   "metadata": {},
   "outputs": [],
   "source": [
    "covid_hk_case_cnt_std['new_case_cnt'] = covid_hk_case_cnt_std['cuml_case_cnt'].diff().fillna(0)\n",
    "covid_hk_case_cnt_std['new_dischg_cnt'] = covid_hk_case_cnt_std['cuml_dischg_cnt'].diff().fillna(0)\n",
    "covid_hk_case_cnt_std['new_death_cnt'] = covid_hk_case_cnt_std['cuml_death_cnt'].diff().fillna(0)\n",
    "covid_hk_case_cnt_std['new_recover_cnt'] = covid_hk_case_cnt_std['new_dischg_cnt'] + covid_hk_case_cnt_std['new_death_cnt']"
   ]
  },
  {
   "cell_type": "markdown",
   "id": "399d3529-5a62-4963-a33a-571a507bdd19",
   "metadata": {},
   "source": [
    "# Fitting Model - First Wave"
   ]
  },
  {
   "cell_type": "code",
   "execution_count": 4,
   "id": "fb31a985-af06-494d-8a98-3a2e515296fb",
   "metadata": {},
   "outputs": [],
   "source": [
    "# New case counts for 1st wave\n",
    "first_wave_case_cnt = np.array(covid_hk_case_cnt_std[['new_case_cnt', 'new_recover_cnt']].values[66:100]).T"
   ]
  },
  {
   "cell_type": "code",
   "execution_count": 5,
   "id": "f66d7984-1914-4542-afd2-a1e18b8a97df",
   "metadata": {},
   "outputs": [],
   "source": [
    "# Discrete_SIR_model_first_wave = Discrete_SIR_model(first_wave_case_cnt,\n",
    "#                                                    [sum(first_wave_case_cnt[0,:][1:]),\n",
    "#                                                     first_wave_case_cnt[0,:][0],\n",
    "#                                                     first_wave_case_cnt[1,:][0]])\n",
    "# plot_compartmental_model_result(Discrete_SIR_model_first_wave.fit(), first_wave_case_cnt, Discrete_SIR_model_first_wave.classes)"
   ]
  },
  {
   "cell_type": "code",
   "execution_count": 6,
   "id": "cba14ce0-c3a4-4626-bf23-f0222384d71c",
   "metadata": {},
   "outputs": [],
   "source": [
    "# Discrete_SIS_model_first_wave = Discrete_SIS_model(first_wave_case_cnt,\n",
    "#                                                    [sum(first_wave_case_cnt[0,:][1:]),\n",
    "#                                                     first_wave_case_cnt[0,:][0]])\n",
    "# plot_compartmental_model_result(Discrete_SIS_model_first_wave.fit(), first_wave_case_cnt, Discrete_SIS_model_first_wave.classes)"
   ]
  },
  {
   "cell_type": "code",
   "execution_count": 7,
   "id": "754ce2ef-442e-4761-9136-5070f994dba4",
   "metadata": {},
   "outputs": [],
   "source": [
    "# Discrete_SIRS_model_first_wave = Discrete_SIRS_model(first_wave_case_cnt[[0],:],\n",
    "#                                                      [sum(first_wave_case_cnt[0,:][1:]),\n",
    "#                                                       first_wave_case_cnt[0,:][0],\n",
    "#                                                       first_wave_case_cnt[1,:][0]])\n",
    "# plot_compartmental_model_result(Discrete_SIRS_model_first_wave.fit(), first_wave_case_cnt, Discrete_SIRS_model_first_wave.classes)"
   ]
  },
  {
   "cell_type": "code",
   "execution_count": 8,
   "id": "85d628c6-a00e-4a8b-ae0e-3aa4c9bb0ca7",
   "metadata": {},
   "outputs": [],
   "source": [
    "# Discrete_SEIR_model_first_wave = Discrete_SEIR_model(first_wave_case_cnt[[0],:],\n",
    "#                                                      [sum(first_wave_case_cnt[0,:][1:]),\n",
    "#                                                       first_wave_case_cnt[0,:][0]/2,\n",
    "#                                                       first_wave_case_cnt[0,:][0]/2,\n",
    "#                                                       first_wave_case_cnt[1,:][0]])\n",
    "# plot_compartmental_model_result(Discrete_SEIR_model_first_wave.fit(), first_wave_case_cnt, Discrete_SEIR_model_first_wave.classes)"
   ]
  },
  {
   "cell_type": "markdown",
   "id": "d22f616b-a2dd-4f62-9a37-6898030d7b8b",
   "metadata": {},
   "source": [
    "# Wave Detection"
   ]
  },
  {
   "cell_type": "code",
   "execution_count": 9,
   "id": "85416bb7-fed1-4b1e-92e7-8bd5eaa786ee",
   "metadata": {},
   "outputs": [],
   "source": [
    "new_case_cnt = covid_hk_case_cnt_std[covid_hk_case_cnt_std['report_date'] <= 20220122]['new_case_cnt']\n",
    "wave_peaks, _ = find_peaks(new_case_cnt, height=0, width=5) # Return: peaks (ndarray), properties (dict)\n",
    "wave_widths = peak_widths(new_case_cnt, wave_peaks, rel_height=1) # Return: widths (ndarray), width_heights (ndarray), left_ips (ndarray), right_ips (ndarray)"
   ]
  },
  {
   "cell_type": "code",
   "execution_count": 10,
   "id": "6578a52f-d17c-4cd5-841c-a6c17df5fe70",
   "metadata": {},
   "outputs": [],
   "source": [
    "# # Plot the new case counts with different waves identified\n",
    "# plt.subplots(figsize=(15, 6))\n",
    "# ## New Case counts\n",
    "# plt.plot(new_case_cnt)\n",
    "# ## x-axis\n",
    "# plt.plot(np.zeros_like(new_case_cnt), '--', color='gray')\n",
    "# ## Peak of each wave\n",
    "# plt.plot(wave_peaks, new_case_cnt[wave_peaks], 'x', color='green')\n",
    "# ## Period of each wave\n",
    "# plt.plot(wave_widths[2], wave_widths[1], '|', color='g')\n",
    "# plt.plot(wave_widths[3], wave_widths[1], '|', color='g')\n",
    "# plt.hlines(*wave_widths[1:], color='g')\n",
    "# ## Title, x-axis label, y-axis label\n",
    "# plt.title('Number of Covid-19 cases and waves identified (Hong Kong)')\n",
    "# plt.xlabel('Days')\n",
    "# plt.ylabel('Count')\n",
    "# plt.show()"
   ]
  },
  {
   "cell_type": "markdown",
   "id": "6f7748b9-8261-4521-b43f-967da5fd6f90",
   "metadata": {},
   "source": [
    "# Fitting SIR Model on Detected Waves"
   ]
  },
  {
   "cell_type": "code",
   "execution_count": 11,
   "id": "8d159764-e16e-42d6-a6c4-e9f7064e229a",
   "metadata": {},
   "outputs": [
    {
     "name": "stdout",
     "output_type": "stream",
     "text": [
      "The optimal parameters are: [4.45930358e-04 8.19068103e-01 1.09482751e-01]\n",
      "The optimal parameters are: [8.42221671e-05 7.20361529e-01 1.41394342e-01]\n",
      "The optimal parameters are: [0.00061596 0.01279662 0.15151854]\n",
      "The optimal parameters are: [0.00113938 0.497775   0.01550355]\n"
     ]
    }
   ],
   "source": [
    "nbr_wave = len(wave_widths[0])\n",
    "\n",
    "wave_index_list = []\n",
    "wave_predicted_cnt_list = []\n",
    "for i in range(nbr_wave):\n",
    "    wave_start_index = int(wave_widths[2][i])+1\n",
    "    wave_end_index = int(wave_widths[3][i])\n",
    "    wave_new_case_cnt = np.array(covid_hk_case_cnt_std[['new_case_cnt']].values[wave_start_index:wave_end_index]).T\n",
    "    Discrete_SIR_model_hk = Discrete_SEIR_model(wave_new_case_cnt,\n",
    "                                                [sum(wave_new_case_cnt[0,:][1:]),\n",
    "                                                 wave_new_case_cnt[0,:][0]/2,\n",
    "                                                 wave_new_case_cnt[0,:][0]/2,\n",
    "                                                 0])\n",
    "    wave_predicted_cnt = Discrete_SIR_model_hk.fit()[0][1]\n",
    "    wave_index_list.append(range(wave_start_index, wave_end_index))\n",
    "    wave_predicted_cnt_list.append(wave_predicted_cnt)"
   ]
  },
  {
   "cell_type": "code",
   "execution_count": 12,
   "id": "a3d0d114-4f20-47dc-9557-903dbff58b19",
   "metadata": {},
   "outputs": [],
   "source": [
    "# # Plot the new case counts with different waves identified and their predicted counts\n",
    "# plt.subplots(figsize=(15, 6))\n",
    "# ## New Case counts\n",
    "# plt.plot(new_case_cnt)\n",
    "# ## x-axis\n",
    "# plt.plot(np.zeros_like(new_case_cnt), '--', color='gray')\n",
    "# ## Peak of each wave\n",
    "# plt.plot(wave_peaks, new_case_cnt[wave_peaks], 'x', color='green')\n",
    "# ## Period of each wave\n",
    "# plt.plot(wave_widths[2], wave_widths[1], '|', color='green')\n",
    "# plt.plot(wave_widths[3], wave_widths[1], '|', color='green')\n",
    "# plt.hlines(*wave_widths[1:], color='green')\n",
    "# ## Title\n",
    "# plt.title('Number of Covid-19 cases and waves identified (Hong Kong)')\n",
    "# plt.xlabel('Days')\n",
    "# plt.ylabel('Count')\n",
    "# # Predicted new case counts counts\n",
    "# for i in range(nbr_wave):\n",
    "#     plt.plot(wave_index_list[i], wave_predicted_cnt_list[i], color='red')\n",
    "# plt.show()"
   ]
  },
  {
   "cell_type": "code",
   "execution_count": null,
   "id": "53c2f389-3e88-4c82-92f9-bea9e573f3db",
   "metadata": {},
   "outputs": [],
   "source": []
  },
  {
   "cell_type": "code",
   "execution_count": null,
   "id": "3d18619a-faee-4836-8d31-34ad0e46f374",
   "metadata": {},
   "outputs": [],
   "source": []
  },
  {
   "cell_type": "code",
   "execution_count": null,
   "id": "cfcae4f9-0cbb-4f71-9a9f-ef59a23eb9d4",
   "metadata": {},
   "outputs": [],
   "source": []
  }
 ],
 "metadata": {
  "kernelspec": {
   "display_name": "Python 3 (ipykernel)",
   "language": "python",
   "name": "python3"
  },
  "language_info": {
   "codemirror_mode": {
    "name": "ipython",
    "version": 3
   },
   "file_extension": ".py",
   "mimetype": "text/x-python",
   "name": "python",
   "nbconvert_exporter": "python",
   "pygments_lexer": "ipython3",
   "version": "3.11.4"
  }
 },
 "nbformat": 4,
 "nbformat_minor": 5
}
