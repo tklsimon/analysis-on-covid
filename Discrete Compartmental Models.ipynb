{
 "cells": [
  {
   "cell_type": "markdown",
   "id": "083a79b8-9dc6-4cec-9168-1f2d1f5ac273",
   "metadata": {},
   "source": [
    "# The University of Hong Kong\n",
    "## DASC7600 Data Science Project 2024\n",
    "## Discrete Compartmental Model"
   ]
  },
  {
   "cell_type": "markdown",
   "id": "8a9db551-328c-48de-82ad-832ded81563a",
   "metadata": {},
   "source": [
    "# Import Modules and Settings"
   ]
  },
  {
   "cell_type": "code",
   "execution_count": 1,
   "id": "c20434b2-858f-4647-9db2-8ed8da3accc3",
   "metadata": {},
   "outputs": [],
   "source": [
    "import datetime\n",
    "import matplotlib.pyplot as plt\n",
    "import numpy as np\n",
    "import pandas as pd\n",
    "import warnings\n",
    "from scipy.signal import find_peaks, peak_widths\n",
    "\n",
    "import covid_module\n",
    "from discrete_compartmental_model import *\n",
    "\n",
    "# Settings\n",
    "warnings.filterwarnings('ignore')"
   ]
  },
  {
   "cell_type": "markdown",
   "id": "aaec39fa-f2d4-4908-8401-c8ca52c28233",
   "metadata": {},
   "source": [
    "# Load Data"
   ]
  },
  {
   "cell_type": "code",
   "execution_count": 2,
   "id": "779ddf9c-f354-4d73-bee8-8363bdbfdff5",
   "metadata": {},
   "outputs": [],
   "source": [
    "# Read csv file\n",
    "covid_hk_case_cnt_std = pd.read_csv('./data/std_data/hk/covid_hk_case_count_std.csv')"
   ]
  },
  {
   "cell_type": "markdown",
   "id": "83c020aa-4265-4923-9956-c4899db2737d",
   "metadata": {},
   "source": [
    "# Datatime Data Type and Index"
   ]
  },
  {
   "cell_type": "code",
   "execution_count": 3,
   "id": "76c92538-14b6-4859-86fb-c908b26925ad",
   "metadata": {},
   "outputs": [],
   "source": [
    "# Modify data type for datatime column\n",
    "covid_hk_case_cnt_std['report_date'] = pd.to_datetime(covid_hk_case_cnt_std['report_date'], format='%Y%m%d')\n",
    "\n",
    "# Set Index\n",
    "covid_hk_case_cnt_std = covid_hk_case_cnt_std.set_index('report_date', drop=False)"
   ]
  },
  {
   "cell_type": "markdown",
   "id": "94b919dc-a2b9-4aac-8429-5239003d0e80",
   "metadata": {},
   "source": [
    "# New Case Counts"
   ]
  },
  {
   "cell_type": "code",
   "execution_count": 4,
   "id": "5afbe97b-ae0d-43ad-91e0-b3fb2f993174",
   "metadata": {},
   "outputs": [],
   "source": [
    "covid_hk_case_cnt_std['new_case_cnt'] = covid_hk_case_cnt_std['cuml_case_cnt'].diff().fillna(0)\n",
    "covid_hk_case_cnt_std['new_recover_cnt'] = covid_hk_case_cnt_std['cuml_dischg_cnt'].diff().fillna(0)"
   ]
  },
  {
   "cell_type": "markdown",
   "id": "df1dd3fb-fd90-437b-b1c4-c8de66947103",
   "metadata": {},
   "source": [
    "Due to the differences in scale between the first four waves and the fifth wave of Covid-19, <br>\n",
    "It is not appropriate to plot the counts on the same chart. Therefore, we will plot their graphs separately."
   ]
  },
  {
   "cell_type": "markdown",
   "id": "ea9371c6-2d94-4c0a-bd0c-9d15bae35248",
   "metadata": {},
   "source": [
    "# Waves Automated Detection"
   ]
  },
  {
   "cell_type": "code",
   "execution_count": 5,
   "id": "b96fb93e-fb5c-449f-8192-2dc2925c8192",
   "metadata": {},
   "outputs": [],
   "source": [
    "# According to the Wikipedia (https://zh.wikipedia.org/wiki/2019%E5%86%A0%E7%8B%80%E7%97%85%E6%AF%92%E7%97%85%E9%A6%99%E6%B8%AF%E7%96%AB%E6%83%85),\n",
    "# The periods of the Cov-19 waves in Hong Kong are listed as follows:\n",
    "# 1st Wave: Late January to late February 2020（2020年1月下旬至2月下旬）\n",
    "# 2nd Wave: Mid-March to Late April 2020（2020年3月中旬至4月下旬）\n",
    "# 3rd Wave: Early July to late September 2020（2020年7月上旬至9月下旬）\n",
    "# 4th Wave: Late November 2020 to late May 2021（2020年11月下旬至2021年5月下旬）\n",
    "# 5th Wave: Late December 2021 to March 2023（2021年12月下旬至2023年3月）"
   ]
  },
  {
   "cell_type": "code",
   "execution_count": 6,
   "id": "85416bb7-fed1-4b1e-92e7-8bd5eaa786ee",
   "metadata": {},
   "outputs": [],
   "source": [
    "# Counts of first 4 waves\n",
    "first_4_wave_cnt = covid_hk_case_cnt_std[covid_hk_case_cnt_std['report_date'] <= datetime.datetime(2021,12,20)][['new_case_cnt', 'new_recover_cnt']]\n",
    "\n",
    "# Peaks and widths\n",
    "## Return: peaks (ndarray), properties (dict)\n",
    "first_4_wave_peaks_index, _ = find_peaks(first_4_wave_cnt['new_case_cnt'], width=5)\n",
    "## Return: widths (ndarray), width_heights (ndarray), left_ips (ndarray), right_ips (ndarray)\n",
    "first_4_wave_widths = np.array(peak_widths(first_4_wave_cnt['new_case_cnt'], first_4_wave_peaks_index, rel_height=1), 'int') \n",
    "## Start and end datetimes\n",
    "first_4_wave_start_dt_index = first_4_wave_cnt.index[first_4_wave_widths[2]] + datetime.timedelta(days=1)\n",
    "first_4_wave_end_dt_index = first_4_wave_cnt.index[first_4_wave_widths[3]]"
   ]
  },
  {
   "cell_type": "code",
   "execution_count": 7,
   "id": "a887a370-191d-45ba-aa33-34562fd8d43a",
   "metadata": {},
   "outputs": [],
   "source": [
    "# # Plot the new case counts with different waves identified\n",
    "# plt.subplots(figsize=(15, 6))\n",
    "# ## New Case counts\n",
    "# plt.plot(first_4_wave_cnt.index, first_4_wave_cnt['new_case_cnt'])\n",
    "# ## x-axis\n",
    "# plt.plot(first_4_wave_cnt.index, np.zeros(first_4_wave_cnt.shape[0]), '--', color='gray')\n",
    "# ## Peak of each wave\n",
    "# plt.plot(first_4_wave_cnt.index[first_4_wave_peaks_index], first_4_wave_cnt['new_case_cnt'][first_4_wave_peaks_index], 'x', color='g')\n",
    "# ## Period of each wave\n",
    "# plt.plot(first_4_wave_start_dt_index, first_4_wave_widths[1], '|', color='g')\n",
    "# plt.plot(first_4_wave_end_dt_index, first_4_wave_widths[1], '|', color='g')\n",
    "# plt.hlines(first_4_wave_widths[1], first_4_wave_start_dt_index, first_4_wave_end_dt_index, color='g')\n",
    "# ## Title, x-axis label, y-axis label\n",
    "# plt.title('Covid-19 waves identified (Hong Kong)')\n",
    "# plt.xlabel('Date')\n",
    "# plt.ylabel('Number of New Cases')\n",
    "# plt.show()"
   ]
  },
  {
   "cell_type": "code",
   "execution_count": 8,
   "id": "faf997dd-f04f-4b29-90c1-d422c877d68e",
   "metadata": {},
   "outputs": [
    {
     "name": "stdout",
     "output_type": "stream",
     "text": [
      "The highest new case count until late Februrary 2020 is 10.\n"
     ]
    }
   ],
   "source": [
    "print(f'The highest new case count until late Februrary 2020 is \\\n",
    "{int(covid_hk_case_cnt_std[covid_hk_case_cnt_std[\"report_date\"] < datetime.datetime(2020,3,1)][[\"new_case_cnt\"]].max())}.')"
   ]
  },
  {
   "cell_type": "markdown",
   "id": "7bb7bdb0-f411-4f23-ba33-f9172dca5a01",
   "metadata": {},
   "source": [
    "Only the 2nd, 3rd, and 4th waves are identified by the program. <br>\n",
    "This is likely because the 1st wave does not have a distinct peak, with the highest count being only 10 until late February 2020."
   ]
  },
  {
   "cell_type": "code",
   "execution_count": 9,
   "id": "55e568b5-7d7b-45d6-91c0-9cb6445f83ee",
   "metadata": {},
   "outputs": [],
   "source": [
    "# Counts of the fifth wave\n",
    "fifth_wave_cnt = covid_hk_case_cnt_std[covid_hk_case_cnt_std['report_date'] > datetime.datetime(2021,12,20)][['new_case_cnt', 'new_recover_cnt']]\n",
    "\n",
    "# Peaks and Widths\n",
    "## Return: peaks (ndarray), properties (dict)\n",
    "fifth_wave_peaks_index, _ = find_peaks(fifth_wave_cnt['new_case_cnt'], width=5, prominence=10000)\n",
    "## Return: widths (ndarray), width_heights (ndarray), left_ips (ndarray), right_ips (ndarray)\n",
    "fifth_wave_widths = np.array(peak_widths(fifth_wave_cnt['new_case_cnt'], fifth_wave_peaks_index, rel_height=1), 'int') \n",
    "# Start and end datetimes\n",
    "fifth_wave_start_dt_index = fifth_wave_cnt.index[fifth_wave_widths[2]] + datetime.timedelta(days=1)\n",
    "fifth_wave_end_dt_index = fifth_wave_cnt.index[fifth_wave_widths[3]]"
   ]
  },
  {
   "cell_type": "code",
   "execution_count": 10,
   "id": "fd8c6218-666f-4e55-94b8-6335facaa42f",
   "metadata": {},
   "outputs": [],
   "source": [
    "# # Plot the new case counts with different waves identified\n",
    "# plt.subplots(figsize=(15, 6))\n",
    "# ## New Case counts\n",
    "# plt.plot(fifth_wave_cnt.index, fifth_wave_cnt['new_case_cnt'])\n",
    "# ## x-axis\n",
    "# plt.plot(fifth_wave_cnt.index, np.zeros(fifth_wave_cnt.shape[0]), '--', color='gray')\n",
    "# ## Peak of each wave\n",
    "# plt.plot(fifth_wave_cnt.index[fifth_wave_peaks_index], fifth_wave_cnt['new_case_cnt'][fifth_wave_peaks_index], 'x', color='g')\n",
    "# ## Period of each wave\n",
    "# plt.plot(fifth_wave_start_dt_index, fifth_wave_widths[1], '|', color='g')\n",
    "# plt.plot(fifth_wave_end_dt_index, fifth_wave_widths[1], '|', color='g')\n",
    "# plt.hlines(fifth_wave_widths[1], fifth_wave_start_dt_index, fifth_wave_end_dt_index, color='g')\n",
    "# ## Title, x-axis label, y-axis label\n",
    "# plt.title('Covid-19 waves identified (Hong Kong)')\n",
    "# plt.xlabel('Date')\n",
    "# plt.ylabel('Number of New Cases')\n",
    "# plt.show()"
   ]
  },
  {
   "cell_type": "markdown",
   "id": "399d3529-5a62-4963-a33a-571a507bdd19",
   "metadata": {},
   "source": [
    "# Models Fitting - Second Wave"
   ]
  },
  {
   "cell_type": "code",
   "execution_count": 11,
   "id": "e0b8525d-fd02-4366-9124-5635a84fe734",
   "metadata": {},
   "outputs": [
    {
     "name": "stdout",
     "output_type": "stream",
     "text": [
      "As mentioned above,\n",
      "The 2nd wave (from 2020-03-01 to 2020-04-20) of Covid-19 is the first wave identified by the program.\n",
      "We will now begin fitting different compartmental models (SIR, SIS, SIRS, and SEIR) to the data from the 2nd wave.\n"
     ]
    }
   ],
   "source": [
    "print(f'As mentioned above,\\n\\\n",
    "The 2nd wave (from {first_4_wave_start_dt_index[0].strftime(\"%Y-%m-%d\")} to {first_4_wave_end_dt_index[0].strftime(\"%Y-%m-%d\")}) of Covid-19 \\\n",
    "is the first wave identified by the program.\\n\\\n",
    "We will now begin fitting different compartmental models (SIR, SIS, SIRS, and SEIR) to the data from the 2nd wave.')"
   ]
  },
  {
   "cell_type": "code",
   "execution_count": 12,
   "id": "fb31a985-af06-494d-8a98-3a2e515296fb",
   "metadata": {},
   "outputs": [],
   "source": [
    "# New case counts for 2nd wave\n",
    "second_wave_case_cnt_df = first_4_wave_cnt[first_4_wave_start_dt_index[0]:first_4_wave_end_dt_index[0]]\n",
    "second_wave_index = second_wave_case_cnt_df.index\n",
    "second_wave_case_cnt = second_wave_case_cnt_df.values.T"
   ]
  },
  {
   "cell_type": "code",
   "execution_count": 13,
   "id": "f66d7984-1914-4542-afd2-a1e18b8a97df",
   "metadata": {},
   "outputs": [],
   "source": [
    "# # SIR Model\n",
    "# Discrete_SIR_model_second_wave = Discrete_SIR_model()\n",
    "\n",
    "# Discrete_SIR_model_second_wave.fit(second_wave_case_cnt,\n",
    "#                                    [sum(second_wave_case_cnt[0][1:]),\n",
    "#                                     second_wave_case_cnt[0][0],\n",
    "#                                     second_wave_case_cnt[1][0]])\n",
    "\n",
    "# plot_compartmental_model_result(second_wave_index, Discrete_SIR_model_second_wave, second_wave_case_cnt)"
   ]
  },
  {
   "cell_type": "code",
   "execution_count": 14,
   "id": "cba14ce0-c3a4-4626-bf23-f0222384d71c",
   "metadata": {},
   "outputs": [],
   "source": [
    "# # SIS Model\n",
    "# Discrete_SIS_model_second_wave = Discrete_SIS_model()\n",
    "\n",
    "# Discrete_SIS_model_second_wave \\\n",
    "#     .fit(second_wave_case_cnt,\n",
    "#         [sum(second_wave_case_cnt[0][1:]),\n",
    "#          second_wave_case_cnt[0][0]])\n",
    "\n",
    "# plot_compartmental_model_result(second_wave_index, Discrete_SIS_model_second_wave, second_wave_case_cnt)"
   ]
  },
  {
   "cell_type": "code",
   "execution_count": 15,
   "id": "754ce2ef-442e-4761-9136-5070f994dba4",
   "metadata": {},
   "outputs": [],
   "source": [
    "# # SIRS Model\n",
    "# ## Fix with true_I_plus counts only due to a lack of information about stage changing from R to S\n",
    "# Discrete_SIRS_model_second_wave = Discrete_SIRS_model()\n",
    "\n",
    "# Discrete_SIRS_model_second_wave \\\n",
    "#     .fit(second_wave_case_cnt[[0]],\n",
    "#          [sum(second_wave_case_cnt[0][1:]),\n",
    "#           second_wave_case_cnt[0][0],\n",
    "#           second_wave_case_cnt[1][0]])\n",
    "\n",
    "# plot_compartmental_model_result(second_wave_index, Discrete_SIRS_model_second_wave, second_wave_case_cnt)"
   ]
  },
  {
   "cell_type": "code",
   "execution_count": 16,
   "id": "85d628c6-a00e-4a8b-ae0e-3aa4c9bb0ca7",
   "metadata": {},
   "outputs": [],
   "source": [
    "# # SEIR Model\n",
    "# ## Fix with true_I_plus counts only due to a lack of information about stage E\n",
    "# Discrete_SEIR_model_second_wave = Discrete_SEIR_model()\n",
    "\n",
    "# Discrete_SEIR_model_second_wave \\\n",
    "#     .fit(second_wave_case_cnt[[0]],\n",
    "#          [sum(second_wave_case_cnt[0][1:]) - second_wave_case_cnt[0][0],\n",
    "#           second_wave_case_cnt[0][0],\n",
    "#           second_wave_case_cnt[0][0],\n",
    "#           second_wave_case_cnt[1][0]])\n",
    "\n",
    "# plot_compartmental_model_result(second_wave_index, Discrete_SEIR_model_second_wave, second_wave_case_cnt)"
   ]
  },
  {
   "cell_type": "markdown",
   "id": "d22f616b-a2dd-4f62-9a37-6898030d7b8b",
   "metadata": {},
   "source": [
    "# SEIR Model Fitting"
   ]
  },
  {
   "cell_type": "code",
   "execution_count": 17,
   "id": "33c10d7a-ab20-4b9f-9d1c-f839f556536f",
   "metadata": {},
   "outputs": [
    {
     "name": "stdout",
     "output_type": "stream",
     "text": [
      "Fitting compartmental model ...\n",
      "The optimal parameters found are: [0.45993674 0.48143814 0.13074271]\n",
      "Generating the counts as model output ...\n",
      "Completed.\n",
      "Fitting compartmental model ...\n",
      "The optimal parameters found are: [0.33275816 0.56306525 0.13650382]\n",
      "Generating the counts as model output ...\n",
      "Completed.\n",
      "Fitting compartmental model ...\n",
      "The optimal parameters found are: [0.24642568 0.5603705  0.14251331]\n",
      "Generating the counts as model output ...\n",
      "Completed.\n"
     ]
    }
   ],
   "source": [
    "nbr_of_wave = len(first_4_wave_peaks_index)\n",
    "\n",
    "first_4_wave_index_list = []\n",
    "first_4_wave_predicted_cnt_list = []\n",
    "for i in range(nbr_of_wave):\n",
    "    wave_new_case_cnt_df = first_4_wave_cnt[first_4_wave_start_dt_index[i]:first_4_wave_end_dt_index[i]]\n",
    "    wave_index = wave_new_case_cnt_df.index\n",
    "    wave_new_case_cnt = wave_new_case_cnt_df.values.T\n",
    "    \n",
    "    wave_SEIR_model = Discrete_SEIR_model()\n",
    "    \n",
    "    wave_SEIR_model \\\n",
    "        .fit(wave_new_case_cnt[[0]],\n",
    "             [sum(wave_new_case_cnt[0][1:]) - wave_new_case_cnt[0][0],\n",
    "              wave_new_case_cnt[0][0],\n",
    "              wave_new_case_cnt[0][0],\n",
    "              wave_new_case_cnt[1][0]])\n",
    "    \n",
    "    first_4_wave_index_list.append(wave_index)\n",
    "    first_4_wave_predicted_cnt_list.append(wave_SEIR_model.output[0][1])"
   ]
  },
  {
   "cell_type": "code",
   "execution_count": 18,
   "id": "a3d0d114-4f20-47dc-9557-903dbff58b19",
   "metadata": {},
   "outputs": [],
   "source": [
    "# # Plot the new case counts with different waves identified and their predicted counts\n",
    "# plt.subplots(figsize=(15, 6))\n",
    "# ## New Case counts\n",
    "# plt.plot(first_4_wave_cnt.index, first_4_wave_cnt['new_case_cnt'])\n",
    "# ## x-axis\n",
    "# plt.plot(first_4_wave_cnt.index, np.zeros(first_4_wave_cnt.shape[0]), '--', color='gray')\n",
    "# ## Peak of each wave\n",
    "# plt.plot(first_4_wave_cnt.index[first_4_wave_peaks_index], first_4_wave_cnt['new_case_cnt'][first_4_wave_peaks_index], 'x', color='g')\n",
    "# ## Period of each wave\n",
    "# plt.plot(first_4_wave_start_dt_index, first_4_wave_widths[1], '|', color='g')\n",
    "# plt.plot(first_4_wave_end_dt_index, first_4_wave_widths[1], '|', color='g')\n",
    "# plt.hlines(first_4_wave_widths[1], first_4_wave_start_dt_index, first_4_wave_end_dt_index, color='g')\n",
    "# ## Title\n",
    "# plt.title('Covid-19 waves identified (Hong Kong)')\n",
    "# plt.xlabel('Date')\n",
    "# plt.ylabel('Number of New Cases')\n",
    "# # Predicted new case counts counts\n",
    "# for i in range(nbr_of_wave):\n",
    "#     plt.plot(first_4_wave_index_list[i], first_4_wave_predicted_cnt_list[i], color='red')\n",
    "# plt.show()"
   ]
  },
  {
   "cell_type": "code",
   "execution_count": 19,
   "id": "fcafae33-bbb4-4fa2-aeaf-9d2dcf247e4a",
   "metadata": {
    "scrolled": true
   },
   "outputs": [
    {
     "name": "stdout",
     "output_type": "stream",
     "text": [
      "Fitting compartmental model ...\n",
      "The optimal parameters found are: [0.67870807 0.51622086 0.11246046]\n",
      "Generating the counts as model output ...\n",
      "Completed.\n"
     ]
    }
   ],
   "source": [
    "nbr_of_wave = len(fifth_wave_peaks_index)\n",
    "\n",
    "fifth_wave_index_list = []\n",
    "fifth_wave_predicted_cnt_list = []\n",
    "for i in range(nbr_of_wave):\n",
    "    wave_new_case_cnt = fifth_wave_cnt[fifth_wave_start_dt_index[i]:fifth_wave_end_dt_index[i]]\n",
    "    wave_index = wave_new_case_cnt.index\n",
    "    wave_new_case_cnt = wave_new_case_cnt.values.T\n",
    "    \n",
    "    wave_SEIR_model = Discrete_SEIR_model()\n",
    "    \n",
    "    wave_SEIR_model.fit(wave_new_case_cnt[[0]],\n",
    "                        [sum(wave_new_case_cnt[0][1:]) - wave_new_case_cnt[0][0],\n",
    "                         wave_new_case_cnt[0][0],\n",
    "                         wave_new_case_cnt[0][0],\n",
    "                         wave_new_case_cnt[1][0]])\n",
    "    \n",
    "    fifth_wave_index_list.append(wave_index)\n",
    "    fifth_wave_predicted_cnt_list.append(wave_SEIR_model.output[0][1])"
   ]
  },
  {
   "cell_type": "code",
   "execution_count": 20,
   "id": "d77680fd-2f95-4b56-84dc-f8089a621382",
   "metadata": {},
   "outputs": [],
   "source": [
    "# # Plot the new case counts with different waves identified and their predicted counts\n",
    "# plt.subplots(figsize=(15, 6))\n",
    "# ## New Case counts\n",
    "# plt.plot(fifth_wave_cnt.index, fifth_wave_cnt['new_case_cnt'])\n",
    "# ## x-axis\n",
    "# plt.plot(fifth_wave_cnt.index, np.zeros(fifth_wave_cnt.shape[0]), '--', color='gray')\n",
    "# ## Peak of each wave\n",
    "# plt.plot(fifth_wave_cnt.index[fifth_wave_peaks_index], fifth_wave_cnt['new_case_cnt'][fifth_wave_peaks_index], 'x', color='g')\n",
    "# ## Period of each wave\n",
    "# plt.plot(fifth_wave_start_dt_index, fifth_wave_widths[1], '|', color='g')\n",
    "# plt.plot(fifth_wave_end_dt_index, fifth_wave_widths[1], '|', color='g')\n",
    "# plt.hlines(fifth_wave_widths[1], fifth_wave_start_dt_index, fifth_wave_end_dt_index, color='g')\n",
    "# ## Title\n",
    "# plt.title('Covid-19 waves identified (Hong Kong)')\n",
    "# plt.xlabel('Date')\n",
    "# plt.ylabel('Number of New Cases')\n",
    "# # Predicted new case counts counts\n",
    "# for i in range(nbr_of_wave):\n",
    "#     plt.plot(fifth_wave_index_list[i], fifth_wave_predicted_cnt_list[i], color='red')\n",
    "# plt.show()"
   ]
  },
  {
   "cell_type": "markdown",
   "id": "85031e4d-2fd1-4648-9018-f88567d00cdc",
   "metadata": {},
   "source": [
    "# "
   ]
  },
  {
   "cell_type": "code",
   "execution_count": null,
   "id": "803f0694-6bf8-4afe-b5e1-87dc798806b7",
   "metadata": {},
   "outputs": [],
   "source": []
  }
 ],
 "metadata": {
  "kernelspec": {
   "display_name": "Python 3 (ipykernel)",
   "language": "python",
   "name": "python3"
  },
  "language_info": {
   "codemirror_mode": {
    "name": "ipython",
    "version": 3
   },
   "file_extension": ".py",
   "mimetype": "text/x-python",
   "name": "python",
   "nbconvert_exporter": "python",
   "pygments_lexer": "ipython3",
   "version": "3.11.4"
  }
 },
 "nbformat": 4,
 "nbformat_minor": 5
}
