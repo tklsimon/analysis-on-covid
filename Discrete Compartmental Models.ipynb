{
 "cells": [
  {
   "cell_type": "markdown",
   "id": "083a79b8-9dc6-4cec-9168-1f2d1f5ac273",
   "metadata": {},
   "source": [
    "# The University of Hong Kong\n",
    "## DASC7600 Data Science Project 2024\n",
    "## Discrete Compartmental Model"
   ]
  },
  {
   "cell_type": "markdown",
   "id": "8a9db551-328c-48de-82ad-832ded81563a",
   "metadata": {},
   "source": [
    "# Import Modules and Settings"
   ]
  },
  {
   "cell_type": "code",
   "execution_count": 1,
   "id": "c20434b2-858f-4647-9db2-8ed8da3accc3",
   "metadata": {},
   "outputs": [],
   "source": [
    "import datetime\n",
    "import matplotlib.pyplot as plt\n",
    "import numpy as np\n",
    "import pandas as pd\n",
    "import warnings\n",
    "from scipy.signal import find_peaks, peak_widths\n",
    "\n",
    "import covid_module\n",
    "from discrete_compartmental_model import *\n",
    "\n",
    "# Settings\n",
    "warnings.filterwarnings('ignore')"
   ]
  },
  {
   "cell_type": "markdown",
   "id": "aaec39fa-f2d4-4908-8401-c8ca52c28233",
   "metadata": {},
   "source": [
    "# Load Data"
   ]
  },
  {
   "cell_type": "code",
   "execution_count": 2,
   "id": "779ddf9c-f354-4d73-bee8-8363bdbfdff5",
   "metadata": {},
   "outputs": [],
   "source": [
    "# Read csv file\n",
    "covid_hk_case_cnt_std = pd.read_csv('./data/std_data/hk/covid_hk_case_count_std.csv')"
   ]
  },
  {
   "cell_type": "markdown",
   "id": "83c020aa-4265-4923-9956-c4899db2737d",
   "metadata": {},
   "source": [
    "# Datatime Data Type and Index"
   ]
  },
  {
   "cell_type": "code",
   "execution_count": 3,
   "id": "76c92538-14b6-4859-86fb-c908b26925ad",
   "metadata": {},
   "outputs": [],
   "source": [
    "# Modify data type for datatime column\n",
    "covid_hk_case_cnt_std['report_date'] = pd.to_datetime(covid_hk_case_cnt_std['report_date'], format='%Y%m%d')\n",
    "\n",
    "# Set Index\n",
    "covid_hk_case_cnt_std = covid_hk_case_cnt_std.set_index('report_date', drop=False)"
   ]
  },
  {
   "cell_type": "markdown",
   "id": "94b919dc-a2b9-4aac-8429-5239003d0e80",
   "metadata": {},
   "source": [
    "# New Case Counts"
   ]
  },
  {
   "cell_type": "code",
   "execution_count": 4,
   "id": "5afbe97b-ae0d-43ad-91e0-b3fb2f993174",
   "metadata": {},
   "outputs": [],
   "source": [
    "covid_hk_case_cnt_std['new_case_cnt'] = covid_hk_case_cnt_std['cuml_case_cnt'].diff().fillna(0)\n",
    "covid_hk_case_cnt_std['new_dischg_cnt'] = covid_hk_case_cnt_std['cuml_dischg_cnt'].diff().fillna(0)\n",
    "covid_hk_case_cnt_std['new_death_cnt'] = covid_hk_case_cnt_std['cuml_death_cnt'].diff().fillna(0)\n",
    "covid_hk_case_cnt_std['new_recover_cnt'] = covid_hk_case_cnt_std['new_dischg_cnt'] + covid_hk_case_cnt_std['new_death_cnt']"
   ]
  },
  {
   "cell_type": "markdown",
   "id": "399d3529-5a62-4963-a33a-571a507bdd19",
   "metadata": {},
   "source": [
    "# Fitting Models - First Wave"
   ]
  },
  {
   "cell_type": "code",
   "execution_count": 5,
   "id": "fb31a985-af06-494d-8a98-3a2e515296fb",
   "metadata": {},
   "outputs": [],
   "source": [
    "# New case counts for 1st wave\n",
    "first_wave_case_cnt = np.array(covid_hk_case_cnt_std[['new_case_cnt', 'new_recover_cnt']].values[66:100]).T"
   ]
  },
  {
   "cell_type": "code",
   "execution_count": 6,
   "id": "f66d7984-1914-4542-afd2-a1e18b8a97df",
   "metadata": {},
   "outputs": [],
   "source": [
    "# # SIR Model\n",
    "# Discrete_SIR_model_first_wave = Discrete_SIR_model(first_wave_case_cnt,\n",
    "#                                                    [sum(first_wave_case_cnt[0][1:]),\n",
    "#                                                     first_wave_case_cnt[0][0],\n",
    "#                                                     first_wave_case_cnt[1][0]])\n",
    "# plot_compartmental_model_result(Discrete_SIR_model_first_wave.fit(), first_wave_case_cnt, Discrete_SIR_model_first_wave.classes)"
   ]
  },
  {
   "cell_type": "code",
   "execution_count": 7,
   "id": "cba14ce0-c3a4-4626-bf23-f0222384d71c",
   "metadata": {},
   "outputs": [],
   "source": [
    "# # SIS Model\n",
    "# Discrete_SIS_model_first_wave = Discrete_SIS_model(first_wave_case_cnt,\n",
    "#                                                    [sum(first_wave_case_cnt[0][1:]),\n",
    "#                                                     first_wave_case_cnt[0][0]])\n",
    "# plot_compartmental_model_result(Discrete_SIS_model_first_wave.fit(), first_wave_case_cnt, Discrete_SIS_model_first_wave.classes)"
   ]
  },
  {
   "cell_type": "code",
   "execution_count": 8,
   "id": "754ce2ef-442e-4761-9136-5070f994dba4",
   "metadata": {},
   "outputs": [],
   "source": [
    "# # SIRS Model\n",
    "# ## Fix with true_I_plus counts only due to a lack of information about stage changing from R to S\n",
    "# Discrete_SIRS_model_first_wave = Discrete_SIRS_model(first_wave_case_cnt[[0]],\n",
    "#                                                      [sum(first_wave_case_cnt[0][1:]),\n",
    "#                                                       first_wave_case_cnt[0][0],\n",
    "#                                                       first_wave_case_cnt[1][0]])\n",
    "# plot_compartmental_model_result(Discrete_SIRS_model_first_wave.fit(), first_wave_case_cnt, Discrete_SIRS_model_first_wave.classes)"
   ]
  },
  {
   "cell_type": "code",
   "execution_count": 9,
   "id": "85d628c6-a00e-4a8b-ae0e-3aa4c9bb0ca7",
   "metadata": {},
   "outputs": [],
   "source": [
    "# # SEIR Model\n",
    "# ## Fix with true_I_plus counts only due to a lack of information about stage E\n",
    "# Discrete_SEIR_model_first_wave = Discrete_SEIR_model(first_wave_case_cnt[[0]],\n",
    "#                                                      [sum(first_wave_case_cnt[0][1:]),\n",
    "#                                                       first_wave_case_cnt[0][0]/2,\n",
    "#                                                       first_wave_case_cnt[0][0]/2,\n",
    "#                                                       first_wave_case_cnt[1][0]])\n",
    "# plot_compartmental_model_result(Discrete_SEIR_model_first_wave.fit(), first_wave_case_cnt, Discrete_SEIR_model_first_wave.classes)"
   ]
  },
  {
   "cell_type": "markdown",
   "id": "d22f616b-a2dd-4f62-9a37-6898030d7b8b",
   "metadata": {},
   "source": [
    "# Waves Automated Detection and SEIR Model Fitting (1st Wave to 4th Wave)"
   ]
  },
  {
   "cell_type": "code",
   "execution_count": 10,
   "id": "85416bb7-fed1-4b1e-92e7-8bd5eaa786ee",
   "metadata": {},
   "outputs": [],
   "source": [
    "# Counts of first 4 waves\n",
    "first_4_wave_cnt = covid_hk_case_cnt_std[covid_hk_case_cnt_std['report_date'] <= datetime.datetime(2022,1,15)][['new_case_cnt', 'new_recover_cnt']]\n",
    "\n",
    "# Peaks and Widths\n",
    "## Return: peaks (ndarray), properties (dict)\n",
    "first_4_wave_peaks_index, _ = find_peaks(first_4_wave_cnt['new_case_cnt'], width=5)\n",
    "## Return: widths (ndarray), width_heights (ndarray), left_ips (ndarray), right_ips (ndarray)\n",
    "first_4_wave_widths = np.array(peak_widths(first_4_wave_cnt['new_case_cnt'], first_4_wave_peaks_index, rel_height=1), 'int') \n",
    "\n",
    "first_4_wave_start_dt_index = first_4_wave_cnt.index[first_4_wave_widths[2]] + datetime.timedelta(days=1)\n",
    "first_4_wave_end_dt_index = first_4_wave_cnt.index[first_4_wave_widths[3]]"
   ]
  },
  {
   "cell_type": "code",
   "execution_count": 11,
   "id": "d6e62d98-4974-413d-9c30-39aeeedfa29b",
   "metadata": {},
   "outputs": [],
   "source": [
    "# # Plot the new case counts with different waves identified\n",
    "# plt.subplots(figsize=(15, 6))\n",
    "# ## New Case counts\n",
    "# plt.plot(first_4_wave_cnt.index, first_4_wave_cnt['new_case_cnt'])\n",
    "# ## x-axis\n",
    "# plt.plot(first_4_wave_cnt.index, np.zeros_like(first_4_wave_cnt['new_case_cnt']), '--', color='gray')\n",
    "# ## Peak of each wave\n",
    "# plt.plot(first_4_wave_cnt.index[first_4_wave_peaks_index], first_4_wave_cnt['new_case_cnt'][first_4_wave_peaks_index], 'x', color='g')\n",
    "# ## Period of each wave\n",
    "# plt.plot(first_4_wave_start_dt_index, first_4_wave_widths[1], '|', color='g')\n",
    "# plt.plot(first_4_wave_end_dt_index, first_4_wave_widths[1], '|', color='g')\n",
    "# plt.hlines(first_4_wave_widths[1], first_4_wave_start_dt_index, first_4_wave_end_dt_index, color='g')\n",
    "# ## Title, x-axis label, y-axis label\n",
    "# plt.title('First 4 waves of Covid-19 identified (Hong Kong)')\n",
    "# plt.xlabel('Date')\n",
    "# plt.ylabel('Number of New Cov-19 Cases')\n",
    "# plt.show()"
   ]
  },
  {
   "cell_type": "code",
   "execution_count": 12,
   "id": "33c10d7a-ab20-4b9f-9d1c-f839f556536f",
   "metadata": {},
   "outputs": [
    {
     "name": "stdout",
     "output_type": "stream",
     "text": [
      "The optimal parameters are: [4.45930358e-04 8.19068103e-01 1.09482751e-01]\n",
      "The optimal parameters are: [8.42221671e-05 7.20361529e-01 1.41394342e-01]\n",
      "The optimal parameters are: [0.00062308 0.012801   0.14927166]\n",
      "The optimal parameters are: [9.02054561e-04 9.74305578e-01 3.60284624e-02]\n"
     ]
    }
   ],
   "source": [
    "nbr_of_wave = len(first_4_wave_peaks_index)\n",
    "\n",
    "first_4_wave_index_list = []\n",
    "first_4_wave_predicted_cnt_list = []\n",
    "for i in range(nbr_of_wave):\n",
    "    wave_new_case_cnt = first_4_wave_cnt[first_4_wave_start_dt_index[i]:first_4_wave_end_dt_index[i]]\n",
    "    wave_index = wave_new_case_cnt.index\n",
    "    wave_new_case_cnt = wave_new_case_cnt.values.T\n",
    "    Discrete_SEIR_model_hk = Discrete_SEIR_model(wave_new_case_cnt[[0]],\n",
    "                                                 [sum(wave_new_case_cnt[0][1:]),\n",
    "                                                  wave_new_case_cnt[0][0]/2,\n",
    "                                                  wave_new_case_cnt[0][0]/2,\n",
    "                                                  wave_new_case_cnt[1][0]])\n",
    "    wave_predicted_cnt = Discrete_SEIR_model_hk.fit()[0][1]\n",
    "    \n",
    "    first_4_wave_index_list.append(wave_index)\n",
    "    first_4_wave_predicted_cnt_list.append(wave_predicted_cnt)"
   ]
  },
  {
   "cell_type": "code",
   "execution_count": 13,
   "id": "a3d0d114-4f20-47dc-9557-903dbff58b19",
   "metadata": {},
   "outputs": [],
   "source": [
    "# # Plot the new case counts with different waves identified and their predicted counts\n",
    "# plt.subplots(figsize=(15, 6))\n",
    "# ## New Case counts\n",
    "# plt.plot(first_4_wave_cnt.index, first_4_wave_cnt['new_case_cnt'])\n",
    "# ## x-axis\n",
    "# plt.plot(first_4_wave_cnt.index, np.zeros_like(first_4_wave_cnt['new_case_cnt']), '--', color='gray')\n",
    "# ## Peak of each wave\n",
    "# plt.plot(first_4_wave_cnt.index[first_4_wave_peaks_index], first_4_wave_cnt['new_case_cnt'][first_4_wave_peaks_index], 'x', color='g')\n",
    "# ## Period of each wave\n",
    "# plt.plot(first_4_wave_start_dt_index, first_4_wave_widths[1], '|', color='g')\n",
    "# plt.plot(first_4_wave_end_dt_index, first_4_wave_widths[1], '|', color='g')\n",
    "# plt.hlines(first_4_wave_widths[1], first_4_wave_start_dt_index, first_4_wave_end_dt_index, color='g')\n",
    "# ## Title\n",
    "# plt.title('First 4 waves of Covid-19 identified (Hong Kong)')\n",
    "# plt.xlabel('Date')\n",
    "# plt.ylabel('Number of New Cov-19 Cases')\n",
    "# # Predicted new case counts counts\n",
    "# for i in range(nbr_of_wave):\n",
    "#     plt.plot(first_4_wave_index_list[i], first_4_wave_predicted_cnt_list[i], color='red')\n",
    "# plt.show()"
   ]
  },
  {
   "cell_type": "markdown",
   "id": "2bc45e96-065b-4a18-ad65-ecd16be39013",
   "metadata": {},
   "source": [
    "# Waves Automated Detection and SEIR Model Fitting (5th Wave)"
   ]
  },
  {
   "cell_type": "code",
   "execution_count": 14,
   "id": "3eb0b0b9-a2b1-428a-8123-49704eee2aec",
   "metadata": {},
   "outputs": [],
   "source": [
    "# Counts of the fifth wave\n",
    "fifth_wave_cnt = covid_hk_case_cnt_std[covid_hk_case_cnt_std['report_date'] > datetime.datetime(2022,1,15)][['new_case_cnt', 'new_recover_cnt']]\n",
    "\n",
    "# Peaks and Widths\n",
    "## Return: peaks (ndarray), properties (dict)\n",
    "fifth_wave_peaks_index, _ = find_peaks(fifth_wave_cnt['new_case_cnt'], width=5, prominence=10000)\n",
    "## Return: widths (ndarray), width_heights (ndarray), left_ips (ndarray), right_ips (ndarray)\n",
    "fifth_wave_widths = np.array(peak_widths(fifth_wave_cnt['new_case_cnt'], fifth_wave_peaks_index, rel_height=1), 'int') \n",
    "\n",
    "fifth_wave_start_dt_index = fifth_wave_cnt.index[fifth_wave_widths[2]] + datetime.timedelta(days=1)\n",
    "fifth_wave_end_dt_index = fifth_wave_cnt.index[fifth_wave_widths[3]]"
   ]
  },
  {
   "cell_type": "code",
   "execution_count": 15,
   "id": "8b17a285-0110-4e08-a9a1-e66b54f40136",
   "metadata": {},
   "outputs": [],
   "source": [
    "# # Plot the new case counts with different waves identified\n",
    "# plt.subplots(figsize=(15, 6))\n",
    "# ## New Case counts\n",
    "# plt.plot(fifth_wave_cnt.index, fifth_wave_cnt['new_case_cnt'])\n",
    "# ## x-axis\n",
    "# plt.plot(fifth_wave_cnt.index, np.zeros_like(fifth_wave_cnt['new_case_cnt']), '--', color='gray')\n",
    "# ## Peak of each wave\n",
    "# plt.plot(fifth_wave_cnt.index[fifth_wave_peaks_index], fifth_wave_cnt['new_case_cnt'][fifth_wave_peaks_index], 'x', color='g')\n",
    "# ## Period of each wave\n",
    "# plt.plot(fifth_wave_start_dt_index, fifth_wave_widths[1], '|', color='g')\n",
    "# plt.plot(fifth_wave_end_dt_index, fifth_wave_widths[1], '|', color='g')\n",
    "# plt.hlines(fifth_wave_widths[1], fifth_wave_start_dt_index, fifth_wave_end_dt_index, color='g')\n",
    "# ## Title, x-axis label, y-axis label\n",
    "# plt.title('Fifth waves of Covid-19 identified (Hong Kong)')\n",
    "# plt.xlabel('Date')\n",
    "# plt.ylabel('Number of New Cov-19 Cases')\n",
    "# plt.show()"
   ]
  },
  {
   "cell_type": "code",
   "execution_count": 16,
   "id": "fcafae33-bbb4-4fa2-aeaf-9d2dcf247e4a",
   "metadata": {},
   "outputs": [
    {
     "name": "stdout",
     "output_type": "stream",
     "text": [
      "The optimal parameters are: [2.63204123e-06 1.16274412e-01 8.73092521e-02]\n"
     ]
    }
   ],
   "source": [
    "nbr_of_wave = len(fifth_wave_peaks_index)\n",
    "\n",
    "fifth_wave_index_list = []\n",
    "fifth_wave_predicted_cnt_list = []\n",
    "for i in range(nbr_of_wave):\n",
    "    wave_new_case_cnt = fifth_wave_cnt[fifth_wave_start_dt_index[i]:fifth_wave_end_dt_index[i]]\n",
    "    wave_index = wave_new_case_cnt.index\n",
    "    wave_new_case_cnt = wave_new_case_cnt.values.T\n",
    "    Discrete_SEIR_model_hk = Discrete_SEIR_model(wave_new_case_cnt[[0]],\n",
    "                                                 [sum(wave_new_case_cnt[0][1:]),\n",
    "                                                  wave_new_case_cnt[0][0]/2,\n",
    "                                                  wave_new_case_cnt[0][0]/2,\n",
    "                                                  wave_new_case_cnt[1][0]])\n",
    "    wave_predicted_cnt = Discrete_SEIR_model_hk.fit()[0][1]\n",
    "    \n",
    "    fifth_wave_index_list.append(wave_index)\n",
    "    fifth_wave_predicted_cnt_list.append(wave_predicted_cnt)"
   ]
  },
  {
   "cell_type": "code",
   "execution_count": 17,
   "id": "d77680fd-2f95-4b56-84dc-f8089a621382",
   "metadata": {},
   "outputs": [],
   "source": [
    "# # Plot the new case counts with different waves identified and their predicted counts\n",
    "# plt.subplots(figsize=(15, 6))\n",
    "# ## New Case counts\n",
    "# plt.plot(fifth_wave_cnt.index, fifth_wave_cnt['new_case_cnt'])\n",
    "# ## x-axis\n",
    "# plt.plot(fifth_wave_cnt.index, np.zeros_like(fifth_wave_cnt['new_case_cnt']), '--', color='gray')\n",
    "# ## Peak of each wave\n",
    "# plt.plot(fifth_wave_cnt.index[fifth_wave_peaks_index], fifth_wave_cnt['new_case_cnt'][fifth_wave_peaks_index], 'x', color='g')\n",
    "# ## Period of each wave\n",
    "# plt.plot(fifth_wave_start_dt_index, fifth_wave_widths[1], '|', color='g')\n",
    "# plt.plot(fifth_wave_end_dt_index, fifth_wave_widths[1], '|', color='g')\n",
    "# plt.hlines(fifth_wave_widths[1], fifth_wave_start_dt_index, fifth_wave_end_dt_index, color='g')\n",
    "# ## Title\n",
    "# plt.title('Fifth wave of Covid-19 identified (Hong Kong)')\n",
    "# plt.xlabel('Date')\n",
    "# plt.ylabel('Number of New Cov-19 Cases')\n",
    "# # Predicted new case counts counts\n",
    "# for i in range(nbr_of_wave):\n",
    "#     plt.plot(fifth_wave_index_list[i], fifth_wave_predicted_cnt_list[i], color='red')\n",
    "# plt.show()"
   ]
  },
  {
   "cell_type": "code",
   "execution_count": null,
   "id": "69b83327-6a8c-42e9-b1e0-c1dc6eb66700",
   "metadata": {},
   "outputs": [],
   "source": []
  },
  {
   "cell_type": "code",
   "execution_count": null,
   "id": "07801ab5-f048-4419-bad4-0c51e07181d5",
   "metadata": {},
   "outputs": [],
   "source": []
  }
 ],
 "metadata": {
  "kernelspec": {
   "display_name": "Python 3 (ipykernel)",
   "language": "python",
   "name": "python3"
  },
  "language_info": {
   "codemirror_mode": {
    "name": "ipython",
    "version": 3
   },
   "file_extension": ".py",
   "mimetype": "text/x-python",
   "name": "python",
   "nbconvert_exporter": "python",
   "pygments_lexer": "ipython3",
   "version": "3.11.4"
  }
 },
 "nbformat": 4,
 "nbformat_minor": 5
}
