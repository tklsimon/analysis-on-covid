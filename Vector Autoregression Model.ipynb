{
 "cells": [
  {
   "cell_type": "markdown",
   "id": "5f5fa870-3875-4d53-a621-24aefb924a65",
   "metadata": {},
   "source": [
    "# The University of Hong Kong\n",
    "## DASC7600 Data Science Project 2024\n",
    "## Vector Autogression Model"
   ]
  },
  {
   "cell_type": "markdown",
   "id": "ed22e8c9-8dbc-4134-90ac-8a4f8c4c1c25",
   "metadata": {},
   "source": [
    "# Import Modules and Settings"
   ]
  },
  {
   "cell_type": "code",
   "execution_count": 1,
   "id": "b62df672",
   "metadata": {},
   "outputs": [],
   "source": [
    "import pandas as pd\n",
    "import warnings\n",
    "from statsmodels.tsa.vector_ar.var_model import VAR\n",
    "\n",
    "import covid_module\n",
    "\n",
    "# Settings\n",
    "warnings.filterwarnings('ignore')"
   ]
  },
  {
   "cell_type": "markdown",
   "id": "95d0a5b5",
   "metadata": {},
   "source": [
    "# Load Data"
   ]
  },
  {
   "cell_type": "code",
   "execution_count": 2,
   "id": "c7d32cf5-bad0-4d70-9161-80950b01e096",
   "metadata": {},
   "outputs": [],
   "source": [
    "# Read csv files\n",
    "covid_hk_case_cnt_std = pd.read_csv('./data/std_data/hk/covid_hk_case_count_std.csv')\n",
    "hk_daily_avg_temp_std = pd.read_csv('./data/std_data/hk/hk_daily_avg_temp_std.csv')"
   ]
  },
  {
   "cell_type": "markdown",
   "id": "52b08bc3-0d1e-4d93-a752-708cbe623954",
   "metadata": {},
   "source": [
    "# Modify Data Type"
   ]
  },
  {
   "cell_type": "code",
   "execution_count": 3,
   "id": "0ac95a57",
   "metadata": {},
   "outputs": [],
   "source": [
    "for df in [covid_hk_case_cnt_std,\n",
    "           hk_daily_avg_temp_std]:\n",
    "    df['report_date'] = pd.to_datetime(df['report_date'], format='%Y%m%d')"
   ]
  },
  {
   "cell_type": "markdown",
   "id": "80331160-55b6-4a64-9115-b75b9185be75",
   "metadata": {},
   "source": [
    "# Obtain Case Count Column"
   ]
  },
  {
   "cell_type": "code",
   "execution_count": 4,
   "id": "51d34566",
   "metadata": {},
   "outputs": [],
   "source": [
    "covid_hk_case_cnt_std['new_case_cnt'] = covid_hk_case_cnt_std['cuml_case_cnt'].diff().fillna(0)"
   ]
  },
  {
   "cell_type": "markdown",
   "id": "f0c2bd23-8807-45d4-9959-e13bf870fc63",
   "metadata": {},
   "source": [
    "# Combine Case Count and Temperature"
   ]
  },
  {
   "cell_type": "code",
   "execution_count": 5,
   "id": "beef54e1-8e5a-44c4-b128-57cd7c84a6d7",
   "metadata": {},
   "outputs": [],
   "source": [
    "# covid_hk_case_cnt_std: from 2020-01-08 to 2023-01-29\n",
    "# hk_daily_avg_temp_std: from 2020-04-01 to 2024-06-30\n",
    "var_data = covid_hk_case_cnt_std[['report_date', 'new_case_cnt']] \\\n",
    "    .merge(hk_daily_avg_temp_std[['report_date', 'avg_temp']],\n",
    "           'left',\n",
    "           'report_date')\n",
    "\n",
    "var_data.set_index('report_date', inplace=True)"
   ]
  },
  {
   "cell_type": "markdown",
   "id": "78e517a9",
   "metadata": {},
   "source": [
    "# Train Model"
   ]
  },
  {
   "cell_type": "markdown",
   "id": "bb8ed27e-a30d-41da-bac5-4ef6738e51e6",
   "metadata": {},
   "source": [
    "## Vector Autoregressions (VAR) Model"
   ]
  },
  {
   "cell_type": "markdown",
   "id": "cddb8580-ef58-4309-802f-c8eb9cec1842",
   "metadata": {},
   "source": [
    "###  Data for VAR Model"
   ]
  },
  {
   "cell_type": "code",
   "execution_count": 6,
   "id": "dca76836-b8ea-4ea8-b5fd-56f0dc812eda",
   "metadata": {
    "scrolled": true
   },
   "outputs": [
    {
     "name": "stdout",
     "output_type": "stream",
     "text": [
      "The column new_case_cnt has ADF p-value 0.00002 which is stationary.\n",
      "The column avg_temp has ADF p-value 0.41152 which is non-stationary\n",
      "Creating a difference column avg_temp_diff_1 ...\n",
      "Droping the original column avg_temp ...\n"
     ]
    }
   ],
   "source": [
    "covid_module.stationary_and_difference(var_data)"
   ]
  },
  {
   "cell_type": "markdown",
   "id": "60560d88-19e2-4057-8a4c-e01d077dfadd",
   "metadata": {},
   "source": [
    "### Training Data and Test Data for VAR Model"
   ]
  },
  {
   "cell_type": "code",
   "execution_count": 7,
   "id": "8402901f-467c-42b6-99cb-96fac059da49",
   "metadata": {},
   "outputs": [],
   "source": [
    "# Use the last 5 days as test data\n",
    "var_train = var_data[:-5]\n",
    "var_test = var_data[-5:]"
   ]
  },
  {
   "cell_type": "markdown",
   "id": "5630cc66-7ed0-4f81-a90a-a5c6a827b8d3",
   "metadata": {},
   "source": [
    "### Fit VAR Model"
   ]
  },
  {
   "cell_type": "code",
   "execution_count": 8,
   "id": "53d7bd95-37ee-4b72-b3fd-ac809e96e15e",
   "metadata": {},
   "outputs": [
    {
     "name": "stdout",
     "output_type": "stream",
     "text": [
      "  Summary of Regression Results   \n",
      "==================================\n",
      "Model:                         VAR\n",
      "Method:                        OLS\n",
      "Date:           Thu, 26, Sep, 2024\n",
      "Time:                     15:05:28\n",
      "--------------------------------------------------------------------\n",
      "No. of Equations:         2.00000    BIC:                    15.1909\n",
      "Nobs:                     1099.00    HQIC:                   15.0268\n",
      "Log likelihood:          -11263.2    FPE:                3.03879e+06\n",
      "AIC:                      14.9269    Det(Omega_mle):     2.88455e+06\n",
      "--------------------------------------------------------------------\n",
      "Results for equation new_case_cnt\n",
      "======================================================================================\n",
      "                         coefficient       std. error           t-stat            prob\n",
      "--------------------------------------------------------------------------------------\n",
      "const                      61.562195        41.272107            1.492           0.136\n",
      "L1.new_case_cnt             0.868408         0.030389           28.576           0.000\n",
      "L1.avg_temp_diff_1         40.772391        30.841830            1.322           0.186\n",
      "L2.new_case_cnt             0.132813         0.040283            3.297           0.001\n",
      "L2.avg_temp_diff_1          5.080997        30.947946            0.164           0.870\n",
      "L3.new_case_cnt            -0.236403         0.040308           -5.865           0.000\n",
      "L3.avg_temp_diff_1         -3.243050        32.604071           -0.099           0.921\n",
      "L4.new_case_cnt             0.500527         0.040894           12.240           0.000\n",
      "L4.avg_temp_diff_1        -28.336217        33.042960           -0.858           0.391\n",
      "L5.new_case_cnt            -0.123058         0.043517           -2.828           0.005\n",
      "L5.avg_temp_diff_1         -3.223000        33.127666           -0.097           0.922\n",
      "L6.new_case_cnt            -0.129643         0.043668           -2.969           0.003\n",
      "L6.avg_temp_diff_1        -93.658938        33.190373           -2.822           0.005\n",
      "L7.new_case_cnt            -0.013506         0.043326           -0.312           0.755\n",
      "L7.avg_temp_diff_1        -83.146773        33.656187           -2.470           0.013\n",
      "L8.new_case_cnt            -0.208149         0.043425           -4.793           0.000\n",
      "L8.avg_temp_diff_1        -24.073722        33.750819           -0.713           0.476\n",
      "L9.new_case_cnt             0.020068         0.043678            0.459           0.646\n",
      "L9.avg_temp_diff_1        -78.605732        33.585071           -2.340           0.019\n",
      "L10.new_case_cnt            0.152439         0.043525            3.502           0.000\n",
      "L10.avg_temp_diff_1       -84.259045        33.478288           -2.517           0.012\n",
      "L11.new_case_cnt           -0.082247         0.041097           -2.001           0.045\n",
      "L11.avg_temp_diff_1       -48.657231        33.377398           -1.458           0.145\n",
      "L12.new_case_cnt            0.123028         0.040565            3.033           0.002\n",
      "L12.avg_temp_diff_1       -30.426658        32.974356           -0.923           0.356\n",
      "L13.new_case_cnt            0.046375         0.040546            1.144           0.253\n",
      "L13.avg_temp_diff_1       -61.430986        31.215953           -1.968           0.049\n",
      "L14.new_case_cnt           -0.107252         0.030328           -3.536           0.000\n",
      "L14.avg_temp_diff_1        12.279297        31.224258            0.393           0.694\n",
      "======================================================================================\n",
      "\n",
      "Results for equation avg_temp_diff_1\n",
      "======================================================================================\n",
      "                         coefficient       std. error           t-stat            prob\n",
      "--------------------------------------------------------------------------------------\n",
      "const                      -0.035519         0.041025           -0.866           0.387\n",
      "L1.new_case_cnt             0.000039         0.000030            1.296           0.195\n",
      "L1.avg_temp_diff_1          0.093204         0.030657            3.040           0.002\n",
      "L2.new_case_cnt             0.000016         0.000040            0.407           0.684\n",
      "L2.avg_temp_diff_1         -0.333757         0.030763          -10.849           0.000\n",
      "L3.new_case_cnt             0.000036         0.000040            0.894           0.371\n",
      "L3.avg_temp_diff_1         -0.189522         0.032409           -5.848           0.000\n",
      "L4.new_case_cnt            -0.000112         0.000041           -2.762           0.006\n",
      "L4.avg_temp_diff_1         -0.148245         0.032845           -4.513           0.000\n",
      "L5.new_case_cnt             0.000006         0.000043            0.149           0.881\n",
      "L5.avg_temp_diff_1         -0.107134         0.032929           -3.253           0.001\n",
      "L6.new_case_cnt             0.000067         0.000043            1.545           0.122\n",
      "L6.avg_temp_diff_1         -0.189803         0.032992           -5.753           0.000\n",
      "L7.new_case_cnt            -0.000100         0.000043           -2.322           0.020\n",
      "L7.avg_temp_diff_1         -0.077340         0.033455           -2.312           0.021\n",
      "L8.new_case_cnt             0.000029         0.000043            0.680           0.496\n",
      "L8.avg_temp_diff_1         -0.111034         0.033549           -3.310           0.001\n",
      "L9.new_case_cnt             0.000117         0.000043            2.693           0.007\n",
      "L9.avg_temp_diff_1         -0.059788         0.033384           -1.791           0.073\n",
      "L10.new_case_cnt           -0.000108         0.000043           -2.488           0.013\n",
      "L10.avg_temp_diff_1        -0.105602         0.033278           -3.173           0.002\n",
      "L11.new_case_cnt            0.000073         0.000041            1.793           0.073\n",
      "L11.avg_temp_diff_1        -0.083511         0.033177           -2.517           0.012\n",
      "L12.new_case_cnt            0.000005         0.000040            0.113           0.910\n",
      "L12.avg_temp_diff_1        -0.009471         0.032777           -0.289           0.773\n",
      "L13.new_case_cnt           -0.000051         0.000040           -1.265           0.206\n",
      "L13.avg_temp_diff_1        -0.043675         0.031029           -1.408           0.159\n",
      "L14.new_case_cnt            0.000009         0.000030            0.282           0.778\n",
      "L14.avg_temp_diff_1        -0.026366         0.031037           -0.850           0.396\n",
      "======================================================================================\n",
      "\n",
      "Correlation matrix of residuals\n",
      "                   new_case_cnt  avg_temp_diff_1\n",
      "new_case_cnt           1.000000         0.002625\n",
      "avg_temp_diff_1        0.002625         1.000000\n",
      "\n",
      "\n",
      "\n"
     ]
    }
   ],
   "source": [
    "# VAR model\n",
    "var_model = VAR(var_train)\n",
    "\n",
    "# Select lag order based on AIC\n",
    "var_lag_order = var_model.select_order().aic\n",
    "\n",
    "# Fit the VAR model\n",
    "var_model = var_model.fit(maxlags=var_lag_order)\n",
    "\n",
    "# Summary of the fitted VAR model\n",
    "print(var_model.summary())"
   ]
  },
  {
   "cell_type": "markdown",
   "id": "2b7a3e55-2058-4133-8bf8-8efc1b313750",
   "metadata": {},
   "source": [
    "### Prediction of the Fitted VAR Model"
   ]
  },
  {
   "cell_type": "code",
   "execution_count": 9,
   "id": "d111648d",
   "metadata": {},
   "outputs": [
    {
     "name": "stdout",
     "output_type": "stream",
     "text": [
      "Predictions of new case counts for the next 5 days using the trained VAR model:\n"
     ]
    },
    {
     "data": {
      "text/plain": [
       "0    702\n",
       "1    708\n",
       "2    870\n",
       "3    959\n",
       "4    860\n",
       "Name: new_case_cnt, dtype: int32"
      ]
     },
     "execution_count": 9,
     "metadata": {},
     "output_type": "execute_result"
    }
   ],
   "source": [
    "# Predict case counts and average temperatures for the next 5 days\n",
    "print('Predictions of new case counts for the next 5 days using the trained VAR model:')\n",
    "pd.DataFrame(var_model.forecast(var_train.values[-var_lag_order:], steps=5), columns=var_train.columns)['new_case_cnt'].astype('int')"
   ]
  },
  {
   "cell_type": "code",
   "execution_count": 10,
   "id": "3a9298d6-29da-4ae1-b66e-2bf6dc20d4fc",
   "metadata": {},
   "outputs": [
    {
     "name": "stdout",
     "output_type": "stream",
     "text": [
      "The true new case counts for the next 5 days:\n"
     ]
    },
    {
     "data": {
      "text/html": [
       "<div>\n",
       "<style scoped>\n",
       "    .dataframe tbody tr th:only-of-type {\n",
       "        vertical-align: middle;\n",
       "    }\n",
       "\n",
       "    .dataframe tbody tr th {\n",
       "        vertical-align: top;\n",
       "    }\n",
       "\n",
       "    .dataframe thead th {\n",
       "        text-align: right;\n",
       "    }\n",
       "</style>\n",
       "<table border=\"1\" class=\"dataframe\">\n",
       "  <thead>\n",
       "    <tr style=\"text-align: right;\">\n",
       "      <th></th>\n",
       "      <th>report_date</th>\n",
       "      <th>new_case_cnt</th>\n",
       "    </tr>\n",
       "  </thead>\n",
       "  <tbody>\n",
       "    <tr>\n",
       "      <th>0</th>\n",
       "      <td>2023-01-25</td>\n",
       "      <td>485</td>\n",
       "    </tr>\n",
       "    <tr>\n",
       "      <th>1</th>\n",
       "      <td>2023-01-26</td>\n",
       "      <td>371</td>\n",
       "    </tr>\n",
       "    <tr>\n",
       "      <th>2</th>\n",
       "      <td>2023-01-27</td>\n",
       "      <td>455</td>\n",
       "    </tr>\n",
       "    <tr>\n",
       "      <th>3</th>\n",
       "      <td>2023-01-28</td>\n",
       "      <td>498</td>\n",
       "    </tr>\n",
       "    <tr>\n",
       "      <th>4</th>\n",
       "      <td>2023-01-29</td>\n",
       "      <td>456</td>\n",
       "    </tr>\n",
       "  </tbody>\n",
       "</table>\n",
       "</div>"
      ],
      "text/plain": [
       "  report_date  new_case_cnt\n",
       "0  2023-01-25           485\n",
       "1  2023-01-26           371\n",
       "2  2023-01-27           455\n",
       "3  2023-01-28           498\n",
       "4  2023-01-29           456"
      ]
     },
     "execution_count": 10,
     "metadata": {},
     "output_type": "execute_result"
    }
   ],
   "source": [
    "print('The true new case counts for the next 5 days:')\n",
    "var_test[['new_case_cnt']].astype('int').reset_index()"
   ]
  },
  {
   "cell_type": "code",
   "execution_count": null,
   "id": "255b34bf-d0db-486a-966c-950c3aa3556f",
   "metadata": {},
   "outputs": [],
   "source": []
  },
  {
   "cell_type": "code",
   "execution_count": null,
   "id": "ca63409f-f9f3-4e34-aab4-59c65cf59aca",
   "metadata": {},
   "outputs": [],
   "source": []
  }
 ],
 "metadata": {
  "kernelspec": {
   "display_name": "Python 3 (ipykernel)",
   "language": "python",
   "name": "python3"
  },
  "language_info": {
   "codemirror_mode": {
    "name": "ipython",
    "version": 3
   },
   "file_extension": ".py",
   "mimetype": "text/x-python",
   "name": "python",
   "nbconvert_exporter": "python",
   "pygments_lexer": "ipython3",
   "version": "3.11.4"
  }
 },
 "nbformat": 4,
 "nbformat_minor": 5
}
