{
 "cells": [
  {
   "cell_type": "markdown",
   "id": "9390ca45-f040-4b42-86b6-6be4e1f7d3a3",
   "metadata": {},
   "source": [
    "# The University of Hong Kong\n",
    "## DASC7600 Data Science Project 2024\n",
    "## EDA - Global - Case Counts"
   ]
  },
  {
   "cell_type": "markdown",
   "id": "5f0aecc2-d475-4673-9ef6-51914a7cd493",
   "metadata": {},
   "source": [
    "# Import Modules and Settings"
   ]
  },
  {
   "cell_type": "code",
   "execution_count": 1,
   "id": "b5c47cce-6417-44ed-ac67-a4b1266f3647",
   "metadata": {},
   "outputs": [],
   "source": [
    "import os\n",
    "import sys\n",
    "\n",
    "# Add project directory to system path\n",
    "project_dir = os.path.dirname(os.getcwd())\n",
    "sys.path.append(project_dir)"
   ]
  },
  {
   "cell_type": "code",
   "execution_count": 2,
   "id": "c9d5b5f1-42a8-4766-a1dd-4c95929527cc",
   "metadata": {},
   "outputs": [],
   "source": [
    "import matplotlib.pyplot as plt\n",
    "import pandas as pd\n",
    "import warnings\n",
    "\n",
    "import covid_module\n",
    "\n",
    "# Settings\n",
    "pd.set_option('display.max_columns', None)\n",
    "warnings.filterwarnings('ignore')\n",
    "\n",
    "%matplotlib inline"
   ]
  },
  {
   "cell_type": "markdown",
   "id": "e47cdc72-57af-40e6-a730-b0e579c65d30",
   "metadata": {},
   "source": [
    "# Function"
   ]
  },
  {
   "cell_type": "code",
   "execution_count": 3,
   "id": "2af516cc-a983-4ab7-86e8-e89bf97fa5bf",
   "metadata": {},
   "outputs": [],
   "source": [
    "def check_cumlative_column(df: pd.DataFrame,\n",
    "                           date_col: str,\n",
    "                           group_by_col: str,\n",
    "                           cnt_col: str,\n",
    "                           cuml_cnt_col: str) -> None:\n",
    "    df.sort_values(date_col, inplace=True)\n",
    "    df['cuml_cnt_temp'] = df.groupby(group_by_col)[cnt_col].cumsum()\n",
    "    if (df['cuml_cnt_temp'] == df[cuml_cnt_col]).min() == 1:\n",
    "        is_or_is_not = 'is'\n",
    "    else:\n",
    "        is_or_is_not = 'is NOT'\n",
    "    print(f'The column {cuml_cnt_col} {is_or_is_not} the cumulative column of {cnt_col}.')"
   ]
  },
  {
   "cell_type": "markdown",
   "id": "1d86141b-661c-41f3-aa84-5a84557aac6c",
   "metadata": {},
   "source": [
    "# Load Data"
   ]
  },
  {
   "cell_type": "code",
   "execution_count": 4,
   "id": "0646e215-7b33-447b-8094-4743f36e581e",
   "metadata": {},
   "outputs": [],
   "source": [
    "# Read csv file\n",
    "## Dataset name: Daily COVID-19 cases and deaths by date reported to WHO\n",
    "## URL: https://data.who.int/dashboards/covid19/data\n",
    "covid_global_case_count_df = pd.read_csv(project_dir + '/data/raw_data/global/WHO-COVID-19-global-data.csv')"
   ]
  },
  {
   "cell_type": "markdown",
   "id": "aaf0baa6-1bed-4f1f-abd5-ca679b0961e1",
   "metadata": {},
   "source": [
    "# Basic Information of Data Set"
   ]
  },
  {
   "cell_type": "code",
   "execution_count": 5,
   "id": "a7bd84ec-53a5-44d9-8c42-e7722269445f",
   "metadata": {},
   "outputs": [
    {
     "data": {
      "text/html": [
       "<div>\n",
       "<style scoped>\n",
       "    .dataframe tbody tr th:only-of-type {\n",
       "        vertical-align: middle;\n",
       "    }\n",
       "\n",
       "    .dataframe tbody tr th {\n",
       "        vertical-align: top;\n",
       "    }\n",
       "\n",
       "    .dataframe thead th {\n",
       "        text-align: right;\n",
       "    }\n",
       "</style>\n",
       "<table border=\"1\" class=\"dataframe\">\n",
       "  <thead>\n",
       "    <tr style=\"text-align: right;\">\n",
       "      <th></th>\n",
       "      <th>Date_reported</th>\n",
       "      <th>Country_code</th>\n",
       "      <th>Country</th>\n",
       "      <th>WHO_region</th>\n",
       "      <th>New_cases</th>\n",
       "      <th>Cumulative_cases</th>\n",
       "      <th>New_deaths</th>\n",
       "      <th>Cumulative_deaths</th>\n",
       "    </tr>\n",
       "  </thead>\n",
       "  <tbody>\n",
       "    <tr>\n",
       "      <th>0</th>\n",
       "      <td>2020-01-05</td>\n",
       "      <td>AF</td>\n",
       "      <td>Afghanistan</td>\n",
       "      <td>EMRO</td>\n",
       "      <td>NaN</td>\n",
       "      <td>0</td>\n",
       "      <td>NaN</td>\n",
       "      <td>0</td>\n",
       "    </tr>\n",
       "    <tr>\n",
       "      <th>1</th>\n",
       "      <td>2020-01-12</td>\n",
       "      <td>AF</td>\n",
       "      <td>Afghanistan</td>\n",
       "      <td>EMRO</td>\n",
       "      <td>NaN</td>\n",
       "      <td>0</td>\n",
       "      <td>NaN</td>\n",
       "      <td>0</td>\n",
       "    </tr>\n",
       "    <tr>\n",
       "      <th>2</th>\n",
       "      <td>2020-01-19</td>\n",
       "      <td>AF</td>\n",
       "      <td>Afghanistan</td>\n",
       "      <td>EMRO</td>\n",
       "      <td>NaN</td>\n",
       "      <td>0</td>\n",
       "      <td>NaN</td>\n",
       "      <td>0</td>\n",
       "    </tr>\n",
       "    <tr>\n",
       "      <th>3</th>\n",
       "      <td>2020-01-26</td>\n",
       "      <td>AF</td>\n",
       "      <td>Afghanistan</td>\n",
       "      <td>EMRO</td>\n",
       "      <td>NaN</td>\n",
       "      <td>0</td>\n",
       "      <td>NaN</td>\n",
       "      <td>0</td>\n",
       "    </tr>\n",
       "    <tr>\n",
       "      <th>4</th>\n",
       "      <td>2020-02-02</td>\n",
       "      <td>AF</td>\n",
       "      <td>Afghanistan</td>\n",
       "      <td>EMRO</td>\n",
       "      <td>NaN</td>\n",
       "      <td>0</td>\n",
       "      <td>NaN</td>\n",
       "      <td>0</td>\n",
       "    </tr>\n",
       "    <tr>\n",
       "      <th>5</th>\n",
       "      <td>2020-02-09</td>\n",
       "      <td>AF</td>\n",
       "      <td>Afghanistan</td>\n",
       "      <td>EMRO</td>\n",
       "      <td>NaN</td>\n",
       "      <td>0</td>\n",
       "      <td>NaN</td>\n",
       "      <td>0</td>\n",
       "    </tr>\n",
       "    <tr>\n",
       "      <th>6</th>\n",
       "      <td>2020-02-16</td>\n",
       "      <td>AF</td>\n",
       "      <td>Afghanistan</td>\n",
       "      <td>EMRO</td>\n",
       "      <td>NaN</td>\n",
       "      <td>0</td>\n",
       "      <td>NaN</td>\n",
       "      <td>0</td>\n",
       "    </tr>\n",
       "    <tr>\n",
       "      <th>7</th>\n",
       "      <td>2020-02-23</td>\n",
       "      <td>AF</td>\n",
       "      <td>Afghanistan</td>\n",
       "      <td>EMRO</td>\n",
       "      <td>NaN</td>\n",
       "      <td>0</td>\n",
       "      <td>NaN</td>\n",
       "      <td>0</td>\n",
       "    </tr>\n",
       "    <tr>\n",
       "      <th>8</th>\n",
       "      <td>2020-03-01</td>\n",
       "      <td>AF</td>\n",
       "      <td>Afghanistan</td>\n",
       "      <td>EMRO</td>\n",
       "      <td>1.0</td>\n",
       "      <td>1</td>\n",
       "      <td>NaN</td>\n",
       "      <td>0</td>\n",
       "    </tr>\n",
       "    <tr>\n",
       "      <th>9</th>\n",
       "      <td>2020-03-08</td>\n",
       "      <td>AF</td>\n",
       "      <td>Afghanistan</td>\n",
       "      <td>EMRO</td>\n",
       "      <td>NaN</td>\n",
       "      <td>1</td>\n",
       "      <td>NaN</td>\n",
       "      <td>0</td>\n",
       "    </tr>\n",
       "    <tr>\n",
       "      <th>10</th>\n",
       "      <td>2020-03-15</td>\n",
       "      <td>AF</td>\n",
       "      <td>Afghanistan</td>\n",
       "      <td>EMRO</td>\n",
       "      <td>6.0</td>\n",
       "      <td>7</td>\n",
       "      <td>NaN</td>\n",
       "      <td>0</td>\n",
       "    </tr>\n",
       "    <tr>\n",
       "      <th>11</th>\n",
       "      <td>2020-03-22</td>\n",
       "      <td>AF</td>\n",
       "      <td>Afghanistan</td>\n",
       "      <td>EMRO</td>\n",
       "      <td>17.0</td>\n",
       "      <td>24</td>\n",
       "      <td>NaN</td>\n",
       "      <td>0</td>\n",
       "    </tr>\n",
       "    <tr>\n",
       "      <th>12</th>\n",
       "      <td>2020-03-29</td>\n",
       "      <td>AF</td>\n",
       "      <td>Afghanistan</td>\n",
       "      <td>EMRO</td>\n",
       "      <td>67.0</td>\n",
       "      <td>91</td>\n",
       "      <td>2.0</td>\n",
       "      <td>2</td>\n",
       "    </tr>\n",
       "    <tr>\n",
       "      <th>13</th>\n",
       "      <td>2020-04-05</td>\n",
       "      <td>AF</td>\n",
       "      <td>Afghanistan</td>\n",
       "      <td>EMRO</td>\n",
       "      <td>183.0</td>\n",
       "      <td>274</td>\n",
       "      <td>3.0</td>\n",
       "      <td>5</td>\n",
       "    </tr>\n",
       "    <tr>\n",
       "      <th>14</th>\n",
       "      <td>2020-04-12</td>\n",
       "      <td>AF</td>\n",
       "      <td>Afghanistan</td>\n",
       "      <td>EMRO</td>\n",
       "      <td>247.0</td>\n",
       "      <td>521</td>\n",
       "      <td>10.0</td>\n",
       "      <td>15</td>\n",
       "    </tr>\n",
       "    <tr>\n",
       "      <th>15</th>\n",
       "      <td>2020-04-19</td>\n",
       "      <td>AF</td>\n",
       "      <td>Afghanistan</td>\n",
       "      <td>EMRO</td>\n",
       "      <td>387.0</td>\n",
       "      <td>908</td>\n",
       "      <td>15.0</td>\n",
       "      <td>30</td>\n",
       "    </tr>\n",
       "    <tr>\n",
       "      <th>16</th>\n",
       "      <td>2020-04-26</td>\n",
       "      <td>AF</td>\n",
       "      <td>Afghanistan</td>\n",
       "      <td>EMRO</td>\n",
       "      <td>422.0</td>\n",
       "      <td>1330</td>\n",
       "      <td>13.0</td>\n",
       "      <td>43</td>\n",
       "    </tr>\n",
       "    <tr>\n",
       "      <th>17</th>\n",
       "      <td>2020-05-03</td>\n",
       "      <td>AF</td>\n",
       "      <td>Afghanistan</td>\n",
       "      <td>EMRO</td>\n",
       "      <td>841.0</td>\n",
       "      <td>2171</td>\n",
       "      <td>21.0</td>\n",
       "      <td>64</td>\n",
       "    </tr>\n",
       "    <tr>\n",
       "      <th>18</th>\n",
       "      <td>2020-05-10</td>\n",
       "      <td>AF</td>\n",
       "      <td>Afghanistan</td>\n",
       "      <td>EMRO</td>\n",
       "      <td>1392.0</td>\n",
       "      <td>3563</td>\n",
       "      <td>41.0</td>\n",
       "      <td>105</td>\n",
       "    </tr>\n",
       "    <tr>\n",
       "      <th>19</th>\n",
       "      <td>2020-05-17</td>\n",
       "      <td>AF</td>\n",
       "      <td>Afghanistan</td>\n",
       "      <td>EMRO</td>\n",
       "      <td>2490.0</td>\n",
       "      <td>6053</td>\n",
       "      <td>48.0</td>\n",
       "      <td>153</td>\n",
       "    </tr>\n",
       "  </tbody>\n",
       "</table>\n",
       "</div>"
      ],
      "text/plain": [
       "   Date_reported Country_code      Country WHO_region  New_cases  \\\n",
       "0     2020-01-05           AF  Afghanistan       EMRO        NaN   \n",
       "1     2020-01-12           AF  Afghanistan       EMRO        NaN   \n",
       "2     2020-01-19           AF  Afghanistan       EMRO        NaN   \n",
       "3     2020-01-26           AF  Afghanistan       EMRO        NaN   \n",
       "4     2020-02-02           AF  Afghanistan       EMRO        NaN   \n",
       "5     2020-02-09           AF  Afghanistan       EMRO        NaN   \n",
       "6     2020-02-16           AF  Afghanistan       EMRO        NaN   \n",
       "7     2020-02-23           AF  Afghanistan       EMRO        NaN   \n",
       "8     2020-03-01           AF  Afghanistan       EMRO        1.0   \n",
       "9     2020-03-08           AF  Afghanistan       EMRO        NaN   \n",
       "10    2020-03-15           AF  Afghanistan       EMRO        6.0   \n",
       "11    2020-03-22           AF  Afghanistan       EMRO       17.0   \n",
       "12    2020-03-29           AF  Afghanistan       EMRO       67.0   \n",
       "13    2020-04-05           AF  Afghanistan       EMRO      183.0   \n",
       "14    2020-04-12           AF  Afghanistan       EMRO      247.0   \n",
       "15    2020-04-19           AF  Afghanistan       EMRO      387.0   \n",
       "16    2020-04-26           AF  Afghanistan       EMRO      422.0   \n",
       "17    2020-05-03           AF  Afghanistan       EMRO      841.0   \n",
       "18    2020-05-10           AF  Afghanistan       EMRO     1392.0   \n",
       "19    2020-05-17           AF  Afghanistan       EMRO     2490.0   \n",
       "\n",
       "    Cumulative_cases  New_deaths  Cumulative_deaths  \n",
       "0                  0         NaN                  0  \n",
       "1                  0         NaN                  0  \n",
       "2                  0         NaN                  0  \n",
       "3                  0         NaN                  0  \n",
       "4                  0         NaN                  0  \n",
       "5                  0         NaN                  0  \n",
       "6                  0         NaN                  0  \n",
       "7                  0         NaN                  0  \n",
       "8                  1         NaN                  0  \n",
       "9                  1         NaN                  0  \n",
       "10                 7         NaN                  0  \n",
       "11                24         NaN                  0  \n",
       "12                91         2.0                  2  \n",
       "13               274         3.0                  5  \n",
       "14               521        10.0                 15  \n",
       "15               908        15.0                 30  \n",
       "16              1330        13.0                 43  \n",
       "17              2171        21.0                 64  \n",
       "18              3563        41.0                105  \n",
       "19              6053        48.0                153  "
      ]
     },
     "execution_count": 5,
     "metadata": {},
     "output_type": "execute_result"
    }
   ],
   "source": [
    "# Print first 20 records\n",
    "covid_global_case_count_df.head(20)"
   ]
  },
  {
   "cell_type": "code",
   "execution_count": 6,
   "id": "568de14c-ee95-45ef-984e-10c367fb9d90",
   "metadata": {},
   "outputs": [
    {
     "name": "stdout",
     "output_type": "stream",
     "text": [
      "<class 'pandas.core.frame.DataFrame'>\n",
      "RangeIndex: 57840 entries, 0 to 57839\n",
      "Data columns (total 8 columns):\n",
      " #   Column             Non-Null Count  Dtype  \n",
      "---  ------             --------------  -----  \n",
      " 0   Date_reported      57840 non-null  object \n",
      " 1   Country_code       57599 non-null  object \n",
      " 2   Country            57840 non-null  object \n",
      " 3   WHO_region         53502 non-null  object \n",
      " 4   New_cases          39028 non-null  float64\n",
      " 5   Cumulative_cases   57840 non-null  int64  \n",
      " 6   New_deaths         25001 non-null  float64\n",
      " 7   Cumulative_deaths  57840 non-null  int64  \n",
      "dtypes: float64(2), int64(2), object(4)\n",
      "memory usage: 3.5+ MB\n"
     ]
    }
   ],
   "source": [
    "# Basic information of dataframe\n",
    "covid_global_case_count_df.info()"
   ]
  },
  {
   "cell_type": "markdown",
   "id": "f34ff067-c9ce-4bad-b115-83b5c38e01a6",
   "metadata": {},
   "source": [
    "# Modify Data Types"
   ]
  },
  {
   "cell_type": "code",
   "execution_count": 7,
   "id": "610449d0-0431-47ce-af77-b6d1733b7b0f",
   "metadata": {},
   "outputs": [],
   "source": [
    "# Modify data type for datatime column\n",
    "covid_global_case_count_df['Date_reported'] = pd.to_datetime(covid_global_case_count_df['Date_reported'], format='%Y-%m-%d')"
   ]
  },
  {
   "cell_type": "markdown",
   "id": "ee2ee9b8-d870-4b91-a98b-51e3e8238ffa",
   "metadata": {},
   "source": [
    "# Exploratory Data Analysis (EDA)"
   ]
  },
  {
   "cell_type": "markdown",
   "id": "2140c873-79b0-4e0d-94de-f5918e94a2ad",
   "metadata": {},
   "source": [
    "## Univariate Analysis"
   ]
  },
  {
   "cell_type": "markdown",
   "id": "4374adbe-5389-4284-8d00-d808aabc834c",
   "metadata": {},
   "source": [
    "## Field - Date_reported"
   ]
  },
  {
   "cell_type": "code",
   "execution_count": 8,
   "id": "8399a57f-7187-44f2-be6d-9d1b4c17596b",
   "metadata": {},
   "outputs": [
    {
     "name": "stdout",
     "output_type": "stream",
     "text": [
      "Date range of date reported:\n",
      "Min date: 2020-01-05\n",
      "Max date: 2024-08-11\n"
     ]
    }
   ],
   "source": [
    "# Report date range of data set\n",
    "min_date, max_date = covid_global_case_count_df['Date_reported'].agg(['min', 'max']).astype('str').to_list()\n",
    "print('Date range of date reported:')\n",
    "print(f'Min date: {min_date}')\n",
    "print(f'Max date: {max_date}')"
   ]
  },
  {
   "cell_type": "code",
   "execution_count": 31,
   "id": "9dfddbc0-7975-42ce-8f15-81f8c73d0956",
   "metadata": {},
   "outputs": [
    {
     "name": "stdout",
     "output_type": "stream",
     "text": [
      "The weekday in the dataset are '0'.\n"
     ]
    }
   ],
   "source": [
    "# Weekday in dataframe\n",
    "weekday_list = covid_global_case_count_df['Date_reported'].dt.strftime('%w').drop_duplicates().to_list()\n",
    "print(f'The weekday in the dataset are {str(weekday_list)[1:-1]}.')"
   ]
  },
  {
   "cell_type": "markdown",
   "id": "4e0029c8-fa92-491a-a21f-628769be517e",
   "metadata": {},
   "source": [
    "The value 0 represents Sunday. Therefore, the dataset contains only Sunday dates."
   ]
  },
  {
   "cell_type": "code",
   "execution_count": 9,
   "id": "f9034a6c-591f-43e0-b285-b0570ec1fe6a",
   "metadata": {},
   "outputs": [
    {
     "name": "stdout",
     "output_type": "stream",
     "text": [
      "There is no missing Sunday in the date column.\n"
     ]
    }
   ],
   "source": [
    "# Print the Sundays that are not included in the dataset\n",
    "date_df = covid_global_case_count_df[['Date_reported']].set_index('Date_reported')\n",
    "missing_date_index = pd.date_range(start=min_date, end=max_date, freq='W-SUN') \\\n",
    "    .difference(date_df.index) \\\n",
    "    .astype('str')\n",
    "\n",
    "if len(missing_date_index) == 0:\n",
    "    print('There is no missing Sunday in the date column.')\n",
    "else:\n",
    "    print(f'There are missing Sunday in the date column, between {missing_date_index.min()} and {missing_date_index.max()}.')"
   ]
  },
  {
   "cell_type": "markdown",
   "id": "22cbd2f7-4eaf-4a42-9e64-d6cffb1383be",
   "metadata": {},
   "source": [
    "## Field - Country_code"
   ]
  },
  {
   "cell_type": "code",
   "execution_count": 10,
   "id": "b95d32e2-277e-4bff-95d8-47bce4ca170a",
   "metadata": {},
   "outputs": [
    {
     "name": "stdout",
     "output_type": "stream",
     "text": [
      "Distinct values in country code column are: 'AF', 'AL', 'DZ', 'AS', 'AD', 'AO', 'AI', 'AG', 'AR', 'AM', 'AW', 'AU', 'AT', 'AZ', 'BS', 'BH', 'BD', 'BB', 'BY', 'BE', 'BZ', 'BJ', 'BM', 'BT', 'BO', 'BQ', 'BA', 'BW', 'BR', 'VG', 'BN', 'BG', 'BF', 'BI', 'CV', 'KH', 'CM', 'CA', 'KY', 'CF', 'TD', 'CL', 'CN', 'CO', 'KM', 'CG', 'CK', 'CR', 'CI', 'HR', 'CU', 'CW', 'CY', 'CZ', 'KP', 'CD', 'DK', 'DJ', 'DM', 'DO', 'EC', 'EG', 'SV', 'GQ', 'ER', 'EE', 'SZ', 'ET', 'FK', 'FO', 'FJ', 'FI', 'FR', 'GF', 'PF', 'GA', 'GM', 'GE', 'DE', 'GH', 'GI', 'GR', 'GL', 'GD', 'GP', 'GU', 'GT', 'GG', 'GN', 'GW', 'GY', 'HT', 'VA', 'HN', 'HU', 'IS', 'IN', 'ID', 'XXL', 'XXF', 'XXJ', 'XXI', 'XXG', 'XXH', 'IR', 'IQ', 'IE', 'IM', 'IL', 'IT', 'JM', 'JP', 'JE', 'JO', 'KZ', 'KE', 'KI', 'XK', 'KW', 'KG', 'LA', 'LV', 'LB', 'LS', 'LR', 'LY', 'LI', 'LT', 'LU', 'MG', 'MW', 'MY', 'MV', 'ML', 'MT', 'MH', 'MQ', 'MR', 'MU', 'YT', 'MX', 'FM', 'MC', 'MN', 'ME', 'MS', 'MA', 'MZ', 'MM', nan, 'NR', 'NP', 'NL', 'NC', 'NZ', 'NI', 'NE', 'NG', 'NU', 'MK', 'MP', 'NO', 'PS', 'OM', 'PK', 'PW', 'PA', 'PG', 'PY', 'PE', 'PH', 'PN', 'PL', 'PT', 'PR', 'QA', 'KR', 'MD', 'RE', 'RO', 'RU', 'RW', 'BL', 'SH', 'KN', 'LC', 'MF', 'PM', 'VC', 'WS', 'SM', 'ST', 'SA', 'SN', 'RS', 'SC', 'SL', 'SG', 'SX', 'SK', 'SI', 'SB', 'SO', 'ZA', 'SS', 'ES', 'LK', 'SD', 'SR', 'SE', 'CH', 'SY', 'TJ', 'TH', 'GB', 'TL', 'TG', 'TK', 'TO', 'TT', 'TN', 'TR', 'TM', 'TC', 'TV', 'UG', 'UA', 'AE', 'TZ', 'US', 'VI', 'UY', 'UZ', 'VU', 'VE', 'VN', 'WF', 'YE', 'ZM', 'ZW'\n"
     ]
    }
   ],
   "source": [
    "# Distinct values in country code column\n",
    "print('Distinct values in country code column are:',\n",
    "      str(covid_global_case_count_df['Country_code'].drop_duplicates().to_list())[1:-1])"
   ]
  },
  {
   "cell_type": "code",
   "execution_count": 11,
   "id": "b4172be7-a8da-4bbf-bf2e-07f6939e90d5",
   "metadata": {},
   "outputs": [
    {
     "data": {
      "text/html": [
       "<div>\n",
       "<style scoped>\n",
       "    .dataframe tbody tr th:only-of-type {\n",
       "        vertical-align: middle;\n",
       "    }\n",
       "\n",
       "    .dataframe tbody tr th {\n",
       "        vertical-align: top;\n",
       "    }\n",
       "\n",
       "    .dataframe thead th {\n",
       "        text-align: right;\n",
       "    }\n",
       "</style>\n",
       "<table border=\"1\" class=\"dataframe\">\n",
       "  <thead>\n",
       "    <tr style=\"text-align: right;\">\n",
       "      <th></th>\n",
       "      <th>Country</th>\n",
       "      <th>Country_code</th>\n",
       "    </tr>\n",
       "  </thead>\n",
       "  <tbody>\n",
       "    <tr>\n",
       "      <th>35909</th>\n",
       "      <td>Namibia</td>\n",
       "      <td>NaN</td>\n",
       "    </tr>\n",
       "  </tbody>\n",
       "</table>\n",
       "</div>"
      ],
      "text/plain": [
       "       Country Country_code\n",
       "35909  Namibia          NaN"
      ]
     },
     "execution_count": 11,
     "metadata": {},
     "output_type": "execute_result"
    }
   ],
   "source": [
    "# Missing values in Country code column\n",
    "covid_global_case_count_df[covid_global_case_count_df['Country_code'].isna()][['Country', 'Country_code']].drop_duplicates()"
   ]
  },
  {
   "cell_type": "markdown",
   "id": "edb27593-87ea-4149-8af8-822d3b6624a1",
   "metadata": {},
   "source": [
    "All records with missing values in the 'Country_code' column are associated with the country Namibia. <br>\n",
    "It is reasonable to assume that the country code for Namibia is NA and that it was mistakenly identified as a missing value."
   ]
  },
  {
   "cell_type": "code",
   "execution_count": 12,
   "id": "eddd2ad9-2156-4566-8c5d-9820fdecf665",
   "metadata": {},
   "outputs": [],
   "source": [
    "# To correct the missing values in Country code column\n",
    "covid_global_case_count_df['Country_code'] = covid_global_case_count_df['Country_code'].fillna('NA')"
   ]
  },
  {
   "cell_type": "markdown",
   "id": "76fd728a-e2fd-4146-b4b9-afc389547518",
   "metadata": {},
   "source": [
    "## Field - Country"
   ]
  },
  {
   "cell_type": "code",
   "execution_count": 13,
   "id": "e9b12347-5c3f-4501-9c81-342ba9524712",
   "metadata": {
    "scrolled": true
   },
   "outputs": [
    {
     "name": "stdout",
     "output_type": "stream",
     "text": [
      "Distinct values in country column are: 'Afghanistan', 'Albania', 'Algeria', 'American Samoa', 'Andorra', 'Angola', 'Anguilla', 'Antigua and Barbuda', 'Argentina', 'Armenia', 'Aruba', 'Australia', 'Austria', 'Azerbaijan', 'Bahamas', 'Bahrain', 'Bangladesh', 'Barbados', 'Belarus', 'Belgium', 'Belize', 'Benin', 'Bermuda', 'Bhutan', 'Bolivia (Plurinational State of)', 'Bonaire, Saint Eustatius and Saba', 'Bosnia and Herzegovina', 'Botswana', 'Brazil', 'British Virgin Islands', 'Brunei Darussalam', 'Bulgaria', 'Burkina Faso', 'Burundi', 'Cabo Verde', 'Cambodia', 'Cameroon', 'Canada', 'Cayman Islands', 'Central African Republic', 'Chad', 'Chile', 'China', 'Colombia', 'Comoros', 'Congo', 'Cook Islands', 'Costa Rica', \"C�te d'Ivoire\", 'Croatia', 'Cuba', 'Cura�ao', 'Cyprus', 'Czechia', \"Democratic People's Republic of Korea\", 'Democratic Republic of the Congo', 'Denmark', 'Djibouti', 'Dominica', 'Dominican Republic', 'Ecuador', 'Egypt', 'El Salvador', 'Equatorial Guinea', 'Eritrea', 'Estonia', 'Eswatini', 'Ethiopia', 'Falkland Islands (Malvinas)', 'Faroe Islands', 'Fiji', 'Finland', 'France', 'French Guiana', 'French Polynesia', 'Gabon', 'Gambia', 'Georgia', 'Germany', 'Ghana', 'Gibraltar', 'Greece', 'Greenland', 'Grenada', 'Guadeloupe', 'Guam', 'Guatemala', 'Guernsey', 'Guinea', 'Guinea-Bissau', 'Guyana', 'Haiti', 'Holy See', 'Honduras', 'Hungary', 'Iceland', 'India', 'Indonesia', 'International commercial vessel', 'International conveyance (American Samoa)', 'International conveyance (Diamond Princess)', 'International conveyance (Kiribati)', 'International conveyance (Solomon Islands)', 'International conveyance (Vanuatu)', 'Iran (Islamic Republic of)', 'Iraq', 'Ireland', 'Isle of Man', 'Israel', 'Italy', 'Jamaica', 'Japan', 'Jersey', 'Jordan', 'Kazakhstan', 'Kenya', 'Kiribati', 'Kosovo (in accordance with UN Security Council resolution 1244 (1999))', 'Kuwait', 'Kyrgyzstan', \"Lao People's Democratic Republic\", 'Latvia', 'Lebanon', 'Lesotho', 'Liberia', 'Libya', 'Liechtenstein', 'Lithuania', 'Luxembourg', 'Madagascar', 'Malawi', 'Malaysia', 'Maldives', 'Mali', 'Malta', 'Marshall Islands', 'Martinique', 'Mauritania', 'Mauritius', 'Mayotte', 'Mexico', 'Micronesia (Federated States of)', 'Monaco', 'Mongolia', 'Montenegro', 'Montserrat', 'Morocco', 'Mozambique', 'Myanmar', 'Namibia', 'Nauru', 'Nepal', 'Netherlands (Kingdom of the)', 'New Caledonia', 'New Zealand', 'Nicaragua', 'Niger', 'Nigeria', 'Niue', 'North Macedonia', 'Northern Mariana Islands', 'Norway', 'occupied Palestinian territory, including east Jerusalem', 'Oman', 'Pakistan', 'Palau', 'Panama', 'Papua New Guinea', 'Paraguay', 'Peru', 'Philippines', 'Pitcairn', 'Poland', 'Portugal', 'Puerto Rico', 'Qatar', 'Republic of Korea', 'Republic of Moldova', 'R�union', 'Romania', 'Russian Federation', 'Rwanda', 'Saint Barth�lemy', 'Saint Helena', 'Saint Kitts and Nevis', 'Saint Lucia', 'Saint Martin (French part)', 'Saint Pierre and Miquelon', 'Saint Vincent and the Grenadines', 'Samoa', 'San Marino', 'Sao Tome and Principe', 'Saudi Arabia', 'Senegal', 'Serbia', 'Seychelles', 'Sierra Leone', 'Singapore', 'Sint Maarten (Dutch part)', 'Slovakia', 'Slovenia', 'Solomon Islands', 'Somalia', 'South Africa', 'South Sudan', 'Spain', 'Sri Lanka', 'Sudan', 'Suriname', 'Sweden', 'Switzerland', 'Syrian Arab Republic', 'Tajikistan', 'Thailand', 'United Kingdom of Great Britain and Northern Ireland', 'Timor-Leste', 'Togo', 'Tokelau', 'Tonga', 'Trinidad and Tobago', 'Tunisia', 'T�rkiye', 'Turkmenistan', 'Turks and Caicos Islands', 'Tuvalu', 'Uganda', 'Ukraine', 'United Arab Emirates', 'United Republic of Tanzania', 'United States of America', 'United States Virgin Islands', 'Uruguay', 'Uzbekistan', 'Vanuatu', 'Venezuela (Bolivarian Republic of)', 'Viet Nam', 'Wallis and Futuna', 'Yemen', 'Zambia', 'Zimbabwe'\n"
     ]
    }
   ],
   "source": [
    "# Distinct values in country column\n",
    "print('Distinct values in country column are:',\n",
    "      str(covid_global_case_count_df['Country'].drop_duplicates().to_list())[1:-1])"
   ]
  },
  {
   "cell_type": "markdown",
   "id": "2408b983-0852-4e58-8a45-67443ce4cd1d",
   "metadata": {},
   "source": [
    "## Field - WHO_region"
   ]
  },
  {
   "cell_type": "code",
   "execution_count": 14,
   "id": "05ee8b7a-9b6b-45e8-b9d0-a0afa54718c7",
   "metadata": {},
   "outputs": [
    {
     "name": "stdout",
     "output_type": "stream",
     "text": [
      "Distinct values in WHO region column are: 'EMRO', 'EURO', 'AFRO', 'WPRO', 'AMRO', 'SEARO', nan, 'OTHER'\n"
     ]
    }
   ],
   "source": [
    "# Distinct values in WHO region column\n",
    "print('Distinct values in WHO region column are:',\n",
    "      str(covid_global_case_count_df['WHO_region'].drop_duplicates().to_list())[1:-1])"
   ]
  },
  {
   "cell_type": "markdown",
   "id": "3e9128b0-fe1f-404d-be73-3d7ce8648da3",
   "metadata": {},
   "source": [
    "## Fields - New_cases, Cumulative_cases, New_deaths and Cumulative_deaths"
   ]
  },
  {
   "cell_type": "markdown",
   "id": "b5b95855-74b5-48e8-a2ea-005dfc8f7b00",
   "metadata": {},
   "source": [
    "We printed 20 records at the beginning of this notebook. <br>\n",
    "It appears that the missing values in the 'New_cases' and 'New_deaths' columns represent the value 0. <br>\n",
    "Therefore, we attempted to fill the NAs with 0 and then validate our assumption."
   ]
  },
  {
   "cell_type": "code",
   "execution_count": 15,
   "id": "2ee93034-2a44-4504-a825-67f04a701390",
   "metadata": {},
   "outputs": [],
   "source": [
    "# To fill NA with 0 for 'New_cases' and 'New_deaths'\n",
    "covid_global_case_count_df['New_cases'] = covid_global_case_count_df['New_cases'].fillna(0)\n",
    "covid_global_case_count_df['New_deaths'] = covid_global_case_count_df['New_deaths'].fillna(0)"
   ]
  },
  {
   "cell_type": "code",
   "execution_count": 16,
   "id": "8fb1ba9d-1f9b-4e2a-9344-46c0a6c4c317",
   "metadata": {},
   "outputs": [
    {
     "name": "stdout",
     "output_type": "stream",
     "text": [
      "The column Cumulative_cases is the cumulative column of New_cases.\n",
      "The column Cumulative_deaths is the cumulative column of New_deaths.\n"
     ]
    }
   ],
   "source": [
    "# To verify our assumption\n",
    "check_cumlative_column(covid_global_case_count_df, 'Date_reported', 'Country', 'New_cases', 'Cumulative_cases')\n",
    "check_cumlative_column(covid_global_case_count_df, 'Date_reported', 'Country', 'New_deaths', 'Cumulative_deaths')"
   ]
  },
  {
   "cell_type": "markdown",
   "id": "a4902a54-eaaa-4515-b74f-06ee1de015d7",
   "metadata": {},
   "source": [
    "After filling the NAs with 0 in the 'New_cases' and 'New_deaths' columns, <br>\n",
    "The 'Cumulative_cases' column is the cumulative total of 'New_cases' (similarly for 'Cumulative_deaths' and 'New_deaths'). <br>\n",
    "This indicates that the values we filled (along with our assumption made above) are correct."
   ]
  },
  {
   "cell_type": "code",
   "execution_count": 17,
   "id": "21451c27-17dc-4ae2-bace-9f63f3e74db1",
   "metadata": {},
   "outputs": [
    {
     "data": {
      "image/png": "[encoded data removed]",
      "text/plain": [
       "<Figure size 1600x1000 with 4 Axes>"
      ]
     },
     "metadata": {},
     "output_type": "display_data"
    }
   ],
   "source": [
    "# Plot line charts for count columns\n",
    "## Columns with counts\n",
    "cnt_col = ['New_cases', 'Cumulative_cases', 'New_deaths', 'Cumulative_deaths']\n",
    "\n",
    "## Aggregated counts\n",
    "covid_global_agg_cnt = covid_global_case_count_df \\\n",
    "    .groupby('Date_reported') \\\n",
    "    [cnt_col] \\\n",
    "    .sum() \\\n",
    "    .reset_index()\n",
    "\n",
    "## Figure and axes\n",
    "fig, axes = plt.subplots(nrows=2, ncols=2, figsize=(16, 10))\n",
    "\n",
    "## Plot line charts for the count columns\n",
    "for idx, col in enumerate(cnt_col):\n",
    "    axes[idx%2, idx//2].plot_date(covid_global_agg_cnt['Date_reported'],\n",
    "                        covid_global_agg_cnt[col],\n",
    "                        marker='', linestyle='-', color=f'C{idx}')\n",
    "    axes[idx%2, idx//2].set_title(f'Line Chart of {col}')\n",
    "    axes[idx%2, idx//2].set_xlabel('Date')\n",
    "    axes[idx%2, idx//2].set_ylabel('Count')\n",
    "\n",
    "## Show the plot\n",
    "plt.show()"
   ]
  },
  {
   "cell_type": "markdown",
   "id": "4ae255e6-5412-495a-8554-f6edb55e4f05",
   "metadata": {},
   "source": [
    "## Multivariate Analysis"
   ]
  },
  {
   "cell_type": "markdown",
   "id": "50f80548-73e6-4e26-aaf9-de8d6ccbe948",
   "metadata": {},
   "source": [
    "## Fields - Country_code, Country and WHO_region"
   ]
  },
  {
   "cell_type": "code",
   "execution_count": 18,
   "id": "801356f5-9dd0-44ba-8402-332a071d6a79",
   "metadata": {},
   "outputs": [
    {
     "name": "stdout",
     "output_type": "stream",
     "text": [
      "For each value in Country column, there is/are 1 distinct values in Country_code column.\n",
      "For each value in Country_code column, there is/are 1 distinct values in Country column.\n",
      "For each value in Country column, there are 0 to 1 distinct values in WHO_region column.\n"
     ]
    }
   ],
   "source": [
    "for parent_col, child_col in [('Country', 'Country_code'),\n",
    "                              ('Country_code', 'Country'),\n",
    "                              ('Country', 'WHO_region')]:\n",
    "    cnt_series = covid_global_case_count_df.groupby(parent_col)[child_col].nunique()\n",
    "    if cnt_series.min() == cnt_series.max():\n",
    "        print(f'For each value in {parent_col} column, there is/are {cnt_series.min()} distinct values in {child_col} column.')\n",
    "    else:\n",
    "        print(f'For each value in {parent_col} column, there are {cnt_series.min()} to {cnt_series.max()} distinct values in {child_col} column.')"
   ]
  },
  {
   "cell_type": "markdown",
   "id": "24321531-5c3a-48a5-8d41-6fe85f9f258a",
   "metadata": {},
   "source": [
    "The values in the 'Country_code' and 'Country' columns are in one-to-one correspondence. <br>\n",
    "A country may have 0 or 1 WHO region, meaning it might have only a NULL value in the 'WHO_region' column, and no country has multiple values in the 'WHO_region' column."
   ]
  },
  {
   "cell_type": "markdown",
   "id": "ed204675-26eb-42cf-b5b2-b5e18d0d7342",
   "metadata": {},
   "source": [
    "## Missing Value Analysis"
   ]
  },
  {
   "cell_type": "code",
   "execution_count": 19,
   "id": "1c0acadb-2380-467f-ae39-bc25cef03fd6",
   "metadata": {},
   "outputs": [
    {
     "name": "stdout",
     "output_type": "stream",
     "text": [
      "The following columns have missing values:\n",
      "WHO_region: 4338 (7.5%)\n"
     ]
    }
   ],
   "source": [
    "# The remaining number of missing values in each column\n",
    "covid_module.print_missing_val_count(covid_global_case_count_df)"
   ]
  },
  {
   "cell_type": "code",
   "execution_count": null,
   "id": "2bba8d4f-d958-4dea-877a-c61f90ad53c1",
   "metadata": {},
   "outputs": [],
   "source": []
  },
  {
   "cell_type": "code",
   "execution_count": null,
   "id": "d7a4aee2-0825-455f-a733-73a16544c29e",
   "metadata": {},
   "outputs": [],
   "source": []
  }
 ],
 "metadata": {
  "kernelspec": {
   "display_name": "Python 3 (ipykernel)",
   "language": "python",
   "name": "python3"
  },
  "language_info": {
   "codemirror_mode": {
    "name": "ipython",
    "version": 3
   },
   "file_extension": ".py",
   "mimetype": "text/x-python",
   "name": "python",
   "nbconvert_exporter": "python",
   "pygments_lexer": "ipython3",
   "version": "3.11.4"
  }
 },
 "nbformat": 4,
 "nbformat_minor": 5
}
