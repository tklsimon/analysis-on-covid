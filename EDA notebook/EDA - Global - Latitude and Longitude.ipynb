{
 "cells": [
  {
   "cell_type": "markdown",
   "id": "44e692ab-e811-4845-8747-43c260a2c3a9",
   "metadata": {},
   "source": [
    "# The University of Hong Kong\n",
    "## DASC7600 Data Science Project 2024\n",
    "## EDA - Global - Latitude and Longitude"
   ]
  },
  {
   "cell_type": "markdown",
   "id": "31bfc86c-c561-4f26-b0cd-c0e88a1cd6d9",
   "metadata": {},
   "source": [
    "# Import Modules and Settings"
   ]
  },
  {
   "cell_type": "code",
   "execution_count": 1,
   "id": "5551f00a-209d-43ac-83a3-b82eb0e9343a",
   "metadata": {},
   "outputs": [],
   "source": [
    "import os\n",
    "import sys\n",
    "\n",
    "# Add project directory to system path\n",
    "project_dir = os.path.dirname(os.getcwd())\n",
    "sys.path.append(project_dir)"
   ]
  },
  {
   "cell_type": "code",
   "execution_count": 2,
   "id": "5bde823a-3578-4e02-8a3f-eb92fda96f05",
   "metadata": {},
   "outputs": [],
   "source": [
    "import pandas as pd\n",
    "import warnings\n",
    "\n",
    "import covid_module\n",
    "\n",
    "# Settings\n",
    "pd.set_option('display.max_columns', None)\n",
    "warnings.filterwarnings('ignore')\n",
    "\n",
    "%matplotlib inline"
   ]
  },
  {
   "cell_type": "markdown",
   "id": "85f1e48f-e480-487a-94d6-c0a5e293f780",
   "metadata": {},
   "source": [
    "# Load Data"
   ]
  },
  {
   "cell_type": "code",
   "execution_count": 3,
   "id": "e0583554-2278-440a-b67d-b1a4d8a3ad88",
   "metadata": {},
   "outputs": [],
   "source": [
    "# Read csv file\n",
    "## Dataset name: countries.csv\n",
    "## URL: https://developers.google.com/public-data/docs/canonical/countries_csv\n",
    "global_lat_long_df = pd.read_csv(project_dir + '/data/raw_data/global/countries.csv', encoding='unicode_escape')"
   ]
  },
  {
   "cell_type": "code",
   "execution_count": 4,
   "id": "3a40fc8a-f6ad-4659-a5b1-b091fb5490c7",
   "metadata": {},
   "outputs": [],
   "source": [
    "# Basic Information of Data Set"
   ]
  },
  {
   "cell_type": "code",
   "execution_count": 5,
   "id": "d5a8a69d-6771-4f8a-9942-6da2b34d4790",
   "metadata": {},
   "outputs": [
    {
     "data": {
      "text/html": [
       "<div>\n",
       "<style scoped>\n",
       "    .dataframe tbody tr th:only-of-type {\n",
       "        vertical-align: middle;\n",
       "    }\n",
       "\n",
       "    .dataframe tbody tr th {\n",
       "        vertical-align: top;\n",
       "    }\n",
       "\n",
       "    .dataframe thead th {\n",
       "        text-align: right;\n",
       "    }\n",
       "</style>\n",
       "<table border=\"1\" class=\"dataframe\">\n",
       "  <thead>\n",
       "    <tr style=\"text-align: right;\">\n",
       "      <th></th>\n",
       "      <th>country</th>\n",
       "      <th>latitude</th>\n",
       "      <th>longitude</th>\n",
       "      <th>name</th>\n",
       "    </tr>\n",
       "  </thead>\n",
       "  <tbody>\n",
       "    <tr>\n",
       "      <th>0</th>\n",
       "      <td>AD</td>\n",
       "      <td>42.546245</td>\n",
       "      <td>1.601554</td>\n",
       "      <td>Andorra</td>\n",
       "    </tr>\n",
       "    <tr>\n",
       "      <th>1</th>\n",
       "      <td>AE</td>\n",
       "      <td>23.424076</td>\n",
       "      <td>53.847818</td>\n",
       "      <td>United Arab Emirates</td>\n",
       "    </tr>\n",
       "    <tr>\n",
       "      <th>2</th>\n",
       "      <td>AF</td>\n",
       "      <td>33.939110</td>\n",
       "      <td>67.709953</td>\n",
       "      <td>Afghanistan</td>\n",
       "    </tr>\n",
       "    <tr>\n",
       "      <th>3</th>\n",
       "      <td>AG</td>\n",
       "      <td>17.060816</td>\n",
       "      <td>-61.796428</td>\n",
       "      <td>Antigua and Barbuda</td>\n",
       "    </tr>\n",
       "    <tr>\n",
       "      <th>4</th>\n",
       "      <td>AI</td>\n",
       "      <td>18.220554</td>\n",
       "      <td>-63.068615</td>\n",
       "      <td>Anguilla</td>\n",
       "    </tr>\n",
       "    <tr>\n",
       "      <th>5</th>\n",
       "      <td>AL</td>\n",
       "      <td>41.153332</td>\n",
       "      <td>20.168331</td>\n",
       "      <td>Albania</td>\n",
       "    </tr>\n",
       "    <tr>\n",
       "      <th>6</th>\n",
       "      <td>AM</td>\n",
       "      <td>40.069099</td>\n",
       "      <td>45.038189</td>\n",
       "      <td>Armenia</td>\n",
       "    </tr>\n",
       "    <tr>\n",
       "      <th>7</th>\n",
       "      <td>AN</td>\n",
       "      <td>12.226079</td>\n",
       "      <td>-69.060087</td>\n",
       "      <td>Netherlands Antilles</td>\n",
       "    </tr>\n",
       "    <tr>\n",
       "      <th>8</th>\n",
       "      <td>AO</td>\n",
       "      <td>-11.202692</td>\n",
       "      <td>17.873887</td>\n",
       "      <td>Angola</td>\n",
       "    </tr>\n",
       "    <tr>\n",
       "      <th>9</th>\n",
       "      <td>AQ</td>\n",
       "      <td>-75.250973</td>\n",
       "      <td>-0.071389</td>\n",
       "      <td>Antarctica</td>\n",
       "    </tr>\n",
       "  </tbody>\n",
       "</table>\n",
       "</div>"
      ],
      "text/plain": [
       "  country   latitude  longitude                  name\n",
       "0      AD  42.546245   1.601554               Andorra\n",
       "1      AE  23.424076  53.847818  United Arab Emirates\n",
       "2      AF  33.939110  67.709953           Afghanistan\n",
       "3      AG  17.060816 -61.796428   Antigua and Barbuda\n",
       "4      AI  18.220554 -63.068615              Anguilla\n",
       "5      AL  41.153332  20.168331               Albania\n",
       "6      AM  40.069099  45.038189               Armenia\n",
       "7      AN  12.226079 -69.060087  Netherlands Antilles\n",
       "8      AO -11.202692  17.873887                Angola\n",
       "9      AQ -75.250973  -0.071389            Antarctica"
      ]
     },
     "execution_count": 5,
     "metadata": {},
     "output_type": "execute_result"
    }
   ],
   "source": [
    "# Print first 10 records\n",
    "global_lat_long_df.head(10)"
   ]
  },
  {
   "cell_type": "code",
   "execution_count": 6,
   "id": "3b5698a4-f2c7-4dbf-bf86-0eb3134235dc",
   "metadata": {},
   "outputs": [
    {
     "name": "stdout",
     "output_type": "stream",
     "text": [
      "<class 'pandas.core.frame.DataFrame'>\n",
      "RangeIndex: 245 entries, 0 to 244\n",
      "Data columns (total 4 columns):\n",
      " #   Column     Non-Null Count  Dtype  \n",
      "---  ------     --------------  -----  \n",
      " 0   country    244 non-null    object \n",
      " 1   latitude   244 non-null    float64\n",
      " 2   longitude  244 non-null    float64\n",
      " 3   name       245 non-null    object \n",
      "dtypes: float64(2), object(2)\n",
      "memory usage: 7.8+ KB\n"
     ]
    }
   ],
   "source": [
    "# Basic information of dataframe\n",
    "global_lat_long_df.info()"
   ]
  },
  {
   "cell_type": "markdown",
   "id": "cadf915e-198d-4d8a-a578-49cebc45b730",
   "metadata": {},
   "source": [
    "There are 245 records in this csv file. <br>\n",
    "Each of the columns 'country', 'latitude' and 'longitude' has 1 NULL value."
   ]
  },
  {
   "cell_type": "markdown",
   "id": "d4d23eac-4f0e-49fb-a483-f30dd842c888",
   "metadata": {},
   "source": [
    "# Exploratory Data Analysis (EDA)"
   ]
  },
  {
   "cell_type": "markdown",
   "id": "bd51d1a3-a898-4485-aaaf-b9a7f6ec90e5",
   "metadata": {},
   "source": [
    "## Univariate Analysis"
   ]
  },
  {
   "cell_type": "markdown",
   "id": "6476fcae-807c-48d2-a5da-e36088b99499",
   "metadata": {},
   "source": [
    "## Field - country"
   ]
  },
  {
   "cell_type": "code",
   "execution_count": 7,
   "id": "5836b326-b438-4f17-86c8-d4b745683aa6",
   "metadata": {},
   "outputs": [
    {
     "name": "stdout",
     "output_type": "stream",
     "text": [
      "The record with missing value in country column is:\n"
     ]
    },
    {
     "data": {
      "text/html": [
       "<div>\n",
       "<style scoped>\n",
       "    .dataframe tbody tr th:only-of-type {\n",
       "        vertical-align: middle;\n",
       "    }\n",
       "\n",
       "    .dataframe tbody tr th {\n",
       "        vertical-align: top;\n",
       "    }\n",
       "\n",
       "    .dataframe thead th {\n",
       "        text-align: right;\n",
       "    }\n",
       "</style>\n",
       "<table border=\"1\" class=\"dataframe\">\n",
       "  <thead>\n",
       "    <tr style=\"text-align: right;\">\n",
       "      <th></th>\n",
       "      <th>country</th>\n",
       "      <th>latitude</th>\n",
       "      <th>longitude</th>\n",
       "      <th>name</th>\n",
       "    </tr>\n",
       "  </thead>\n",
       "  <tbody>\n",
       "    <tr>\n",
       "      <th>156</th>\n",
       "      <td>NaN</td>\n",
       "      <td>-22.95764</td>\n",
       "      <td>18.49041</td>\n",
       "      <td>Namibia</td>\n",
       "    </tr>\n",
       "  </tbody>\n",
       "</table>\n",
       "</div>"
      ],
      "text/plain": [
       "    country  latitude  longitude     name\n",
       "156     NaN -22.95764   18.49041  Namibia"
      ]
     },
     "execution_count": 7,
     "metadata": {},
     "output_type": "execute_result"
    }
   ],
   "source": [
    "print('The record with missing value in country column is:')\n",
    "global_lat_long_df[global_lat_long_df['country'].isna()]"
   ]
  },
  {
   "cell_type": "markdown",
   "id": "57cc9e22-2337-44f8-b005-fe9f1731a2e1",
   "metadata": {},
   "source": [
    "The record with missing value in the 'country' column are associated with the country Namibia. <br>\n",
    "It is reasonable to conclude that the country code for Namibia is NA and that it was mistakenly identified as a missing value. <br>\n",
    "Thus, we should replace the missing value in 'country' column with the string 'NA'."
   ]
  },
  {
   "cell_type": "code",
   "execution_count": 8,
   "id": "b75d9eec-85e4-4348-aefd-a451b289190a",
   "metadata": {},
   "outputs": [],
   "source": [
    "# Correct the missing values in Country code column\n",
    "global_lat_long_df['country'] = global_lat_long_df['country'].fillna('NA')"
   ]
  },
  {
   "cell_type": "code",
   "execution_count": 9,
   "id": "f7e655d4-de60-463c-a3a8-3c6e8371709a",
   "metadata": {},
   "outputs": [
    {
     "name": "stdout",
     "output_type": "stream",
     "text": [
      "All values are distinct: True\n"
     ]
    }
   ],
   "source": [
    "print('All values are distinct:', global_lat_long_df['country'].nunique() == global_lat_long_df.shape[0])"
   ]
  },
  {
   "cell_type": "code",
   "execution_count": 10,
   "id": "8227f533-d354-4af4-a784-335867a4ad97",
   "metadata": {},
   "outputs": [
    {
     "name": "stdout",
     "output_type": "stream",
     "text": [
      "All country codes are having length 2.\n"
     ]
    }
   ],
   "source": [
    "min_len, max_len = global_lat_long_df['country'].str.len().agg(['min', 'max']).to_list()\n",
    "if min_len != max_len:\n",
    "    print(f'The length of country codes ranges from {min_len} to {max_len}.')\n",
    "else:\n",
    "    print(f'All country codes are having length {min_len}.')"
   ]
  },
  {
   "cell_type": "markdown",
   "id": "6e6ee67a-8627-4aa4-975d-6e1cae9e6d92",
   "metadata": {},
   "source": [
    "## Fields - latitude and longitude"
   ]
  },
  {
   "cell_type": "code",
   "execution_count": 11,
   "id": "79ef9592-a9c8-4b0c-9b72-bdd0114535d7",
   "metadata": {},
   "outputs": [
    {
     "name": "stdout",
     "output_type": "stream",
     "text": [
      "The record with missing value in latitude column is:\n"
     ]
    },
    {
     "data": {
      "text/html": [
       "<div>\n",
       "<style scoped>\n",
       "    .dataframe tbody tr th:only-of-type {\n",
       "        vertical-align: middle;\n",
       "    }\n",
       "\n",
       "    .dataframe tbody tr th {\n",
       "        vertical-align: top;\n",
       "    }\n",
       "\n",
       "    .dataframe thead th {\n",
       "        text-align: right;\n",
       "    }\n",
       "</style>\n",
       "<table border=\"1\" class=\"dataframe\">\n",
       "  <thead>\n",
       "    <tr style=\"text-align: right;\">\n",
       "      <th></th>\n",
       "      <th>country</th>\n",
       "      <th>latitude</th>\n",
       "      <th>longitude</th>\n",
       "      <th>name</th>\n",
       "    </tr>\n",
       "  </thead>\n",
       "  <tbody>\n",
       "    <tr>\n",
       "      <th>226</th>\n",
       "      <td>UM</td>\n",
       "      <td>NaN</td>\n",
       "      <td>NaN</td>\n",
       "      <td>U.S. Minor Outlying Islands</td>\n",
       "    </tr>\n",
       "  </tbody>\n",
       "</table>\n",
       "</div>"
      ],
      "text/plain": [
       "    country  latitude  longitude                         name\n",
       "226      UM       NaN        NaN  U.S. Minor Outlying Islands"
      ]
     },
     "execution_count": 11,
     "metadata": {},
     "output_type": "execute_result"
    }
   ],
   "source": [
    "print('The record with missing value in latitude column is:')\n",
    "global_lat_long_df[global_lat_long_df['latitude'].isna()]"
   ]
  },
  {
   "cell_type": "markdown",
   "id": "89f80ca5-6d6f-477f-8f78-d9e8b67a6f8d",
   "metadata": {},
   "source": [
    "The minor outlying islands and groups of islands comprise eight United States insular areas <br>\n",
    "in the Pacific Ocean (Baker Island, Howland Island, Jarvis Island, Johnston Atoll, Kingman Reef, Midway Atoll, Palmyra Atoll, and Wake Island) and <br>\n",
    "one in the Caribbean Sea (Navassa Island). <br>\n",
    " <br>\n",
    " Thus, there is no latitude and longitude assigned to UM."
   ]
  },
  {
   "cell_type": "code",
   "execution_count": 12,
   "id": "a5ac747a-f8f0-49e6-a7b5-ed63ea7f3994",
   "metadata": {},
   "outputs": [
    {
     "name": "stdout",
     "output_type": "stream",
     "text": [
      "The latitude range from -75.25 to 77.55.\n",
      "The longitude range from -177.16 to 179.41.\n"
     ]
    }
   ],
   "source": [
    "# Range of latitude\n",
    "min_lat, max_lat = global_lat_long_df['latitude'].agg(['min', 'max']).to_list()\n",
    "print(f'The latitude range from {min_lat:.2f} to {max_lat:.2f}.')\n",
    "\n",
    "# Range of longitude\n",
    "min_lat, max_lat = global_lat_long_df['longitude'].agg(['min', 'max']).to_list()\n",
    "print(f'The longitude range from {min_lat:.2f} to {max_lat:.2f}.')"
   ]
  },
  {
   "cell_type": "markdown",
   "id": "f8f18335-277d-4133-83fb-6c515f057437",
   "metadata": {},
   "source": [
    "## Missing Value Analysis"
   ]
  },
  {
   "cell_type": "code",
   "execution_count": 13,
   "id": "0e7f02fd-ddfb-460a-a1e2-d668851b16a2",
   "metadata": {},
   "outputs": [
    {
     "name": "stdout",
     "output_type": "stream",
     "text": [
      "The following columns have missing values:\n",
      "latitude: 1 (0.4%)\n",
      "longitude: 1 (0.4%)\n"
     ]
    }
   ],
   "source": [
    "# Number of missing values in each column\n",
    "covid_module.print_missing_val_count(global_lat_long_df)"
   ]
  },
  {
   "cell_type": "markdown",
   "id": "ddb877a5-87c1-43cc-87ea-c5cab19c6999",
   "metadata": {},
   "source": [
    "As shown in univariate analysis,\n",
    "The 'NA' value in the column 'country' is not a missing value. It has been replaced with the string 'NA'.\n",
    "The missing values from columns latitude and longitude are both from the record of count 'UM' (U.S. Minor Outlying Islands)."
   ]
  },
  {
   "cell_type": "code",
   "execution_count": null,
   "id": "9cff6859-bfc7-423c-a258-9e9178df06dd",
   "metadata": {},
   "outputs": [],
   "source": []
  },
  {
   "cell_type": "code",
   "execution_count": null,
   "id": "a241cbba-a1f1-409d-ac10-4a41e2cb0b9a",
   "metadata": {},
   "outputs": [],
   "source": []
  }
 ],
 "metadata": {
  "kernelspec": {
   "display_name": "Python 3 (ipykernel)",
   "language": "python",
   "name": "python3"
  },
  "language_info": {
   "codemirror_mode": {
    "name": "ipython",
    "version": 3
   },
   "file_extension": ".py",
   "mimetype": "text/x-python",
   "name": "python",
   "nbconvert_exporter": "python",
   "pygments_lexer": "ipython3",
   "version": "3.11.4"
  }
 },
 "nbformat": 4,
 "nbformat_minor": 5
}
