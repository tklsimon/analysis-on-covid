{
 "cells": [
  {
   "cell_type": "markdown",
   "id": "9390ca45-f040-4b42-86b6-6be4e1f7d3a3",
   "metadata": {},
   "source": [
    "# The University of Hong Kong\n",
    "## DASC7600 Data Science Project 2024\n",
    "## EDA - HK - Policy"
   ]
  },
  {
   "cell_type": "markdown",
   "id": "5f0aecc2-d475-4673-9ef6-51914a7cd493",
   "metadata": {},
   "source": [
    "# Import Modules and Settings"
   ]
  },
  {
   "cell_type": "code",
   "execution_count": 1,
   "id": "b5c47cce-6417-44ed-ac67-a4b1266f3647",
   "metadata": {},
   "outputs": [],
   "source": [
    "import os\n",
    "import sys\n",
    "\n",
    "# Add project directory to system path\n",
    "project_dir = os.path.dirname(os.getcwd())\n",
    "sys.path.append(project_dir)"
   ]
  },
  {
   "cell_type": "code",
   "execution_count": 2,
   "id": "c9d5b5f1-42a8-4766-a1dd-4c95929527cc",
   "metadata": {},
   "outputs": [],
   "source": [
    "import matplotlib.pyplot as plt\n",
    "import pandas as pd\n",
    "import warnings\n",
    "\n",
    "import covid_module\n",
    "\n",
    "# Settings\n",
    "pd.set_option('display.max_columns', None)\n",
    "warnings.filterwarnings('ignore')\n",
    "\n",
    "%matplotlib inline"
   ]
  },
  {
   "cell_type": "markdown",
   "id": "1d86141b-661c-41f3-aa84-5a84557aac6c",
   "metadata": {},
   "source": [
    "# Load Data"
   ]
  },
  {
   "cell_type": "code",
   "execution_count": 3,
   "id": "0646e215-7b33-447b-8094-4743f36e581e",
   "metadata": {},
   "outputs": [],
   "source": [
    "# Read csv file\n",
    "## The dataset is manually prepared based on the following websites.\n",
    "## Therefore, there is no data pre-processing step, and the csv file is stored in the 'std_data' folder.\n",
    "## Website name: Wikipedia\n",
    "## URL: https://zh.wikipedia.org/wiki/2019冠狀病毒病香港疫情相關安排#管制商業活動及群組聚集\n",
    "## Website name: news.gov.hk\n",
    "## URL: https://www.news.gov.hk/eng/categories/covid19/index.html \n",
    "covid_hk_policy_std = pd.read_csv(project_dir + '/data/std_data/hk/covid_hk_policy_std.csv')"
   ]
  },
  {
   "cell_type": "markdown",
   "id": "aaf0baa6-1bed-4f1f-abd5-ca679b0961e1",
   "metadata": {},
   "source": [
    "# Basic Information of Data Set"
   ]
  },
  {
   "cell_type": "code",
   "execution_count": 4,
   "id": "a7bd84ec-53a5-44d9-8c42-e7722269445f",
   "metadata": {},
   "outputs": [
    {
     "data": {
      "text/html": [
       "<div>\n",
       "<style scoped>\n",
       "    .dataframe tbody tr th:only-of-type {\n",
       "        vertical-align: middle;\n",
       "    }\n",
       "\n",
       "    .dataframe tbody tr th {\n",
       "        vertical-align: top;\n",
       "    }\n",
       "\n",
       "    .dataframe thead th {\n",
       "        text-align: right;\n",
       "    }\n",
       "</style>\n",
       "<table border=\"1\" class=\"dataframe\">\n",
       "  <thead>\n",
       "    <tr style=\"text-align: right;\">\n",
       "      <th></th>\n",
       "      <th>report_date</th>\n",
       "      <th>school</th>\n",
       "      <th>no_hong_kong_p</th>\n",
       "      <th>hong_kong_group</th>\n",
       "      <th>hong_kong_all</th>\n",
       "      <th>home_other_14</th>\n",
       "      <th>home_21</th>\n",
       "      <th>home_14</th>\n",
       "      <th>home_7</th>\n",
       "      <th>home_3</th>\n",
       "      <th>type_1_close</th>\n",
       "      <th>type_2_close</th>\n",
       "      <th>type_3_close</th>\n",
       "      <th>people2</th>\n",
       "      <th>people4</th>\n",
       "      <th>people8</th>\n",
       "      <th>0500_1800</th>\n",
       "      <th>0500_2200</th>\n",
       "      <th>0500_0200</th>\n",
       "    </tr>\n",
       "  </thead>\n",
       "  <tbody>\n",
       "    <tr>\n",
       "      <th>0</th>\n",
       "      <td>1/1/2020</td>\n",
       "      <td>0.0</td>\n",
       "      <td>0</td>\n",
       "      <td>0</td>\n",
       "      <td>0</td>\n",
       "      <td>0</td>\n",
       "      <td>0</td>\n",
       "      <td>0</td>\n",
       "      <td>0</td>\n",
       "      <td>0</td>\n",
       "      <td>0</td>\n",
       "      <td>0</td>\n",
       "      <td>0</td>\n",
       "      <td>0</td>\n",
       "      <td>0</td>\n",
       "      <td>0</td>\n",
       "      <td>0</td>\n",
       "      <td>0</td>\n",
       "      <td>0</td>\n",
       "    </tr>\n",
       "    <tr>\n",
       "      <th>1</th>\n",
       "      <td>2/1/2020</td>\n",
       "      <td>0.0</td>\n",
       "      <td>0</td>\n",
       "      <td>0</td>\n",
       "      <td>0</td>\n",
       "      <td>0</td>\n",
       "      <td>0</td>\n",
       "      <td>0</td>\n",
       "      <td>0</td>\n",
       "      <td>0</td>\n",
       "      <td>0</td>\n",
       "      <td>0</td>\n",
       "      <td>0</td>\n",
       "      <td>0</td>\n",
       "      <td>0</td>\n",
       "      <td>0</td>\n",
       "      <td>0</td>\n",
       "      <td>0</td>\n",
       "      <td>0</td>\n",
       "    </tr>\n",
       "    <tr>\n",
       "      <th>2</th>\n",
       "      <td>3/1/2020</td>\n",
       "      <td>0.0</td>\n",
       "      <td>0</td>\n",
       "      <td>0</td>\n",
       "      <td>0</td>\n",
       "      <td>0</td>\n",
       "      <td>0</td>\n",
       "      <td>0</td>\n",
       "      <td>0</td>\n",
       "      <td>0</td>\n",
       "      <td>0</td>\n",
       "      <td>0</td>\n",
       "      <td>0</td>\n",
       "      <td>0</td>\n",
       "      <td>0</td>\n",
       "      <td>0</td>\n",
       "      <td>0</td>\n",
       "      <td>0</td>\n",
       "      <td>0</td>\n",
       "    </tr>\n",
       "    <tr>\n",
       "      <th>3</th>\n",
       "      <td>4/1/2020</td>\n",
       "      <td>0.0</td>\n",
       "      <td>0</td>\n",
       "      <td>0</td>\n",
       "      <td>0</td>\n",
       "      <td>0</td>\n",
       "      <td>0</td>\n",
       "      <td>0</td>\n",
       "      <td>0</td>\n",
       "      <td>0</td>\n",
       "      <td>0</td>\n",
       "      <td>0</td>\n",
       "      <td>0</td>\n",
       "      <td>0</td>\n",
       "      <td>0</td>\n",
       "      <td>0</td>\n",
       "      <td>0</td>\n",
       "      <td>0</td>\n",
       "      <td>0</td>\n",
       "    </tr>\n",
       "    <tr>\n",
       "      <th>4</th>\n",
       "      <td>5/1/2020</td>\n",
       "      <td>0.0</td>\n",
       "      <td>0</td>\n",
       "      <td>0</td>\n",
       "      <td>0</td>\n",
       "      <td>0</td>\n",
       "      <td>0</td>\n",
       "      <td>0</td>\n",
       "      <td>0</td>\n",
       "      <td>0</td>\n",
       "      <td>0</td>\n",
       "      <td>0</td>\n",
       "      <td>0</td>\n",
       "      <td>0</td>\n",
       "      <td>0</td>\n",
       "      <td>0</td>\n",
       "      <td>0</td>\n",
       "      <td>0</td>\n",
       "      <td>0</td>\n",
       "    </tr>\n",
       "  </tbody>\n",
       "</table>\n",
       "</div>"
      ],
      "text/plain": [
       "  report_date  school  no_hong_kong_p  hong_kong_group  hong_kong_all  \\\n",
       "0    1/1/2020     0.0               0                0              0   \n",
       "1    2/1/2020     0.0               0                0              0   \n",
       "2    3/1/2020     0.0               0                0              0   \n",
       "3    4/1/2020     0.0               0                0              0   \n",
       "4    5/1/2020     0.0               0                0              0   \n",
       "\n",
       "   home_other_14  home_21  home_14  home_7  home_3  type_1_close  \\\n",
       "0              0        0        0       0       0             0   \n",
       "1              0        0        0       0       0             0   \n",
       "2              0        0        0       0       0             0   \n",
       "3              0        0        0       0       0             0   \n",
       "4              0        0        0       0       0             0   \n",
       "\n",
       "   type_2_close  type_3_close  people2  people4  people8  0500_1800  \\\n",
       "0             0             0        0        0        0          0   \n",
       "1             0             0        0        0        0          0   \n",
       "2             0             0        0        0        0          0   \n",
       "3             0             0        0        0        0          0   \n",
       "4             0             0        0        0        0          0   \n",
       "\n",
       "   0500_2200  0500_0200  \n",
       "0          0          0  \n",
       "1          0          0  \n",
       "2          0          0  \n",
       "3          0          0  \n",
       "4          0          0  "
      ]
     },
     "execution_count": 4,
     "metadata": {},
     "output_type": "execute_result"
    }
   ],
   "source": [
    "# Print first 5 records\n",
    "covid_hk_policy_std.head(5)"
   ]
  },
  {
   "cell_type": "code",
   "execution_count": 5,
   "id": "568de14c-ee95-45ef-984e-10c367fb9d90",
   "metadata": {},
   "outputs": [
    {
     "name": "stdout",
     "output_type": "stream",
     "text": [
      "<class 'pandas.core.frame.DataFrame'>\n",
      "RangeIndex: 1155 entries, 0 to 1154\n",
      "Data columns (total 19 columns):\n",
      " #   Column           Non-Null Count  Dtype  \n",
      "---  ------           --------------  -----  \n",
      " 0   report_date      1155 non-null   object \n",
      " 1   school           1155 non-null   float64\n",
      " 2   no_hong_kong_p   1155 non-null   int64  \n",
      " 3   hong_kong_group  1155 non-null   int64  \n",
      " 4   hong_kong_all    1155 non-null   int64  \n",
      " 5   home_other_14    1155 non-null   int64  \n",
      " 6   home_21          1155 non-null   int64  \n",
      " 7   home_14          1155 non-null   int64  \n",
      " 8   home_7           1155 non-null   int64  \n",
      " 9   home_3           1155 non-null   int64  \n",
      " 10  type_1_close     1155 non-null   int64  \n",
      " 11  type_2_close     1155 non-null   int64  \n",
      " 12  type_3_close     1155 non-null   int64  \n",
      " 13  people2          1155 non-null   int64  \n",
      " 14  people4          1155 non-null   int64  \n",
      " 15  people8          1155 non-null   int64  \n",
      " 16  0500_1800        1155 non-null   int64  \n",
      " 17  0500_2200        1155 non-null   int64  \n",
      " 18  0500_0200        1155 non-null   int64  \n",
      "dtypes: float64(1), int64(17), object(1)\n",
      "memory usage: 171.6+ KB\n"
     ]
    }
   ],
   "source": [
    "# Basic information of dataframe\n",
    "covid_hk_policy_std.info()"
   ]
  },
  {
   "cell_type": "markdown",
   "id": "f34ff067-c9ce-4bad-b115-83b5c38e01a6",
   "metadata": {},
   "source": [
    "# Modify Data Types"
   ]
  },
  {
   "cell_type": "code",
   "execution_count": 6,
   "id": "610449d0-0431-47ce-af77-b6d1733b7b0f",
   "metadata": {},
   "outputs": [],
   "source": [
    "# Modify data type for datatime column\n",
    "covid_hk_policy_std['report_date'] = pd.to_datetime(covid_hk_policy_std['report_date'], format='%d/%m/%Y')"
   ]
  },
  {
   "cell_type": "markdown",
   "id": "ee2ee9b8-d870-4b91-a98b-51e3e8238ffa",
   "metadata": {},
   "source": [
    "# Exploratory Data Analysis (EDA)"
   ]
  },
  {
   "cell_type": "markdown",
   "id": "2140c873-79b0-4e0d-94de-f5918e94a2ad",
   "metadata": {},
   "source": [
    "## Univariate Analysis"
   ]
  },
  {
   "cell_type": "markdown",
   "id": "4374adbe-5389-4284-8d00-d808aabc834c",
   "metadata": {},
   "source": [
    "## Field - report_date"
   ]
  },
  {
   "cell_type": "code",
   "execution_count": 7,
   "id": "8399a57f-7187-44f2-be6d-9d1b4c17596b",
   "metadata": {},
   "outputs": [
    {
     "name": "stdout",
     "output_type": "stream",
     "text": [
      "Date range of dateset:\n",
      "Min date: 2020-01-01\n",
      "Max date: 2023-02-28\n"
     ]
    }
   ],
   "source": [
    "# Report date range of data set\n",
    "min_date, max_date = covid_hk_policy_std['report_date'].agg(['min', 'max']).astype('str').to_list()\n",
    "print('Date range of dateset:')\n",
    "print(f'Min date: {min_date}')\n",
    "print(f'Max date: {max_date}')"
   ]
  },
  {
   "cell_type": "code",
   "execution_count": 8,
   "id": "f9034a6c-591f-43e0-b285-b0570ec1fe6a",
   "metadata": {},
   "outputs": [
    {
     "name": "stdout",
     "output_type": "stream",
     "text": [
      "There is no missing date in the dataset.\n"
     ]
    }
   ],
   "source": [
    "# Dates which are not included in the dataset\n",
    "date_df = covid_hk_policy_std[['report_date']].set_index('report_date')\n",
    "missing_date_index = pd.date_range(start=min_date, end=max_date).difference(date_df.index).astype('str')\n",
    "\n",
    "if len(missing_date_index) == 0:\n",
    "    print('There is no missing date in the dataset.')\n",
    "else:\n",
    "    print(f'There are missing dates in the dataset, between {missing_date_index.min()} and {missing_date_index.max()}.')"
   ]
  },
  {
   "cell_type": "markdown",
   "id": "22cbd2f7-4eaf-4a42-9e64-d6cffb1383be",
   "metadata": {},
   "source": [
    "## Fields - All columns (except Date)"
   ]
  },
  {
   "cell_type": "code",
   "execution_count": 9,
   "id": "b95d32e2-277e-4bff-95d8-47bce4ca170a",
   "metadata": {},
   "outputs": [
    {
     "name": "stdout",
     "output_type": "stream",
     "text": [
      "Distinct values in each column\n",
      "school: 0.0, 1.0, 1.5\n",
      "no_hong_kong_p: 0, 1\n",
      "hong_kong_group: 0, 1\n",
      "hong_kong_all: 0, 1\n",
      "home_other_14: 0, 1\n",
      "home_21: 0, 1\n",
      "home_14: 0, 1\n",
      "home_7: 0, 1\n",
      "home_3: 0, 1\n",
      "type_1_close: 0, 1\n",
      "type_2_close: 0, 1\n",
      "type_3_close: 0, 1\n",
      "people2: 0, 1\n",
      "people4: 0, 1\n",
      "people8: 0, 1\n",
      "0500_1800: 0, 1\n",
      "0500_2200: 0, 1\n",
      "0500_0200: 0, 1\n"
     ]
    }
   ],
   "source": [
    "# Distinct values in country code column\n",
    "print('Distinct values in each column')\n",
    "for col in covid_hk_policy_std.columns:\n",
    "    if col != 'report_date':\n",
    "        print(f'{col}: {str(covid_hk_policy_std[col].drop_duplicates().to_list())[1:-1]}')"
   ]
  },
  {
   "cell_type": "code",
   "execution_count": 10,
   "id": "74789cdb-6664-4ad0-a596-d16bbcaac31d",
   "metadata": {},
   "outputs": [],
   "source": [
    "# For each date, there are at most 1 non-zreo value in these 3 columns 0500_1800, 0500_2200, 0500_0200 etc>"
   ]
  },
  {
   "cell_type": "markdown",
   "id": "79e42145-ea87-46bd-8ad4-8d13b66da0ab",
   "metadata": {},
   "source": [
    "The descriptions of the columns and the meanings of their values are listed below: <br>\n",
    "school: 0.0, 1.0, 1.5 <br>\n",
    "no_hong_kong_p: 0, 1 <br>\n",
    "hong_kong_group: 0, 1 <br>\n",
    "hong_kong_all: 0, 1 <br>\n",
    "home_other_14: 0, 1 <br>\n",
    "home_21: 0, 1 <br>\n",
    "home_14: 0, 1 <br>\n",
    "home_7: 0, 1 <br>\n",
    "home_3: 0, 1 <br>\n",
    "type_1_close: 0, 1 <br>\n",
    "type_2_close: 0, 1 <br>\n",
    "type_3_close: 0, 1 <br>\n",
    "people2: 0, 1 <br>\n",
    "people4: 0, 1 <br>\n",
    "people8: 0, 1 <br>\n",
    "0500_1800: 0, 1 <br>\n",
    "0500_2200: 0, 1 <br>\n",
    "0500_0200: 0, 1 <br>"
   ]
  },
  {
   "cell_type": "markdown",
   "id": "ed204675-26eb-42cf-b5b2-b5e18d0d7342",
   "metadata": {},
   "source": [
    "## Missing Value Analysis"
   ]
  },
  {
   "cell_type": "code",
   "execution_count": 11,
   "id": "1c0acadb-2380-467f-ae39-bc25cef03fd6",
   "metadata": {},
   "outputs": [
    {
     "name": "stdout",
     "output_type": "stream",
     "text": [
      "This dataframe does not have missing values.\n"
     ]
    }
   ],
   "source": [
    "# Number of missing values in each column\n",
    "covid_module.print_missing_val_count(covid_hk_policy_std)"
   ]
  },
  {
   "cell_type": "code",
   "execution_count": null,
   "id": "2bba8d4f-d958-4dea-877a-c61f90ad53c1",
   "metadata": {},
   "outputs": [],
   "source": []
  },
  {
   "cell_type": "code",
   "execution_count": null,
   "id": "d7a4aee2-0825-455f-a733-73a16544c29e",
   "metadata": {},
   "outputs": [],
   "source": []
  }
 ],
 "metadata": {
  "kernelspec": {
   "display_name": "Python 3 (ipykernel)",
   "language": "python",
   "name": "python3"
  },
  "language_info": {
   "codemirror_mode": {
    "name": "ipython",
    "version": 3
   },
   "file_extension": ".py",
   "mimetype": "text/x-python",
   "name": "python",
   "nbconvert_exporter": "python",
   "pygments_lexer": "ipython3",
   "version": "3.11.4"
  }
 },
 "nbformat": 4,
 "nbformat_minor": 5
}
