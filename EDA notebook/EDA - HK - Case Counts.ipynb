{
 "cells": [
  {
   "cell_type": "markdown",
   "id": "9390ca45-f040-4b42-86b6-6be4e1f7d3a3",
   "metadata": {},
   "source": [
    "# The University of Hong Kong\n",
    "## DASC7600 Data Science Project 2024\n",
    "## EDA - HK - Case Counts"
   ]
  },
  {
   "cell_type": "markdown",
   "id": "5f0aecc2-d475-4673-9ef6-51914a7cd493",
   "metadata": {},
   "source": [
    "# Import Modules and Settings"
   ]
  },
  {
   "cell_type": "code",
   "execution_count": 1,
   "id": "b5c47cce-6417-44ed-ac67-a4b1266f3647",
   "metadata": {},
   "outputs": [],
   "source": [
    "import os\n",
    "import sys\n",
    "\n",
    "# Add project directory to system path\n",
    "project_dir = os.path.dirname(os.getcwd())\n",
    "sys.path.append(project_dir)"
   ]
  },
  {
   "cell_type": "code",
   "execution_count": 2,
   "id": "c9d5b5f1-42a8-4766-a1dd-4c95929527cc",
   "metadata": {},
   "outputs": [],
   "source": [
    "import matplotlib.pyplot as plt\n",
    "import pandas as pd\n",
    "import warnings\n",
    "\n",
    "import covid_module\n",
    "\n",
    "# Settings\n",
    "pd.set_option('display.max_columns', None)\n",
    "warnings.filterwarnings('ignore')\n",
    "\n",
    "%matplotlib inline"
   ]
  },
  {
   "cell_type": "markdown",
   "id": "1d86141b-661c-41f3-aa84-5a84557aac6c",
   "metadata": {},
   "source": [
    "# Load Data"
   ]
  },
  {
   "cell_type": "code",
   "execution_count": 3,
   "id": "0646e215-7b33-447b-8094-4743f36e581e",
   "metadata": {},
   "outputs": [],
   "source": [
    "# Read csv file\n",
    "## Dataset name: Data in Coronavirus Disease (COVID-19)\n",
    "## Data resource name: Latest situation of reported cases of COVID-19 in Hong Kong (English)\n",
    "## URL: https://data.gov.hk/en-data/dataset/hk-dh-chpsebcddr-novel-infectious-agent/resource/9252c845-3aea-4ea7-abae-b385916106b3\n",
    "covid_hk_case_count_df = pd.read_csv(project_dir + '/data/raw_data/hk/latest_situation_of_reported_cases_covid_19_eng.csv')"
   ]
  },
  {
   "cell_type": "markdown",
   "id": "aaf0baa6-1bed-4f1f-abd5-ca679b0961e1",
   "metadata": {},
   "source": [
    "# Basic Information of Data Set"
   ]
  },
  {
   "cell_type": "code",
   "execution_count": 4,
   "id": "a7bd84ec-53a5-44d9-8c42-e7722269445f",
   "metadata": {},
   "outputs": [
    {
     "data": {
      "text/html": [
       "<div>\n",
       "<style scoped>\n",
       "    .dataframe tbody tr th:only-of-type {\n",
       "        vertical-align: middle;\n",
       "    }\n",
       "\n",
       "    .dataframe tbody tr th {\n",
       "        vertical-align: top;\n",
       "    }\n",
       "\n",
       "    .dataframe thead th {\n",
       "        text-align: right;\n",
       "    }\n",
       "</style>\n",
       "<table border=\"1\" class=\"dataframe\">\n",
       "  <thead>\n",
       "    <tr style=\"text-align: right;\">\n",
       "      <th></th>\n",
       "      <th>As of date</th>\n",
       "      <th>As of time</th>\n",
       "      <th>Number of confirmed cases</th>\n",
       "      <th>Number of ruled out cases</th>\n",
       "      <th>Number of cases still hospitalised for investigation</th>\n",
       "      <th>Number of cases fulfilling the reporting criteria</th>\n",
       "      <th>Number of death cases</th>\n",
       "      <th>Number of discharge cases</th>\n",
       "      <th>Number of probable cases</th>\n",
       "      <th>Number of hospitalised cases in critical condition</th>\n",
       "      <th>Number of cases tested positive for SARS-CoV-2 virus by nucleic acid tests</th>\n",
       "      <th>Number of cases tested positive for SARS-CoV-2 virus by rapid antigen tests</th>\n",
       "      <th>Number of positive nucleic acid test laboratory detections</th>\n",
       "      <th>Number of death cases related to COVID-19</th>\n",
       "    </tr>\n",
       "  </thead>\n",
       "  <tbody>\n",
       "    <tr>\n",
       "      <th>0</th>\n",
       "      <td>08/01/2020</td>\n",
       "      <td>12:00</td>\n",
       "      <td>0.0</td>\n",
       "      <td>21.0</td>\n",
       "      <td>17.0</td>\n",
       "      <td>38.0</td>\n",
       "      <td>0.0</td>\n",
       "      <td>0.0</td>\n",
       "      <td>0.0</td>\n",
       "      <td>NaN</td>\n",
       "      <td>NaN</td>\n",
       "      <td>NaN</td>\n",
       "      <td>NaN</td>\n",
       "      <td>NaN</td>\n",
       "    </tr>\n",
       "    <tr>\n",
       "      <th>1</th>\n",
       "      <td>09/01/2020</td>\n",
       "      <td>12:00</td>\n",
       "      <td>0.0</td>\n",
       "      <td>25.0</td>\n",
       "      <td>23.0</td>\n",
       "      <td>48.0</td>\n",
       "      <td>0.0</td>\n",
       "      <td>0.0</td>\n",
       "      <td>0.0</td>\n",
       "      <td>NaN</td>\n",
       "      <td>NaN</td>\n",
       "      <td>NaN</td>\n",
       "      <td>NaN</td>\n",
       "      <td>NaN</td>\n",
       "    </tr>\n",
       "    <tr>\n",
       "      <th>2</th>\n",
       "      <td>10/01/2020</td>\n",
       "      <td>12:00</td>\n",
       "      <td>0.0</td>\n",
       "      <td>31.0</td>\n",
       "      <td>23.0</td>\n",
       "      <td>54.0</td>\n",
       "      <td>0.0</td>\n",
       "      <td>0.0</td>\n",
       "      <td>0.0</td>\n",
       "      <td>NaN</td>\n",
       "      <td>NaN</td>\n",
       "      <td>NaN</td>\n",
       "      <td>NaN</td>\n",
       "      <td>NaN</td>\n",
       "    </tr>\n",
       "    <tr>\n",
       "      <th>3</th>\n",
       "      <td>11/01/2020</td>\n",
       "      <td>12:00</td>\n",
       "      <td>0.0</td>\n",
       "      <td>46.0</td>\n",
       "      <td>15.0</td>\n",
       "      <td>61.0</td>\n",
       "      <td>0.0</td>\n",
       "      <td>0.0</td>\n",
       "      <td>0.0</td>\n",
       "      <td>NaN</td>\n",
       "      <td>NaN</td>\n",
       "      <td>NaN</td>\n",
       "      <td>NaN</td>\n",
       "      <td>NaN</td>\n",
       "    </tr>\n",
       "    <tr>\n",
       "      <th>4</th>\n",
       "      <td>12/01/2020</td>\n",
       "      <td>12:00</td>\n",
       "      <td>0.0</td>\n",
       "      <td>51.0</td>\n",
       "      <td>16.0</td>\n",
       "      <td>67.0</td>\n",
       "      <td>0.0</td>\n",
       "      <td>0.0</td>\n",
       "      <td>0.0</td>\n",
       "      <td>NaN</td>\n",
       "      <td>NaN</td>\n",
       "      <td>NaN</td>\n",
       "      <td>NaN</td>\n",
       "      <td>NaN</td>\n",
       "    </tr>\n",
       "    <tr>\n",
       "      <th>5</th>\n",
       "      <td>13/01/2020</td>\n",
       "      <td>12:00</td>\n",
       "      <td>0.0</td>\n",
       "      <td>56.0</td>\n",
       "      <td>12.0</td>\n",
       "      <td>68.0</td>\n",
       "      <td>0.0</td>\n",
       "      <td>0.0</td>\n",
       "      <td>0.0</td>\n",
       "      <td>NaN</td>\n",
       "      <td>NaN</td>\n",
       "      <td>NaN</td>\n",
       "      <td>NaN</td>\n",
       "      <td>NaN</td>\n",
       "    </tr>\n",
       "    <tr>\n",
       "      <th>6</th>\n",
       "      <td>14/01/2020</td>\n",
       "      <td>12:00</td>\n",
       "      <td>0.0</td>\n",
       "      <td>60.0</td>\n",
       "      <td>11.0</td>\n",
       "      <td>71.0</td>\n",
       "      <td>0.0</td>\n",
       "      <td>0.0</td>\n",
       "      <td>0.0</td>\n",
       "      <td>NaN</td>\n",
       "      <td>NaN</td>\n",
       "      <td>NaN</td>\n",
       "      <td>NaN</td>\n",
       "      <td>NaN</td>\n",
       "    </tr>\n",
       "    <tr>\n",
       "      <th>7</th>\n",
       "      <td>15/01/2020</td>\n",
       "      <td>12:00</td>\n",
       "      <td>0.0</td>\n",
       "      <td>66.0</td>\n",
       "      <td>10.0</td>\n",
       "      <td>76.0</td>\n",
       "      <td>0.0</td>\n",
       "      <td>0.0</td>\n",
       "      <td>0.0</td>\n",
       "      <td>NaN</td>\n",
       "      <td>NaN</td>\n",
       "      <td>NaN</td>\n",
       "      <td>NaN</td>\n",
       "      <td>NaN</td>\n",
       "    </tr>\n",
       "    <tr>\n",
       "      <th>8</th>\n",
       "      <td>16/01/2020</td>\n",
       "      <td>12:00</td>\n",
       "      <td>0.0</td>\n",
       "      <td>71.0</td>\n",
       "      <td>7.0</td>\n",
       "      <td>78.0</td>\n",
       "      <td>0.0</td>\n",
       "      <td>0.0</td>\n",
       "      <td>0.0</td>\n",
       "      <td>NaN</td>\n",
       "      <td>NaN</td>\n",
       "      <td>NaN</td>\n",
       "      <td>NaN</td>\n",
       "      <td>NaN</td>\n",
       "    </tr>\n",
       "    <tr>\n",
       "      <th>9</th>\n",
       "      <td>17/01/2020</td>\n",
       "      <td>12:00</td>\n",
       "      <td>0.0</td>\n",
       "      <td>75.0</td>\n",
       "      <td>6.0</td>\n",
       "      <td>81.0</td>\n",
       "      <td>0.0</td>\n",
       "      <td>0.0</td>\n",
       "      <td>0.0</td>\n",
       "      <td>NaN</td>\n",
       "      <td>NaN</td>\n",
       "      <td>NaN</td>\n",
       "      <td>NaN</td>\n",
       "      <td>NaN</td>\n",
       "    </tr>\n",
       "  </tbody>\n",
       "</table>\n",
       "</div>"
      ],
      "text/plain": [
       "   As of date As of time  Number of confirmed cases  \\\n",
       "0  08/01/2020      12:00                        0.0   \n",
       "1  09/01/2020      12:00                        0.0   \n",
       "2  10/01/2020      12:00                        0.0   \n",
       "3  11/01/2020      12:00                        0.0   \n",
       "4  12/01/2020      12:00                        0.0   \n",
       "5  13/01/2020      12:00                        0.0   \n",
       "6  14/01/2020      12:00                        0.0   \n",
       "7  15/01/2020      12:00                        0.0   \n",
       "8  16/01/2020      12:00                        0.0   \n",
       "9  17/01/2020      12:00                        0.0   \n",
       "\n",
       "   Number of ruled out cases  \\\n",
       "0                       21.0   \n",
       "1                       25.0   \n",
       "2                       31.0   \n",
       "3                       46.0   \n",
       "4                       51.0   \n",
       "5                       56.0   \n",
       "6                       60.0   \n",
       "7                       66.0   \n",
       "8                       71.0   \n",
       "9                       75.0   \n",
       "\n",
       "   Number of cases still hospitalised for investigation  \\\n",
       "0                                               17.0      \n",
       "1                                               23.0      \n",
       "2                                               23.0      \n",
       "3                                               15.0      \n",
       "4                                               16.0      \n",
       "5                                               12.0      \n",
       "6                                               11.0      \n",
       "7                                               10.0      \n",
       "8                                                7.0      \n",
       "9                                                6.0      \n",
       "\n",
       "   Number of cases fulfilling the reporting criteria  Number of death cases  \\\n",
       "0                                               38.0                    0.0   \n",
       "1                                               48.0                    0.0   \n",
       "2                                               54.0                    0.0   \n",
       "3                                               61.0                    0.0   \n",
       "4                                               67.0                    0.0   \n",
       "5                                               68.0                    0.0   \n",
       "6                                               71.0                    0.0   \n",
       "7                                               76.0                    0.0   \n",
       "8                                               78.0                    0.0   \n",
       "9                                               81.0                    0.0   \n",
       "\n",
       "   Number of discharge cases  Number of probable cases  \\\n",
       "0                        0.0                       0.0   \n",
       "1                        0.0                       0.0   \n",
       "2                        0.0                       0.0   \n",
       "3                        0.0                       0.0   \n",
       "4                        0.0                       0.0   \n",
       "5                        0.0                       0.0   \n",
       "6                        0.0                       0.0   \n",
       "7                        0.0                       0.0   \n",
       "8                        0.0                       0.0   \n",
       "9                        0.0                       0.0   \n",
       "\n",
       "   Number of hospitalised cases in critical condition  \\\n",
       "0                                                NaN    \n",
       "1                                                NaN    \n",
       "2                                                NaN    \n",
       "3                                                NaN    \n",
       "4                                                NaN    \n",
       "5                                                NaN    \n",
       "6                                                NaN    \n",
       "7                                                NaN    \n",
       "8                                                NaN    \n",
       "9                                                NaN    \n",
       "\n",
       "   Number of cases tested positive for SARS-CoV-2 virus by nucleic acid tests  \\\n",
       "0                                                NaN                            \n",
       "1                                                NaN                            \n",
       "2                                                NaN                            \n",
       "3                                                NaN                            \n",
       "4                                                NaN                            \n",
       "5                                                NaN                            \n",
       "6                                                NaN                            \n",
       "7                                                NaN                            \n",
       "8                                                NaN                            \n",
       "9                                                NaN                            \n",
       "\n",
       "   Number of cases tested positive for SARS-CoV-2 virus by rapid antigen tests  \\\n",
       "0                                                NaN                             \n",
       "1                                                NaN                             \n",
       "2                                                NaN                             \n",
       "3                                                NaN                             \n",
       "4                                                NaN                             \n",
       "5                                                NaN                             \n",
       "6                                                NaN                             \n",
       "7                                                NaN                             \n",
       "8                                                NaN                             \n",
       "9                                                NaN                             \n",
       "\n",
       "   Number of positive nucleic acid test laboratory detections  \\\n",
       "0                                                NaN            \n",
       "1                                                NaN            \n",
       "2                                                NaN            \n",
       "3                                                NaN            \n",
       "4                                                NaN            \n",
       "5                                                NaN            \n",
       "6                                                NaN            \n",
       "7                                                NaN            \n",
       "8                                                NaN            \n",
       "9                                                NaN            \n",
       "\n",
       "   Number of death cases related to COVID-19  \n",
       "0                                        NaN  \n",
       "1                                        NaN  \n",
       "2                                        NaN  \n",
       "3                                        NaN  \n",
       "4                                        NaN  \n",
       "5                                        NaN  \n",
       "6                                        NaN  \n",
       "7                                        NaN  \n",
       "8                                        NaN  \n",
       "9                                        NaN  "
      ]
     },
     "execution_count": 4,
     "metadata": {},
     "output_type": "execute_result"
    }
   ],
   "source": [
    "# Print first 10 records\n",
    "covid_hk_case_count_df.head(10)"
   ]
  },
  {
   "cell_type": "code",
   "execution_count": 5,
   "id": "568de14c-ee95-45ef-984e-10c367fb9d90",
   "metadata": {},
   "outputs": [
    {
     "name": "stdout",
     "output_type": "stream",
     "text": [
      "<class 'pandas.core.frame.DataFrame'>\n",
      "RangeIndex: 1238 entries, 0 to 1237\n",
      "Data columns (total 14 columns):\n",
      " #   Column                                                                       Non-Null Count  Dtype  \n",
      "---  ------                                                                       --------------  -----  \n",
      " 0   As of date                                                                   1238 non-null   object \n",
      " 1   As of time                                                                   194 non-null    object \n",
      " 2   Number of confirmed cases                                                    724 non-null    float64\n",
      " 3   Number of ruled out cases                                                    89 non-null     float64\n",
      " 4   Number of cases still hospitalised for investigation                         89 non-null     float64\n",
      " 5   Number of cases fulfilling the reporting criteria                            89 non-null     float64\n",
      " 6   Number of death cases                                                        1118 non-null   float64\n",
      " 7   Number of discharge cases                                                    990 non-null    float64\n",
      " 8   Number of probable cases                                                     724 non-null    float64\n",
      " 9   Number of hospitalised cases in critical condition                           1029 non-null   float64\n",
      " 10  Number of cases tested positive for SARS-CoV-2 virus by nucleic acid tests   394 non-null    float64\n",
      " 11  Number of cases tested positive for SARS-CoV-2 virus by rapid antigen tests  338 non-null    float64\n",
      " 12  Number of positive nucleic acid test laboratory detections                   120 non-null    float64\n",
      " 13  Number of death cases related to COVID-19                                    120 non-null    float64\n",
      "dtypes: float64(12), object(2)\n",
      "memory usage: 135.5+ KB\n"
     ]
    }
   ],
   "source": [
    "# Basic information of dataframe\n",
    "covid_hk_case_count_df.info()"
   ]
  },
  {
   "cell_type": "markdown",
   "id": "f34ff067-c9ce-4bad-b115-83b5c38e01a6",
   "metadata": {},
   "source": [
    "# Modify Data Types"
   ]
  },
  {
   "cell_type": "code",
   "execution_count": 6,
   "id": "610449d0-0431-47ce-af77-b6d1733b7b0f",
   "metadata": {},
   "outputs": [],
   "source": [
    "# Modify data type for datatime column\n",
    "covid_hk_case_count_df['As of date'] = pd.to_datetime(covid_hk_case_count_df['As of date'], format='%d/%m/%Y')"
   ]
  },
  {
   "cell_type": "markdown",
   "id": "ee2ee9b8-d870-4b91-a98b-51e3e8238ffa",
   "metadata": {},
   "source": [
    "# Exploratory Data Analysis (EDA)"
   ]
  },
  {
   "cell_type": "markdown",
   "id": "2140c873-79b0-4e0d-94de-f5918e94a2ad",
   "metadata": {},
   "source": [
    "## Univariate Analysis"
   ]
  },
  {
   "cell_type": "markdown",
   "id": "4374adbe-5389-4284-8d00-d808aabc834c",
   "metadata": {},
   "source": [
    "## Field - As of date"
   ]
  },
  {
   "cell_type": "code",
   "execution_count": 7,
   "id": "8399a57f-7187-44f2-be6d-9d1b4c17596b",
   "metadata": {},
   "outputs": [
    {
     "name": "stdout",
     "output_type": "stream",
     "text": [
      "Date range of as of date:\n",
      "Min date: 2020-01-08\n",
      "Max date: 2023-05-29\n"
     ]
    }
   ],
   "source": [
    "# Report date range of data set\n",
    "min_date, max_date = covid_hk_case_count_df['As of date'].agg(['min', 'max']).astype('str').to_list()\n",
    "print('Date range of as of date:')\n",
    "print(f'Min date: {min_date}')\n",
    "print(f'Max date: {max_date}')"
   ]
  },
  {
   "cell_type": "code",
   "execution_count": 8,
   "id": "c6d402c7-db97-42fc-8cec-6e5dde1b67db",
   "metadata": {},
   "outputs": [
    {
     "name": "stdout",
     "output_type": "stream",
     "text": [
      "There is no missing date in the dataset.\n"
     ]
    }
   ],
   "source": [
    "# Dates which are not included in the dataset\n",
    "covid_hk_case_count_df = covid_hk_case_count_df.set_index('As of date', drop=False)\n",
    "missing_date_index = pd.date_range(start=min_date, end=max_date).difference(covid_hk_case_count_df.index).astype('str')\n",
    "\n",
    "if len(missing_date_index) == 0:\n",
    "    print('There is no missing date in the dataset.')\n",
    "else:\n",
    "    print(f'There are missing dates in the dataset, between {missing_date_index.min()} and {missing_date_index.max()}.')"
   ]
  },
  {
   "cell_type": "code",
   "execution_count": 9,
   "id": "e4b9f6d7-bc5e-4bce-8997-1fe500f65bb6",
   "metadata": {},
   "outputs": [
    {
     "name": "stdout",
     "output_type": "stream",
     "text": [
      "All values are distinct: True\n"
     ]
    }
   ],
   "source": [
    "print('All values are distinct:', covid_hk_case_count_df['As of date'].nunique() == covid_hk_case_count_df['As of date'].shape[0])"
   ]
  },
  {
   "cell_type": "markdown",
   "id": "72aaf6a7-617d-4407-82ab-40320646c568",
   "metadata": {},
   "source": [
    "## Field - As of time"
   ]
  },
  {
   "cell_type": "code",
   "execution_count": 10,
   "id": "1ba58212-003e-4172-9393-b95c18d0ea01",
   "metadata": {},
   "outputs": [
    {
     "name": "stdout",
     "output_type": "stream",
     "text": [
      "Distinct values in as of time column are: '12:00', '23:59', '16:00', nan\n"
     ]
    }
   ],
   "source": [
    "# Distinct values in as of time column\n",
    "print('Distinct values in as of time column are:',\n",
    "      str(covid_hk_case_count_df['As of time'].drop_duplicates().to_list())[1:-1])"
   ]
  },
  {
   "cell_type": "markdown",
   "id": "5420d543-1c37-4e68-9ce2-c0087795360b",
   "metadata": {},
   "source": [
    "## Fields - Columns with Counts "
   ]
  },
  {
   "cell_type": "code",
   "execution_count": 11,
   "id": "cb6a7b13-8b1a-47a1-851d-6d663e66668a",
   "metadata": {},
   "outputs": [
    {
     "name": "stdout",
     "output_type": "stream",
     "text": [
      "The cumulative columns in dataset are:\n",
      "Number of ruled out cases\n",
      "Number of cases fulfilling the reporting criteria\n",
      "Number of death cases\n",
      "Number of cases tested positive for SARS-CoV-2 virus by nucleic acid tests\n",
      "Number of cases tested positive for SARS-CoV-2 virus by rapid antigen tests\n",
      "\n",
      "The non-cumulative columns in dataset are:\n",
      "Number of confirmed cases\n",
      "Number of cases still hospitalised for investigation\n",
      "Number of discharge cases\n",
      "Number of probable cases\n",
      "Number of hospitalised cases in critical condition\n",
      "Number of positive nucleic acid test laboratory detections\n",
      "Number of death cases related to COVID-19\n"
     ]
    }
   ],
   "source": [
    "covid_module.print_cumulative_columns(covid_hk_case_count_df)"
   ]
  },
  {
   "cell_type": "markdown",
   "id": "4c3736e5-a2d4-4afa-99d4-eb6ac21f44ea",
   "metadata": {},
   "source": [
    "The columns 'Number of confirmed cases' and 'Number of discharge cases' are cumulative columns indeed. <br>\n",
    "There are only 2 dates (rows) that these 2 columns are not monotonic. \n",
    "\n",
    "For 'Number of confirmed cases', <br>\n",
    "The values on 2021-09-02 to 2021-09-04 12113, 12112 and 12113 <br>\n",
    "The values on 2021-10-08 to 2021-10-10 are 12253, 12230 and 12261\n",
    "\n",
    "For 'Number of discharge cases', <br>\n",
    "The values on 2021-09-02 to 2021-09-04 11799, 11798 and 11802 <br>\n",
    "The values on 2021-10-08 to 2021-10-10 are 11945, 11926 and 11947\n",
    "\n",
    "Based on the following observations, it is likely that the values on 2021-09-03 and 2021-10-09 are not accurate. <br>\n",
    "1. There are a total of 724 non-null data points in the dataset, but only 2 of these data points (for the dates 2021-09-03 and 2021-10-09) exhibit non-monotonic behavior.\n",
    "2. The value on 2021-09-04 is larger than the value on 2021-09-02. Similarly, the value on 2021-10-10 is larger than the value on 2021-10-08."
   ]
  },
  {
   "cell_type": "markdown",
   "id": "4ae255e6-5412-495a-8554-f6edb55e4f05",
   "metadata": {},
   "source": [
    "## Multivariate Analysis"
   ]
  },
  {
   "cell_type": "markdown",
   "id": "c48fd014-843c-4377-8b69-28257951eecf",
   "metadata": {},
   "source": [
    "## Fields - As of Date and Number of confirmed cases"
   ]
  },
  {
   "cell_type": "code",
   "execution_count": 16,
   "id": "da8ebe10-86f4-4dfb-9cf5-908da811b7db",
   "metadata": {},
   "outputs": [],
   "source": [
    "# # Line chart - Cumulative Numbers of Confirmed Cases (Hong Kong)\n",
    "# plt.subplots(figsize=(15, 8))\n",
    "# plt.plot(covid_hk_case_count_df.index, covid_hk_case_count_df['Number of confirmed cases'])\n",
    "# plt.title('Cumulative Number of Confirmed Covid-19 Cases (Hong Kong)')\n",
    "# plt.xlabel('Year-Month')\n",
    "# plt.ylabel('Number of Confirmed Cases')\n",
    "# plt.xticks(rotation=90)\n",
    "# plt.show()"
   ]
  },
  {
   "cell_type": "markdown",
   "id": "9015b8ce-9cb6-4cbe-b2ad-f043208f3d55",
   "metadata": {},
   "source": [
    "## Range of Data"
   ]
  },
  {
   "cell_type": "code",
   "execution_count": 35,
   "id": "c5b2c85f-7699-4ec8-a644-161b1d47efea",
   "metadata": {},
   "outputs": [
    {
     "name": "stdout",
     "output_type": "stream",
     "text": [
      "The column \"Number of confirmed cases\" has data between:\n",
      "From 2020-01-08 to 2021-12-31\n",
      "\n",
      "The column \"Number of ruled out cases\" has data between:\n",
      "From 2020-01-08 to 2020-04-05\n",
      "\n",
      "The column \"Number of cases still hospitalised for investigation\" has data between:\n",
      "From 2020-01-08 to 2020-04-05\n",
      "\n",
      "The column \"Number of cases fulfilling the reporting criteria\" has data between:\n",
      "From 2020-01-08 to 2020-04-05\n",
      "\n",
      "The column \"Number of death cases\" has data between:\n",
      "From 2020-01-08 to 2023-01-29\n",
      "\n",
      "The column \"Number of discharge cases\" has data between:\n",
      "From 2020-01-08 to 2022-02-12\n",
      "From 2022-04-26 to 2022-12-04\n",
      "\n",
      "The column \"Number of probable cases\" has data between:\n",
      "From 2020-01-08 to 2021-12-31\n",
      "\n",
      "The column \"Number of hospitalised cases in critical condition\" has data between:\n",
      "From 2020-04-06 to 2023-01-29\n",
      "\n",
      "The column \"Number of cases tested positive for SARS-CoV-2 virus by nucleic acid tests\" has data between:\n",
      "From 2022-01-01 to 2023-01-29\n",
      "\n",
      "The column \"Number of cases tested positive for SARS-CoV-2 virus by rapid antigen tests\" has data between:\n",
      "From 2022-02-26 to 2023-01-29\n",
      "\n",
      "The column \"Number of positive nucleic acid test laboratory detections\" has data between:\n",
      "From 2023-01-30 to 2023-05-29\n",
      "\n",
      "The column \"Number of death cases related to COVID-19\" has data between:\n",
      "From 2023-01-30 to 2023-05-29\n",
      "\n"
     ]
    }
   ],
   "source": [
    "# Range of data in each column\n",
    "for target_col in covid_hk_case_count_df.columns:\n",
    "    if target_col not in ['As of date', 'As of time']:\n",
    "        covid_module.print_range_of_data(covid_hk_case_count_df, 'As of date', target_col)"
   ]
  },
  {
   "cell_type": "markdown",
   "id": "ed204675-26eb-42cf-b5b2-b5e18d0d7342",
   "metadata": {},
   "source": [
    "## Missing Value Analysis"
   ]
  },
  {
   "cell_type": "code",
   "execution_count": 14,
   "id": "1c0acadb-2380-467f-ae39-bc25cef03fd6",
   "metadata": {},
   "outputs": [
    {
     "name": "stdout",
     "output_type": "stream",
     "text": [
      "The following columns have missing values:\n",
      "As of time: 1044 (84.3%)\n",
      "Number of confirmed cases: 514 (41.5%)\n",
      "Number of ruled out cases: 1149 (92.8%)\n",
      "Number of cases still hospitalised for investigation: 1149 (92.8%)\n",
      "Number of cases fulfilling the reporting criteria: 1149 (92.8%)\n",
      "Number of death cases: 120 (9.7%)\n",
      "Number of discharge cases: 248 (20.0%)\n",
      "Number of probable cases: 514 (41.5%)\n",
      "Number of hospitalised cases in critical condition: 209 (16.9%)\n",
      "Number of cases tested positive for SARS-CoV-2 virus by nucleic acid tests: 844 (68.2%)\n",
      "Number of cases tested positive for SARS-CoV-2 virus by rapid antigen tests: 900 (72.7%)\n",
      "Number of positive nucleic acid test laboratory detections: 1118 (90.3%)\n",
      "Number of death cases related to COVID-19: 1118 (90.3%)\n"
     ]
    }
   ],
   "source": [
    "# Number of missing values in each column\n",
    "covid_module.print_missing_val_count(covid_hk_case_count_df)"
   ]
  },
  {
   "cell_type": "code",
   "execution_count": null,
   "id": "2bba8d4f-d958-4dea-877a-c61f90ad53c1",
   "metadata": {},
   "outputs": [],
   "source": []
  },
  {
   "cell_type": "code",
   "execution_count": null,
   "id": "d7a4aee2-0825-455f-a733-73a16544c29e",
   "metadata": {},
   "outputs": [],
   "source": []
  }
 ],
 "metadata": {
  "kernelspec": {
   "display_name": "Python 3 (ipykernel)",
   "language": "python",
   "name": "python3"
  },
  "language_info": {
   "codemirror_mode": {
    "name": "ipython",
    "version": 3
   },
   "file_extension": ".py",
   "mimetype": "text/x-python",
   "name": "python",
   "nbconvert_exporter": "python",
   "pygments_lexer": "ipython3",
   "version": "3.11.4"
  }
 },
 "nbformat": 4,
 "nbformat_minor": 5
}
