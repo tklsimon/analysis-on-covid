{
 "cells": [
  {
   "cell_type": "markdown",
   "id": "8f3b9f47-4e05-44b5-8d29-f4c835c30de8",
   "metadata": {},
   "source": [
    "# The University of Hong Kong\n",
    "## DASC7600 Data Science Project 2024\n",
    "## STD - Global - Case Counts"
   ]
  },
  {
   "cell_type": "markdown",
   "id": "74c6e065-cb48-42c9-9082-038d8f1dbab3",
   "metadata": {},
   "source": [
    "# Import Modules and Settings"
   ]
  },
  {
   "cell_type": "code",
   "execution_count": 1,
   "id": "51a90862-51ff-4ce8-b24b-51b2a273b0c3",
   "metadata": {},
   "outputs": [],
   "source": [
    "import os\n",
    "import sys\n",
    "\n",
    "# Add project directory to system path\n",
    "project_dir = os.path.dirname(os.getcwd())\n",
    "sys.path.append(project_dir)"
   ]
  },
  {
   "cell_type": "code",
   "execution_count": 2,
   "id": "f6f1baad-c1b7-47b5-8664-119b862126b5",
   "metadata": {},
   "outputs": [],
   "source": [
    "import datetime\n",
    "import pandas as pd\n",
    "import warnings\n",
    "\n",
    "import covid_module\n",
    "\n",
    "# Settings\n",
    "warnings.filterwarnings('ignore')"
   ]
  },
  {
   "cell_type": "markdown",
   "id": "7e41d08c-51b7-4ade-84d8-4c57b78529a7",
   "metadata": {},
   "source": [
    "# Load Data"
   ]
  },
  {
   "cell_type": "code",
   "execution_count": 3,
   "id": "0a54f1ba-02c8-4c6a-a9e4-f883f446ec93",
   "metadata": {},
   "outputs": [],
   "source": [
    "# Read csv file\n",
    "covid_global_case_count_std = pd.read_csv(project_dir + '/data/raw_data/global/WHO-COVID-19-global-data.csv')"
   ]
  },
  {
   "cell_type": "markdown",
   "id": "d53eae31-6273-403f-b4ef-42d42849bb60",
   "metadata": {},
   "source": [
    "# Modify Column Names"
   ]
  },
  {
   "cell_type": "code",
   "execution_count": 4,
   "id": "610844d9-25fe-4508-9193-8287af071e97",
   "metadata": {},
   "outputs": [],
   "source": [
    "# Rename columns\n",
    "col_name_map = {'Date_reported': 'report_date',\n",
    "                'Country': 'cntry',\n",
    "                'New_cases': 'case_count',\n",
    "                'Cumulative_cases': 'cuml_case_count',\n",
    "                'New_deaths': 'death_count',\n",
    "                'Cumulative_deaths': 'cuml_death_count'}\n",
    "\n",
    "covid_global_case_count_std.rename(columns=col_name_map, inplace=True)"
   ]
  },
  {
   "cell_type": "markdown",
   "id": "be1d1d4b-7396-487a-b42b-eb39de49416d",
   "metadata": {},
   "source": [
    "# Update Date Format"
   ]
  },
  {
   "cell_type": "code",
   "execution_count": 5,
   "id": "54165063-7559-422f-b02d-de8e8e2dfd5b",
   "metadata": {},
   "outputs": [],
   "source": [
    "# Update date format to YYYYMMDD for onset_date\n",
    "covid_module.change_date_format(covid_global_case_count_std,\n",
    "                                'report_date', '%Y-%m-%d',\n",
    "                                'report_date', '%Y%m%d')"
   ]
  },
  {
   "cell_type": "markdown",
   "id": "fca55770-95c3-4f81-8862-b66b82b97bee",
   "metadata": {},
   "source": [
    "# Replace Values"
   ]
  },
  {
   "cell_type": "code",
   "execution_count": 6,
   "id": "208d341c-f19e-4f26-9a62-96896e3e9791",
   "metadata": {},
   "outputs": [],
   "source": [
    "# To fill NA with 0 for 'New_cases' and 'New_deaths'\n",
    "covid_global_case_count_std['case_count'] = covid_global_case_count_std['case_count'].fillna(0)\n",
    "covid_global_case_count_std['death_count'] = covid_global_case_count_std['death_count'].fillna(0)"
   ]
  },
  {
   "cell_type": "markdown",
   "id": "3a660278-7e85-4796-babe-fd0ccfb85b0b",
   "metadata": {},
   "source": [
    "# Modify Table Structure and Export to csv Files"
   ]
  },
  {
   "cell_type": "code",
   "execution_count": 7,
   "id": "102a2b3c-c396-4049-ba88-d280f8988b24",
   "metadata": {},
   "outputs": [],
   "source": [
    "for cnt_col, csv_name in [('case_count', 'covid_global_new_case_count_std'),\n",
    "                          ('cuml_case_count', 'covid_global_cuml_case_count_std'),\n",
    "                          ('death_count', 'covid_global_new_death_count_std'),\n",
    "                          ('cuml_death_count', 'covid_global_cuml_death_count_std')]:\n",
    "    # Use a pivot table structure to present the counts\n",
    "    df_temp = pd.pivot_table(covid_global_case_count_std,\n",
    "                             values=cnt_col,\n",
    "                             index='report_date',\n",
    "                             columns='cntry',\n",
    "                             aggfunc=\"min\")\n",
    "\n",
    "    df_temp.reset_index(inplace=True)\n",
    "    \n",
    "    # Export to csv file\n",
    "    df_temp.to_csv(project_dir + f'/data/std_data/global/{csv_name}.csv', index=False)"
   ]
  },
  {
   "cell_type": "code",
   "execution_count": null,
   "id": "712f0329-88eb-4c4a-a2f2-e4208e0bf419",
   "metadata": {},
   "outputs": [],
   "source": []
  },
  {
   "cell_type": "code",
   "execution_count": null,
   "id": "91c7b29d-e045-4013-9336-a893e2ecffd0",
   "metadata": {},
   "outputs": [],
   "source": []
  }
 ],
 "metadata": {
  "kernelspec": {
   "display_name": "Python 3 (ipykernel)",
   "language": "python",
   "name": "python3"
  },
  "language_info": {
   "codemirror_mode": {
    "name": "ipython",
    "version": 3
   },
   "file_extension": ".py",
   "mimetype": "text/x-python",
   "name": "python",
   "nbconvert_exporter": "python",
   "pygments_lexer": "ipython3",
   "version": "3.11.4"
  }
 },
 "nbformat": 4,
 "nbformat_minor": 5
}
