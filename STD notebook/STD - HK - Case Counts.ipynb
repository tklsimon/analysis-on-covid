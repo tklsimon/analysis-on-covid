{
 "cells": [
  {
   "cell_type": "markdown",
   "id": "8f3b9f47-4e05-44b5-8d29-f4c835c30de8",
   "metadata": {},
   "source": [
    "# The University of Hong Kong\n",
    "## DASC7600 Data Science Project 2024\n",
    "## STD - HK - Case Counts"
   ]
  },
  {
   "cell_type": "markdown",
   "id": "74c6e065-cb48-42c9-9082-038d8f1dbab3",
   "metadata": {},
   "source": [
    "# Import Modules and Settings"
   ]
  },
  {
   "cell_type": "code",
   "execution_count": 1,
   "id": "51a90862-51ff-4ce8-b24b-51b2a273b0c3",
   "metadata": {},
   "outputs": [],
   "source": [
    "import os\n",
    "import sys\n",
    "\n",
    "# Add project directory to system path\n",
    "project_dir = os.path.dirname(os.getcwd())\n",
    "sys.path.append(project_dir)"
   ]
  },
  {
   "cell_type": "code",
   "execution_count": 2,
   "id": "f6f1baad-c1b7-47b5-8664-119b862126b5",
   "metadata": {},
   "outputs": [],
   "source": [
    "import datetime\n",
    "import pandas as pd\n",
    "import warnings\n",
    "\n",
    "import covid_module\n",
    "\n",
    "# Settings\n",
    "warnings.filterwarnings('ignore')"
   ]
  },
  {
   "cell_type": "markdown",
   "id": "24c02ac2-fcc7-4cd6-9aba-8b8b1648a2b9",
   "metadata": {},
   "source": [
    "# Functions"
   ]
  },
  {
   "cell_type": "code",
   "execution_count": 3,
   "id": "133a40b9-671c-4453-a228-bcdb3c46d538",
   "metadata": {},
   "outputs": [],
   "source": [
    "def correct_value_for_monotonic(df: pd.DataFrame,\n",
    "                                date_col: str,\n",
    "                                target_col: str,\n",
    "                                target_date_str: str) -> None:\n",
    "    target_date_dt = datetime.datetime.strptime(target_date_str, '%Y%m%d')\n",
    "    \n",
    "    target_date_minus_1_dt = target_date_dt - datetime.timedelta(days=1)\n",
    "    target_date_plus_1_dt = target_date_dt + datetime.timedelta(days=1)\n",
    "    \n",
    "    target_date_minus_1_str = target_date_minus_1_dt.strftime('%Y%m%d')\n",
    "    target_date_plus_1_str = target_date_plus_1_dt.strftime('%Y%m%d')\n",
    "    \n",
    "    df.loc[df[date_col] == target_date_str, target_col] = \\\n",
    "        int(df.loc[df[date_col] == target_date_minus_1_str, target_col].values[0] + \\\n",
    "            df.loc[df[date_col] == target_date_plus_1_str, target_col].values[0]) / 2"
   ]
  },
  {
   "cell_type": "markdown",
   "id": "7e41d08c-51b7-4ade-84d8-4c57b78529a7",
   "metadata": {},
   "source": [
    "# Load Data"
   ]
  },
  {
   "cell_type": "code",
   "execution_count": 4,
   "id": "0a54f1ba-02c8-4c6a-a9e4-f883f446ec93",
   "metadata": {},
   "outputs": [],
   "source": [
    "# Read csv file\n",
    "covid_hk_case_count_std = pd.read_csv(project_dir + '/data/raw_data/hk/latest_situation_of_reported_cases_covid_19_eng.csv')"
   ]
  },
  {
   "cell_type": "markdown",
   "id": "d53eae31-6273-403f-b4ef-42d42849bb60",
   "metadata": {},
   "source": [
    "# Modify Column Names"
   ]
  },
  {
   "cell_type": "code",
   "execution_count": 5,
   "id": "610844d9-25fe-4508-9193-8287af071e97",
   "metadata": {},
   "outputs": [],
   "source": [
    "# Rename columns\n",
    "col_name_map = {'As of date': 'report_date',\n",
    "                'Number of confirmed cases': 'cuml_confirm_case_cnt',\n",
    "                'Number of cases tested positive for SARS-CoV-2 virus by nucleic acid tests': 'cuml_nucl_acid_case_cnt',\n",
    "                'Number of discharge cases': 'cuml_dischg_cnt',\n",
    "                'Number of death cases': 'cuml_death_cnt'}\n",
    "\n",
    "covid_hk_case_count_std.rename(columns=col_name_map, inplace=True)"
   ]
  },
  {
   "cell_type": "markdown",
   "id": "be1d1d4b-7396-487a-b42b-eb39de49416d",
   "metadata": {},
   "source": [
    "# Update Date Format"
   ]
  },
  {
   "cell_type": "code",
   "execution_count": 6,
   "id": "54165063-7559-422f-b02d-de8e8e2dfd5b",
   "metadata": {},
   "outputs": [],
   "source": [
    "# Update date format to YYYYMMDD for onset_date\n",
    "covid_module.change_date_format(covid_hk_case_count_std,\n",
    "                                'report_date', '%d/%m/%Y',\n",
    "                                'report_date', '%Y%m%d')"
   ]
  },
  {
   "cell_type": "markdown",
   "id": "8afc5ccf-d4db-4816-a913-4d694014acdb",
   "metadata": {},
   "source": [
    "# Drop the Data"
   ]
  },
  {
   "cell_type": "code",
   "execution_count": 7,
   "id": "9afdb455-3d4a-4bee-8539-8d63a7e2f8d5",
   "metadata": {},
   "outputs": [],
   "source": [
    "# Only keep data before 20230129\n",
    "## The dataset has data till 2023-05-29\n",
    "## Starting from 2023-01-30, the only 2 columns with values are 'Number of positive nucleic acid test laboratory detections' and 'Number of death cases related to COVID-19'\n",
    "covid_hk_case_count_std = covid_hk_case_count_std[covid_hk_case_count_std['report_date'] <= '20230129']"
   ]
  },
  {
   "cell_type": "markdown",
   "id": "fca55770-95c3-4f81-8862-b66b82b97bee",
   "metadata": {},
   "source": [
    "# Replace Values"
   ]
  },
  {
   "cell_type": "code",
   "execution_count": 8,
   "id": "208d341c-f19e-4f26-9a62-96896e3e9791",
   "metadata": {},
   "outputs": [],
   "source": [
    "# Replace the discharge count with values -1 after 2022-02-13 to represent missing values\n",
    "covid_hk_case_count_std['cuml_dischg_cnt'] = covid_hk_case_count_std['cuml_dischg_cnt'] \\\n",
    "    .mask(covid_hk_case_count_std['report_date'] >= '20220213', -1)"
   ]
  },
  {
   "cell_type": "code",
   "execution_count": 9,
   "id": "64d00255-506a-4d61-8d98-641dc32f43a2",
   "metadata": {},
   "outputs": [],
   "source": [
    "# Correct the values on 2021-09-03 and 2021-10-09 for confirmed case counts and discharge counts columns\n",
    "correct_value_for_monotonic(covid_hk_case_count_std, 'report_date', 'cuml_confirm_case_cnt', '20210903')\n",
    "correct_value_for_monotonic(covid_hk_case_count_std, 'report_date', 'cuml_confirm_case_cnt', '20211009')\n",
    "correct_value_for_monotonic(covid_hk_case_count_std, 'report_date', 'cuml_dischg_cnt', '20210903')\n",
    "correct_value_for_monotonic(covid_hk_case_count_std, 'report_date', 'cuml_dischg_cnt', '20211009')"
   ]
  },
  {
   "cell_type": "markdown",
   "id": "b7b212b7-67c4-43d1-bc52-3c01bd070831",
   "metadata": {},
   "source": [
    "# Feature Creation"
   ]
  },
  {
   "cell_type": "code",
   "execution_count": 10,
   "id": "3b4e3ba0-aa2c-4aba-bef7-85e511b6201f",
   "metadata": {
    "scrolled": true
   },
   "outputs": [],
   "source": [
    "# Obtain cumulative case count from 2 columns\n",
    "covid_hk_case_count_std['cuml_case_cnt'] = 0\n",
    "\n",
    "covid_hk_case_count_std['cuml_case_cnt'] = covid_hk_case_count_std['cuml_case_cnt'] \\\n",
    "    .mask(covid_hk_case_count_std['report_date'] < '20220101',\n",
    "          covid_hk_case_count_std['cuml_confirm_case_cnt'])\n",
    "\n",
    "covid_hk_case_count_std['cuml_case_cnt'] = covid_hk_case_count_std['cuml_case_cnt'] \\\n",
    "    .mask(covid_hk_case_count_std['report_date'] >= '20220101',\n",
    "          covid_hk_case_count_std['cuml_nucl_acid_case_cnt'])\n",
    "\n",
    "# Obtain case count and recover count column\n",
    "covid_hk_case_count_std['new_case_cnt'] = covid_hk_case_count_std['cuml_case_cnt'].diff().fillna(0)\n",
    "covid_hk_case_count_std['new_dischg_cnt'] = covid_hk_case_count_std['cuml_dischg_cnt'].diff().fillna(0)"
   ]
  },
  {
   "cell_type": "code",
   "execution_count": 11,
   "id": "6b59b337-3600-45bd-b06a-ee13e531e2a1",
   "metadata": {},
   "outputs": [],
   "source": [
    "# Create year and year-month columns for report date\n",
    "covid_module.get_year_month_part(covid_hk_case_count_std, 'report_date', '%Y%m%d')"
   ]
  },
  {
   "cell_type": "markdown",
   "id": "f62548a6-3f8a-4bd6-8190-0fbc3af8cd0b",
   "metadata": {},
   "source": [
    "# Only Keep Required Columns"
   ]
  },
  {
   "cell_type": "code",
   "execution_count": 12,
   "id": "41d333fd-4b53-4d5d-9b41-294fc89a9c6d",
   "metadata": {},
   "outputs": [],
   "source": [
    "covid_hk_case_count_std = covid_hk_case_count_std[['report_date', 'report_year', 'report_year_month',\n",
    "                                                   'cuml_case_cnt', 'cuml_dischg_cnt', 'cuml_death_cnt',\n",
    "                                                   'new_case_cnt', 'new_dischg_cnt']]"
   ]
  },
  {
   "cell_type": "markdown",
   "id": "3a660278-7e85-4796-babe-fd0ccfb85b0b",
   "metadata": {},
   "source": [
    "# Export Data Pre-processing Result to csv File"
   ]
  },
  {
   "cell_type": "code",
   "execution_count": 13,
   "id": "102a2b3c-c396-4049-ba88-d280f8988b24",
   "metadata": {},
   "outputs": [],
   "source": [
    "# Export to csv file\n",
    "covid_hk_case_count_std.to_csv(project_dir + '/data/std_data/hk/covid_hk_case_count_std.csv', index=False)"
   ]
  },
  {
   "cell_type": "code",
   "execution_count": null,
   "id": "712f0329-88eb-4c4a-a2f2-e4208e0bf419",
   "metadata": {},
   "outputs": [],
   "source": []
  },
  {
   "cell_type": "code",
   "execution_count": null,
   "id": "6d7afa29-5991-43b8-aa0b-901b2f740948",
   "metadata": {},
   "outputs": [],
   "source": []
  }
 ],
 "metadata": {
  "kernelspec": {
   "display_name": "Python 3 (ipykernel)",
   "language": "python",
   "name": "python3"
  },
  "language_info": {
   "codemirror_mode": {
    "name": "ipython",
    "version": 3
   },
   "file_extension": ".py",
   "mimetype": "text/x-python",
   "name": "python",
   "nbconvert_exporter": "python",
   "pygments_lexer": "ipython3",
   "version": "3.11.4"
  }
 },
 "nbformat": 4,
 "nbformat_minor": 5
}
