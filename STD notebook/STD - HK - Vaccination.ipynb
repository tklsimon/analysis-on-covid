{
 "cells": [
  {
   "cell_type": "markdown",
   "id": "83a88ed7-5706-44dd-845a-a1b16cd8197d",
   "metadata": {},
   "source": [
    "# The University of Hong Kong\n",
    "## DASC7600 Data Science Project 2024\n",
    "## STD - HK - Vaccination"
   ]
  },
  {
   "cell_type": "markdown",
   "id": "f8139402-7788-4fd5-8534-73a08f647dcd",
   "metadata": {},
   "source": [
    "# Import Modules and Settings"
   ]
  },
  {
   "cell_type": "code",
   "execution_count": 1,
   "id": "bca6394d-bf67-4bc4-8623-387ebeefb757",
   "metadata": {},
   "outputs": [],
   "source": [
    "import os\n",
    "import sys\n",
    "\n",
    "project_dir = os.path.dirname(os.getcwd())\n",
    "sys.path.append(project_dir)"
   ]
  },
  {
   "cell_type": "code",
   "execution_count": 2,
   "id": "cb5e596c-3f45-48b1-bce5-d1570345b162",
   "metadata": {},
   "outputs": [],
   "source": [
    "import pandas as pd\n",
    "import warnings\n",
    "\n",
    "import covid_module\n",
    "\n",
    "# Settings\n",
    "warnings.filterwarnings('ignore')"
   ]
  },
  {
   "cell_type": "markdown",
   "id": "c4a9be81-a126-460e-9664-8c040c20b70f",
   "metadata": {},
   "source": [
    "# Load Data"
   ]
  },
  {
   "cell_type": "code",
   "execution_count": 3,
   "id": "46e9a44f-7abb-4ef3-9b8d-85e956a3097c",
   "metadata": {},
   "outputs": [],
   "source": [
    "# Read csv file\n",
    "covid_hk_vacc_std = pd.read_csv(project_dir + '/data/raw_data/hk/vaccination-rates-over-time-by-age.csv')"
   ]
  },
  {
   "cell_type": "markdown",
   "id": "c637da53-f43f-44b5-aee7-0327c24fca5b",
   "metadata": {},
   "source": [
    "# Modify Column Names"
   ]
  },
  {
   "cell_type": "code",
   "execution_count": 4,
   "id": "4eddb7a4-a2bb-4ab4-91fc-9405258bcccb",
   "metadata": {},
   "outputs": [],
   "source": [
    "# Rename columns\n",
    "# Date, age, sex columns\n",
    "col_name_map = {'Date': 'report_date',\n",
    "                'Age Group': 'age_group',\n",
    "                'Sex': 'gender'}\n",
    "\n",
    "covid_hk_vacc_std.rename(columns=col_name_map, inplace=True)\n",
    "\n",
    "# Sinovac and BioNTech columns\n",
    "col_name_list = covid_hk_vacc_std.columns\n",
    "col_name_list = [col_name.replace(' ', '_').replace('Sinovac', 'sinov').replace('BioNTech', 'biont') for col_name in col_name_list]\n",
    "covid_hk_vacc_std.columns = col_name_list"
   ]
  },
  {
   "cell_type": "markdown",
   "id": "417b91be-8ce9-434e-90ad-60fa207848ee",
   "metadata": {},
   "source": [
    "# Add Rows for 0 Dose"
   ]
  },
  {
   "cell_type": "code",
   "execution_count": 5,
   "id": "d6ddbdeb-fc79-41f2-a9da-1e4582061210",
   "metadata": {},
   "outputs": [],
   "source": [
    "demo_columns = ['age_group', 'gender']\n",
    "key_columns = ['report_date'] + demo_columns\n",
    "\n",
    "covid_hk_vacc_std = covid_hk_vacc_std \\\n",
    "    .set_index(key_columns) \\\n",
    "    .reindex(pd.MultiIndex \\\n",
    "                 .from_product([pd.date_range(covid_hk_vacc_std['report_date'].min(),\n",
    "                                              covid_hk_vacc_std['report_date'].max()) \\\n",
    "                                             .astype('str'),\n",
    "                                covid_hk_vacc_std['age_group'].unique(),\n",
    "                                covid_hk_vacc_std['gender'].unique()],\n",
    "                               names=key_columns),\n",
    "             fill_value = 0) \\\n",
    "    .reset_index()"
   ]
  },
  {
   "cell_type": "markdown",
   "id": "acbc1ec7-88bc-47bb-9c69-e6bd58373590",
   "metadata": {},
   "source": [
    "# Update Date Format"
   ]
  },
  {
   "cell_type": "code",
   "execution_count": 6,
   "id": "99ce05fd-7087-4c0f-bf19-3817cbc0d279",
   "metadata": {},
   "outputs": [],
   "source": [
    "# Update date format to YYYYMMDD for report_date\n",
    "covid_module.change_date_format(covid_hk_vacc_std,\n",
    "                                'report_date', '%Y-%m-%d',\n",
    "                                'report_date', '%Y%m%d')"
   ]
  },
  {
   "cell_type": "markdown",
   "id": "d1571025-35da-4cf0-b663-78f224fbb63c",
   "metadata": {},
   "source": [
    "# Feature Creation"
   ]
  },
  {
   "cell_type": "code",
   "execution_count": 7,
   "id": "46189842-ec4f-41e5-8f54-bc0f3353cbcd",
   "metadata": {
    "scrolled": true
   },
   "outputs": [],
   "source": [
    "# Dose columns\n",
    "vacc_list = ['sinov', 'biont']\n",
    "ord_list = ['1st', '2nd', '3rd', '4th', '5th', '6th', '7th']\n",
    "\n",
    "covid_hk_vacc_std['dose_all'] = 0\n",
    "for vacc_type in vacc_list:\n",
    "    for ord in ord_list:\n",
    "        col_name =  f'{vacc_type}_{ord}_dose'\n",
    "        # Dose (all) column\n",
    "        covid_hk_vacc_std['dose_all'] += covid_hk_vacc_std[col_name]\n",
    "        # Cumulative sum\n",
    "        covid_hk_vacc_std[col_name + '_cum'] = covid_hk_vacc_std[demo_columns + [col_name]] \\\n",
    "            .groupby(demo_columns) \\\n",
    "            .cumsum(axis=0)\n",
    "\n",
    "# Cumulative sum of dose (all) column\n",
    "covid_hk_vacc_std['dose_all_cum'] = covid_hk_vacc_std[demo_columns + ['dose_all']] \\\n",
    "    .groupby(demo_columns) \\\n",
    "    .cumsum(axis=0)"
   ]
  },
  {
   "cell_type": "code",
   "execution_count": 8,
   "id": "2b9d7803-2a48-488e-ba9e-c8acf2e80f36",
   "metadata": {},
   "outputs": [],
   "source": [
    "# Create year and year-month columns for report date\n",
    "covid_module.get_year_month_part(covid_hk_vacc_std, 'report_date', '%Y-%m-%d')"
   ]
  },
  {
   "cell_type": "markdown",
   "id": "641361f5-d8e5-4341-8311-101363a2b772",
   "metadata": {},
   "source": [
    "# Feature Transformation"
   ]
  },
  {
   "cell_type": "code",
   "execution_count": 9,
   "id": "5b3da493-8d23-4f19-9324-9dd9f6ce66ec",
   "metadata": {},
   "outputs": [],
   "source": [
    "# TBD"
   ]
  },
  {
   "cell_type": "markdown",
   "id": "6892baea-fcd3-4bb1-a536-08e07d50fc46",
   "metadata": {},
   "source": [
    "# Categorical Features Handling"
   ]
  },
  {
   "cell_type": "code",
   "execution_count": 10,
   "id": "c340d27a-8dca-453e-9b17-955697fa6d02",
   "metadata": {},
   "outputs": [],
   "source": [
    "# covid_module.one_hot_encoding(covid_hk_vacc_std, 'gender')"
   ]
  },
  {
   "cell_type": "markdown",
   "id": "6c6912e0-2a72-4893-ad3f-5267b311af17",
   "metadata": {},
   "source": [
    "# Export Data Pre-processing Result to csv File"
   ]
  },
  {
   "cell_type": "code",
   "execution_count": 11,
   "id": "fa663f2d-a5b2-487f-9834-c1d96b3f9db7",
   "metadata": {},
   "outputs": [],
   "source": [
    "# Export to csv file\n",
    "covid_hk_vacc_std.to_csv(project_dir + '/data/std_data/hk/covid_hk_vacc_std.csv', index=False)"
   ]
  },
  {
   "cell_type": "code",
   "execution_count": null,
   "id": "1b824df8-09e6-4be4-9fc2-f86b67eb08c2",
   "metadata": {},
   "outputs": [],
   "source": []
  },
  {
   "cell_type": "code",
   "execution_count": null,
   "id": "cb335e5e-1b5e-4125-b626-5e0786027101",
   "metadata": {},
   "outputs": [],
   "source": []
  }
 ],
 "metadata": {
  "kernelspec": {
   "display_name": "Python 3 (ipykernel)",
   "language": "python",
   "name": "python3"
  },
  "language_info": {
   "codemirror_mode": {
    "name": "ipython",
    "version": 3
   },
   "file_extension": ".py",
   "mimetype": "text/x-python",
   "name": "python",
   "nbconvert_exporter": "python",
   "pygments_lexer": "ipython3",
   "version": "3.11.4"
  }
 },
 "nbformat": 4,
 "nbformat_minor": 5
}
