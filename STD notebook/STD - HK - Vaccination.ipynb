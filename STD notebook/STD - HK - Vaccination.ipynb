{
 "cells": [
  {
   "cell_type": "markdown",
   "id": "83a88ed7-5706-44dd-845a-a1b16cd8197d",
   "metadata": {},
   "source": [
    "# The University of Hong Kong\n",
    "## DASC7600 Data Science Project 2024\n",
    "## STD - HK - Vaccination"
   ]
  },
  {
   "cell_type": "markdown",
   "id": "f8139402-7788-4fd5-8534-73a08f647dcd",
   "metadata": {},
   "source": [
    "# Import Modules and Settings"
   ]
  },
  {
   "cell_type": "code",
   "execution_count": 1,
   "id": "bca6394d-bf67-4bc4-8623-387ebeefb757",
   "metadata": {},
   "outputs": [],
   "source": [
    "import os\n",
    "import sys\n",
    "\n",
    "# Add project directory to system path\n",
    "project_dir = os.path.dirname(os.getcwd())\n",
    "sys.path.append(project_dir)"
   ]
  },
  {
   "cell_type": "code",
   "execution_count": 2,
   "id": "cb5e596c-3f45-48b1-bce5-d1570345b162",
   "metadata": {},
   "outputs": [],
   "source": [
    "import pandas as pd\n",
    "import warnings\n",
    "\n",
    "import covid_module\n",
    "\n",
    "# Settings\n",
    "warnings.filterwarnings('ignore')"
   ]
  },
  {
   "cell_type": "markdown",
   "id": "c4a9be81-a126-460e-9664-8c040c20b70f",
   "metadata": {},
   "source": [
    "# Load Data"
   ]
  },
  {
   "cell_type": "code",
   "execution_count": 3,
   "id": "46e9a44f-7abb-4ef3-9b8d-85e956a3097c",
   "metadata": {},
   "outputs": [],
   "source": [
    "# Read csv file\n",
    "covid_hk_vacc_std = pd.read_csv(project_dir + '/data/raw_data/hk/vaccination-rates-over-time-by-age.csv')"
   ]
  },
  {
   "cell_type": "markdown",
   "id": "c637da53-f43f-44b5-aee7-0327c24fca5b",
   "metadata": {},
   "source": [
    "# Modify Column Names"
   ]
  },
  {
   "cell_type": "code",
   "execution_count": 4,
   "id": "4eddb7a4-a2bb-4ab4-91fc-9405258bcccb",
   "metadata": {},
   "outputs": [],
   "source": [
    "# Rename columns\n",
    "## Date, age, sex columns\n",
    "col_name_map = {'Date': 'report_date',\n",
    "                'Age Group': 'age_group',\n",
    "                'Sex': 'gender'}\n",
    "\n",
    "covid_hk_vacc_std.rename(columns=col_name_map, inplace=True)\n",
    "\n",
    "## Sinovac and BioNTech columns\n",
    "col_name_list = covid_hk_vacc_std.columns\n",
    "col_name_list = [col_name.replace(' ', '_').replace('Sinovac', 'sinov').replace('BioNTech', 'biont') for col_name in col_name_list]\n",
    "covid_hk_vacc_std.columns = col_name_list"
   ]
  },
  {
   "cell_type": "markdown",
   "id": "417b91be-8ce9-434e-90ad-60fa207848ee",
   "metadata": {},
   "source": [
    "# Add Rows for 0 Dose"
   ]
  },
  {
   "cell_type": "code",
   "execution_count": 5,
   "id": "4c4e204a-60ea-4492-9d62-79b8e3910134",
   "metadata": {},
   "outputs": [],
   "source": [
    "demo_columns = ['age_group', 'gender']\n",
    "key_columns = ['report_date'] + demo_columns\n",
    "\n",
    "covid_hk_vacc_std = covid_hk_vacc_std \\\n",
    "    .set_index(key_columns) \\\n",
    "    .reindex(pd.MultiIndex \\\n",
    "                 .from_product([pd.date_range(covid_hk_vacc_std['report_date'].min(),\n",
    "                                              covid_hk_vacc_std['report_date'].max()) \\\n",
    "                                             .astype('str'),\n",
    "                                covid_hk_vacc_std['age_group'].unique(),\n",
    "                                covid_hk_vacc_std['gender'].unique()],\n",
    "                               names=key_columns),\n",
    "             fill_value = 0) \\\n",
    "    .reset_index()"
   ]
  },
  {
   "cell_type": "markdown",
   "id": "acbc1ec7-88bc-47bb-9c69-e6bd58373590",
   "metadata": {},
   "source": [
    "# Update Date Format"
   ]
  },
  {
   "cell_type": "code",
   "execution_count": 6,
   "id": "99ce05fd-7087-4c0f-bf19-3817cbc0d279",
   "metadata": {},
   "outputs": [],
   "source": [
    "# Update date format to YYYYMMDD for report_date\n",
    "covid_module.change_date_format(covid_hk_vacc_std,\n",
    "                                'report_date', '%Y-%m-%d',\n",
    "                                'report_date', '%Y%m%d')"
   ]
  },
  {
   "cell_type": "markdown",
   "id": "d1571025-35da-4cf0-b663-78f224fbb63c",
   "metadata": {},
   "source": [
    "# Feature Creation"
   ]
  },
  {
   "cell_type": "code",
   "execution_count": 7,
   "id": "e5d0d8e8-9749-4564-aae9-15eb95c6a5c1",
   "metadata": {
    "scrolled": true
   },
   "outputs": [],
   "source": [
    "# # Dose columns\n",
    "# vacc_list = ['sinov', 'biont']\n",
    "# ord_list = ['1st', '2nd', '3rd', '4th', '5th', '6th', '7th']\n",
    "\n",
    "# covid_hk_vacc_std['dose_all'] = 0\n",
    "# for vacc_type in vacc_list:\n",
    "#     for ord in ord_list:\n",
    "#         col_name =  f'{vacc_type}_{ord}_dose'\n",
    "#         # Dose (all) column\n",
    "#         covid_hk_vacc_std['dose_all'] += covid_hk_vacc_std[col_name]\n",
    "#         # Cumulative sum\n",
    "#         covid_hk_vacc_std[col_name + '_cum'] = covid_hk_vacc_std[demo_columns + [col_name]] \\\n",
    "#             .groupby(demo_columns) \\\n",
    "#             .cumsum(axis=0)\n",
    "\n",
    "# # Cumulative sum of dose (all) column\n",
    "# covid_hk_vacc_std['dose_all_cum'] = covid_hk_vacc_std[demo_columns + ['dose_all']] \\\n",
    "#     .groupby(demo_columns) \\\n",
    "#     .cumsum(axis=0)"
   ]
  },
  {
   "cell_type": "markdown",
   "id": "6c6912e0-2a72-4893-ad3f-5267b311af17",
   "metadata": {},
   "source": [
    "# Export Data Pre-processing Result to csv Files"
   ]
  },
  {
   "cell_type": "markdown",
   "id": "57a4b413-8d17-4a05-a644-34f24ed58dcc",
   "metadata": {},
   "source": [
    "## Dayly Counts"
   ]
  },
  {
   "cell_type": "code",
   "execution_count": 8,
   "id": "cb335e5e-1b5e-4125-b626-5e0786027101",
   "metadata": {},
   "outputs": [],
   "source": [
    "# Aggregation\n",
    "covid_hk_vacc_daily_count_std = covid_hk_vacc_std \\\n",
    "    .groupby('report_date') \\\n",
    "    ['sinov_1st_dose', 'sinov_2nd_dose', 'sinov_3rd_dose',\n",
    "     'biont_1st_dose', 'biont_2nd_dose', 'biont_3rd_dose'] \\\n",
    "    .sum() \\\n",
    "    .reset_index()\n",
    "\n",
    "# Export to csv file\n",
    "covid_hk_vacc_daily_count_std.to_csv(project_dir + '/data/std_data/hk/covid_hk_vacc_daily_count_std.csv', index=False)"
   ]
  },
  {
   "cell_type": "markdown",
   "id": "c1d74ec1",
   "metadata": {},
   "source": [
    "## Age Group Daily Counts"
   ]
  },
  {
   "cell_type": "code",
   "execution_count": 9,
   "id": "0ae611bf",
   "metadata": {},
   "outputs": [],
   "source": [
    "# New Age Group\n",
    "new_age_group_mapping = {'0-11': 'below_20',\n",
    "                         '12-19': 'below_20',\n",
    "                         '20-29': '20_to_69',\n",
    "                         '30-39': '20_to_69',\n",
    "                         '40-49': '20_to_69',\n",
    "                         '50-59': '20_to_69',\n",
    "                         '60-69': '20_to_69',\n",
    "                         '70-79': 'over_69',\n",
    "                         '80 and above': 'over_69'}\n",
    "\n",
    "covid_hk_vacc_std['age_group'] = covid_hk_vacc_std['age_group'].replace(new_age_group_mapping)\n",
    "\n",
    "# Aggregation\n",
    "covid_hk_vacc_agg = covid_hk_vacc_std \\\n",
    "    .groupby(['report_date', 'age_group']) \\\n",
    "    .agg({'sinov_1st_dose': 'sum',\n",
    "          'sinov_2nd_dose': 'sum',\n",
    "          'biont_1st_dose': 'sum',\n",
    "          'biont_2nd_dose': 'sum'}) \\\n",
    "    .reset_index()\n",
    "\n",
    "\n",
    "# Use Pivot table structure\n",
    "sinov_1st_dose_pivot = covid_hk_vacc_agg.pivot(index='report_date', columns='age_group', values='sinov_1st_dose')\n",
    "sinov_2nd_dose_pivot = covid_hk_vacc_agg.pivot(index='report_date', columns='age_group', values='sinov_2nd_dose')\n",
    "biont_1st_dose_pivot = covid_hk_vacc_agg.pivot(index='report_date', columns='age_group', values='biont_1st_dose')\n",
    "biont_2nd_dose_pivot = covid_hk_vacc_agg.pivot(index='report_date', columns='age_group', values='biont_2nd_dose')\n",
    "\n",
    "sinov_1st_dose_pivot.columns = [f'sinov_1st_age_{col}' for col in sinov_1st_dose_pivot.columns]\n",
    "sinov_2nd_dose_pivot.columns = [f'sinov_2nd_age_{col}' for col in sinov_2nd_dose_pivot.columns]\n",
    "biont_1st_dose_pivot.columns = [f'biont_1st_age_{col}' for col in biont_1st_dose_pivot.columns]\n",
    "biont_2nd_dose_pivot.columns = [f'biont_2nd_age_{col}' for col in biont_2nd_dose_pivot.columns]\n",
    "\n",
    "# Combine the pivoted results\n",
    "covid_hk_vacc_age_grp_daily_count_std = sinov_1st_dose_pivot \\\n",
    "    .join(sinov_2nd_dose_pivot,\n",
    "          'report_date',\n",
    "          'outer') \\\n",
    "    .join(biont_1st_dose_pivot,\n",
    "          'report_date',\n",
    "          'outer') \\\n",
    "    .join(biont_2nd_dose_pivot,\n",
    "          'report_date',\n",
    "          'outer') \\\n",
    "    .fillna(0) \\\n",
    "    .reset_index()\n",
    "\n",
    "# Export to csv file\n",
    "covid_hk_vacc_age_grp_daily_count_std.to_csv(project_dir + '/data/std_data/hk/covid_hk_vacc_age_grp_daily_count_std.csv', index=False)"
   ]
  },
  {
   "cell_type": "code",
   "execution_count": null,
   "id": "546ae6a7-3be6-4efa-96ab-76935a542fb2",
   "metadata": {},
   "outputs": [],
   "source": []
  },
  {
   "cell_type": "code",
   "execution_count": null,
   "id": "153d8496-aaea-49e7-b6cc-8735ad3b51bd",
   "metadata": {},
   "outputs": [],
   "source": []
  }
 ],
 "metadata": {
  "kernelspec": {
   "display_name": "Python 3 (ipykernel)",
   "language": "python",
   "name": "python3"
  },
  "language_info": {
   "codemirror_mode": {
    "name": "ipython",
    "version": 3
   },
   "file_extension": ".py",
   "mimetype": "text/x-python",
   "name": "python",
   "nbconvert_exporter": "python",
   "pygments_lexer": "ipython3",
   "version": "3.11.4"
  }
 },
 "nbformat": 4,
 "nbformat_minor": 5
}
