{
 "cells": [
  {
   "cell_type": "markdown",
   "id": "83a88ed7-5706-44dd-845a-a1b16cd8197d",
   "metadata": {},
   "source": [
    "# The University of Hong Kong\n",
    "## DASC7600 Data Science Project 2024\n",
    "## STD - HK - Average Humidity"
   ]
  },
  {
   "cell_type": "markdown",
   "id": "f8139402-7788-4fd5-8534-73a08f647dcd",
   "metadata": {},
   "source": [
    "# Import Modules and Settings"
   ]
  },
  {
   "cell_type": "code",
   "execution_count": 1,
   "id": "ddc6b984-729f-4910-bacc-4afbd07a2b54",
   "metadata": {},
   "outputs": [],
   "source": [
    "import os\n",
    "import sys\n",
    "\n",
    "# Add project directory to system path\n",
    "project_dir = os.path.dirname(os.getcwd())\n",
    "sys.path.append(project_dir)"
   ]
  },
  {
   "cell_type": "code",
   "execution_count": 2,
   "id": "cb5e596c-3f45-48b1-bce5-d1570345b162",
   "metadata": {},
   "outputs": [],
   "source": [
    "import pandas as pd\n",
    "import warnings\n",
    "\n",
    "import covid_module\n",
    "\n",
    "# Settings\n",
    "warnings.filterwarnings('ignore')"
   ]
  },
  {
   "cell_type": "markdown",
   "id": "c4a9be81-a126-460e-9664-8c040c20b70f",
   "metadata": {},
   "source": [
    "# Load Data"
   ]
  },
  {
   "cell_type": "code",
   "execution_count": 3,
   "id": "46e9a44f-7abb-4ef3-9b8d-85e956a3097c",
   "metadata": {},
   "outputs": [],
   "source": [
    "# Read csv files\n",
    "hk_daily_avg_humid_std = pd.read_csv(project_dir + '/data/raw_data/hk/daily_HKO_RH_ALL.csv', skiprows=2)"
   ]
  },
  {
   "cell_type": "markdown",
   "id": "c3b92a73-0819-4b94-90ca-9fd8b588d6bf",
   "metadata": {},
   "source": [
    "# Drop Non-Informative Column"
   ]
  },
  {
   "cell_type": "code",
   "execution_count": 4,
   "id": "3c46cec6-d937-43f1-8c26-480d97cbf58a",
   "metadata": {},
   "outputs": [],
   "source": [
    "# Drop data completeness indicator column\n",
    "hk_daily_avg_humid_std = hk_daily_avg_humid_std.drop(['數據完整性/data Completeness'], axis=1)"
   ]
  },
  {
   "cell_type": "markdown",
   "id": "c637da53-f43f-44b5-aee7-0327c24fca5b",
   "metadata": {},
   "source": [
    "# Modify Column Names"
   ]
  },
  {
   "cell_type": "code",
   "execution_count": 5,
   "id": "4eddb7a4-a2bb-4ab4-91fc-9405258bcccb",
   "metadata": {},
   "outputs": [],
   "source": [
    "# Rename columns\n",
    "col_name_map = {'年/Year': 'report_year',\n",
    "                '月/Month': 'report_month',\n",
    "                '日/Day': 'report_day',\n",
    "                '數值/Value': 'avg_humid'}\n",
    "\n",
    "hk_daily_avg_humid_std.rename(columns=col_name_map, inplace=True)"
   ]
  },
  {
   "cell_type": "markdown",
   "id": "97cd7827-36a6-492a-8636-ed800db41952",
   "metadata": {},
   "source": [
    "# Drop Comments Rows and Old Records"
   ]
  },
  {
   "cell_type": "code",
   "execution_count": 6,
   "id": "006d9029-0aa4-4247-b16e-aadb8d243ce2",
   "metadata": {},
   "outputs": [],
   "source": [
    "# Drop comments rows\n",
    "hk_daily_avg_humid_std \\\n",
    "    .drop(hk_daily_avg_humid_std[hk_daily_avg_humid_std['report_year'] \\\n",
    "          .isin(['*** 沒有數據/unavailable',\n",
    "                 '# 數據不完整/data incomplete',\n",
    "                 'C 數據完整/data Complete'])].index,\n",
    "          inplace = True)\n",
    "\n",
    "# Drop old records\n",
    "hk_daily_avg_humid_std \\\n",
    "    .drop(hk_daily_avg_humid_std[hk_daily_avg_humid_std['report_year'] <= '2019'].index,\n",
    "          inplace = True)"
   ]
  },
  {
   "cell_type": "markdown",
   "id": "f7621093-ca54-4081-bae6-1ebf50b7f283",
   "metadata": {},
   "source": [
    "# Feature Creation"
   ]
  },
  {
   "cell_type": "code",
   "execution_count": 7,
   "id": "ea3b60c3-fd02-4af2-988d-c7e74ed80385",
   "metadata": {},
   "outputs": [],
   "source": [
    "# Combine year, month and day columns\n",
    "hk_daily_avg_humid_std['report_date'] = hk_daily_avg_humid_std['report_year'].astype('int').astype('str') \\\n",
    "    + '/' \\\n",
    "    + hk_daily_avg_humid_std['report_month'].astype('int').astype('str') \\\n",
    "    + '/' \\\n",
    "    + hk_daily_avg_humid_std['report_day'].astype('int').astype('str')\n",
    "\n",
    "covid_module.change_date_format(hk_daily_avg_humid_std,\n",
    "                                'report_date', '%Y/%m/%d',\n",
    "                                'report_date', '%Y%m%d')"
   ]
  },
  {
   "cell_type": "markdown",
   "id": "6c6912e0-2a72-4893-ad3f-5267b311af17",
   "metadata": {},
   "source": [
    "# Export Data Pre-processing Result to csv File"
   ]
  },
  {
   "cell_type": "code",
   "execution_count": 8,
   "id": "fa663f2d-a5b2-487f-9834-c1d96b3f9db7",
   "metadata": {},
   "outputs": [],
   "source": [
    "# Export to csv file\n",
    "hk_daily_avg_humid_std.to_csv(project_dir + '/data/std_data/hk/hk_daily_avg_humid_std.csv', index=False)"
   ]
  },
  {
   "cell_type": "code",
   "execution_count": null,
   "id": "1b824df8-09e6-4be4-9fc2-f86b67eb08c2",
   "metadata": {},
   "outputs": [],
   "source": []
  },
  {
   "cell_type": "code",
   "execution_count": null,
   "id": "d0ab9ac4-a97a-4e78-8013-c96358059962",
   "metadata": {},
   "outputs": [],
   "source": []
  }
 ],
 "metadata": {
  "kernelspec": {
   "display_name": "Python 3 (ipykernel)",
   "language": "python",
   "name": "python3"
  },
  "language_info": {
   "codemirror_mode": {
    "name": "ipython",
    "version": 3
   },
   "file_extension": ".py",
   "mimetype": "text/x-python",
   "name": "python",
   "nbconvert_exporter": "python",
   "pygments_lexer": "ipython3",
   "version": "3.11.4"
  }
 },
 "nbformat": 4,
 "nbformat_minor": 5
}
