{
 "cells": [
  {
   "cell_type": "markdown",
   "id": "fe393c3d-a548-41f9-93c7-4d4db1198d66",
   "metadata": {},
   "source": [
    "# The University of Hong Kong\n",
    "## DASC7600 Data Science Project 2024\n",
    "## STD - Global - Latitude and Longitude"
   ]
  },
  {
   "cell_type": "markdown",
   "id": "6627addb-cd15-4eb2-bc3d-4bb07057a11c",
   "metadata": {},
   "source": [
    "# Import Modules and Settings"
   ]
  },
  {
   "cell_type": "code",
   "execution_count": 1,
   "id": "6fcc9f93-a3d9-495f-8f99-10e3db068019",
   "metadata": {},
   "outputs": [],
   "source": [
    "import os\n",
    "import sys\n",
    "\n",
    "# Add project directory to system path\n",
    "project_dir = os.path.dirname(os.getcwd())\n",
    "sys.path.append(project_dir)"
   ]
  },
  {
   "cell_type": "code",
   "execution_count": 2,
   "id": "5c8fefff-168c-4381-9e26-c2f42be0d300",
   "metadata": {},
   "outputs": [],
   "source": [
    "import pandas as pd\n",
    "import warnings\n",
    "\n",
    "# Settings\n",
    "warnings.filterwarnings('ignore')"
   ]
  },
  {
   "cell_type": "markdown",
   "id": "551bbd6c-29d0-40c5-affb-d5a473fde47d",
   "metadata": {},
   "source": [
    "# Load Data"
   ]
  },
  {
   "cell_type": "code",
   "execution_count": 3,
   "id": "e1ef709e-8f8e-4d63-be7d-f12ada57ce51",
   "metadata": {},
   "outputs": [],
   "source": [
    "# Read csv file\n",
    "global_lat_long_df = pd.read_csv(project_dir + '/data/raw_data/global/countries.csv', encoding='unicode_escape')"
   ]
  },
  {
   "cell_type": "markdown",
   "id": "ea29b4f0-c9da-4ca6-9777-17db244db4d6",
   "metadata": {},
   "source": [
    "# Modify Column Names"
   ]
  },
  {
   "cell_type": "code",
   "execution_count": 4,
   "id": "56e85f49-5d11-43d3-9db8-827b9dd4d013",
   "metadata": {},
   "outputs": [],
   "source": [
    "# Rename columns\n",
    "col_name_map = {'country': 'cntry_cd',\n",
    "                'name': 'cntry_name',\n",
    "                'latitude': 'lat',\n",
    "                'longitude': 'long'}\n",
    "\n",
    "global_lat_long_df.rename(columns=col_name_map, inplace=True)"
   ]
  },
  {
   "cell_type": "markdown",
   "id": "938382ac-9c13-4d33-8d3b-f96a2595ce79",
   "metadata": {},
   "source": [
    "# Drop Non-Informative Record"
   ]
  },
  {
   "cell_type": "code",
   "execution_count": 5,
   "id": "d34ef716-3dcc-4a7b-a29c-0fd923057f68",
   "metadata": {},
   "outputs": [],
   "source": [
    "# Drop the record with country code \"UM\"\n",
    "global_lat_long_df = global_lat_long_df[global_lat_long_df['cntry_cd'] != 'UM']"
   ]
  },
  {
   "cell_type": "markdown",
   "id": "9cd922bb-7581-4a6c-9a19-69c26a103c6b",
   "metadata": {},
   "source": [
    "# Replace Values"
   ]
  },
  {
   "cell_type": "code",
   "execution_count": 6,
   "id": "ef670f40-e2ef-41bb-96c3-4ea4d1f8ec5d",
   "metadata": {},
   "outputs": [],
   "source": [
    "# Correct the missing values in Country code column\n",
    "global_lat_long_df['cntry_cd'] = global_lat_long_df['cntry_cd'].fillna('NA')"
   ]
  },
  {
   "cell_type": "markdown",
   "id": "0fb23c28-480d-423b-97a5-0fa499975e13",
   "metadata": {},
   "source": [
    "# Export Data Pre-processing Result to csv File"
   ]
  },
  {
   "cell_type": "code",
   "execution_count": 7,
   "id": "36b71ba5-d5ad-40fc-8ad4-ffe7cb1a11f9",
   "metadata": {},
   "outputs": [],
   "source": [
    "# Export to csv file\n",
    "global_lat_long_df.to_csv(project_dir + '/data/std_data/global/global_lat_long_std.csv', index=False)"
   ]
  },
  {
   "cell_type": "code",
   "execution_count": null,
   "id": "a6e0ffd4-1afb-4831-a720-649fd2e4ba7a",
   "metadata": {},
   "outputs": [],
   "source": []
  },
  {
   "cell_type": "code",
   "execution_count": null,
   "id": "d1906f6c-3d10-4083-b66a-31cf35ce9604",
   "metadata": {},
   "outputs": [],
   "source": []
  }
 ],
 "metadata": {
  "kernelspec": {
   "display_name": "Python 3 (ipykernel)",
   "language": "python",
   "name": "python3"
  },
  "language_info": {
   "codemirror_mode": {
    "name": "ipython",
    "version": 3
   },
   "file_extension": ".py",
   "mimetype": "text/x-python",
   "name": "python",
   "nbconvert_exporter": "python",
   "pygments_lexer": "ipython3",
   "version": "3.11.4"
  }
 },
 "nbformat": 4,
 "nbformat_minor": 5
}
