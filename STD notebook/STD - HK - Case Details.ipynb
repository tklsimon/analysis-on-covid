{
 "cells": [
  {
   "cell_type": "markdown",
   "id": "83a88ed7-5706-44dd-845a-a1b16cd8197d",
   "metadata": {},
   "source": [
    "# The University of Hong Kong\n",
    "## DASC7600 Data Science Project 2024\n",
    "## STD - HK - Case Details"
   ]
  },
  {
   "cell_type": "markdown",
   "id": "f8139402-7788-4fd5-8534-73a08f647dcd",
   "metadata": {},
   "source": [
    "# Import Modules and Settings"
   ]
  },
  {
   "cell_type": "code",
   "execution_count": 1,
   "id": "85675e92-667c-4415-a305-68f4c9204a88",
   "metadata": {},
   "outputs": [],
   "source": [
    "import os\n",
    "import sys\n",
    "\n",
    "# Add project directory to system path\n",
    "project_dir = os.path.dirname(os.getcwd())\n",
    "sys.path.append(project_dir)"
   ]
  },
  {
   "cell_type": "code",
   "execution_count": 2,
   "id": "cb5e596c-3f45-48b1-bce5-d1570345b162",
   "metadata": {},
   "outputs": [],
   "source": [
    "import pandas as pd\n",
    "import warnings\n",
    "\n",
    "import covid_module\n",
    "\n",
    "# Settings\n",
    "warnings.filterwarnings('ignore')"
   ]
  },
  {
   "cell_type": "markdown",
   "id": "67c15c8d-2d00-4665-abbd-c8e9113c8d69",
   "metadata": {},
   "source": [
    "# Functions"
   ]
  },
  {
   "cell_type": "code",
   "execution_count": 3,
   "id": "66daba91-7816-4443-9d4c-2a457fa4451c",
   "metadata": {},
   "outputs": [],
   "source": [
    "def get_import_local_col(value: str) -> str:\n",
    "    if 'IMPORT' in value.upper():\n",
    "        return 'import'\n",
    "    elif 'LOCAL' in value.upper():\n",
    "        return 'local'\n",
    "    else:\n",
    "        return 'N/A'"
   ]
  },
  {
   "cell_type": "markdown",
   "id": "c4a9be81-a126-460e-9664-8c040c20b70f",
   "metadata": {},
   "source": [
    "# Load Data"
   ]
  },
  {
   "cell_type": "code",
   "execution_count": 4,
   "id": "46e9a44f-7abb-4ef3-9b8d-85e956a3097c",
   "metadata": {},
   "outputs": [],
   "source": [
    "# Read csv file\n",
    "covid_hk_case_std = pd.read_csv(project_dir + '/data/raw_data/hk/enhanced_sur_covid_19_eng.csv')"
   ]
  },
  {
   "cell_type": "markdown",
   "id": "bc6d0641-4741-435b-a086-f420b06b0825",
   "metadata": {},
   "source": [
    "# Drop Non-Informative Column"
   ]
  },
  {
   "cell_type": "code",
   "execution_count": 5,
   "id": "5b729b78-c970-4def-ac69-fa75c8d6003c",
   "metadata": {},
   "outputs": [],
   "source": [
    "# Drop hospital name column\n",
    "covid_hk_case_std = covid_hk_case_std.drop(['Case no.', 'Name of hospital admitted'], axis=1)"
   ]
  },
  {
   "cell_type": "markdown",
   "id": "c637da53-f43f-44b5-aee7-0327c24fca5b",
   "metadata": {},
   "source": [
    "# Modify Column Names"
   ]
  },
  {
   "cell_type": "code",
   "execution_count": 6,
   "id": "00b0a8c7-6cbd-412c-9a3f-26c1d2e44c81",
   "metadata": {},
   "outputs": [],
   "source": [
    "# Rename columns\n",
    "col_name_map = {'Report date': 'report_date',\n",
    "                'Date of onset': 'onset_date',\n",
    "                'Gender': 'gender',\n",
    "                'Age': 'age',\n",
    "                'Hospitalised/Discharged/Deceased': 'case_outcome',\n",
    "                'HK/Non-HK resident': 'resident',\n",
    "                'Classification*': 'case_type',\n",
    "                'Case status*': 'case_status'}\n",
    "\n",
    "covid_hk_case_std.rename(columns=col_name_map, inplace=True)"
   ]
  },
  {
   "cell_type": "markdown",
   "id": "4fd736eb-b682-434f-afb1-3212bc60f96c",
   "metadata": {},
   "source": [
    "# Drop Deleted Records"
   ]
  },
  {
   "cell_type": "code",
   "execution_count": 7,
   "id": "414cd1c2-e644-41a3-aaf2-d473d457813d",
   "metadata": {},
   "outputs": [],
   "source": [
    "# Drop records with status \"Deleted\"\n",
    "covid_hk_case_std = covid_hk_case_std[covid_hk_case_std['case_status'] != 'Deleted']"
   ]
  },
  {
   "cell_type": "markdown",
   "id": "0cbdde4d-52e8-4783-87f1-2451ceddcb9e",
   "metadata": {},
   "source": [
    "# Replace Values"
   ]
  },
  {
   "cell_type": "code",
   "execution_count": 8,
   "id": "870a5c6e-3ff7-4da1-a13f-2cd4a9989553",
   "metadata": {},
   "outputs": [],
   "source": [
    "# Modify value in field \"onset_date\" and \"age\"\n",
    "covid_hk_case_std = covid_hk_case_std \\\n",
    "    .replace({'onset_date': {'Asymptomatic': 'N/A',\n",
    "                             'January': '01/01/2020', # Report date for this record is 27/3/2020\n",
    "                             'Mid-March': '15/03/2020', # Report date for this record is 6/6/2020\n",
    "                             'Mid-July': '15/07/2020', # Report date for this record is 14/8/2020\n",
    "                             'October': '01/10/2020'}, # Report date for this record is 11/11/2020\n",
    "              'age': {'<1': '0'}})"
   ]
  },
  {
   "cell_type": "markdown",
   "id": "608b7ff9-c9f7-4e4a-9c08-42ee9ee1a55e",
   "metadata": {},
   "source": [
    "# Fill Missing Values as N/A"
   ]
  },
  {
   "cell_type": "code",
   "execution_count": 9,
   "id": "f71e85cc-8de3-4f69-97ce-65ada4fb87d9",
   "metadata": {
    "scrolled": true
   },
   "outputs": [],
   "source": [
    "# Fill NA with \"N/A\"\n",
    "covid_hk_case_std = covid_hk_case_std \\\n",
    "    .fillna('N/A')\n",
    "\n",
    "# Replace \"Pending\" and \"Unknown\" with \"N/A\"\n",
    "covid_hk_case_std = covid_hk_case_std \\\n",
    "    .replace({'Pending': 'N/A',\n",
    "              'Unknown': 'N/A'})"
   ]
  },
  {
   "cell_type": "markdown",
   "id": "4e13d88b-ea4e-4692-8758-2c2e92a4dd0c",
   "metadata": {},
   "source": [
    "# Update Date Format"
   ]
  },
  {
   "cell_type": "code",
   "execution_count": 10,
   "id": "b14bf758-887a-493d-b2fc-d05a559b7617",
   "metadata": {},
   "outputs": [],
   "source": [
    "# Update date format to YYYYMMDD for report_date\n",
    "covid_module.change_date_format(covid_hk_case_std,\n",
    "                                'report_date', '%d/%m/%Y',\n",
    "                                'report_date', '%Y%m%d')\n",
    "\n",
    "# Update date format to YYYYMMDD for onset_date\n",
    "covid_module.change_date_format(covid_hk_case_std,\n",
    "                                'onset_date', '%d/%m/%Y',\n",
    "                                'onset_date', '%Y%m%d')"
   ]
  },
  {
   "cell_type": "markdown",
   "id": "d1571025-35da-4cf0-b663-78f224fbb63c",
   "metadata": {},
   "source": [
    "# Feature Creation"
   ]
  },
  {
   "cell_type": "code",
   "execution_count": 11,
   "id": "27525bee-f5f3-48a6-b870-213c71dd7a49",
   "metadata": {},
   "outputs": [],
   "source": [
    "# Create age group column\n",
    "covid_hk_case_std['age_group'] = pd.cut(covid_hk_case_std[(covid_hk_case_std['age'] != 'N/A')]['age'].astype('int'),\n",
    "                                        bins=[0, 12, 20, 30, 40, 50, 60, 70, 80, 200],\n",
    "                                        labels=['0-11', '12-19', '20-29', '30-39', '40-49', '50-59', '60-69', '70-79', '80 and above'],\n",
    "                                        right=False)"
   ]
  },
  {
   "cell_type": "code",
   "execution_count": 12,
   "id": "a48c96bc-7aaa-4757-823d-41c5d13fa030",
   "metadata": {},
   "outputs": [],
   "source": [
    "# Create import/ local column\n",
    "covid_hk_case_std['import_local'] = covid_hk_case_std['case_type'].apply(lambda col: get_import_local_col(col))"
   ]
  },
  {
   "cell_type": "code",
   "execution_count": 13,
   "id": "2b9d7803-2a48-488e-ba9e-c8acf2e80f36",
   "metadata": {},
   "outputs": [],
   "source": [
    "# Create year and year-month columns for report date\n",
    "covid_module.get_year_month_part(covid_hk_case_std, 'report_date', '%Y%m%d')"
   ]
  },
  {
   "cell_type": "markdown",
   "id": "6c6912e0-2a72-4893-ad3f-5267b311af17",
   "metadata": {},
   "source": [
    "# Export Data Pre-processing Result to csv File"
   ]
  },
  {
   "cell_type": "code",
   "execution_count": 14,
   "id": "fa663f2d-a5b2-487f-9834-c1d96b3f9db7",
   "metadata": {},
   "outputs": [],
   "source": [
    "# Export to csv file\n",
    "covid_hk_case_std.to_csv(project_dir + '/data/std_data/hk/covid_hk_case_detail_std.csv', index=False)"
   ]
  },
  {
   "cell_type": "code",
   "execution_count": null,
   "id": "1b824df8-09e6-4be4-9fc2-f86b67eb08c2",
   "metadata": {},
   "outputs": [],
   "source": []
  },
  {
   "cell_type": "code",
   "execution_count": null,
   "id": "79774c98-04d3-4b83-b0f3-d1ce5b2639f5",
   "metadata": {},
   "outputs": [],
   "source": []
  }
 ],
 "metadata": {
  "kernelspec": {
   "display_name": "Python 3 (ipykernel)",
   "language": "python",
   "name": "python3"
  },
  "language_info": {
   "codemirror_mode": {
    "name": "ipython",
    "version": 3
   },
   "file_extension": ".py",
   "mimetype": "text/x-python",
   "name": "python",
   "nbconvert_exporter": "python",
   "pygments_lexer": "ipython3",
   "version": "3.11.4"
  }
 },
 "nbformat": 4,
 "nbformat_minor": 5
}
