{
 "cells": [
  {
   "cell_type": "markdown",
   "id": "8f3b9f47-4e05-44b5-8d29-f4c835c30de8",
   "metadata": {},
   "source": [
    "# The University of Hong Kong\n",
    "## DASC7600 Data Science Project 2024\n",
    "## STD - HK - Case Count"
   ]
  },
  {
   "cell_type": "markdown",
   "id": "74c6e065-cb48-42c9-9082-038d8f1dbab3",
   "metadata": {},
   "source": [
    "# Import Modules and Settings"
   ]
  },
  {
   "cell_type": "code",
   "execution_count": 1,
   "id": "f6f1baad-c1b7-47b5-8664-119b862126b5",
   "metadata": {},
   "outputs": [],
   "source": [
    "import pandas as pd\n",
    "import warnings\n",
    "\n",
    "import covid_module\n",
    "\n",
    "# Settings\n",
    "warnings.filterwarnings('ignore')"
   ]
  },
  {
   "cell_type": "markdown",
   "id": "7e41d08c-51b7-4ade-84d8-4c57b78529a7",
   "metadata": {},
   "source": [
    "# Load Data"
   ]
  },
  {
   "cell_type": "code",
   "execution_count": 2,
   "id": "0a54f1ba-02c8-4c6a-a9e4-f883f446ec93",
   "metadata": {},
   "outputs": [],
   "source": [
    "# Read csv file\n",
    "covid_hk_case_count_std = pd.read_csv('./data/raw_data/hk/latest_situation_of_reported_cases_covid_19_eng.csv')"
   ]
  },
  {
   "cell_type": "markdown",
   "id": "d53eae31-6273-403f-b4ef-42d42849bb60",
   "metadata": {},
   "source": [
    "# Modify Column Names"
   ]
  },
  {
   "cell_type": "code",
   "execution_count": 3,
   "id": "610844d9-25fe-4508-9193-8287af071e97",
   "metadata": {},
   "outputs": [],
   "source": [
    "# Rename columns\n",
    "col_name_map = {'As of date': 'report_date',\n",
    "                'Number of discharge cases': 'cuml_dischg_cnt',\n",
    "                'Number of death cases': 'cuml_death_cnt'}\n",
    "\n",
    "covid_hk_case_count_std.rename(columns=col_name_map, inplace=True)"
   ]
  },
  {
   "cell_type": "markdown",
   "id": "be1d1d4b-7396-487a-b42b-eb39de49416d",
   "metadata": {},
   "source": [
    "# Update Date Format"
   ]
  },
  {
   "cell_type": "code",
   "execution_count": 4,
   "id": "54165063-7559-422f-b02d-de8e8e2dfd5b",
   "metadata": {},
   "outputs": [],
   "source": [
    "# Update date format to YYYYMMDD for onset_date\n",
    "covid_module.change_date_format(covid_hk_case_count_std,\n",
    "                                'report_date', '%d/%m/%Y',\n",
    "                                'report_date', '%Y%m%d')"
   ]
  },
  {
   "cell_type": "markdown",
   "id": "8afc5ccf-d4db-4816-a913-4d694014acdb",
   "metadata": {},
   "source": [
    "# Drop the Last "
   ]
  },
  {
   "cell_type": "code",
   "execution_count": 5,
   "id": "9afdb455-3d4a-4bee-8539-8d63a7e2f8d5",
   "metadata": {},
   "outputs": [],
   "source": [
    "covid_hk_case_count_std = covid_hk_case_count_std[covid_hk_case_count_std['report_date'] <= '20230129']"
   ]
  },
  {
   "cell_type": "markdown",
   "id": "fca55770-95c3-4f81-8862-b66b82b97bee",
   "metadata": {},
   "source": [
    "# Replace Values"
   ]
  },
  {
   "cell_type": "code",
   "execution_count": 6,
   "id": "208d341c-f19e-4f26-9a62-96896e3e9791",
   "metadata": {},
   "outputs": [],
   "source": [
    "covid_hk_case_count_std['cuml_dischg_cnt'] = covid_hk_case_count_std['cuml_dischg_cnt'] \\\n",
    "    .mask(covid_hk_case_count_std['report_date'] >= '20220213', -1)"
   ]
  },
  {
   "cell_type": "code",
   "execution_count": null,
   "id": "2ec2cff0-5de8-47b6-9ad8-dfbfc0beb07d",
   "metadata": {},
   "outputs": [],
   "source": []
  },
  {
   "cell_type": "code",
   "execution_count": null,
   "id": "700eb007-5f14-4e26-af63-2aeb022597eb",
   "metadata": {},
   "outputs": [],
   "source": [
    "# Correct the 2 typo"
   ]
  },
  {
   "cell_type": "markdown",
   "id": "b7b212b7-67c4-43d1-bc52-3c01bd070831",
   "metadata": {},
   "source": [
    "# Feature Creation"
   ]
  },
  {
   "cell_type": "code",
   "execution_count": 7,
   "id": "3b4e3ba0-aa2c-4aba-bef7-85e511b6201f",
   "metadata": {
    "scrolled": true
   },
   "outputs": [],
   "source": [
    "# Obtain cumulative case count from 2 columns\n",
    "covid_hk_case_count_std['cuml_case_cnt'] = 0\n",
    "\n",
    "covid_hk_case_count_std['cuml_case_cnt'] = covid_hk_case_count_std['cuml_case_cnt'] \\\n",
    "    .mask(covid_hk_case_count_std['report_date'] < '20220101',\n",
    "          covid_hk_case_count_std['Number of confirmed cases'])\n",
    "\n",
    "covid_hk_case_count_std['cuml_case_cnt'] = covid_hk_case_count_std['cuml_case_cnt'] \\\n",
    "    .mask(covid_hk_case_count_std['report_date'] >= '20220101',\n",
    "          covid_hk_case_count_std['Number of cases tested positive for SARS-CoV-2 virus by nucleic acid tests'])"
   ]
  },
  {
   "cell_type": "code",
   "execution_count": 8,
   "id": "6b59b337-3600-45bd-b06a-ee13e531e2a1",
   "metadata": {},
   "outputs": [],
   "source": [
    "# Create year and year-month columns for report date\n",
    "covid_module.get_year_month_part(covid_hk_case_count_std, 'report_date', '%Y%m%d')"
   ]
  },
  {
   "cell_type": "markdown",
   "id": "f62548a6-3f8a-4bd6-8190-0fbc3af8cd0b",
   "metadata": {},
   "source": [
    "# Only Keep Required Columns"
   ]
  },
  {
   "cell_type": "code",
   "execution_count": 9,
   "id": "41d333fd-4b53-4d5d-9b41-294fc89a9c6d",
   "metadata": {},
   "outputs": [],
   "source": [
    "covid_hk_case_count_std = covid_hk_case_count_std[['report_date', 'cuml_case_cnt', 'cuml_dischg_cnt', 'cuml_death_cnt', 'report_year', 'report_year_month']]"
   ]
  },
  {
   "cell_type": "markdown",
   "id": "3a660278-7e85-4796-babe-fd0ccfb85b0b",
   "metadata": {},
   "source": [
    "# Export Data Pre-processing Result to csv File"
   ]
  },
  {
   "cell_type": "code",
   "execution_count": 10,
   "id": "102a2b3c-c396-4049-ba88-d280f8988b24",
   "metadata": {},
   "outputs": [],
   "source": [
    "# Export to csv file\n",
    "covid_hk_case_count_std.to_csv('./data/std_data/hk/covid_hk_case_count_std.csv', index=False)"
   ]
  },
  {
   "cell_type": "code",
   "execution_count": null,
   "id": "712f0329-88eb-4c4a-a2f2-e4208e0bf419",
   "metadata": {},
   "outputs": [],
   "source": []
  }
 ],
 "metadata": {
  "kernelspec": {
   "display_name": "Python 3 (ipykernel)",
   "language": "python",
   "name": "python3"
  },
  "language_info": {
   "codemirror_mode": {
    "name": "ipython",
    "version": 3
   },
   "file_extension": ".py",
   "mimetype": "text/x-python",
   "name": "python",
   "nbconvert_exporter": "python",
   "pygments_lexer": "ipython3",
   "version": "3.11.4"
  }
 },
 "nbformat": 4,
 "nbformat_minor": 5
}
