{
 "cells": [
  {
   "cell_type": "markdown",
   "id": "083a79b8-9dc6-4cec-9168-1f2d1f5ac273",
   "metadata": {},
   "source": [
    "# The University of Hong Kong\n",
    "## DASC7600 Data Science Project 2024"
   ]
  },
  {
   "cell_type": "markdown",
   "id": "8a9db551-328c-48de-82ad-832ded81563a",
   "metadata": {},
   "source": [
    "# Import modules"
   ]
  },
  {
   "cell_type": "code",
   "execution_count": 1,
   "id": "c20434b2-858f-4647-9db2-8ed8da3accc3",
   "metadata": {},
   "outputs": [],
   "source": [
    "import numpy as np\n",
    "import pandas as pd\n",
    "import warnings\n",
    "import matplotlib.pyplot as plt\n",
    "\n",
    "from scipy import integrate, optimize\n",
    "from typing import List\n",
    "from sklearn import metrics\n",
    "\n",
    "warnings.filterwarnings('ignore')"
   ]
  },
  {
   "cell_type": "markdown",
   "id": "f1981d32-b617-48f6-9204-aeee7a9575c2",
   "metadata": {},
   "source": [
    "# Pre-defined Values"
   ]
  },
  {
   "cell_type": "code",
   "execution_count": 2,
   "id": "8b202254-6646-4795-ab05-e8ec1abb5db3",
   "metadata": {},
   "outputs": [],
   "source": [
    "hk_popul_2020 = 7520500\n",
    "# https://gia.info.gov.hk/general/202402/20/P2024022000221_448985_1_1708412192189.pdf"
   ]
  },
  {
   "cell_type": "markdown",
   "id": "9b4e315c-be21-49c6-86d6-348cd91f77e2",
   "metadata": {},
   "source": [
    "# Functions"
   ]
  },
  {
   "cell_type": "code",
   "execution_count": 3,
   "id": "b4bccc44-0c85-4bed-8062-4af8ad1449cc",
   "metadata": {},
   "outputs": [],
   "source": [
    "def get_date_count(df: pd.DataFrame,\n",
    "                   col: str) -> pd.DataFrame:\n",
    "    agg_df = df.groupby(col)[col].count()\n",
    "    date_idx = pd.date_range(agg_df.index.min(), agg_df.index.max())\n",
    "    agg_series = pd.Series(agg_df)\n",
    "    agg_series.index = pd.DatetimeIndex(agg_series.index)\n",
    "    agg_series = agg_series.reindex(date_idx, fill_value=0)\n",
    "    return pd.DataFrame({col: agg_series.index, 'count': agg_series.values})"
   ]
  },
  {
   "cell_type": "markdown",
   "id": "aaec39fa-f2d4-4908-8401-c8ca52c28233",
   "metadata": {},
   "source": [
    "# Load Data"
   ]
  },
  {
   "cell_type": "code",
   "execution_count": 4,
   "id": "779ddf9c-f354-4d73-bee8-8363bdbfdff5",
   "metadata": {},
   "outputs": [],
   "source": [
    "# Read csv files\n",
    "covid_hk_std = pd.read_csv('./data/std_data/hk/covid_hk_std.csv')"
   ]
  },
  {
   "cell_type": "markdown",
   "id": "399d3529-5a62-4963-a33a-571a507bdd19",
   "metadata": {},
   "source": [
    "# SIR Model"
   ]
  },
  {
   "cell_type": "code",
   "execution_count": 5,
   "id": "1eb0285c-b422-4145-b5a2-5de5e3080415",
   "metadata": {},
   "outputs": [],
   "source": [
    "class SIR_model:\n",
    "    def __init__(self, I_counts: List[int], initial_counts: List[int]):\n",
    "        self.I_counts = I_counts\n",
    "        self.initial_counts = initial_counts\n",
    "        self.t_length = len(I_counts)\n",
    "        self.step = 1\n",
    "    \n",
    "    @staticmethod\n",
    "    def SIR_DE(t, initial_counts, beta, gamma):\n",
    "        if len(initial_counts) != 3:\n",
    "            raise Exception('Length of initial_counts should be 3.')\n",
    "        \n",
    "        S = initial_counts[0]\n",
    "        I = initial_counts[1]\n",
    "        R = initial_counts[2]\n",
    "        \n",
    "        return([-beta*S*I,\n",
    "                beta*S*I - gamma*I,\n",
    "                gamma*I])\n",
    "\n",
    "    def solve_SIR(t_length, initial_counts, step, params):\n",
    "        return integrate.solve_ivp(\n",
    "            SIR_model.SIR_DE,\n",
    "            [0, t_length-1],\n",
    "            initial_counts,\n",
    "            t_eval=np.arange(0, t_length-1+step, step), \n",
    "            args=params)\n",
    "    \n",
    "    @staticmethod\n",
    "    def sum_of_square(params, t_length, initial_counts, step, I_counts):\n",
    "        sol = SIR_model.solve_SIR(t_length, initial_counts, step, params)\n",
    "        return (sum((sol.y[1][::int(1/step)]-I_counts)**2))\n",
    "    \n",
    "    def get_optm_params(self):\n",
    "        sol = optimize.minimize(\n",
    "            SIR_model.sum_of_square,\n",
    "            (0.001,1), \n",
    "            (self.t_length, self.initial_counts, self.step, self.I_counts), \n",
    "            method='Nelder-Mead')\n",
    "        return sol.x\n",
    "    \n",
    "    def fit(self):\n",
    "        return SIR_model.solve_SIR(self.t_length, self.initial_counts, self.step, self.get_optm_params())\n",
    "    \n",
    "    def plot(self, predict, true_I_counts):\n",
    "        fig = plt.figure(figsize=(12,4))\n",
    "        plt.plot(predict.t, predict.y[0])\n",
    "        plt.plot(predict.t, predict.y[1])\n",
    "        plt.plot(predict.t, predict.y[2])\n",
    "        plt.plot(np.arange(0, len(true_I_counts)), true_I_counts, \"k*:\")\n",
    "        plt.grid(\"True\")\n",
    "        plt.legend([\"Susceptible\",\"Infected\",\"Removed\",\"Original Data\"])\n",
    "        plt.plot()\n",
    "    \n",
    "    def plot_fitted_model(self):\n",
    "        self.plot(self.fit(), self.I_counts)"
   ]
  },
  {
   "cell_type": "code",
   "execution_count": 6,
   "id": "bdc5102b-2e38-4cd8-a956-89ac6f45fd00",
   "metadata": {},
   "outputs": [],
   "source": [
    "covid_hk_new_case_cnt = get_date_count(covid_hk_std, 'report_date')"
   ]
  },
  {
   "cell_type": "code",
   "execution_count": 7,
   "id": "f6dd7611-d41d-49f4-b46a-d66de698b434",
   "metadata": {},
   "outputs": [],
   "source": [
    "first_wave_daily_cnt = covid_hk_new_case_cnt[\"count\"].values[10:36].tolist()"
   ]
  },
  {
   "cell_type": "code",
   "execution_count": 9,
   "id": "c9ba9641-027b-4a97-8bf7-c8bda8518d20",
   "metadata": {},
   "outputs": [],
   "source": [
    "SIR_model_hk = SIR_model(first_wave_daily_cnt, [sum(first_wave_daily_cnt), 1, 0])\n",
    "# SIR_model_hk.plot_fitted_model()"
   ]
  },
  {
   "cell_type": "code",
   "execution_count": null,
   "id": "072b64fb-11a3-414b-93de-9ad6700359c1",
   "metadata": {},
   "outputs": [],
   "source": []
  },
  {
   "cell_type": "code",
   "execution_count": null,
   "id": "d34b4eca-1042-4a47-baae-3520ce0c5817",
   "metadata": {},
   "outputs": [],
   "source": []
  },
  {
   "cell_type": "code",
   "execution_count": null,
   "id": "fc948896-16c5-4853-a5a3-e21bd57848fd",
   "metadata": {},
   "outputs": [],
   "source": []
  },
  {
   "cell_type": "code",
   "execution_count": null,
   "id": "ff2f2b7e-502d-427a-a8c0-ca92bf9c5d48",
   "metadata": {},
   "outputs": [],
   "source": []
  }
 ],
 "metadata": {
  "kernelspec": {
   "display_name": "Python 3 (ipykernel)",
   "language": "python",
   "name": "python3"
  },
  "language_info": {
   "codemirror_mode": {
    "name": "ipython",
    "version": 3
   },
   "file_extension": ".py",
   "mimetype": "text/x-python",
   "name": "python",
   "nbconvert_exporter": "python",
   "pygments_lexer": "ipython3",
   "version": "3.11.4"
  }
 },
 "nbformat": 4,
 "nbformat_minor": 5
}
