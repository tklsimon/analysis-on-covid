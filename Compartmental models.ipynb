{
 "cells": [
  {
   "cell_type": "markdown",
   "id": "083a79b8-9dc6-4cec-9168-1f2d1f5ac273",
   "metadata": {},
   "source": [
    "# The University of Hong Kong\n",
    "## DASC7600 Data Science Project 2024"
   ]
  },
  {
   "cell_type": "markdown",
   "id": "8a9db551-328c-48de-82ad-832ded81563a",
   "metadata": {},
   "source": [
    "# Import modules"
   ]
  },
  {
   "cell_type": "code",
   "execution_count": 1,
   "id": "c20434b2-858f-4647-9db2-8ed8da3accc3",
   "metadata": {},
   "outputs": [],
   "source": [
    "import pandas as pd\n",
    "import warnings\n",
    "\n",
    "from compartmental_model import *\n",
    "\n",
    "warnings.filterwarnings('ignore')"
   ]
  },
  {
   "cell_type": "markdown",
   "id": "9b4e315c-be21-49c6-86d6-348cd91f77e2",
   "metadata": {},
   "source": [
    "# Functions"
   ]
  },
  {
   "cell_type": "code",
   "execution_count": 2,
   "id": "b4bccc44-0c85-4bed-8062-4af8ad1449cc",
   "metadata": {},
   "outputs": [],
   "source": [
    "def get_date_count(df: pd.DataFrame,\n",
    "                   col: str) -> pd.DataFrame:\n",
    "    agg_df = df.groupby(col)[col].count()\n",
    "    date_idx = pd.date_range(agg_df.index.min(), agg_df.index.max())\n",
    "    agg_series = pd.Series(agg_df)\n",
    "    agg_series.index = pd.DatetimeIndex(agg_series.index)\n",
    "    agg_series = agg_series.reindex(date_idx, fill_value=0)\n",
    "    return pd.DataFrame({col: agg_series.index, 'count': agg_series.values})"
   ]
  },
  {
   "cell_type": "markdown",
   "id": "aaec39fa-f2d4-4908-8401-c8ca52c28233",
   "metadata": {},
   "source": [
    "# Load Data"
   ]
  },
  {
   "cell_type": "code",
   "execution_count": 3,
   "id": "779ddf9c-f354-4d73-bee8-8363bdbfdff5",
   "metadata": {},
   "outputs": [],
   "source": [
    "# Read csv files\n",
    "covid_hk_std = pd.read_csv('./data/std_data/hk/covid_hk_std.csv')"
   ]
  },
  {
   "cell_type": "markdown",
   "id": "b0baa7c7-0326-4888-a52e-0fac2cef4014",
   "metadata": {},
   "source": [
    "# First Wave Counts"
   ]
  },
  {
   "cell_type": "code",
   "execution_count": 4,
   "id": "fb31a985-af06-494d-8a98-3a2e515296fb",
   "metadata": {},
   "outputs": [],
   "source": [
    "covid_hk_new_case_cnt = get_date_count(covid_hk_std, 'report_date')\n",
    "first_wave_daily_cnt = covid_hk_new_case_cnt[\"count\"].values[10:36].tolist()"
   ]
  },
  {
   "cell_type": "markdown",
   "id": "399d3529-5a62-4963-a33a-571a507bdd19",
   "metadata": {},
   "source": [
    "# Fitting Model"
   ]
  },
  {
   "cell_type": "code",
   "execution_count": 5,
   "id": "d7f57142-948e-451a-ada8-65585442ad2d",
   "metadata": {},
   "outputs": [],
   "source": [
    "SIR_model_hk = SIR_model(first_wave_daily_cnt, [sum(first_wave_daily_cnt), 1, 0], (0.001 ,1))\n",
    "# plot_fitted_result(SIR_model_hk.fit(), first_wave_daily_cnt)"
   ]
  },
  {
   "cell_type": "code",
   "execution_count": 6,
   "id": "cba14ce0-c3a4-4626-bf23-f0222384d71c",
   "metadata": {},
   "outputs": [],
   "source": [
    "SIS_model_hk = SIS_model(first_wave_daily_cnt, [sum(first_wave_daily_cnt), 1], (0.001 ,1))\n",
    "# plot_fitted_result(SIS_model_hk.fit(), first_wave_daily_cnt)"
   ]
  },
  {
   "cell_type": "code",
   "execution_count": 7,
   "id": "754ce2ef-442e-4761-9136-5070f994dba4",
   "metadata": {},
   "outputs": [],
   "source": [
    "SIRS_model_hk = SIRS_model(first_wave_daily_cnt, [sum(first_wave_daily_cnt), 1, 0], (0.001 , 1, 0.1))\n",
    "# plot_fitted_result(SIRS_model_hk.fit(), first_wave_daily_cnt)"
   ]
  },
  {
   "cell_type": "code",
   "execution_count": 8,
   "id": "85d628c6-a00e-4a8b-ae0e-3aa4c9bb0ca7",
   "metadata": {},
   "outputs": [],
   "source": [
    "SEIR_model_hk = SEIR_model(first_wave_daily_cnt, [sum(first_wave_daily_cnt), 1, 0, 0], (0.01 , 1, 0.1))\n",
    "# plot_fitted_result(SEIR_model_hk.fit(), first_wave_daily_cnt)"
   ]
  },
  {
   "cell_type": "code",
   "execution_count": null,
   "id": "c95f0c14-c87e-4980-9010-5de38aca2367",
   "metadata": {},
   "outputs": [],
   "source": []
  },
  {
   "cell_type": "code",
   "execution_count": null,
   "id": "6204f55f-9b5b-4235-84d6-9c6ebf1d2ed3",
   "metadata": {},
   "outputs": [],
   "source": []
  }
 ],
 "metadata": {
  "kernelspec": {
   "display_name": "Python 3 (ipykernel)",
   "language": "python",
   "name": "python3"
  },
  "language_info": {
   "codemirror_mode": {
    "name": "ipython",
    "version": 3
   },
   "file_extension": ".py",
   "mimetype": "text/x-python",
   "name": "python",
   "nbconvert_exporter": "python",
   "pygments_lexer": "ipython3",
   "version": "3.11.4"
  }
 },
 "nbformat": 4,
 "nbformat_minor": 5
}
