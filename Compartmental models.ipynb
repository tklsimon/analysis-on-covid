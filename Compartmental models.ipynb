{
 "cells": [
  {
   "cell_type": "markdown",
   "id": "083a79b8-9dc6-4cec-9168-1f2d1f5ac273",
   "metadata": {},
   "source": [
    "# The University of Hong Kong\n",
    "## DASC7600 Data Science Project 2024\n",
    "## Compartmental Model"
   ]
  },
  {
   "cell_type": "markdown",
   "id": "8a9db551-328c-48de-82ad-832ded81563a",
   "metadata": {},
   "source": [
    "# Import Modules and Settings"
   ]
  },
  {
   "cell_type": "code",
   "execution_count": 1,
   "id": "c20434b2-858f-4647-9db2-8ed8da3accc3",
   "metadata": {},
   "outputs": [],
   "source": [
    "import matplotlib.pyplot as plt\n",
    "import numpy as np\n",
    "import pandas as pd\n",
    "import warnings\n",
    "from scipy.signal import find_peaks, peak_widths\n",
    "\n",
    "import covid_module\n",
    "from compartmental_model import *\n",
    "\n",
    "# Settings\n",
    "warnings.filterwarnings('ignore')"
   ]
  },
  {
   "cell_type": "markdown",
   "id": "aaec39fa-f2d4-4908-8401-c8ca52c28233",
   "metadata": {},
   "source": [
    "# Load Data"
   ]
  },
  {
   "cell_type": "code",
   "execution_count": 2,
   "id": "779ddf9c-f354-4d73-bee8-8363bdbfdff5",
   "metadata": {},
   "outputs": [],
   "source": [
    "# Read csv file\n",
    "covid_hk_case_std = pd.read_csv('./data/std_data/hk/covid_hk_case_std.csv')"
   ]
  },
  {
   "cell_type": "markdown",
   "id": "94b919dc-a2b9-4aac-8429-5239003d0e80",
   "metadata": {},
   "source": [
    "# New Case Counts"
   ]
  },
  {
   "cell_type": "code",
   "execution_count": 3,
   "id": "effc17f4-b659-4d30-907e-35082f60c08f",
   "metadata": {},
   "outputs": [],
   "source": [
    "covid_hk_new_case_cnt_df = covid_module.get_date_count(covid_hk_case_std, 'report_date', '%Y%m%d')"
   ]
  },
  {
   "cell_type": "markdown",
   "id": "399d3529-5a62-4963-a33a-571a507bdd19",
   "metadata": {},
   "source": [
    "# Fitting Model - First Wave"
   ]
  },
  {
   "cell_type": "code",
   "execution_count": 4,
   "id": "fb31a985-af06-494d-8a98-3a2e515296fb",
   "metadata": {},
   "outputs": [],
   "source": [
    "# New case counts for 1st wave\n",
    "first_wave_new_case_cnt = covid_hk_new_case_cnt_df[\"count\"].values[43:89].tolist()"
   ]
  },
  {
   "cell_type": "code",
   "execution_count": 5,
   "id": "d7f57142-948e-451a-ada8-65585442ad2d",
   "metadata": {},
   "outputs": [],
   "source": [
    "# SIR_model_first_wave_hk = SIR_model(first_wave_new_case_cnt, [sum(first_wave_new_case_cnt), 1, 0], (0.001 ,1))\n",
    "# plot_fitted_result(SIR_model_first_wave_hk.fit(), first_wave_new_case_cnt, SIR_model_first_wave_hk.classes)"
   ]
  },
  {
   "cell_type": "code",
   "execution_count": 6,
   "id": "cba14ce0-c3a4-4626-bf23-f0222384d71c",
   "metadata": {},
   "outputs": [],
   "source": [
    "# SIS_model_first_wave_hk = SIS_model(first_wave_new_case_cnt, [sum(first_wave_new_case_cnt), 1], (0.001 ,1))\n",
    "# plot_fitted_result(SIS_model_first_wave_hk.fit(), first_wave_new_case_cnt, SIS_model_first_wave_hk.classes)"
   ]
  },
  {
   "cell_type": "code",
   "execution_count": 7,
   "id": "754ce2ef-442e-4761-9136-5070f994dba4",
   "metadata": {},
   "outputs": [],
   "source": [
    "# SIRS_model_first_wave_hk = SIRS_model(first_wave_new_case_cnt, [sum(first_wave_new_case_cnt), 1, 0], (0.001 , 1, 0.1))\n",
    "# plot_fitted_result(SIRS_model_first_wave_hk.fit(), first_wave_new_case_cnt, SIRS_model_first_wave_hk.classes)"
   ]
  },
  {
   "cell_type": "code",
   "execution_count": 8,
   "id": "85d628c6-a00e-4a8b-ae0e-3aa4c9bb0ca7",
   "metadata": {},
   "outputs": [],
   "source": [
    "# SEIR_model_first_wave_hk = SEIR_model(first_wave_new_case_cnt, [sum(first_wave_new_case_cnt), 1, 0, 0], (0.001 , 1, 0.1))\n",
    "# plot_fitted_result(SEIR_model_first_wave_hk.fit(), first_wave_new_case_cnt, SEIR_model_first_wave_hk.classes)"
   ]
  },
  {
   "cell_type": "code",
   "execution_count": null,
   "id": "00bb8d9b-2a61-4814-a131-39d36e8a96c1",
   "metadata": {},
   "outputs": [],
   "source": []
  },
  {
   "cell_type": "markdown",
   "id": "d22f616b-a2dd-4f62-9a37-6898030d7b8b",
   "metadata": {},
   "source": [
    "# Wave Detection"
   ]
  },
  {
   "cell_type": "code",
   "execution_count": 9,
   "id": "85416bb7-fed1-4b1e-92e7-8bd5eaa786ee",
   "metadata": {},
   "outputs": [],
   "source": [
    "new_case_cnt = covid_hk_new_case_cnt_df['count']\n",
    "wave_peaks, _ = find_peaks(new_case_cnt, height=0, width=5) # Return: peaks (ndarray), properties (dict)\n",
    "wave_widths = peak_widths(new_case_cnt, wave_peaks, rel_height=1) # Return: widths (ndarray), width_heights (ndarray), left_ips (ndarray), right_ips (ndarray)"
   ]
  },
  {
   "cell_type": "code",
   "execution_count": 10,
   "id": "6578a52f-d17c-4cd5-841c-a6c17df5fe70",
   "metadata": {},
   "outputs": [],
   "source": [
    "# # Plot the new case counts with different waves identified\n",
    "# plt.subplots(figsize=(15, 6))\n",
    "# plt.plot(new_case_cnt)\n",
    "# plt.plot(np.zeros_like(new_case_cnt), '--', color='gray')\n",
    "# ## Peak of each wave\n",
    "# plt.plot(wave_peaks, new_case_cnt[wave_peaks], 'x', color='green')\n",
    "# ## Period of each wave\n",
    "# plt.plot(wave_widths[2], wave_widths[1], '|', color='green')\n",
    "# plt.plot(wave_widths[3], wave_widths[1], '|', color='green')\n",
    "# plt.hlines(*wave_widths[1:], color='green')\n",
    "# plt.title('Number of Covid-19 cases and waves identified (Hong Kong)')\n",
    "# plt.show()"
   ]
  },
  {
   "cell_type": "markdown",
   "id": "6f7748b9-8261-4521-b43f-967da5fd6f90",
   "metadata": {},
   "source": [
    "# Fitting Model - SIR on Detected Waves"
   ]
  },
  {
   "cell_type": "code",
   "execution_count": 11,
   "id": "9f327736-503d-4826-8b40-41e1d2f1ef37",
   "metadata": {},
   "outputs": [],
   "source": [
    "nbr_wave = len(wave_widths[0])\n",
    "\n",
    "wave_index_all = []\n",
    "wave_predicted_cnt_all = []\n",
    "for i in range(nbr_wave):\n",
    "    wave_start_index = int(wave_widths[2][i])+1\n",
    "    wave_end_index = int(wave_widths[3][i])+1\n",
    "    wave_new_case_cnt = covid_hk_new_case_cnt_df[\"count\"].values[wave_start_index:wave_end_index].tolist()\n",
    "    SIR_model_hk = SIR_model(wave_new_case_cnt, [sum(wave_new_case_cnt), 1, 0], (0.001 ,1))\n",
    "    wave_predicted_cnt = SIR_model_hk.fit()[SIR_model_hk.I_pos]\n",
    "    wave_index_all.extend(range(wave_start_index, wave_end_index))\n",
    "    wave_predicted_cnt_all.extend(wave_predicted_cnt)"
   ]
  },
  {
   "cell_type": "code",
   "execution_count": 12,
   "id": "a3d0d114-4f20-47dc-9557-903dbff58b19",
   "metadata": {},
   "outputs": [],
   "source": [
    "# # Plot the new case counts with different waves identified and their predicted counts\n",
    "# plt.subplots(figsize=(15, 6))\n",
    "# plt.plot(new_case_cnt)\n",
    "# plt.plot(np.zeros_like(new_case_cnt), '--', color='gray')\n",
    "# ## Peak of each wave\n",
    "# plt.plot(wave_peaks, new_case_cnt[wave_peaks], 'x', color='green')\n",
    "# ## Period of each wave\n",
    "# plt.plot(wave_widths[2], wave_widths[1], '|', color='green')\n",
    "# plt.plot(wave_widths[3], wave_widths[1], '|', color='green')\n",
    "# plt.hlines(*wave_widths[1:], color='green')\n",
    "# plt.title('Number of Covid-19 cases and waves identified (Hong Kong)')\n",
    "# # Predicted new case counts counts\n",
    "# plt.plot(wave_index_all, wave_predicted_cnt_all, color='red')\n",
    "# plt.show()"
   ]
  },
  {
   "cell_type": "code",
   "execution_count": null,
   "id": "53c2f389-3e88-4c82-92f9-bea9e573f3db",
   "metadata": {},
   "outputs": [],
   "source": []
  },
  {
   "cell_type": "code",
   "execution_count": null,
   "id": "3d18619a-faee-4836-8d31-34ad0e46f374",
   "metadata": {},
   "outputs": [],
   "source": []
  }
 ],
 "metadata": {
  "kernelspec": {
   "display_name": "Python 3 (ipykernel)",
   "language": "python",
   "name": "python3"
  },
  "language_info": {
   "codemirror_mode": {
    "name": "ipython",
    "version": 3
   },
   "file_extension": ".py",
   "mimetype": "text/x-python",
   "name": "python",
   "nbconvert_exporter": "python",
   "pygments_lexer": "ipython3",
   "version": "3.11.4"
  }
 },
 "nbformat": 4,
 "nbformat_minor": 5
}
