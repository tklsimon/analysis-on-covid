{
 "cells": [
  {
   "cell_type": "markdown",
   "id": "083a79b8-9dc6-4cec-9168-1f2d1f5ac273",
   "metadata": {},
   "source": [
    "# The University of Hong Kong\n",
    "## DASC7600 Data Science Project 2024"
   ]
  },
  {
   "cell_type": "markdown",
   "id": "8a9db551-328c-48de-82ad-832ded81563a",
   "metadata": {},
   "source": [
    "# Import modules"
   ]
  },
  {
   "cell_type": "code",
   "execution_count": 1,
   "id": "c20434b2-858f-4647-9db2-8ed8da3accc3",
   "metadata": {},
   "outputs": [],
   "source": [
    "import scipy\n",
    "import numpy as np\n",
    "import pandas as pd\n",
    "import warnings\n",
    "import matplotlib.pyplot as plt\n",
    "\n",
    "from typing import List\n",
    "from sklearn import metrics\n",
    "\n",
    "warnings.filterwarnings('ignore')"
   ]
  },
  {
   "cell_type": "markdown",
   "id": "9b4e315c-be21-49c6-86d6-348cd91f77e2",
   "metadata": {},
   "source": [
    "# Functions"
   ]
  },
  {
   "cell_type": "code",
   "execution_count": 2,
   "id": "b4bccc44-0c85-4bed-8062-4af8ad1449cc",
   "metadata": {},
   "outputs": [],
   "source": [
    "def get_date_count(df: pd.DataFrame,\n",
    "                   col: str) -> pd.DataFrame:\n",
    "    agg_df = df.groupby(col)[col].count()\n",
    "    date_idx = pd.date_range(agg_df.index.min(), agg_df.index.max())\n",
    "    agg_series = pd.Series(agg_df)\n",
    "    agg_series.index = pd.DatetimeIndex(agg_series.index)\n",
    "    agg_series = agg_series.reindex(date_idx, fill_value=0)\n",
    "    return pd.DataFrame({col: agg_series.index, 'count': agg_series.values})\n",
    "\n",
    "def composite_function(f, g): \n",
    "    return lambda *x : f(g(*x))"
   ]
  },
  {
   "cell_type": "code",
   "execution_count": 3,
   "id": "f79548d7-c679-4b81-b6af-298df4bfb97d",
   "metadata": {},
   "outputs": [],
   "source": [
    "def plot_fitted_result(predict_count_lists, true_I_counts):\n",
    "    fig = plt.figure(figsize=(12, 4))\n",
    "    for counts in predict_count_lists:\n",
    "        plt.plot(counts)\n",
    "    plt.plot(np.arange(0, len(true_I_counts)), true_I_counts, \"k*:\")\n",
    "    plt.grid(\"True\")\n",
    "    plt.legend([\"Susceptible\",\"Infected\",\"Removed\",\"Original Data\"])\n",
    "    plt.plot()"
   ]
  },
  {
   "cell_type": "markdown",
   "id": "f4517144-9038-4c06-9833-f30413151c10",
   "metadata": {},
   "source": [
    "# Class"
   ]
  },
  {
   "cell_type": "code",
   "execution_count": 4,
   "id": "6aae745d-1bec-4d7d-a23e-6eaf090a1cd9",
   "metadata": {},
   "outputs": [],
   "source": [
    "# Compartmental Model (Base Class)\n",
    "class Compartmental_model:\n",
    "    def __init__(self,\n",
    "                 I_counts: List[int],\n",
    "                 initial_counts: List[int],\n",
    "                 I_pos: int = 1):\n",
    "        self.I_counts = I_counts\n",
    "        self.initial_counts = initial_counts\n",
    "        self.I_pos = I_pos\n",
    "        self.t_length = len(I_counts)\n",
    "    \n",
    "    def DE(initial_counts: List[int], t, *params: List[float]):\n",
    "        pass\n",
    "\n",
    "    @staticmethod\n",
    "    def cost_function(predicted: List[int], actual: List[int]):\n",
    "        return sum((predicted-actual)**2)\n",
    "    \n",
    "    def calculate_cost(self, predicted_I: List[int]):\n",
    "        return self.cost_function(predicted_I, self.I_counts)\n",
    "    \n",
    "    def solve(self, params: List[float], initial_counts: List[int], t_length: int, pos: int =None):\n",
    "        sol = scipy.integrate.odeint(self.DE, initial_counts, range(0, t_length), args=tuple(params)).T\n",
    "        if pos:\n",
    "            return sol[pos]\n",
    "        else:\n",
    "            return sol\n",
    "    \n",
    "    def get_optm_params(self):\n",
    "        sol = scipy.optimize.minimize(\n",
    "            composite_function(self.calculate_cost, self.solve),\n",
    "            self.init_params,\n",
    "            (self.initial_counts, self.t_length, self.I_pos),\n",
    "            method='Nelder-Mead')\n",
    "        return sol.x\n",
    "    \n",
    "    def fit(self):\n",
    "        return self.solve(self.get_optm_params(), self.initial_counts, self.t_length)\n",
    "\n",
    "# SIR Model (Child Class)\n",
    "class SIR_model(Compartmental_model):\n",
    "    def __init__(self, I_counts: List[int], initial_counts: List[int], init_params=None):\n",
    "        super().__init__(I_counts, initial_counts)\n",
    "        if init_params:\n",
    "            self.init_params = init_params\n",
    "        else:\n",
    "            self.init_params = (0.001, 1)\n",
    "    \n",
    "    @staticmethod\n",
    "    def DE(initial_counts: List[int], t, *params):\n",
    "        if len(initial_counts) != 3:\n",
    "            raise Exception('Length of initial_counts should be 3.')\n",
    "        if len(params) != 2:\n",
    "            raise Exception('Number of parameters should be 2.')\n",
    "        S, I, R = initial_counts[:3]\n",
    "        beta, gamma = params[:2]\n",
    "        \n",
    "        d_S = -beta*S*I\n",
    "        d_I = beta*S*I-gamma*I\n",
    "        d_R = gamma*I\n",
    "        \n",
    "        return np.array([d_S, d_I, d_R])\n",
    "\n",
    "# SIS Model (Child Class)\n",
    "class SIS_model(Compartmental_model):\n",
    "    def __init__(self, I_counts: List[int], initial_counts: List[int], init_params=None):\n",
    "        super().__init__(I_counts, initial_counts)\n",
    "        if init_params:\n",
    "            self.init_params = init_params\n",
    "        else:\n",
    "            self.init_params = (0.001, 1)\n",
    "    \n",
    "    @staticmethod\n",
    "    def DE(initial_counts, t, *params):\n",
    "        if len(initial_counts) != 2:\n",
    "            raise Exception('Length of initial_counts should be 2.')\n",
    "        if len(params) != 2:\n",
    "            raise Exception('Number of parameters should be 2.')\n",
    "        S, I = initial_counts[:2]\n",
    "        beta, gamma = params[:2]\n",
    "        \n",
    "        d_S = -beta*S*I + gamma*I\n",
    "        d_I = beta*S*I - gamma*I\n",
    "        \n",
    "        return np.array([d_S, d_I])\n",
    "\n",
    "# SIRS Model (Child Class)\n",
    "class SIRS_model(Compartmental_model):\n",
    "    def __init__(self, I_counts: List[int], initial_counts: List[int], init_params=None):\n",
    "        super().__init__(I_counts, initial_counts)\n",
    "        if init_params:\n",
    "            self.init_params = init_params\n",
    "        else:\n",
    "            self.init_params = (0.001, 1)\n",
    "    \n",
    "    @staticmethod\n",
    "    def DE(initial_counts, t, *params):\n",
    "        if len(initial_counts) != 3:\n",
    "            raise Exception('Length of initial_counts should be 3.')\n",
    "        if len(params) != 3:\n",
    "            raise Exception('Number of parameters should be 3.')\n",
    "        S, I, R = initial_counts[:3]\n",
    "        beta, gamma, sigma = params[:3]\n",
    "        \n",
    "        d_S = -beta*S*I + sigma*R\n",
    "        d_I = beta*S*I - gamma*I\n",
    "        d_R = gamma*I - sigma*R\n",
    "        \n",
    "        return np.array([d_S, d_I, d_R])\n",
    "\n",
    "# SEIR Model (Child Class)\n",
    "class SEIR_model(Compartmental_model):\n",
    "    def __init__(self, I_counts: List[int], initial_counts: List[int], init_params=None):\n",
    "        super().__init__(I_counts, initial_counts, 2)\n",
    "        if init_params:\n",
    "            self.init_params = init_params\n",
    "        else:\n",
    "            self.init_params = (0.001, 1)\n",
    "    \n",
    "    @staticmethod\n",
    "    def DE(initial_counts, t, *params):\n",
    "        if len(initial_counts) != 4:\n",
    "            raise Exception('Length of initial_counts should be 4.')\n",
    "        if len(params) != 3:\n",
    "            raise Exception('Number of parameters should be 3.')\n",
    "        S, E, I, R = initial_counts[:4]\n",
    "        beta, aleph, gamma = params[:3]\n",
    "        \n",
    "        d_S = -beta*S*I\n",
    "        d_E = beta*S*I - aleph*E\n",
    "        d_I = aleph*E - gamma*I\n",
    "        d_R = gamma*I\n",
    "        \n",
    "        return np.array([d_S, d_E, d_I, d_R])"
   ]
  },
  {
   "cell_type": "markdown",
   "id": "aaec39fa-f2d4-4908-8401-c8ca52c28233",
   "metadata": {},
   "source": [
    "# Load Data"
   ]
  },
  {
   "cell_type": "code",
   "execution_count": 5,
   "id": "779ddf9c-f354-4d73-bee8-8363bdbfdff5",
   "metadata": {},
   "outputs": [],
   "source": [
    "# Read csv files\n",
    "covid_hk_std = pd.read_csv('./data/std_data/hk/covid_hk_std.csv')"
   ]
  },
  {
   "cell_type": "markdown",
   "id": "b0baa7c7-0326-4888-a52e-0fac2cef4014",
   "metadata": {},
   "source": [
    "# First Wave Counts"
   ]
  },
  {
   "cell_type": "code",
   "execution_count": 6,
   "id": "fb31a985-af06-494d-8a98-3a2e515296fb",
   "metadata": {},
   "outputs": [],
   "source": [
    "covid_hk_new_case_cnt = get_date_count(covid_hk_std, 'report_date')\n",
    "first_wave_daily_cnt = covid_hk_new_case_cnt[\"count\"].values[10:36].tolist()"
   ]
  },
  {
   "cell_type": "markdown",
   "id": "399d3529-5a62-4963-a33a-571a507bdd19",
   "metadata": {},
   "source": [
    "# Fitting Model"
   ]
  },
  {
   "cell_type": "code",
   "execution_count": 7,
   "id": "d7f57142-948e-451a-ada8-65585442ad2d",
   "metadata": {},
   "outputs": [],
   "source": [
    "SIR_model_hk = SIR_model(first_wave_daily_cnt, [sum(first_wave_daily_cnt), 1, 0], (0.001 ,1))\n",
    "# plot_fitted_result(SIR_model_hk.fit(), first_wave_daily_cnt)"
   ]
  },
  {
   "cell_type": "code",
   "execution_count": 8,
   "id": "2171c815-2023-4ade-be75-836ef14162cd",
   "metadata": {},
   "outputs": [],
   "source": [
    "SIS_model_hk = SIS_model(first_wave_daily_cnt, [sum(first_wave_daily_cnt), 1], (0.001 ,1))\n",
    "# plot_fitted_result(SIS_model_hk.fit(), first_wave_daily_cnt)"
   ]
  },
  {
   "cell_type": "code",
   "execution_count": 9,
   "id": "754ce2ef-442e-4761-9136-5070f994dba4",
   "metadata": {},
   "outputs": [],
   "source": [
    "SIRS_model_hk = SIRS_model(first_wave_daily_cnt, [sum(first_wave_daily_cnt), 1, 0], (0.001 , 1, 0.1))\n",
    "# plot_fitted_result(SIRS_model_hk.fit(), first_wave_daily_cnt)"
   ]
  },
  {
   "cell_type": "code",
   "execution_count": 10,
   "id": "85d628c6-a00e-4a8b-ae0e-3aa4c9bb0ca7",
   "metadata": {},
   "outputs": [],
   "source": [
    "SEIR_model_hk = SEIR_model(first_wave_daily_cnt, [sum(first_wave_daily_cnt), 1, 0, 0], (0.001 , 1, 0.1))\n",
    "# plot_fitted_result(SEIR_model_hk.fit(), first_wave_daily_cnt)"
   ]
  },
  {
   "cell_type": "code",
   "execution_count": null,
   "id": "c95f0c14-c87e-4980-9010-5de38aca2367",
   "metadata": {},
   "outputs": [],
   "source": []
  },
  {
   "cell_type": "code",
   "execution_count": null,
   "id": "6204f55f-9b5b-4235-84d6-9c6ebf1d2ed3",
   "metadata": {},
   "outputs": [],
   "source": []
  }
 ],
 "metadata": {
  "kernelspec": {
   "display_name": "Python 3 (ipykernel)",
   "language": "python",
   "name": "python3"
  },
  "language_info": {
   "codemirror_mode": {
    "name": "ipython",
    "version": 3
   },
   "file_extension": ".py",
   "mimetype": "text/x-python",
   "name": "python",
   "nbconvert_exporter": "python",
   "pygments_lexer": "ipython3",
   "version": "3.11.4"
  }
 },
 "nbformat": 4,
 "nbformat_minor": 5
}
