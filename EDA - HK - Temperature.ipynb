{
 "cells": [
  {
   "cell_type": "markdown",
   "id": "41ebee73-fd3a-4534-822c-827c2643f894",
   "metadata": {},
   "source": [
    "# The University of Hong Kong\n",
    "## DASC7600 Data Science Project 2024\n",
    "## EDA - HK - Temperature"
   ]
  },
  {
   "cell_type": "markdown",
   "id": "59f51aaa-e8fc-436c-a2f3-af22af07d54d",
   "metadata": {},
   "source": [
    "# Import Modules and Settings"
   ]
  },
  {
   "cell_type": "code",
   "execution_count": 1,
   "id": "b551bf0a-542b-4367-9e29-33c4717f512e",
   "metadata": {},
   "outputs": [],
   "source": [
    "import matplotlib.pyplot as plt\n",
    "import pandas as pd\n",
    "import warnings\n",
    "\n",
    "import covid_module\n",
    "\n",
    "# Settings\n",
    "pd.set_option('display.max_columns', None)\n",
    "warnings.filterwarnings('ignore')\n",
    "\n",
    "%matplotlib inline"
   ]
  },
  {
   "cell_type": "markdown",
   "id": "3ea51440-c61f-4c83-8d3f-a9ed5b0bd886",
   "metadata": {},
   "source": [
    "# Load Data"
   ]
  },
  {
   "cell_type": "code",
   "execution_count": 2,
   "id": "7f4d8dcf-b637-488f-ab7f-099f82385e41",
   "metadata": {},
   "outputs": [],
   "source": [
    "# Read csv file\n",
    "# Dataset name: Daily maximum, mean and minimum temperatures \n",
    "# URL: https://data.gov.hk/en-data/dataset/hk-hko-rss-daily-temperature-info-hko  \n",
    "# Data resource names: \n",
    "# Daily Mean Temperature All Year - Hong Kong Observatory \n",
    "# Daily Minimum Temperature All Year - Hong Kong Observatory \n",
    "# Daily Maximum Temperature All Year - Hong Kong Observatory \n",
    "\n",
    "hk_daily_temp_df = pd.read_csv('./data/raw_data/hk/CLMTEMP_HKO_.csv', skiprows=2)\n",
    "\n",
    "# Exploratory data analysis for the other 2 csv files can be performed by reading the required csv file\n",
    "# hk_daily_temp_df = pd.read_csv('./data/raw_data/hk/CLMMINT_HKO_.csv', skiprows=2)\n",
    "# hk_daily_temp_df = pd.read_csv('./data/raw_data/hk/CLMMAXT_HKO_.csv', skiprows=2)"
   ]
  },
  {
   "cell_type": "markdown",
   "id": "b625ba89-b502-4a04-a003-4bcfa893d4b6",
   "metadata": {},
   "source": [
    "# Basic Information of Data Set"
   ]
  },
  {
   "cell_type": "code",
   "execution_count": 3,
   "id": "ae4233d0-606e-47c9-ae51-bf10053baf9e",
   "metadata": {},
   "outputs": [
    {
     "data": {
      "text/html": [
       "<div>\n",
       "<style scoped>\n",
       "    .dataframe tbody tr th:only-of-type {\n",
       "        vertical-align: middle;\n",
       "    }\n",
       "\n",
       "    .dataframe tbody tr th {\n",
       "        vertical-align: top;\n",
       "    }\n",
       "\n",
       "    .dataframe thead th {\n",
       "        text-align: right;\n",
       "    }\n",
       "</style>\n",
       "<table border=\"1\" class=\"dataframe\">\n",
       "  <thead>\n",
       "    <tr style=\"text-align: right;\">\n",
       "      <th></th>\n",
       "      <th>年/Year</th>\n",
       "      <th>月/Month</th>\n",
       "      <th>日/Day</th>\n",
       "      <th>數值/Value</th>\n",
       "      <th>數據完整性/data Completeness</th>\n",
       "    </tr>\n",
       "  </thead>\n",
       "  <tbody>\n",
       "    <tr>\n",
       "      <th>0</th>\n",
       "      <td>1884</td>\n",
       "      <td>3.0</td>\n",
       "      <td>1.0</td>\n",
       "      <td>***</td>\n",
       "      <td>NaN</td>\n",
       "    </tr>\n",
       "    <tr>\n",
       "      <th>1</th>\n",
       "      <td>1884</td>\n",
       "      <td>3.0</td>\n",
       "      <td>2.0</td>\n",
       "      <td>***</td>\n",
       "      <td>NaN</td>\n",
       "    </tr>\n",
       "    <tr>\n",
       "      <th>2</th>\n",
       "      <td>1884</td>\n",
       "      <td>3.0</td>\n",
       "      <td>3.0</td>\n",
       "      <td>***</td>\n",
       "      <td>NaN</td>\n",
       "    </tr>\n",
       "    <tr>\n",
       "      <th>3</th>\n",
       "      <td>1884</td>\n",
       "      <td>3.0</td>\n",
       "      <td>4.0</td>\n",
       "      <td>***</td>\n",
       "      <td>NaN</td>\n",
       "    </tr>\n",
       "    <tr>\n",
       "      <th>4</th>\n",
       "      <td>1884</td>\n",
       "      <td>3.0</td>\n",
       "      <td>5.0</td>\n",
       "      <td>***</td>\n",
       "      <td>NaN</td>\n",
       "    </tr>\n",
       "  </tbody>\n",
       "</table>\n",
       "</div>"
      ],
      "text/plain": [
       "  年/Year  月/Month  日/Day 數值/Value 數據完整性/data Completeness\n",
       "0   1884      3.0    1.0      ***                     NaN\n",
       "1   1884      3.0    2.0      ***                     NaN\n",
       "2   1884      3.0    3.0      ***                     NaN\n",
       "3   1884      3.0    4.0      ***                     NaN\n",
       "4   1884      3.0    5.0      ***                     NaN"
      ]
     },
     "execution_count": 3,
     "metadata": {},
     "output_type": "execute_result"
    }
   ],
   "source": [
    "# Print first 5 records\n",
    "hk_daily_temp_df.head(5)"
   ]
  },
  {
   "cell_type": "code",
   "execution_count": 4,
   "id": "6b1f9923-e0ce-4c51-8ad7-fc86f6ee3bfd",
   "metadata": {},
   "outputs": [
    {
     "data": {
      "text/html": [
       "<div>\n",
       "<style scoped>\n",
       "    .dataframe tbody tr th:only-of-type {\n",
       "        vertical-align: middle;\n",
       "    }\n",
       "\n",
       "    .dataframe tbody tr th {\n",
       "        vertical-align: top;\n",
       "    }\n",
       "\n",
       "    .dataframe thead th {\n",
       "        text-align: right;\n",
       "    }\n",
       "</style>\n",
       "<table border=\"1\" class=\"dataframe\">\n",
       "  <thead>\n",
       "    <tr style=\"text-align: right;\">\n",
       "      <th></th>\n",
       "      <th>年/Year</th>\n",
       "      <th>月/Month</th>\n",
       "      <th>日/Day</th>\n",
       "      <th>數值/Value</th>\n",
       "      <th>數據完整性/data Completeness</th>\n",
       "    </tr>\n",
       "  </thead>\n",
       "  <tbody>\n",
       "    <tr>\n",
       "      <th>48698</th>\n",
       "      <td>2024</td>\n",
       "      <td>6.0</td>\n",
       "      <td>29.0</td>\n",
       "      <td>29.2</td>\n",
       "      <td>C</td>\n",
       "    </tr>\n",
       "    <tr>\n",
       "      <th>48699</th>\n",
       "      <td>2024</td>\n",
       "      <td>6.0</td>\n",
       "      <td>30.0</td>\n",
       "      <td>30.3</td>\n",
       "      <td>C</td>\n",
       "    </tr>\n",
       "    <tr>\n",
       "      <th>48700</th>\n",
       "      <td>*** 沒有數據/unavailable</td>\n",
       "      <td>NaN</td>\n",
       "      <td>NaN</td>\n",
       "      <td>NaN</td>\n",
       "      <td>NaN</td>\n",
       "    </tr>\n",
       "    <tr>\n",
       "      <th>48701</th>\n",
       "      <td># 數據不完整/data incomplete</td>\n",
       "      <td>NaN</td>\n",
       "      <td>NaN</td>\n",
       "      <td>NaN</td>\n",
       "      <td>NaN</td>\n",
       "    </tr>\n",
       "    <tr>\n",
       "      <th>48702</th>\n",
       "      <td>C 數據完整/data Complete</td>\n",
       "      <td>NaN</td>\n",
       "      <td>NaN</td>\n",
       "      <td>NaN</td>\n",
       "      <td>NaN</td>\n",
       "    </tr>\n",
       "  </tbody>\n",
       "</table>\n",
       "</div>"
      ],
      "text/plain": [
       "                        年/Year  月/Month  日/Day 數值/Value  \\\n",
       "48698                     2024      6.0   29.0     29.2   \n",
       "48699                     2024      6.0   30.0     30.3   \n",
       "48700     *** 沒有數據/unavailable      NaN    NaN      NaN   \n",
       "48701  # 數據不完整/data incomplete      NaN    NaN      NaN   \n",
       "48702     C 數據完整/data Complete      NaN    NaN      NaN   \n",
       "\n",
       "      數據完整性/data Completeness  \n",
       "48698                       C  \n",
       "48699                       C  \n",
       "48700                     NaN  \n",
       "48701                     NaN  \n",
       "48702                     NaN  "
      ]
     },
     "execution_count": 4,
     "metadata": {},
     "output_type": "execute_result"
    }
   ],
   "source": [
    "# Print last 5 records\n",
    "hk_daily_temp_df.tail(5)"
   ]
  },
  {
   "cell_type": "markdown",
   "id": "9b8ba7ef-5922-4a00-afed-f73a96e1e9ce",
   "metadata": {},
   "source": [
    "Missing values are represented by '***' <br>\n",
    "The column '數據完整性/data Completeness' is an indicator column for data completeness, where the value 'C' represent the data is complete."
   ]
  },
  {
   "cell_type": "code",
   "execution_count": 5,
   "id": "89eabb62-dba5-43bf-a4c4-be136510c8f8",
   "metadata": {},
   "outputs": [
    {
     "name": "stdout",
     "output_type": "stream",
     "text": [
      "<class 'pandas.core.frame.DataFrame'>\n",
      "RangeIndex: 48703 entries, 0 to 48702\n",
      "Data columns (total 5 columns):\n",
      " #   Column                   Non-Null Count  Dtype  \n",
      "---  ------                   --------------  -----  \n",
      " 0   年/Year                   48703 non-null  object \n",
      " 1   月/Month                  48700 non-null  float64\n",
      " 2   日/Day                    48700 non-null  float64\n",
      " 3   數值/Value                 48700 non-null  object \n",
      " 4   數據完整性/data Completeness  48668 non-null  object \n",
      "dtypes: float64(2), object(3)\n",
      "memory usage: 1.9+ MB\n"
     ]
    }
   ],
   "source": [
    "# Basic information of dataframe\n",
    "hk_daily_temp_df.info()"
   ]
  },
  {
   "cell_type": "markdown",
   "id": "d59bf8a0-2fec-4170-bffe-2016a3613a5a",
   "metadata": {},
   "source": [
    "# Drop Rows"
   ]
  },
  {
   "cell_type": "code",
   "execution_count": 6,
   "id": "726123af-5fbc-4128-af95-16173596202e",
   "metadata": {},
   "outputs": [],
   "source": [
    "# We only consider records with complete data in this EDA\n",
    "# Remove records with incomplete data and comment rows\n",
    "hk_daily_temp_df = hk_daily_temp_df[hk_daily_temp_df['數據完整性/data Completeness'] == 'C']"
   ]
  },
  {
   "cell_type": "markdown",
   "id": "a5e3613e-56ac-430a-a2ec-d64cbedfbbce",
   "metadata": {},
   "source": [
    "# Add Date Column"
   ]
  },
  {
   "cell_type": "code",
   "execution_count": 7,
   "id": "f93aa4e5-f938-44ff-a084-17eec03db7c3",
   "metadata": {},
   "outputs": [],
   "source": [
    "# Combine year, month and day columns\n",
    "hk_daily_temp_df['report_date'] = hk_daily_temp_df['年/Year'].astype('int').astype('str') \\\n",
    "    + '/' \\\n",
    "    + hk_daily_temp_df['月/Month'].astype('int').astype('str') \\\n",
    "    + '/' \\\n",
    "    + hk_daily_temp_df['日/Day'].astype('int').astype('str')"
   ]
  },
  {
   "cell_type": "markdown",
   "id": "dc809c1e-afb8-4363-8f3b-a64ac17e13da",
   "metadata": {},
   "source": [
    "# Modify Data Type"
   ]
  },
  {
   "cell_type": "code",
   "execution_count": 8,
   "id": "73726c7f-9e79-47cf-984f-790932fcee2d",
   "metadata": {},
   "outputs": [],
   "source": [
    "# Modify data type to datatime\n",
    "hk_daily_temp_df['report_date'] = pd.to_datetime(hk_daily_temp_df['report_date'])\n",
    "\n",
    "# Modify data type to float\n",
    "hk_daily_temp_df['數值/Value'] = hk_daily_temp_df['數值/Value'].astype('float')"
   ]
  },
  {
   "cell_type": "markdown",
   "id": "7bf6c021-4cbc-4089-9b7e-f4a1c4ff3d1b",
   "metadata": {},
   "source": [
    "# Exploratory Data Analysis (EDA)"
   ]
  },
  {
   "cell_type": "markdown",
   "id": "9bf96631-8a3f-4634-9019-fed4a923f3b3",
   "metadata": {},
   "source": [
    "## Univariate Analysis"
   ]
  },
  {
   "cell_type": "markdown",
   "id": "8c568303-4ae7-4195-a1f3-ea9ec677e72b",
   "metadata": {},
   "source": [
    "### Field - 數值/Value (Temperature)"
   ]
  },
  {
   "cell_type": "code",
   "execution_count": 9,
   "id": "7b18172d-64c7-402c-b27f-f307b8bb289b",
   "metadata": {},
   "outputs": [
    {
     "name": "stdout",
     "output_type": "stream",
     "text": [
      "Min Temperature: 1.8 (C) degree celsius\n",
      "Max Temperature: 32.4 (C) degree celsius\n"
     ]
    }
   ],
   "source": [
    "# Date range of valid temperature \n",
    "min_temp, max_temp = hk_daily_temp_df['數值/Value'].agg(['min', 'max']).to_list()\n",
    "print(f'Min Temperature: {min_temp} (C) degree celsius')\n",
    "print(f'Max Temperature: {max_temp} (C) degree celsius')"
   ]
  },
  {
   "cell_type": "markdown",
   "id": "2e728d1d-d015-4886-bc86-b8bd6042f47e",
   "metadata": {},
   "source": [
    "### Field - 年/Year"
   ]
  },
  {
   "cell_type": "code",
   "execution_count": 10,
   "id": "91a1cd79-f238-462f-8e2e-6a2bcdf01ca5",
   "metadata": {},
   "outputs": [
    {
     "name": "stdout",
     "output_type": "stream",
     "text": [
      "Distinct values in year column are: '1884', '1885', '1886', '1887', '1888', '1889', '1890', '1891', '1892', '1893', '1894', '1895', '1896', '1897', '1898', '1899', '1900', '1901', '1902', '1903', '1904', '1905', '1906', '1907', '1908', '1909', '1910', '1911', '1912', '1913', '1914', '1915', '1916', '1917', '1918', '1919', '1920', '1921', '1922', '1923', '1924', '1925', '1926', '1927', '1928', '1929', '1930', '1931', '1932', '1933', '1934', '1935', '1936', '1937', '1938', '1939', '1947', '1948', '1949', '1950', '1951', '1952', '1953', '1954', '1955', '1956', '1957', '1958', '1959', '1960', '1961', '1962', '1963', '1964', '1965', '1966', '1967', '1968', '1969', '1970', '1971', '1972', '1973', '1974', '1975', '1976', '1977', '1978', '1979', '1980', '1981', '1982', '1983', '1984', '1985', '1986', '1987', '1988', '1989', '1990', '1991', '1992', '1993', '1994', '1995', '1996', '1997', '1998', '1999', '2000', '2001', '2002', '2003', '2004', '2005', '2006', '2007', '2008', '2009', '2010', '2011', '2012', '2013', '2014', '2015', '2016', '2017', '2018', '2019', '2020', '2021', '2022', '2023', '2024'\n"
     ]
    }
   ],
   "source": [
    "# Distinct values in year column\n",
    "print('Distinct values in year column are:',\n",
    "      str(hk_daily_temp_df['年/Year'].drop_duplicates().sort_values().to_list())[1:-1])"
   ]
  },
  {
   "cell_type": "markdown",
   "id": "fdad2f57-d280-48ad-a8e8-e65fadddb7ed",
   "metadata": {},
   "source": [
    "### Field - 月/Month"
   ]
  },
  {
   "cell_type": "code",
   "execution_count": 11,
   "id": "989bff0c-b04b-41b2-9c4c-cd13f3d5ee88",
   "metadata": {},
   "outputs": [
    {
     "name": "stdout",
     "output_type": "stream",
     "text": [
      "Distinct values in month column are: 1.0, 2.0, 3.0, 4.0, 5.0, 6.0, 7.0, 8.0, 9.0, 10.0, 11.0, 12.0\n"
     ]
    }
   ],
   "source": [
    "# Distinct values in month column\n",
    "print('Distinct values in month column are:',\n",
    "      str(hk_daily_temp_df['月/Month'].drop_duplicates().sort_values().to_list())[1:-1])"
   ]
  },
  {
   "cell_type": "markdown",
   "id": "62c7c71f-0b9b-4bb2-a7b9-a4e0236800c1",
   "metadata": {},
   "source": [
    "### Field - 日/Day"
   ]
  },
  {
   "cell_type": "code",
   "execution_count": 12,
   "id": "daf77c79-0565-43a3-8bc4-bde055fbed50",
   "metadata": {},
   "outputs": [
    {
     "name": "stdout",
     "output_type": "stream",
     "text": [
      "Distinct values in day column are: 1.0, 2.0, 3.0, 4.0, 5.0, 6.0, 7.0, 8.0, 9.0, 10.0, 11.0, 12.0, 13.0, 14.0, 15.0, 16.0, 17.0, 18.0, 19.0, 20.0, 21.0, 22.0, 23.0, 24.0, 25.0, 26.0, 27.0, 28.0, 29.0, 30.0, 31.0\n"
     ]
    }
   ],
   "source": [
    "# Distinct values in day column\n",
    "print('Distinct values in day column are:',\n",
    "      str(hk_daily_temp_df['日/Day'].drop_duplicates().sort_values().to_list())[1:-1])"
   ]
  },
  {
   "cell_type": "markdown",
   "id": "a374e9f7-559e-4acc-8909-5e275cb3f2b3",
   "metadata": {},
   "source": [
    "## Multivariate Analysis"
   ]
  },
  {
   "cell_type": "markdown",
   "id": "26a87813-ff9c-4ac6-ab9e-2d13a04cad81",
   "metadata": {},
   "source": [
    "### Fields - 年/Year, 月/Month and 日/Day"
   ]
  },
  {
   "cell_type": "code",
   "execution_count": 13,
   "id": "8328bee4-f2a4-4014-8336-59ba2bc0c549",
   "metadata": {},
   "outputs": [
    {
     "name": "stdout",
     "output_type": "stream",
     "text": [
      "Date range of valid temperature:\n",
      "Min date: 1884-04-01\n",
      "Max date: 2024-06-30\n"
     ]
    }
   ],
   "source": [
    "# Date range of valid temperature \n",
    "min_date, max_date = hk_daily_temp_df['report_date'].agg(['min', 'max']).astype('str').to_list()\n",
    "print('Date range of valid temperature:')\n",
    "print(f'Min date: {min_date}')\n",
    "print(f'Max date: {max_date}')"
   ]
  },
  {
   "cell_type": "code",
   "execution_count": 14,
   "id": "37ce82df-e8a8-444d-981d-12c44c4dd7c2",
   "metadata": {},
   "outputs": [
    {
     "name": "stdout",
     "output_type": "stream",
     "text": [
      "There are missing dates in the dataset, between 1940-01-01 and 1946-12-31.\n"
     ]
    }
   ],
   "source": [
    "# Dates which are not included in the dataset\n",
    "hk_daily_temp_df = hk_daily_temp_df.set_index('report_date')\n",
    "missing_date_index = pd.date_range(start=min_date, end=max_date).difference(hk_daily_temp_df.index).astype('str')\n",
    "\n",
    "print(f'There are missing dates in the dataset, between {missing_date_index.min()} and {missing_date_index.max()}.')"
   ]
  },
  {
   "cell_type": "markdown",
   "id": "58b9b786-ae60-4d36-a448-74ec9f4af2fe",
   "metadata": {},
   "source": [
    "Since we will use this temperature dataset for covid-19 analysis, there is fine to have missing values between years 1940 and 1946."
   ]
  },
  {
   "cell_type": "markdown",
   "id": "cbcec1e3-2fd5-47cd-b91f-0a43f80e5288",
   "metadata": {},
   "source": [
    "### Fields - 年/Year, 月/Month, 日/Day and 數值/Value"
   ]
  },
  {
   "cell_type": "code",
   "execution_count": 15,
   "id": "1c7ef966-bf27-4ada-a3b9-2b4695fb0089",
   "metadata": {},
   "outputs": [],
   "source": [
    "# # Line chart - Daily Temperature\n",
    "# hk_daily_temp_from_2019 = hk_daily_temp_df[hk_daily_temp_df.index >= pd.to_datetime('2019-01-01')]\n",
    "\n",
    "# plt.subplots(figsize=(15, 8))\n",
    "# plt.plot(hk_daily_temp_from_2019.index, hk_daily_temp_from_2019['數值/Value'])\n",
    "# plt.title('Line Chart of Daily temperature (Hong Kong)')\n",
    "# plt.xlabel('Date')\n",
    "# plt.ylabel('Daily Temperature')\n",
    "# plt.show()"
   ]
  },
  {
   "cell_type": "markdown",
   "id": "f9fabf22-83fd-4bdd-9414-1e5b34b76a3b",
   "metadata": {},
   "source": [
    "## Missing Value Analysis"
   ]
  },
  {
   "cell_type": "code",
   "execution_count": 16,
   "id": "0c7476ab-5d8e-4738-8162-26d65c32633a",
   "metadata": {},
   "outputs": [
    {
     "name": "stdout",
     "output_type": "stream",
     "text": [
      "The dataframe does not have missing values.\n"
     ]
    }
   ],
   "source": [
    "# Number of missing values in each column\n",
    "covid_module.print_missing_val_count(hk_daily_temp_df)"
   ]
  },
  {
   "cell_type": "code",
   "execution_count": null,
   "id": "d3760b9b-ea72-4ff2-a5fa-78d19ab59d9a",
   "metadata": {},
   "outputs": [],
   "source": []
  },
  {
   "cell_type": "code",
   "execution_count": null,
   "id": "fb7aaf18-5424-4dff-ae21-e9190b7ff295",
   "metadata": {},
   "outputs": [],
   "source": []
  }
 ],
 "metadata": {
  "kernelspec": {
   "display_name": "Python 3 (ipykernel)",
   "language": "python",
   "name": "python3"
  },
  "language_info": {
   "codemirror_mode": {
    "name": "ipython",
    "version": 3
   },
   "file_extension": ".py",
   "mimetype": "text/x-python",
   "name": "python",
   "nbconvert_exporter": "python",
   "pygments_lexer": "ipython3",
   "version": "3.11.4"
  }
 },
 "nbformat": 4,
 "nbformat_minor": 5
}
