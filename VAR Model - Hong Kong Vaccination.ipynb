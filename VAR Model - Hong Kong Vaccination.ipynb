{
 "cells": [
  {
   "cell_type": "markdown",
   "id": "5f5fa870-3875-4d53-a621-24aefb924a65",
   "metadata": {},
   "source": [
    "# The University of Hong Kong\n",
    "## DASC7600 Data Science Project 2024\n",
    "## VAR Model - Hong Kong Vaccination"
   ]
  },
  {
   "cell_type": "markdown",
   "id": "ed22e8c9-8dbc-4134-90ac-8a4f8c4c1c25",
   "metadata": {},
   "source": [
    "# Import Modules and Settings"
   ]
  },
  {
   "cell_type": "code",
   "execution_count": 1,
   "id": "b62df672",
   "metadata": {},
   "outputs": [],
   "source": [
    "import pandas as pd\n",
    "import statsmodels.api as sm\n",
    "import warnings\n",
    "\n",
    "import tree_module\n",
    "import var_module\n",
    "\n",
    "# Settings\n",
    "warnings.filterwarnings('ignore')"
   ]
  },
  {
   "cell_type": "markdown",
   "id": "95d0a5b5",
   "metadata": {},
   "source": [
    "# Load Data"
   ]
  },
  {
   "cell_type": "code",
   "execution_count": 2,
   "id": "c7d32cf5-bad0-4d70-9161-80950b01e096",
   "metadata": {},
   "outputs": [],
   "source": [
    "# Read csv files\n",
    "covid_hk_case_cnt_std = pd.read_csv('./data/std_data/hk/covid_hk_case_count_std.csv')\n",
    "covid_hk_vacc_daily_cnt_std = pd.read_csv('./data/std_data/hk/covid_hk_vacc_daily_count_std.csv')"
   ]
  },
  {
   "cell_type": "markdown",
   "id": "52b08bc3-0d1e-4d93-a752-708cbe623954",
   "metadata": {},
   "source": [
    "# Drop Columns and Modify Data Type of Date Column"
   ]
  },
  {
   "cell_type": "code",
   "execution_count": 3,
   "id": "0ac95a57",
   "metadata": {},
   "outputs": [],
   "source": [
    "for df in [covid_hk_case_cnt_std,\n",
    "           covid_hk_vacc_daily_cnt_std]:\n",
    "    df.drop(['report_year', 'report_month', 'report_year_month'], axis=1, inplace=True, errors='ignore')\n",
    "    \n",
    "    df['report_date'] = pd.to_datetime(df['report_date'], format='%Y%m%d')"
   ]
  },
  {
   "cell_type": "markdown",
   "id": "f0c2bd23-8807-45d4-9959-e13bf870fc63",
   "metadata": {},
   "source": [
    "# Combine Datasets"
   ]
  },
  {
   "cell_type": "code",
   "execution_count": 4,
   "id": "beef54e1-8e5a-44c4-b128-57cd7c84a6d7",
   "metadata": {},
   "outputs": [],
   "source": [
    "# covid_hk_case_cnt_std: from 2020-01-08 to 2023-01-29\n",
    "# covid_hk_vacc_daily_cnt_std: from 2021-02-22 to 2024-07-07\n",
    "var_data = covid_hk_case_cnt_std \\\n",
    "    .merge(covid_hk_vacc_daily_cnt_std,\n",
    "           'inner',\n",
    "           'report_date')\n",
    "\n",
    "var_data.set_index('report_date', inplace=True)"
   ]
  },
  {
   "cell_type": "markdown",
   "id": "e60a5628-1597-4660-837e-97dd99c9033a",
   "metadata": {},
   "source": [
    "# Handle Non-Stationary Columns"
   ]
  },
  {
   "cell_type": "code",
   "execution_count": 5,
   "id": "f842cd0d-5e45-4fa2-a174-dcab7500443c",
   "metadata": {},
   "outputs": [],
   "source": [
    "# var_module.stationary_and_difference_loop(var_data, print_ind=True)"
   ]
  },
  {
   "cell_type": "markdown",
   "id": "b96c626e-c477-4d82-881c-8796e8f0bb3c",
   "metadata": {},
   "source": [
    "# Set Independent Variable, Dependent Variable and Threshold"
   ]
  },
  {
   "cell_type": "code",
   "execution_count": 6,
   "id": "0b2dfaa1-a5a6-4fa9-9232-87ad8add5273",
   "metadata": {},
   "outputs": [],
   "source": [
    "# First 3 Dose to New Case Count\n",
    "X_col_list, y_col_list, p_val_thrhld = \\\n",
    "    ['sinov_1st_dose','sinov_2nd_dose','sinov_3rd_dose','biont_1st_dose','biont_2nd_dose','biont_3rd_dose'], \\\n",
    "    ['new_case_cnt'], \\\n",
    "    0.05\n",
    "\n",
    "# New Case Count to BioNTech 1st Dose\n",
    "# X_col_list, y_col_list, p_val_thrhld = ['new_case_cnt'], ['biont_1st_dose'], 0.05\n",
    "\n",
    "# New Case Count and BioNTech 1st Dose to BioBioNTechnT 2nd Dose\n",
    "# X_col_list, y_col_list, p_val_thrhld = ['new_case_cnt', 'biont_1st_dose'], ['biont_2nd_dose'], 0.05\n",
    "\n",
    "# New Case Count to SinoVac 1st Dose\n",
    "# X_col_list, y_col_list, p_val_thrhld = ['new_case_cnt'], ['sinov_1st_dose'], 0.05\n",
    "\n",
    "# New Case Count and SinoVac 1st Dose to SinoVac 2nd Dose\n",
    "# X_col_list, y_col_list, p_val_thrhld = ['new_case_cnt', 'sinov_1st_dose'], ['sinov_2nd_dose'], 0.05"
   ]
  },
  {
   "cell_type": "markdown",
   "id": "3aeaf07d-d15e-404f-843a-d41a3e7dc379",
   "metadata": {},
   "source": [
    "# Fit Vector Autoregression Model and Obtain Significant Variables"
   ]
  },
  {
   "cell_type": "code",
   "execution_count": 7,
   "id": "b7b24b04-3a9d-4c09-ad2b-6b20548c0a84",
   "metadata": {},
   "outputs": [
    {
     "name": "stdout",
     "output_type": "stream",
     "text": [
      "Fitting the VAR model with maximum lag 20 ...\n",
      "Done.\n",
      "\n",
      "Results for equation new_case_cnt\n",
      "=====================================================================================\n",
      "                        coefficient       std. error           t-stat            prob\n",
      "-------------------------------------------------------------------------------------\n",
      "const                   -255.772739       120.821784           -2.117           0.034\n",
      "L1.sinov_1st_dose         -0.046584         0.054966           -0.848           0.397\n",
      "L1.sinov_2nd_dose         -0.036649         0.053534           -0.685           0.494\n",
      "L1.sinov_3rd_dose          0.050014         0.064022            0.781           0.435\n",
      "L1.biont_1st_dose         -0.117526         0.044823           -2.622           0.009\n",
      "L1.biont_2nd_dose          0.021559         0.045884            0.470           0.638\n",
      "L1.biont_3rd_dose          0.035938         0.052325            0.687           0.492\n",
      "L1.new_case_cnt            0.832130         0.042010           19.808           0.000\n",
      "L2.sinov_1st_dose          0.141542         0.072870            1.942           0.052\n",
      "L2.sinov_2nd_dose         -0.014513         0.055073           -0.264           0.792\n",
      "L2.sinov_3rd_dose         -0.000529         0.068732           -0.008           0.994\n",
      "L2.biont_1st_dose         -0.033139         0.060954           -0.544           0.587\n",
      "L2.biont_2nd_dose          0.089219         0.056275            1.585           0.113\n",
      "L2.biont_3rd_dose         -0.008248         0.067430           -0.122           0.903\n",
      "L2.new_case_cnt            0.218577         0.054266            4.028           0.000\n",
      "L3.sinov_1st_dose          0.041745         0.073723            0.566           0.571\n",
      "L3.sinov_2nd_dose         -0.023430         0.054569           -0.429           0.668\n",
      "L3.sinov_3rd_dose         -0.036609         0.069202           -0.529           0.597\n",
      "L3.biont_1st_dose          0.104383         0.061070            1.709           0.087\n",
      "L3.biont_2nd_dose         -0.083969         0.055922           -1.502           0.133\n",
      "L3.biont_3rd_dose         -0.011369         0.067461           -0.169           0.866\n",
      "L3.new_case_cnt           -0.292741         0.054093           -5.412           0.000\n",
      "L4.sinov_1st_dose         -0.030056         0.073254           -0.410           0.682\n",
      "L4.sinov_2nd_dose          0.049020         0.054274            0.903           0.366\n",
      "L4.sinov_3rd_dose          0.024192         0.071084            0.340           0.734\n",
      "L4.biont_1st_dose          0.015380         0.060791            0.253           0.800\n",
      "L4.biont_2nd_dose         -0.035032         0.055661           -0.629           0.529\n",
      "L4.biont_3rd_dose         -0.083402         0.069648           -1.197           0.231\n",
      "L4.new_case_cnt            0.482506         0.054963            8.779           0.000\n",
      "L5.sinov_1st_dose          0.058515         0.071482            0.819           0.413\n",
      "L5.sinov_2nd_dose          0.006970         0.055170            0.126           0.899\n",
      "L5.sinov_3rd_dose         -0.104341         0.071123           -1.467           0.142\n",
      "L5.biont_1st_dose          0.015437         0.060827            0.254           0.800\n",
      "L5.biont_2nd_dose         -0.087467         0.055679           -1.571           0.116\n",
      "L5.biont_3rd_dose          0.155033         0.070293            2.206           0.027\n",
      "L5.new_case_cnt           -0.134040         0.058705           -2.283           0.022\n",
      "L6.sinov_1st_dose         -0.217090         0.069502           -3.124           0.002\n",
      "L6.sinov_2nd_dose         -0.029059         0.054025           -0.538           0.591\n",
      "L6.sinov_3rd_dose          0.062313         0.070161            0.888           0.374\n",
      "L6.biont_1st_dose         -0.028787         0.060711           -0.474           0.635\n",
      "L6.biont_2nd_dose          0.141593         0.055955            2.530           0.011\n",
      "L6.biont_3rd_dose         -0.090984         0.069744           -1.305           0.192\n",
      "L6.new_case_cnt           -0.091700         0.058862           -1.558           0.119\n",
      "L7.sinov_1st_dose         -0.027241         0.068380           -0.398           0.690\n",
      "L7.sinov_2nd_dose          0.123843         0.052786            2.346           0.019\n",
      "L7.sinov_3rd_dose         -0.088523         0.068304           -1.296           0.195\n",
      "L7.biont_1st_dose          0.066995         0.060467            1.108           0.268\n",
      "L7.biont_2nd_dose         -0.086309         0.055355           -1.559           0.119\n",
      "L7.biont_3rd_dose          0.010045         0.069328            0.145           0.885\n",
      "L7.new_case_cnt           -0.256827         0.057256           -4.486           0.000\n",
      "L8.sinov_1st_dose          0.191742         0.077176            2.484           0.013\n",
      "L8.sinov_2nd_dose         -0.023270         0.055682           -0.418           0.676\n",
      "L8.sinov_3rd_dose         -0.094485         0.072089           -1.311           0.190\n",
      "L8.biont_1st_dose          0.021115         0.060802            0.347           0.728\n",
      "L8.biont_2nd_dose         -0.018381         0.055518           -0.331           0.741\n",
      "L8.biont_3rd_dose          0.123084         0.071179            1.729           0.084\n",
      "L8.new_case_cnt           -0.033639         0.057764           -0.582           0.560\n",
      "L9.sinov_1st_dose         -0.145182         0.083557           -1.738           0.082\n",
      "L9.sinov_2nd_dose          0.040043         0.055661            0.719           0.472\n",
      "L9.sinov_3rd_dose          0.069184         0.071779            0.964           0.335\n",
      "L9.biont_1st_dose         -0.048101         0.062357           -0.771           0.440\n",
      "L9.biont_2nd_dose          0.034497         0.055529            0.621           0.534\n",
      "L9.biont_3rd_dose         -0.078588         0.070771           -1.110           0.267\n",
      "L9.new_case_cnt            0.062842         0.057193            1.099           0.272\n",
      "L10.sinov_1st_dose        -0.164696         0.082667           -1.992           0.046\n",
      "L10.sinov_2nd_dose         0.063697         0.055043            1.157           0.247\n",
      "L10.sinov_3rd_dose         0.129250         0.071672            1.803           0.071\n",
      "L10.biont_1st_dose         0.015927         0.062479            0.255           0.799\n",
      "L10.biont_2nd_dose         0.079709         0.055886            1.426           0.154\n",
      "L10.biont_3rd_dose        -0.040666         0.071388           -0.570           0.569\n",
      "L10.new_case_cnt           0.086476         0.058728            1.472           0.141\n",
      "L11.sinov_1st_dose         0.166506         0.082297            2.023           0.043\n",
      "L11.sinov_2nd_dose        -0.048487         0.055325           -0.876           0.381\n",
      "L11.sinov_3rd_dose         0.031396         0.071391            0.440           0.660\n",
      "L11.biont_1st_dose        -0.061643         0.062508           -0.986           0.324\n",
      "L11.biont_2nd_dose         0.021300         0.055694            0.382           0.702\n",
      "L11.biont_3rd_dose        -0.033713         0.073425           -0.459           0.646\n",
      "L11.new_case_cnt           0.124253         0.057077            2.177           0.029\n",
      "L12.sinov_1st_dose         0.373952         0.079196            4.722           0.000\n",
      "L12.sinov_2nd_dose        -0.146019         0.054739           -2.668           0.008\n",
      "L12.sinov_3rd_dose         0.017132         0.070769            0.242           0.809\n",
      "L12.biont_1st_dose        -0.011575         0.062332           -0.186           0.853\n",
      "L12.biont_2nd_dose        -0.123774         0.055017           -2.250           0.024\n",
      "L12.biont_3rd_dose         0.028028         0.072900            0.384           0.701\n",
      "L12.new_case_cnt           0.004076         0.057251            0.071           0.943\n",
      "L13.sinov_1st_dose        -0.438713         0.076748           -5.716           0.000\n",
      "L13.sinov_2nd_dose         0.093576         0.054625            1.713           0.087\n",
      "L13.sinov_3rd_dose        -0.025227         0.070834           -0.356           0.722\n",
      "L13.biont_1st_dose         0.041897         0.061031            0.686           0.492\n",
      "L13.biont_2nd_dose         0.114010         0.053689            2.124           0.034\n",
      "L13.biont_3rd_dose         0.004486         0.073451            0.061           0.951\n",
      "L13.new_case_cnt           0.057567         0.055789            1.032           0.302\n",
      "L14.sinov_1st_dose         0.309927         0.073862            4.196           0.000\n",
      "L14.sinov_2nd_dose        -0.126064         0.052025           -2.423           0.015\n",
      "L14.sinov_3rd_dose         0.130486         0.065674            1.987           0.047\n",
      "L14.biont_1st_dose        -0.066694         0.059840           -1.115           0.265\n",
      "L14.biont_2nd_dose        -0.096230         0.053324           -1.805           0.071\n",
      "L14.biont_3rd_dose        -0.067760         0.070269           -0.964           0.335\n",
      "L14.new_case_cnt          -0.188046         0.054331           -3.461           0.001\n",
      "L15.sinov_1st_dose         0.176319         0.075612            2.332           0.020\n",
      "L15.sinov_2nd_dose        -0.067843         0.051865           -1.308           0.191\n",
      "L15.sinov_3rd_dose         0.041643         0.067766            0.615           0.539\n",
      "L15.biont_1st_dose        -0.061279         0.060450           -1.014           0.311\n",
      "L15.biont_2nd_dose         0.030219         0.053090            0.569           0.569\n",
      "L15.biont_3rd_dose        -0.096998         0.071170           -1.363           0.173\n",
      "L15.new_case_cnt           0.043217         0.053862            0.802           0.422\n",
      "L16.sinov_1st_dose        -0.097539         0.076133           -1.281           0.200\n",
      "L16.sinov_2nd_dose         0.092341         0.051732            1.785           0.074\n",
      "L16.sinov_3rd_dose         0.057796         0.068851            0.839           0.401\n",
      "L16.biont_1st_dose         0.067566         0.060543            1.116           0.264\n",
      "L16.biont_2nd_dose         0.013122         0.053148            0.247           0.805\n",
      "L16.biont_3rd_dose        -0.099517         0.071974           -1.383           0.167\n",
      "L16.new_case_cnt          -0.045417         0.053214           -0.853           0.393\n",
      "L17.sinov_1st_dose         0.132041         0.074744            1.767           0.077\n",
      "L17.sinov_2nd_dose        -0.025741         0.051067           -0.504           0.614\n",
      "L17.sinov_3rd_dose        -0.189439         0.068609           -2.761           0.006\n",
      "L17.biont_1st_dose         0.003889         0.059930            0.065           0.948\n",
      "L17.biont_2nd_dose        -0.070895         0.052960           -1.339           0.181\n",
      "L17.biont_3rd_dose         0.197743         0.071007            2.785           0.005\n",
      "L17.new_case_cnt          -0.043058         0.050179           -0.858           0.391\n",
      "L18.sinov_1st_dose        -0.447260         0.075743           -5.905           0.000\n",
      "L18.sinov_2nd_dose         0.121041         0.050939            2.376           0.017\n",
      "L18.sinov_3rd_dose        -0.027910         0.068728           -0.406           0.685\n",
      "L18.biont_1st_dose        -0.018720         0.059221           -0.316           0.752\n",
      "L18.biont_2nd_dose         0.017154         0.052642            0.326           0.745\n",
      "L18.biont_3rd_dose         0.044420         0.072121            0.616           0.538\n",
      "L18.new_case_cnt           0.111263         0.048508            2.294           0.022\n",
      "L19.sinov_1st_dose        -0.037965         0.076114           -0.499           0.618\n",
      "L19.sinov_2nd_dose         0.004290         0.051215            0.084           0.933\n",
      "L19.sinov_3rd_dose         0.084994         0.068028            1.249           0.212\n",
      "L19.biont_1st_dose        -0.006405         0.059197           -0.108           0.914\n",
      "L19.biont_2nd_dose         0.082471         0.052507            1.571           0.116\n",
      "L19.biont_3rd_dose        -0.040437         0.071826           -0.563           0.573\n",
      "L19.new_case_cnt          -0.168543         0.049090           -3.433           0.001\n",
      "L20.sinov_1st_dose         0.186281         0.060789            3.064           0.002\n",
      "L20.sinov_2nd_dose        -0.011909         0.045752           -0.260           0.795\n",
      "L20.sinov_3rd_dose        -0.062178         0.062014           -1.003           0.316\n",
      "L20.biont_1st_dose         0.030473         0.048152            0.633           0.527\n",
      "L20.biont_2nd_dose        -0.037715         0.038993           -0.967           0.333\n",
      "L20.biont_3rd_dose         0.011764         0.055544            0.212           0.832\n",
      "L20.new_case_cnt           0.147336         0.038572            3.820           0.000\n",
      "=====================================================================================\n",
      "\n"
     ]
    }
   ],
   "source": [
    "var_model = var_module.fit_var_model(var_data, X_col_list, y_col_list, print_result_ind=True)"
   ]
  },
  {
   "cell_type": "code",
   "execution_count": 8,
   "id": "f33b58eb-ae2f-4db9-b292-e0a06cc92745",
   "metadata": {},
   "outputs": [
    {
     "name": "stdout",
     "output_type": "stream",
     "text": [
      "For new_case_cnt,\n",
      "The following variables are significant (p-value < 0.05):\n",
      "(variable name: p-value)\n",
      "L1.biont_1st_dose: 0.00874\n",
      "L1.new_case_cnt: 2.56e-87\n",
      "L2.new_case_cnt: 5.63e-05\n",
      "L3.new_case_cnt: 6.24e-08\n",
      "L4.new_case_cnt: 1.65e-18\n",
      "L5.biont_3rd_dose: 0.0274\n",
      "L5.new_case_cnt: 0.0224\n",
      "L6.sinov_1st_dose: 0.00179\n",
      "L6.biont_2nd_dose: 0.0114\n",
      "L7.sinov_2nd_dose: 0.019\n",
      "L7.new_case_cnt: 7.27e-06\n",
      "L8.sinov_1st_dose: 0.013\n",
      "L10.sinov_1st_dose: 0.0463\n",
      "L11.sinov_1st_dose: 0.043\n",
      "L11.new_case_cnt: 0.0295\n",
      "L12.sinov_1st_dose: 2.34e-06\n",
      "L12.sinov_2nd_dose: 0.00764\n",
      "L12.biont_2nd_dose: 0.0245\n",
      "L13.sinov_1st_dose: 1.09e-08\n",
      "L13.biont_2nd_dose: 0.0337\n",
      "L14.sinov_1st_dose: 2.72e-05\n",
      "L14.sinov_2nd_dose: 0.0154\n",
      "L14.sinov_3rd_dose: 0.0469\n",
      "L14.new_case_cnt: 0.000538\n",
      "L15.sinov_1st_dose: 0.0197\n",
      "L17.sinov_3rd_dose: 0.00576\n",
      "L17.biont_3rd_dose: 0.00536\n",
      "L18.sinov_1st_dose: 3.53e-09\n",
      "L18.sinov_2nd_dose: 0.0175\n",
      "L18.new_case_cnt: 0.0218\n",
      "L19.new_case_cnt: 0.000596\n",
      "L20.sinov_1st_dose: 0.00218\n",
      "L20.new_case_cnt: 0.000134\n",
      "\n"
     ]
    }
   ],
   "source": [
    "var_signf_X_col_list = var_module.get_significant_variable(var_model, y_col_list, p_val_thrhld)"
   ]
  },
  {
   "cell_type": "markdown",
   "id": "55cf68e1-08ec-4400-86e3-0989da151df3",
   "metadata": {},
   "source": [
    "# Fit Ordinary Least Squares Regress Model"
   ]
  },
  {
   "cell_type": "code",
   "execution_count": 9,
   "id": "6dbbc515-22ae-44f5-aacf-984c7ac4c1cf",
   "metadata": {},
   "outputs": [],
   "source": [
    "X = var_module.add_lagged_column(var_data, var_signf_X_col_list)\n",
    "X = X.iloc[var_model.max_lag_order:, :]\n",
    "X = X[var_signf_X_col_list]\n",
    "X = X[sorted(X.columns)]\n",
    "\n",
    "y = var_data[y_col_list].iloc[var_model.max_lag_order:, :]"
   ]
  },
  {
   "cell_type": "code",
   "execution_count": 10,
   "id": "79c9f1c4-61f2-4478-bb09-920037a6b78d",
   "metadata": {},
   "outputs": [
    {
     "name": "stdout",
     "output_type": "stream",
     "text": [
      "Random Forest\n",
      "MSE:  9.85774e+05\n",
      "Feature Importances:\n",
      "1. L1.new_case_cnt: 0.3393\n",
      "2. L2.new_case_cnt: 0.2563\n",
      "3. L15.sinov_1st_dose: 0.0935\n",
      "4. L3.new_case_cnt: 0.0625\n",
      "5. L12.sinov_1st_dose: 0.0478\n",
      "6. L14.sinov_1st_dose: 0.0410\n",
      "7. L8.sinov_1st_dose: 0.0267\n",
      "8. L11.sinov_1st_dose: 0.0239\n",
      "9. L10.sinov_1st_dose: 0.0190\n",
      "10. L18.sinov_1st_dose: 0.0184\n",
      "11. L13.sinov_1st_dose: 0.0098\n",
      "12. L11.new_case_cnt: 0.0088\n",
      "13. L19.new_case_cnt: 0.0060\n",
      "14. L12.sinov_2nd_dose: 0.0060\n",
      "15. L7.new_case_cnt: 0.0041\n",
      "16. L14.new_case_cnt: 0.0040\n",
      "17. L1.biont_1st_dose: 0.0038\n",
      "18. L6.sinov_1st_dose: 0.0035\n",
      "19. L18.new_case_cnt: 0.0035\n",
      "20. L18.sinov_2nd_dose: 0.0032\n",
      "21. L14.sinov_3rd_dose: 0.0032\n",
      "22. L5.biont_3rd_dose: 0.0030\n",
      "23. L4.new_case_cnt: 0.0025\n",
      "24. L13.biont_2nd_dose: 0.0019\n",
      "25. L5.new_case_cnt: 0.0016\n",
      "26. L20.sinov_1st_dose: 0.0015\n",
      "27. L6.biont_2nd_dose: 0.0012\n",
      "28. L17.biont_3rd_dose: 0.0011\n",
      "29. L12.biont_2nd_dose: 0.0010\n",
      "30. L14.sinov_2nd_dose: 0.0007\n",
      "31. L17.sinov_3rd_dose: 0.0006\n",
      "32. L7.sinov_2nd_dose: 0.0004\n",
      "33. L20.new_case_cnt: 0.0003\n"
     ]
    }
   ],
   "source": [
    "tree_module.print_random_forest_importance(X, y, random_state=2024)"
   ]
  },
  {
   "cell_type": "code",
   "execution_count": 11,
   "id": "cbb106ca-a035-468e-8aa4-70b2486bcb12",
   "metadata": {},
   "outputs": [
    {
     "name": "stdout",
     "output_type": "stream",
     "text": [
      "                            OLS Regression Results                            \n",
      "==============================================================================\n",
      "Dep. Variable:           new_case_cnt   R-squared:                       0.937\n",
      "Model:                            OLS   Adj. R-squared:                  0.933\n",
      "Method:                 Least Squares   F-statistic:                     292.3\n",
      "Date:                Sun, 20 Oct 2024   Prob (F-statistic):               0.00\n",
      "Time:                        12:18:56   Log-Likelihood:                -5942.7\n",
      "No. Observations:                 687   AIC:                         1.195e+04\n",
      "Df Residuals:                     653   BIC:                         1.211e+04\n",
      "Df Model:                          33                                         \n",
      "Covariance Type:            nonrobust                                         \n",
      "======================================================================================\n",
      "                         coef    std err          t      P>|t|      [0.025      0.975]\n",
      "--------------------------------------------------------------------------------------\n",
      "const               -124.9636    113.961     -1.097      0.273    -348.738      98.811\n",
      "L1.biont_1st_dose     -0.0405      0.019     -2.176      0.030      -0.077      -0.004\n",
      "L1.new_case_cnt        0.8674      0.036     24.130      0.000       0.797       0.938\n",
      "L10.sinov_1st_dose    -0.0514      0.034     -1.531      0.126      -0.117       0.015\n",
      "L11.new_case_cnt       0.1673      0.029      5.718      0.000       0.110       0.225\n",
      "L11.sinov_1st_dose     0.0361      0.044      0.820      0.413      -0.050       0.123\n",
      "L12.biont_2nd_dose    -0.0971      0.032     -2.999      0.003      -0.161      -0.034\n",
      "L12.sinov_1st_dose     0.3584      0.041      8.747      0.000       0.278       0.439\n",
      "L12.sinov_2nd_dose    -0.0565      0.036     -1.567      0.118      -0.127       0.014\n",
      "L13.biont_2nd_dose     0.0838      0.032      2.645      0.008       0.022       0.146\n",
      "L13.sinov_1st_dose    -0.4612      0.049     -9.432      0.000      -0.557      -0.365\n",
      "L14.new_case_cnt      -0.1004      0.028     -3.553      0.000      -0.156      -0.045\n",
      "L14.sinov_1st_dose     0.2599      0.043      6.106      0.000       0.176       0.344\n",
      "L14.sinov_2nd_dose    -0.1040      0.040     -2.601      0.010      -0.182      -0.025\n",
      "L14.sinov_3rd_dose     0.0344      0.032      1.069      0.286      -0.029       0.098\n",
      "L15.sinov_1st_dose     0.1147      0.041      2.776      0.006       0.034       0.196\n",
      "L17.biont_3rd_dose    -0.0043      0.022     -0.200      0.842      -0.047       0.038\n",
      "L17.sinov_3rd_dose    -0.0163      0.036     -0.455      0.649      -0.086       0.054\n",
      "L18.new_case_cnt       0.0295      0.035      0.850      0.396      -0.039       0.098\n",
      "L18.sinov_1st_dose    -0.3258      0.038     -8.669      0.000      -0.400      -0.252\n",
      "L18.sinov_2nd_dose     0.1131      0.030      3.769      0.000       0.054       0.172\n",
      "L19.new_case_cnt      -0.1142      0.040     -2.838      0.005      -0.193      -0.035\n",
      "L2.new_case_cnt        0.1319      0.047      2.829      0.005       0.040       0.223\n",
      "L20.new_case_cnt       0.1156      0.032      3.616      0.000       0.053       0.178\n",
      "L20.sinov_1st_dose     0.1495      0.033      4.526      0.000       0.085       0.214\n",
      "L3.new_case_cnt       -0.2406      0.042     -5.683      0.000      -0.324      -0.157\n",
      "L4.new_case_cnt        0.4453      0.044     10.199      0.000       0.360       0.531\n",
      "L5.biont_3rd_dose      0.0046      0.017      0.275      0.783      -0.028       0.037\n",
      "L5.new_case_cnt       -0.1268      0.042     -3.008      0.003      -0.210      -0.044\n",
      "L6.biont_2nd_dose      0.0059      0.020      0.291      0.771      -0.034       0.046\n",
      "L6.sinov_1st_dose     -0.0303      0.032     -0.933      0.351      -0.094       0.033\n",
      "L7.new_case_cnt       -0.2842      0.033     -8.708      0.000      -0.348      -0.220\n",
      "L7.sinov_2nd_dose      0.0662      0.034      1.932      0.054      -0.001       0.133\n",
      "L8.sinov_1st_dose      0.0481      0.035      1.370      0.171      -0.021       0.117\n",
      "==============================================================================\n",
      "Omnibus:                     1162.124   Durbin-Watson:                   1.964\n",
      "Prob(Omnibus):                  0.000   Jarque-Bera (JB):          1152590.333\n",
      "Skew:                          10.182   Prob(JB):                         0.00\n",
      "Kurtosis:                     202.626   Cond. No.                     6.25e+04\n",
      "==============================================================================\n",
      "\n",
      "Notes:\n",
      "[1] Standard Errors assume that the covariance matrix of the errors is correctly specified.\n",
      "[2] The condition number is large, 6.25e+04. This might indicate that there are\n",
      "strong multicollinearity or other numerical problems.\n"
     ]
    }
   ],
   "source": [
    "# Add the constant term for OLS Regression Model\n",
    "OLS_reg_X = sm.add_constant(X)\n",
    "\n",
    "# Ordinary Least Squares Regression Model\n",
    "OLS_reg_model = sm.OLS(y, OLS_reg_X)\n",
    "OLS_reg_model = OLS_reg_model.fit()\n",
    "\n",
    "# Print the summary of the fitted model\n",
    "print(OLS_reg_model.summary())"
   ]
  },
  {
   "cell_type": "code",
   "execution_count": null,
   "id": "6e6274a4-0762-4566-863f-249f1c03d767",
   "metadata": {},
   "outputs": [],
   "source": []
  },
  {
   "cell_type": "code",
   "execution_count": null,
   "id": "6ec39156-3576-4f13-a80e-128e6acae9b1",
   "metadata": {},
   "outputs": [],
   "source": []
  }
 ],
 "metadata": {
  "kernelspec": {
   "display_name": "Python 3 (ipykernel)",
   "language": "python",
   "name": "python3"
  },
  "language_info": {
   "codemirror_mode": {
    "name": "ipython",
    "version": 3
   },
   "file_extension": ".py",
   "mimetype": "text/x-python",
   "name": "python",
   "nbconvert_exporter": "python",
   "pygments_lexer": "ipython3",
   "version": "3.11.4"
  }
 },
 "nbformat": 4,
 "nbformat_minor": 5
}
