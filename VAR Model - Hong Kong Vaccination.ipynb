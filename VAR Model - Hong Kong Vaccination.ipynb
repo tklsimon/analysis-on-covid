{
 "cells": [
  {
   "cell_type": "markdown",
   "id": "5f5fa870-3875-4d53-a621-24aefb924a65",
   "metadata": {},
   "source": [
    "# The University of Hong Kong\n",
    "## DASC7600 Data Science Project 2024\n",
    "## VAR Model - Hong Kong Vaccination"
   ]
  },
  {
   "cell_type": "markdown",
   "id": "ed22e8c9-8dbc-4134-90ac-8a4f8c4c1c25",
   "metadata": {},
   "source": [
    "# Import Modules and Settings"
   ]
  },
  {
   "cell_type": "code",
   "execution_count": 1,
   "id": "b62df672",
   "metadata": {},
   "outputs": [],
   "source": [
    "import pandas as pd\n",
    "import statsmodels.api as sm\n",
    "import warnings\n",
    "\n",
    "import tree_module\n",
    "import var_module\n",
    "\n",
    "# Settings\n",
    "warnings.filterwarnings('ignore')"
   ]
  },
  {
   "cell_type": "markdown",
   "id": "95d0a5b5",
   "metadata": {},
   "source": [
    "# Load Data"
   ]
  },
  {
   "cell_type": "code",
   "execution_count": 2,
   "id": "c7d32cf5-bad0-4d70-9161-80950b01e096",
   "metadata": {},
   "outputs": [],
   "source": [
    "# Read csv files\n",
    "covid_hk_case_cnt_std = pd.read_csv('./data/std_data/hk/covid_hk_case_count_std.csv')\n",
    "covid_hk_vacc_daily_cnt_std = pd.read_csv('./data/std_data/hk/covid_hk_vacc_daily_count_std.csv')"
   ]
  },
  {
   "cell_type": "markdown",
   "id": "52b08bc3-0d1e-4d93-a752-708cbe623954",
   "metadata": {},
   "source": [
    "# Drop Columns and Modify Data Type of Date Column"
   ]
  },
  {
   "cell_type": "code",
   "execution_count": 3,
   "id": "0ac95a57",
   "metadata": {},
   "outputs": [],
   "source": [
    "for df in [covid_hk_case_cnt_std,\n",
    "           covid_hk_vacc_daily_cnt_std]:\n",
    "    df.drop(['report_year', 'report_month', 'report_year_month'], axis=1, inplace=True, errors='ignore')\n",
    "    \n",
    "    df['report_date'] = pd.to_datetime(df['report_date'], format='%Y%m%d')"
   ]
  },
  {
   "cell_type": "markdown",
   "id": "f0c2bd23-8807-45d4-9959-e13bf870fc63",
   "metadata": {},
   "source": [
    "# Combine Datasets"
   ]
  },
  {
   "cell_type": "code",
   "execution_count": 4,
   "id": "beef54e1-8e5a-44c4-b128-57cd7c84a6d7",
   "metadata": {},
   "outputs": [],
   "source": [
    "# covid_hk_case_cnt_std: from 2020-01-08 to 2023-01-29\n",
    "# covid_hk_vacc_daily_cnt_std: from 2021-02-22 to 2024-07-07\n",
    "var_data = covid_hk_case_cnt_std \\\n",
    "    .merge(covid_hk_vacc_daily_cnt_std,\n",
    "           'inner',\n",
    "           'report_date')\n",
    "\n",
    "var_data.set_index('report_date', inplace=True)"
   ]
  },
  {
   "cell_type": "markdown",
   "id": "e60a5628-1597-4660-837e-97dd99c9033a",
   "metadata": {},
   "source": [
    "# Handle Non-Stationary Columns"
   ]
  },
  {
   "cell_type": "code",
   "execution_count": 5,
   "id": "f842cd0d-5e45-4fa2-a174-dcab7500443c",
   "metadata": {},
   "outputs": [
    {
     "name": "stdout",
     "output_type": "stream",
     "text": [
      "Running the function stationary_and_difference using for loop ...\n",
      "\n",
      "Running Loop #1 ...\n",
      "The column cuml_case_cnt has ADF p-value 0.96047 which is non-stationary.\n",
      "--> Replacing the column cuml_case_cnt with its difference column cuml_case_cnt_diff_1 ...\n",
      "The column cuml_dischg_cnt has ADF p-value 0.71004 which is non-stationary.\n",
      "--> Replacing the column cuml_dischg_cnt with its difference column cuml_dischg_cnt_diff_1 ...\n",
      "The column cuml_death_cnt has ADF p-value 0.94034 which is non-stationary.\n",
      "--> Replacing the column cuml_death_cnt with its difference column cuml_death_cnt_diff_1 ...\n",
      "The column new_case_cnt has ADF p-value 0.00004 which is stationary.\n",
      "The column new_dischg_cnt has ADF p-value 0.00000 which is stationary.\n",
      "The column sinov_1st_dose has ADF p-value 0.03913 which is stationary.\n",
      "The column sinov_2nd_dose has ADF p-value 0.11530 which is non-stationary.\n",
      "--> Replacing the column sinov_2nd_dose with its difference column sinov_2nd_dose_diff_1 ...\n",
      "The column sinov_3rd_dose has ADF p-value 0.28223 which is non-stationary.\n",
      "--> Replacing the column sinov_3rd_dose with its difference column sinov_3rd_dose_diff_1 ...\n",
      "The column biont_1st_dose has ADF p-value 0.46950 which is non-stationary.\n",
      "--> Replacing the column biont_1st_dose with its difference column biont_1st_dose_diff_1 ...\n",
      "The column biont_2nd_dose has ADF p-value 0.58416 which is non-stationary.\n",
      "--> Replacing the column biont_2nd_dose with its difference column biont_2nd_dose_diff_1 ...\n",
      "The column biont_3rd_dose has ADF p-value 0.20647 which is non-stationary.\n",
      "--> Replacing the column biont_3rd_dose with its difference column biont_3rd_dose_diff_1 ...\n",
      "\n",
      "Running Loop #2 ...\n",
      "The column cuml_case_cnt_diff_1 has ADF p-value 0.00004 which is stationary.\n",
      "The column cuml_dischg_cnt_diff_1 has ADF p-value 0.00000 which is stationary.\n",
      "The column cuml_death_cnt_diff_1 has ADF p-value 0.00170 which is stationary.\n",
      "The column sinov_2nd_dose_diff_1 has ADF p-value 0.00000 which is stationary.\n",
      "The column sinov_3rd_dose_diff_1 has ADF p-value 0.00000 which is stationary.\n",
      "The column biont_1st_dose_diff_1 has ADF p-value 0.00000 which is stationary.\n",
      "The column biont_2nd_dose_diff_1 has ADF p-value 0.00000 which is stationary.\n",
      "The column biont_3rd_dose_diff_1 has ADF p-value 0.00001 which is stationary.\n",
      "\n",
      "All target columns are now stationary.\n",
      "Loop Ended.\n"
     ]
    }
   ],
   "source": [
    "var_module.stationary_and_difference_loop(var_data, print_ind=True)"
   ]
  },
  {
   "cell_type": "markdown",
   "id": "b96c626e-c477-4d82-881c-8796e8f0bb3c",
   "metadata": {},
   "source": [
    "# Set Independent Variable, Dependent Variable and Threshold"
   ]
  },
  {
   "cell_type": "code",
   "execution_count": 6,
   "id": "0b2dfaa1-a5a6-4fa9-9232-87ad8add5273",
   "metadata": {},
   "outputs": [],
   "source": [
    "# First 3 Dose to New Case Count\n",
    "# X_col_list, y_col_list, p_val_thrhld = \\\n",
    "#     ['sinov_1st_dose','sinov_2nd_dose','sinov_3rd_dose','biont_1st_dose','biont_2nd_dose','biont_3rd_dose'], \\\n",
    "#     ['new_case_cnt'], \\\n",
    "#     0.05\n",
    "\n",
    "# New Case Count to BioNTech 1st Dose\n",
    "X_col_list, y_col_list, p_val_thrhld = ['new_case_cnt'], ['biont_1st_dose'], 0.05\n",
    "\n",
    "# New Case Count and BioNTech 1st Dose to BioBioNTechnT 2nd Dose\n",
    "# X_col_list, y_col_list, p_val_thrhld = ['new_case_cnt', 'biont_1st_dose'], ['biont_2nd_dose'], 0.05\n",
    "\n",
    "# New Case Count to SinoVac 1st Dose\n",
    "# X_col_list, y_col_list, p_val_thrhld = ['new_case_cnt'], ['sinov_1st_dose'], 0.05\n",
    "\n",
    "# New Case Count and SinoVac 1st Dose to SinoVac 2nd Dose\n",
    "# X_col_list, y_col_list, p_val_thrhld = ['new_case_cnt', 'sinov_1st_dose'], ['sinov_2nd_dose'], 0.05"
   ]
  },
  {
   "cell_type": "markdown",
   "id": "3aeaf07d-d15e-404f-843a-d41a3e7dc379",
   "metadata": {},
   "source": [
    "# Fit Vector Autoregression Model and Obtain Significant Variables"
   ]
  },
  {
   "cell_type": "code",
   "execution_count": 7,
   "id": "b7b24b04-3a9d-4c09-ad2b-6b20548c0a84",
   "metadata": {},
   "outputs": [
    {
     "name": "stdout",
     "output_type": "stream",
     "text": [
      "Fitting the VAR model with maximum lag 14 ...\n",
      "Done.\n",
      "\n",
      "Results for equation biont_1st_dose_diff_1\n",
      "============================================================================================\n",
      "                               coefficient       std. error           t-stat            prob\n",
      "--------------------------------------------------------------------------------------------\n",
      "const                            33.997336        58.054097            0.586           0.558\n",
      "L1.new_case_cnt                  -0.009341         0.033187           -0.281           0.778\n",
      "L1.biont_1st_dose_diff_1         -0.043078         0.038711           -1.113           0.266\n",
      "L2.new_case_cnt                   0.022695         0.044254            0.513           0.608\n",
      "L2.biont_1st_dose_diff_1         -0.119765         0.038585           -3.104           0.002\n",
      "L3.new_case_cnt                  -0.034532         0.044261           -0.780           0.435\n",
      "L3.biont_1st_dose_diff_1         -0.132576         0.038689           -3.427           0.001\n",
      "L4.new_case_cnt                  -0.007134         0.044794           -0.159           0.873\n",
      "L4.biont_1st_dose_diff_1         -0.152789         0.039045           -3.913           0.000\n",
      "L5.new_case_cnt                   0.025101         0.047383            0.530           0.596\n",
      "L5.biont_1st_dose_diff_1         -0.045080         0.039475           -1.142           0.253\n",
      "L6.new_case_cnt                   0.018317         0.047668            0.384           0.701\n",
      "L6.biont_1st_dose_diff_1          0.122058         0.039273            3.108           0.002\n",
      "L7.new_case_cnt                  -0.007502         0.047268           -0.159           0.874\n",
      "L7.biont_1st_dose_diff_1          0.277585         0.039544            7.020           0.000\n",
      "L8.new_case_cnt                  -0.028047         0.047219           -0.594           0.553\n",
      "L8.biont_1st_dose_diff_1         -0.058126         0.039505           -1.471           0.141\n",
      "L9.new_case_cnt                  -0.004868         0.047553           -0.102           0.918\n",
      "L9.biont_1st_dose_diff_1         -0.121942         0.039502           -3.087           0.002\n",
      "L10.new_case_cnt                  0.022460         0.047304            0.475           0.635\n",
      "L10.biont_1st_dose_diff_1        -0.028385         0.039749           -0.714           0.475\n",
      "L11.new_case_cnt                 -0.044975         0.044610           -1.008           0.313\n",
      "L11.biont_1st_dose_diff_1        -0.043710         0.039360           -1.111           0.267\n",
      "L12.new_case_cnt                  0.002972         0.043874            0.068           0.946\n",
      "L12.biont_1st_dose_diff_1        -0.104569         0.039077           -2.676           0.007\n",
      "L13.new_case_cnt                  0.030356         0.043788            0.693           0.488\n",
      "L13.biont_1st_dose_diff_1        -0.125951         0.039001           -3.229           0.001\n",
      "L14.new_case_cnt                 -0.005771         0.032777           -0.176           0.860\n",
      "L14.biont_1st_dose_diff_1         0.074984         0.039282            1.909           0.056\n",
      "============================================================================================\n",
      "\n"
     ]
    }
   ],
   "source": [
    "var_model = var_module.fit_var_model(var_data, X_col_list, y_col_list, print_result_ind=True)"
   ]
  },
  {
   "cell_type": "code",
   "execution_count": 8,
   "id": "f33b58eb-ae2f-4db9-b292-e0a06cc92745",
   "metadata": {},
   "outputs": [
    {
     "name": "stdout",
     "output_type": "stream",
     "text": [
      "For biont_1st_dose_diff_1,\n",
      "The following variables are significant (p-value < 0.05):\n",
      "(variable name: p-value)\n",
      "L2.biont_1st_dose_diff_1: 0.00191\n",
      "L3.biont_1st_dose_diff_1: 0.000611\n",
      "L4.biont_1st_dose_diff_1: 9.11e-05\n",
      "L6.biont_1st_dose_diff_1: 0.00188\n",
      "L7.biont_1st_dose_diff_1: 2.23e-12\n",
      "L9.biont_1st_dose_diff_1: 0.00202\n",
      "L12.biont_1st_dose_diff_1: 0.00745\n",
      "L13.biont_1st_dose_diff_1: 0.00124\n",
      "\n"
     ]
    }
   ],
   "source": [
    "var_signf_X_col_list = var_module.get_significant_variable(var_model, y_col_list, p_val_thrhld)"
   ]
  },
  {
   "cell_type": "markdown",
   "id": "55cf68e1-08ec-4400-86e3-0989da151df3",
   "metadata": {},
   "source": [
    "# Fit Ordinary Least Squares Regress Model"
   ]
  },
  {
   "cell_type": "code",
   "execution_count": 9,
   "id": "6dbbc515-22ae-44f5-aacf-984c7ac4c1cf",
   "metadata": {},
   "outputs": [],
   "source": [
    "X = var_module.add_lagged_column(var_data, var_signf_X_col_list)\n",
    "X = X.iloc[var_model.max_lag_order:, :]\n",
    "X = X[var_signf_X_col_list]\n",
    "X = X[sorted(X.columns)]\n",
    "\n",
    "y = var_data[[col for col in var_data.columns if col.split('_diff_')[0] in y_col_list]].iloc[var_model.max_lag_order:, :]"
   ]
  },
  {
   "cell_type": "code",
   "execution_count": 10,
   "id": "79c9f1c4-61f2-4478-bb09-920037a6b78d",
   "metadata": {},
   "outputs": [
    {
     "name": "stdout",
     "output_type": "stream",
     "text": [
      "Random Forest\n",
      "MSE:  1.28178e+06\n",
      "Feature Importances:\n",
      "1. L7.biont_1st_dose_diff_1: 0.2908\n",
      "2. L6.biont_1st_dose_diff_1: 0.1553\n",
      "3. L3.biont_1st_dose_diff_1: 0.1026\n",
      "4. L13.biont_1st_dose_diff_1: 0.1014\n",
      "5. L2.biont_1st_dose_diff_1: 0.0941\n",
      "6. L9.biont_1st_dose_diff_1: 0.0919\n",
      "7. L12.biont_1st_dose_diff_1: 0.0832\n",
      "8. L4.biont_1st_dose_diff_1: 0.0808\n"
     ]
    }
   ],
   "source": [
    "tree_module.fit_and_print_random_forest_feature_importance(X, y, random_state=2024)"
   ]
  },
  {
   "cell_type": "code",
   "execution_count": 11,
   "id": "cbb106ca-a035-468e-8aa4-70b2486bcb12",
   "metadata": {},
   "outputs": [
    {
     "name": "stdout",
     "output_type": "stream",
     "text": [
      "                              OLS Regression Results                             \n",
      "=================================================================================\n",
      "Dep. Variable:     biont_1st_dose_diff_1   R-squared:                       0.243\n",
      "Model:                               OLS   Adj. R-squared:                  0.234\n",
      "Method:                    Least Squares   F-statistic:                     27.39\n",
      "Date:                   Sun, 20 Oct 2024   Prob (F-statistic):           5.30e-37\n",
      "Time:                           18:37:15   Log-Likelihood:                -6008.1\n",
      "No. Observations:                    693   AIC:                         1.203e+04\n",
      "Df Residuals:                        684   BIC:                         1.208e+04\n",
      "Df Model:                              8                                         \n",
      "Covariance Type:               nonrobust                                         \n",
      "=============================================================================================\n",
      "                                coef    std err          t      P>|t|      [0.025      0.975]\n",
      "---------------------------------------------------------------------------------------------\n",
      "const                        -1.1617     53.885     -0.022      0.983    -106.961     104.637\n",
      "L12.biont_1st_dose_diff_1    -0.1089      0.035     -3.093      0.002      -0.178      -0.040\n",
      "L13.biont_1st_dose_diff_1    -0.1093      0.037     -2.930      0.004      -0.183      -0.036\n",
      "L2.biont_1st_dose_diff_1     -0.1183      0.037     -3.183      0.002      -0.191      -0.045\n",
      "L3.biont_1st_dose_diff_1     -0.1234      0.036     -3.474      0.001      -0.193      -0.054\n",
      "L4.biont_1st_dose_diff_1     -0.1477      0.036     -4.143      0.000      -0.218      -0.078\n",
      "L6.biont_1st_dose_diff_1      0.1371      0.038      3.612      0.000       0.063       0.212\n",
      "L7.biont_1st_dose_diff_1      0.3168      0.036      8.879      0.000       0.247       0.387\n",
      "L9.biont_1st_dose_diff_1     -0.1025      0.038     -2.699      0.007      -0.177      -0.028\n",
      "==============================================================================\n",
      "Omnibus:                      201.776   Durbin-Watson:                   2.071\n",
      "Prob(Omnibus):                  0.000   Jarque-Bera (JB):             4679.153\n",
      "Skew:                          -0.727   Prob(JB):                         0.00\n",
      "Kurtosis:                      15.646   Cond. No.                     2.35e+03\n",
      "==============================================================================\n",
      "\n",
      "Notes:\n",
      "[1] Standard Errors assume that the covariance matrix of the errors is correctly specified.\n",
      "[2] The condition number is large, 2.35e+03. This might indicate that there are\n",
      "strong multicollinearity or other numerical problems.\n"
     ]
    }
   ],
   "source": [
    "# Add the constant term for OLS Regression Model\n",
    "OLS_reg_X = sm.add_constant(X)\n",
    "\n",
    "# Ordinary Least Squares Regression Model\n",
    "OLS_reg_model = sm.OLS(y, OLS_reg_X)\n",
    "OLS_reg_model = OLS_reg_model.fit()\n",
    "\n",
    "# Print the summary of the fitted model\n",
    "print(OLS_reg_model.summary())"
   ]
  },
  {
   "cell_type": "code",
   "execution_count": null,
   "id": "6e6274a4-0762-4566-863f-249f1c03d767",
   "metadata": {},
   "outputs": [],
   "source": []
  },
  {
   "cell_type": "code",
   "execution_count": null,
   "id": "6ec39156-3576-4f13-a80e-128e6acae9b1",
   "metadata": {},
   "outputs": [],
   "source": []
  }
 ],
 "metadata": {
  "kernelspec": {
   "display_name": "Python 3 (ipykernel)",
   "language": "python",
   "name": "python3"
  },
  "language_info": {
   "codemirror_mode": {
    "name": "ipython",
    "version": 3
   },
   "file_extension": ".py",
   "mimetype": "text/x-python",
   "name": "python",
   "nbconvert_exporter": "python",
   "pygments_lexer": "ipython3",
   "version": "3.11.4"
  }
 },
 "nbformat": 4,
 "nbformat_minor": 5
}
