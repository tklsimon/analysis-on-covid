{
 "cells": [
  {
   "cell_type": "markdown",
   "id": "41ebee73-fd3a-4534-822c-827c2643f894",
   "metadata": {},
   "source": [
    "# The University of Hong Kong\n",
    "## DASC7600 Data Science Project 2024"
   ]
  },
  {
   "cell_type": "markdown",
   "id": "59f51aaa-e8fc-436c-a2f3-af22af07d54d",
   "metadata": {},
   "source": [
    "# Import modules"
   ]
  },
  {
   "cell_type": "code",
   "execution_count": 1,
   "id": "b551bf0a-542b-4367-9e29-33c4717f512e",
   "metadata": {},
   "outputs": [],
   "source": [
    "import pandas as pd\n",
    "import warnings\n",
    "import matplotlib.pyplot as plt\n",
    "\n",
    "pd.set_option('display.max_columns', None)\n",
    "warnings.filterwarnings('ignore')\n",
    "\n",
    "%matplotlib inline"
   ]
  },
  {
   "cell_type": "markdown",
   "id": "8ab1b6ac-1521-4cf1-a882-eb91393f381d",
   "metadata": {},
   "source": [
    "# Functions"
   ]
  },
  {
   "cell_type": "code",
   "execution_count": 2,
   "id": "57a52898-c567-4807-baa9-f4ced6b0dd08",
   "metadata": {},
   "outputs": [],
   "source": [
    "def print_missing_val_count(df: pd.DataFrame) -> None:\n",
    "    # Missing value counts\n",
    "    df_na_cnt = df.isnull().sum()\n",
    "    df_record_cnt = df.shape[0]\n",
    "    \n",
    "    # Print the count of missing value for each feature\n",
    "    if df_na_cnt.sum() > 0:\n",
    "        print('The following columns have missing values:')\n",
    "        for col, na_cnt in zip(df_na_cnt.index, df_na_cnt.values):\n",
    "            if na_cnt > 0:\n",
    "                print(f'{col}: {na_cnt} ({100*na_cnt/df_record_cnt:0.1f}%)')\n",
    "    else:\n",
    "        print('The dataframe does not have missing values.')"
   ]
  },
  {
   "cell_type": "markdown",
   "id": "3ea51440-c61f-4c83-8d3f-a9ed5b0bd886",
   "metadata": {},
   "source": [
    "# Load Data"
   ]
  },
  {
   "cell_type": "code",
   "execution_count": 3,
   "id": "7f4d8dcf-b637-488f-ab7f-099f82385e41",
   "metadata": {},
   "outputs": [],
   "source": [
    "# Read csv files\n",
    "covid_hk_df = pd.read_csv('./data/raw_data/hk/enhanced_sur_covid_19_eng.csv')"
   ]
  },
  {
   "cell_type": "markdown",
   "id": "b625ba89-b502-4a04-a003-4bcfa893d4b6",
   "metadata": {},
   "source": [
    "# Basic Information of Data Set"
   ]
  },
  {
   "cell_type": "code",
   "execution_count": 4,
   "id": "6b1f9923-e0ce-4c51-8ad7-fc86f6ee3bfd",
   "metadata": {},
   "outputs": [
    {
     "data": {
      "text/html": [
       "<div>\n",
       "<style scoped>\n",
       "    .dataframe tbody tr th:only-of-type {\n",
       "        vertical-align: middle;\n",
       "    }\n",
       "\n",
       "    .dataframe tbody tr th {\n",
       "        vertical-align: top;\n",
       "    }\n",
       "\n",
       "    .dataframe thead th {\n",
       "        text-align: right;\n",
       "    }\n",
       "</style>\n",
       "<table border=\"1\" class=\"dataframe\">\n",
       "  <thead>\n",
       "    <tr style=\"text-align: right;\">\n",
       "      <th></th>\n",
       "      <th>Case no.</th>\n",
       "      <th>Report date</th>\n",
       "      <th>Date of onset</th>\n",
       "      <th>Gender</th>\n",
       "      <th>Age</th>\n",
       "      <th>Name of hospital admitted</th>\n",
       "      <th>Hospitalised/Discharged/Deceased</th>\n",
       "      <th>HK/Non-HK resident</th>\n",
       "      <th>Classification*</th>\n",
       "      <th>Case status*</th>\n",
       "    </tr>\n",
       "  </thead>\n",
       "  <tbody>\n",
       "    <tr>\n",
       "      <th>0</th>\n",
       "      <td>1</td>\n",
       "      <td>23/01/2020</td>\n",
       "      <td>21/01/2020</td>\n",
       "      <td>M</td>\n",
       "      <td>39</td>\n",
       "      <td>NaN</td>\n",
       "      <td>Discharged</td>\n",
       "      <td>Non-HK resident</td>\n",
       "      <td>Imported case</td>\n",
       "      <td>Confirmed</td>\n",
       "    </tr>\n",
       "    <tr>\n",
       "      <th>1</th>\n",
       "      <td>2</td>\n",
       "      <td>23/01/2020</td>\n",
       "      <td>18/01/2020</td>\n",
       "      <td>M</td>\n",
       "      <td>56</td>\n",
       "      <td>NaN</td>\n",
       "      <td>Discharged</td>\n",
       "      <td>HK resident</td>\n",
       "      <td>Imported case</td>\n",
       "      <td>Confirmed</td>\n",
       "    </tr>\n",
       "    <tr>\n",
       "      <th>2</th>\n",
       "      <td>3</td>\n",
       "      <td>24/01/2020</td>\n",
       "      <td>20/01/2020</td>\n",
       "      <td>F</td>\n",
       "      <td>62</td>\n",
       "      <td>NaN</td>\n",
       "      <td>Discharged</td>\n",
       "      <td>Non-HK resident</td>\n",
       "      <td>Imported case</td>\n",
       "      <td>Confirmed</td>\n",
       "    </tr>\n",
       "    <tr>\n",
       "      <th>3</th>\n",
       "      <td>4</td>\n",
       "      <td>24/01/2020</td>\n",
       "      <td>23/01/2020</td>\n",
       "      <td>F</td>\n",
       "      <td>62</td>\n",
       "      <td>NaN</td>\n",
       "      <td>Discharged</td>\n",
       "      <td>Non-HK resident</td>\n",
       "      <td>Imported case</td>\n",
       "      <td>Confirmed</td>\n",
       "    </tr>\n",
       "    <tr>\n",
       "      <th>4</th>\n",
       "      <td>5</td>\n",
       "      <td>24/01/2020</td>\n",
       "      <td>23/01/2020</td>\n",
       "      <td>M</td>\n",
       "      <td>63</td>\n",
       "      <td>NaN</td>\n",
       "      <td>Discharged</td>\n",
       "      <td>Non-HK resident</td>\n",
       "      <td>Imported case</td>\n",
       "      <td>Confirmed</td>\n",
       "    </tr>\n",
       "    <tr>\n",
       "      <th>5</th>\n",
       "      <td>6</td>\n",
       "      <td>26/01/2020</td>\n",
       "      <td>21/01/2020</td>\n",
       "      <td>M</td>\n",
       "      <td>47</td>\n",
       "      <td>NaN</td>\n",
       "      <td>Discharged</td>\n",
       "      <td>HK resident</td>\n",
       "      <td>Imported case</td>\n",
       "      <td>Confirmed</td>\n",
       "    </tr>\n",
       "    <tr>\n",
       "      <th>6</th>\n",
       "      <td>7</td>\n",
       "      <td>26/01/2020</td>\n",
       "      <td>21/01/2020</td>\n",
       "      <td>F</td>\n",
       "      <td>68</td>\n",
       "      <td>NaN</td>\n",
       "      <td>Discharged</td>\n",
       "      <td>HK resident</td>\n",
       "      <td>Imported case</td>\n",
       "      <td>Confirmed</td>\n",
       "    </tr>\n",
       "    <tr>\n",
       "      <th>7</th>\n",
       "      <td>8</td>\n",
       "      <td>26/01/2020</td>\n",
       "      <td>25/01/2020</td>\n",
       "      <td>M</td>\n",
       "      <td>64</td>\n",
       "      <td>NaN</td>\n",
       "      <td>Discharged</td>\n",
       "      <td>Non-HK resident</td>\n",
       "      <td>Imported case</td>\n",
       "      <td>Confirmed</td>\n",
       "    </tr>\n",
       "    <tr>\n",
       "      <th>8</th>\n",
       "      <td>9</td>\n",
       "      <td>29/01/2020</td>\n",
       "      <td>25/01/2020</td>\n",
       "      <td>F</td>\n",
       "      <td>73</td>\n",
       "      <td>NaN</td>\n",
       "      <td>Discharged</td>\n",
       "      <td>Non-HK resident</td>\n",
       "      <td>Imported case</td>\n",
       "      <td>Confirmed</td>\n",
       "    </tr>\n",
       "    <tr>\n",
       "      <th>9</th>\n",
       "      <td>10</td>\n",
       "      <td>29/01/2020</td>\n",
       "      <td>25/01/2020</td>\n",
       "      <td>M</td>\n",
       "      <td>72</td>\n",
       "      <td>NaN</td>\n",
       "      <td>Discharged</td>\n",
       "      <td>Non-HK resident</td>\n",
       "      <td>Imported case</td>\n",
       "      <td>Confirmed</td>\n",
       "    </tr>\n",
       "  </tbody>\n",
       "</table>\n",
       "</div>"
      ],
      "text/plain": [
       "   Case no. Report date Date of onset Gender Age  Name of hospital admitted  \\\n",
       "0         1  23/01/2020    21/01/2020      M  39                        NaN   \n",
       "1         2  23/01/2020    18/01/2020      M  56                        NaN   \n",
       "2         3  24/01/2020    20/01/2020      F  62                        NaN   \n",
       "3         4  24/01/2020    23/01/2020      F  62                        NaN   \n",
       "4         5  24/01/2020    23/01/2020      M  63                        NaN   \n",
       "5         6  26/01/2020    21/01/2020      M  47                        NaN   \n",
       "6         7  26/01/2020    21/01/2020      F  68                        NaN   \n",
       "7         8  26/01/2020    25/01/2020      M  64                        NaN   \n",
       "8         9  29/01/2020    25/01/2020      F  73                        NaN   \n",
       "9        10  29/01/2020    25/01/2020      M  72                        NaN   \n",
       "\n",
       "  Hospitalised/Discharged/Deceased HK/Non-HK resident Classification*  \\\n",
       "0                       Discharged    Non-HK resident   Imported case   \n",
       "1                       Discharged        HK resident   Imported case   \n",
       "2                       Discharged    Non-HK resident   Imported case   \n",
       "3                       Discharged    Non-HK resident   Imported case   \n",
       "4                       Discharged    Non-HK resident   Imported case   \n",
       "5                       Discharged        HK resident   Imported case   \n",
       "6                       Discharged        HK resident   Imported case   \n",
       "7                       Discharged    Non-HK resident   Imported case   \n",
       "8                       Discharged    Non-HK resident   Imported case   \n",
       "9                       Discharged    Non-HK resident   Imported case   \n",
       "\n",
       "  Case status*  \n",
       "0    Confirmed  \n",
       "1    Confirmed  \n",
       "2    Confirmed  \n",
       "3    Confirmed  \n",
       "4    Confirmed  \n",
       "5    Confirmed  \n",
       "6    Confirmed  \n",
       "7    Confirmed  \n",
       "8    Confirmed  \n",
       "9    Confirmed  "
      ]
     },
     "execution_count": 4,
     "metadata": {},
     "output_type": "execute_result"
    }
   ],
   "source": [
    "# Print first 10 records in dataframe\n",
    "covid_hk_df.head(10)"
   ]
  },
  {
   "cell_type": "code",
   "execution_count": 5,
   "id": "89eabb62-dba5-43bf-a4c4-be136510c8f8",
   "metadata": {},
   "outputs": [
    {
     "name": "stdout",
     "output_type": "stream",
     "text": [
      "<class 'pandas.core.frame.DataFrame'>\n",
      "RangeIndex: 15441 entries, 0 to 15440\n",
      "Data columns (total 10 columns):\n",
      " #   Column                            Non-Null Count  Dtype  \n",
      "---  ------                            --------------  -----  \n",
      " 0   Case no.                          15441 non-null  int64  \n",
      " 1   Report date                       15441 non-null  object \n",
      " 2   Date of onset                     15421 non-null  object \n",
      " 3   Gender                            15435 non-null  object \n",
      " 4   Age                               15435 non-null  object \n",
      " 5   Name of hospital admitted         0 non-null      float64\n",
      " 6   Hospitalised/Discharged/Deceased  15435 non-null  object \n",
      " 7   HK/Non-HK resident                15435 non-null  object \n",
      " 8   Classification*                   15435 non-null  object \n",
      " 9   Case status*                      15441 non-null  object \n",
      "dtypes: float64(1), int64(1), object(8)\n",
      "memory usage: 1.2+ MB\n"
     ]
    }
   ],
   "source": [
    "# Basic information of dataframe\n",
    "covid_hk_df.info()"
   ]
  },
  {
   "cell_type": "markdown",
   "id": "baafc94a-e166-4966-86c4-19360c896f56",
   "metadata": {},
   "source": [
    "# Modify Data Types"
   ]
  },
  {
   "cell_type": "code",
   "execution_count": 6,
   "id": "ae70eea6-7864-4621-bec5-e8f7c5c25a1e",
   "metadata": {},
   "outputs": [],
   "source": [
    "# Modify data type for datatime column\n",
    "covid_hk_df['Report date'] = pd.to_datetime(covid_hk_df['Report date'])"
   ]
  },
  {
   "cell_type": "markdown",
   "id": "3f7df30c-0897-4335-ab73-742f896e5ebc",
   "metadata": {},
   "source": [
    "# Data Exploratory Analysis (EDA)"
   ]
  },
  {
   "cell_type": "markdown",
   "id": "9bf96631-8a3f-4634-9019-fed4a923f3b3",
   "metadata": {},
   "source": [
    "## Univariate Analysis"
   ]
  },
  {
   "cell_type": "markdown",
   "id": "7ae7c864-07e4-4954-863e-65e03207cda1",
   "metadata": {},
   "source": [
    "## Field - Case no."
   ]
  },
  {
   "cell_type": "code",
   "execution_count": 7,
   "id": "7a80bbb6-8d8f-4495-9427-2e422ff93e65",
   "metadata": {},
   "outputs": [
    {
     "name": "stdout",
     "output_type": "stream",
     "text": [
      "The field \"Case no.\" is a key column (no duplicate values): True\n"
     ]
    }
   ],
   "source": [
    "print('The field \"Case no.\" is a key column (no duplicate values):', covid_hk_df['Case no.'].nunique() == covid_hk_df['Case no.'].shape[0])"
   ]
  },
  {
   "cell_type": "markdown",
   "id": "2e728d1d-d015-4886-bc86-b8bd6042f47e",
   "metadata": {},
   "source": [
    "## Field - Name of hospital admitted"
   ]
  },
  {
   "cell_type": "code",
   "execution_count": 8,
   "id": "91a1cd79-f238-462f-8e2e-6a2bcdf01ca5",
   "metadata": {},
   "outputs": [
    {
     "data": {
      "text/plain": [
       "[nan]"
      ]
     },
     "execution_count": 8,
     "metadata": {},
     "output_type": "execute_result"
    }
   ],
   "source": [
    "# Distinct values in hospital name column\n",
    "covid_hk_df['Name of hospital admitted'].drop_duplicates().to_list()"
   ]
  },
  {
   "cell_type": "markdown",
   "id": "62c7c71f-0b9b-4bb2-a7b9-a4e0236800c1",
   "metadata": {},
   "source": [
    "## Field - Report date"
   ]
  },
  {
   "cell_type": "code",
   "execution_count": 9,
   "id": "8328bee4-f2a4-4014-8336-59ba2bc0c549",
   "metadata": {},
   "outputs": [
    {
     "data": {
      "text/plain": [
       "min   2020-01-02\n",
       "max   2022-12-01\n",
       "Name: Report date, dtype: datetime64[ns]"
      ]
     },
     "execution_count": 9,
     "metadata": {},
     "output_type": "execute_result"
    }
   ],
   "source": [
    "# Report date range of data set\n",
    "covid_hk_df['Report date'].agg(['min', 'max'])"
   ]
  },
  {
   "cell_type": "markdown",
   "id": "2b20977c-50d5-4a1e-85e4-24424974d9cb",
   "metadata": {},
   "source": [
    "## Field - Case status*"
   ]
  },
  {
   "cell_type": "code",
   "execution_count": 10,
   "id": "551d3165-f8cc-4658-b77b-10018aad4680",
   "metadata": {},
   "outputs": [
    {
     "data": {
      "text/plain": [
       "['Confirmed', 'Deleted', 'Asymptomatic', 'Re-positive', 'Pending', 'Unknown']"
      ]
     },
     "execution_count": 10,
     "metadata": {},
     "output_type": "execute_result"
    }
   ],
   "source": [
    "# Distinct values in hospital name column\n",
    "covid_hk_df['Case status*'].drop_duplicates().to_list()"
   ]
  },
  {
   "cell_type": "code",
   "execution_count": 11,
   "id": "18225512-9d74-45c2-b0dc-431d15d9289c",
   "metadata": {},
   "outputs": [
    {
     "data": {
      "text/html": [
       "<div>\n",
       "<style scoped>\n",
       "    .dataframe tbody tr th:only-of-type {\n",
       "        vertical-align: middle;\n",
       "    }\n",
       "\n",
       "    .dataframe tbody tr th {\n",
       "        vertical-align: top;\n",
       "    }\n",
       "\n",
       "    .dataframe thead th {\n",
       "        text-align: right;\n",
       "    }\n",
       "</style>\n",
       "<table border=\"1\" class=\"dataframe\">\n",
       "  <thead>\n",
       "    <tr style=\"text-align: right;\">\n",
       "      <th></th>\n",
       "      <th>Case no.</th>\n",
       "      <th>Report date</th>\n",
       "      <th>Date of onset</th>\n",
       "      <th>Gender</th>\n",
       "      <th>Age</th>\n",
       "      <th>Name of hospital admitted</th>\n",
       "      <th>Hospitalised/Discharged/Deceased</th>\n",
       "      <th>HK/Non-HK resident</th>\n",
       "      <th>Classification*</th>\n",
       "      <th>Case status*</th>\n",
       "    </tr>\n",
       "  </thead>\n",
       "  <tbody>\n",
       "    <tr>\n",
       "      <th>11251</th>\n",
       "      <td>11252</td>\n",
       "      <td>2021-03-13</td>\n",
       "      <td>NaN</td>\n",
       "      <td>NaN</td>\n",
       "      <td>NaN</td>\n",
       "      <td>NaN</td>\n",
       "      <td>NaN</td>\n",
       "      <td>NaN</td>\n",
       "      <td>NaN</td>\n",
       "      <td>Deleted</td>\n",
       "    </tr>\n",
       "    <tr>\n",
       "      <th>11264</th>\n",
       "      <td>11265</td>\n",
       "      <td>2021-03-14</td>\n",
       "      <td>NaN</td>\n",
       "      <td>NaN</td>\n",
       "      <td>NaN</td>\n",
       "      <td>NaN</td>\n",
       "      <td>NaN</td>\n",
       "      <td>NaN</td>\n",
       "      <td>NaN</td>\n",
       "      <td>Deleted</td>\n",
       "    </tr>\n",
       "    <tr>\n",
       "      <th>11351</th>\n",
       "      <td>11352</td>\n",
       "      <td>2021-03-19</td>\n",
       "      <td>NaN</td>\n",
       "      <td>NaN</td>\n",
       "      <td>NaN</td>\n",
       "      <td>NaN</td>\n",
       "      <td>NaN</td>\n",
       "      <td>NaN</td>\n",
       "      <td>NaN</td>\n",
       "      <td>Deleted</td>\n",
       "    </tr>\n",
       "    <tr>\n",
       "      <th>11702</th>\n",
       "      <td>11703</td>\n",
       "      <td>2021-04-20</td>\n",
       "      <td>NaN</td>\n",
       "      <td>NaN</td>\n",
       "      <td>NaN</td>\n",
       "      <td>NaN</td>\n",
       "      <td>NaN</td>\n",
       "      <td>NaN</td>\n",
       "      <td>NaN</td>\n",
       "      <td>Deleted</td>\n",
       "    </tr>\n",
       "    <tr>\n",
       "      <th>11725</th>\n",
       "      <td>11726</td>\n",
       "      <td>2021-04-23</td>\n",
       "      <td>NaN</td>\n",
       "      <td>NaN</td>\n",
       "      <td>NaN</td>\n",
       "      <td>NaN</td>\n",
       "      <td>NaN</td>\n",
       "      <td>NaN</td>\n",
       "      <td>NaN</td>\n",
       "      <td>Deleted</td>\n",
       "    </tr>\n",
       "    <tr>\n",
       "      <th>13143</th>\n",
       "      <td>13144</td>\n",
       "      <td>2022-01-22</td>\n",
       "      <td>NaN</td>\n",
       "      <td>NaN</td>\n",
       "      <td>NaN</td>\n",
       "      <td>NaN</td>\n",
       "      <td>NaN</td>\n",
       "      <td>NaN</td>\n",
       "      <td>NaN</td>\n",
       "      <td>Deleted</td>\n",
       "    </tr>\n",
       "  </tbody>\n",
       "</table>\n",
       "</div>"
      ],
      "text/plain": [
       "       Case no. Report date Date of onset Gender  Age  \\\n",
       "11251     11252  2021-03-13           NaN    NaN  NaN   \n",
       "11264     11265  2021-03-14           NaN    NaN  NaN   \n",
       "11351     11352  2021-03-19           NaN    NaN  NaN   \n",
       "11702     11703  2021-04-20           NaN    NaN  NaN   \n",
       "11725     11726  2021-04-23           NaN    NaN  NaN   \n",
       "13143     13144  2022-01-22           NaN    NaN  NaN   \n",
       "\n",
       "       Name of hospital admitted Hospitalised/Discharged/Deceased  \\\n",
       "11251                        NaN                              NaN   \n",
       "11264                        NaN                              NaN   \n",
       "11351                        NaN                              NaN   \n",
       "11702                        NaN                              NaN   \n",
       "11725                        NaN                              NaN   \n",
       "13143                        NaN                              NaN   \n",
       "\n",
       "      HK/Non-HK resident Classification* Case status*  \n",
       "11251                NaN             NaN      Deleted  \n",
       "11264                NaN             NaN      Deleted  \n",
       "11351                NaN             NaN      Deleted  \n",
       "11702                NaN             NaN      Deleted  \n",
       "11725                NaN             NaN      Deleted  \n",
       "13143                NaN             NaN      Deleted  "
      ]
     },
     "execution_count": 11,
     "metadata": {},
     "output_type": "execute_result"
    }
   ],
   "source": [
    "# Print records with case status \"Deleted\"\n",
    "covid_hk_df[covid_hk_df['Case status*'] == 'Deleted']"
   ]
  },
  {
   "cell_type": "code",
   "execution_count": 12,
   "id": "46eedf05-8d7c-4163-86a8-bf0170e7bbf7",
   "metadata": {},
   "outputs": [
    {
     "data": {
      "text/html": [
       "<div>\n",
       "<style scoped>\n",
       "    .dataframe tbody tr th:only-of-type {\n",
       "        vertical-align: middle;\n",
       "    }\n",
       "\n",
       "    .dataframe tbody tr th {\n",
       "        vertical-align: top;\n",
       "    }\n",
       "\n",
       "    .dataframe thead th {\n",
       "        text-align: right;\n",
       "    }\n",
       "</style>\n",
       "<table border=\"1\" class=\"dataframe\">\n",
       "  <thead>\n",
       "    <tr style=\"text-align: right;\">\n",
       "      <th></th>\n",
       "      <th>Case no.</th>\n",
       "      <th>Report date</th>\n",
       "      <th>Date of onset</th>\n",
       "      <th>Gender</th>\n",
       "      <th>Age</th>\n",
       "      <th>Name of hospital admitted</th>\n",
       "      <th>Hospitalised/Discharged/Deceased</th>\n",
       "      <th>HK/Non-HK resident</th>\n",
       "      <th>Classification*</th>\n",
       "      <th>Case status*</th>\n",
       "    </tr>\n",
       "  </thead>\n",
       "  <tbody>\n",
       "    <tr>\n",
       "      <th>14531</th>\n",
       "      <td>14532</td>\n",
       "      <td>2022-03-02</td>\n",
       "      <td>Unknown</td>\n",
       "      <td>M</td>\n",
       "      <td>41</td>\n",
       "      <td>NaN</td>\n",
       "      <td>Pending admission</td>\n",
       "      <td>Non-HK resident</td>\n",
       "      <td>Imported case</td>\n",
       "      <td>Unknown</td>\n",
       "    </tr>\n",
       "  </tbody>\n",
       "</table>\n",
       "</div>"
      ],
      "text/plain": [
       "       Case no. Report date Date of onset Gender Age  \\\n",
       "14531     14532  2022-03-02       Unknown      M  41   \n",
       "\n",
       "       Name of hospital admitted Hospitalised/Discharged/Deceased  \\\n",
       "14531                        NaN                Pending admission   \n",
       "\n",
       "      HK/Non-HK resident Classification* Case status*  \n",
       "14531    Non-HK resident   Imported case      Unknown  "
      ]
     },
     "execution_count": 12,
     "metadata": {},
     "output_type": "execute_result"
    }
   ],
   "source": [
    "# Print records with case status \"Unknown\"\n",
    "covid_hk_df[covid_hk_df['Case status*'] == 'Unknown']"
   ]
  },
  {
   "cell_type": "markdown",
   "id": "452f7cb5-4908-4aa2-9cee-5c0587a83f16",
   "metadata": {},
   "source": [
    "## Field - Report date"
   ]
  },
  {
   "cell_type": "code",
   "execution_count": 13,
   "id": "302a5656-b5d0-40f6-9b77-da609b38dcd7",
   "metadata": {},
   "outputs": [],
   "source": [
    "# # Line chart - Number of new Covid-19 cases (Hong Kong)\n",
    "# plt.subplots(figsize=(15, 8))\n",
    "# plt.plot(covid_hk_df['Report date'].dt.strftime('%Y-%m').value_counts().sort_index())\n",
    "# plt.title('Number of new Covid-19 cases (Hong Kong)')\n",
    "# plt.xlabel('Year-Month (%Y-%m)')\n",
    "# plt.ylabel('Number of newly reported cases')\n",
    "# plt.xticks(rotation=90)\n",
    "# plt.show()"
   ]
  },
  {
   "cell_type": "markdown",
   "id": "295d3bdf-9901-4a30-9051-b9e9ac9193cd",
   "metadata": {},
   "source": [
    "## Field - Age"
   ]
  },
  {
   "cell_type": "code",
   "execution_count": 14,
   "id": "7f258462-f5ac-4f64-95e4-16b5edfe4160",
   "metadata": {},
   "outputs": [],
   "source": [
    "# # Bar plot - Number of Covid-19 cases by Age (Hong Kong)\n",
    "# plt.subplots(figsize=(15, 8))\n",
    "# plt.hist(covid_hk_df[~covid_hk_df['Age'].isin(['<1', 'Pending'])]['Age'].dropna().astype('int'))\n",
    "# plt.title('Number of Covid-19 cases vs age (Hong Kong)')\n",
    "# plt.xlabel('Age')\n",
    "# plt.ylabel('Number of cases')\n",
    "# plt.show()"
   ]
  },
  {
   "cell_type": "markdown",
   "id": "3b6e39a8-fcf3-4069-8cca-9df4ceef13a7",
   "metadata": {},
   "source": [
    "## Fields - Gender and HK/Non-HK resident"
   ]
  },
  {
   "cell_type": "code",
   "execution_count": 15,
   "id": "c7fd686a-c14d-40bc-88ff-a242ed32b7a4",
   "metadata": {},
   "outputs": [],
   "source": [
    "# # Pie Charts\n",
    "# # Value counts of Gender and HK/Non-HK resident\n",
    "# gender_count = covid_hk_df['Gender'].dropna().astype('str').value_counts()\n",
    "# resident_count = covid_hk_df['HK/Non-HK resident'].dropna().astype('str').value_counts()\n",
    "\n",
    "# # Create a figure and add the axes for subgraphs\n",
    "# fig, axes = plt.subplots(nrows=1, ncols=2, figsize=(12, 5))\n",
    "# fig.suptitle('Distribution of Covid-19 cases (Hong Kong)', fontsize=16)\n",
    "\n",
    "# # Pie Chart - Percentage of Covid-19 cases by Gender (Hong Kong)\n",
    "# axes[0].pie(gender_count.values, labels = gender_count.index, autopct='%1.2f%%', pctdistance=0.66, labeldistance=1.05)\n",
    "# axes[0].set_xlabel('Gender')\n",
    "\n",
    "# # Pie Chart - Percentage of Covid-19 cases by HK/Non-HK resident (Hong Kong)\n",
    "# axes[1].pie(resident_count.values, labels = resident_count.index, autopct='%1.2f%%', pctdistance=0.66, labeldistance=1.05)\n",
    "# axes[1].set_xlabel('Resident / Non-Resident')\n",
    "\n",
    "# plt.tight_layout()\n",
    "# plt.show()"
   ]
  },
  {
   "cell_type": "markdown",
   "id": "0006b16b-7e8a-4ff2-a8f4-831eaaceae95",
   "metadata": {},
   "source": [
    "## Fields - Hospitalised/Discharged/Deceased and Classification"
   ]
  },
  {
   "cell_type": "code",
   "execution_count": 16,
   "id": "65051c2e-e9ae-469c-b428-3bef9e64a4cb",
   "metadata": {},
   "outputs": [],
   "source": [
    "# # Bar plots\n",
    "# # Value counts of Hospitalised/Discharged/Deceased and Classification\n",
    "# case_outcome_count = covid_hk_df['Hospitalised/Discharged/Deceased'].dropna().astype('str').value_counts()\n",
    "# classification_count = covid_hk_df['Classification*'].dropna().astype('str').value_counts()\n",
    "\n",
    "# # Create a figure and add the axes for subgraphs\n",
    "# fig, axes = plt.subplots(nrows=1, ncols=2, figsize=(12, 8))\n",
    "# fig.suptitle('Number of Covid-19 cases (Hong Kong)', fontsize=16)\n",
    "\n",
    "# # Bar plot - Number of Covid-19 cases by Hospitalised/Discharged/Deceased (Hong Kong)\n",
    "# axes[0].bar(case_outcome_count.index, case_outcome_count.values)\n",
    "# axes[0].set_xlabel('Hospitalised/Discharged/Deceased')\n",
    "# axes[0].set_ylabel('Number of cases')\n",
    "# axes[0].set_xticklabels(case_outcome_count.index, rotation=45)\n",
    "\n",
    "# # Bar plot - Number of Covid-19 cases by Classification (Hong Kong)\n",
    "# axes[1].bar(classification_count.index, classification_count.values)\n",
    "# axes[1].set_xlabel('Classification*')\n",
    "# axes[1].set_ylabel('Number of cases')\n",
    "# axes[1].set_xticklabels(classification_count.index, rotation=90)\n",
    "\n",
    "# plt.tight_layout()\n",
    "# plt.show()"
   ]
  },
  {
   "cell_type": "markdown",
   "id": "a374e9f7-559e-4acc-8909-5e275cb3f2b3",
   "metadata": {},
   "source": [
    "## Multivariate Analysis"
   ]
  },
  {
   "cell_type": "code",
   "execution_count": 17,
   "id": "051cea1d-22c7-4de1-a7fc-7b6967e38c1a",
   "metadata": {},
   "outputs": [],
   "source": [
    "# # Stack Bar Plot of Age Group and Gender\n",
    "# age_gender_df = covid_hk_df[(covid_hk_df['Age'] != 'Pending') & (~covid_hk_df['Age'].isna()) & (covid_hk_df['Gender'] != 'Pending')]\n",
    "# age_gender_df = age_gender_df[['Age', 'Gender']].replace({'Age': {'<1':'0'}})\n",
    "\n",
    "# age_gender_df['Age Group'] = pd.cut(age_gender_df['Age'].astype('int'),\n",
    "#                                     bins=[0, 20, 40, 60, 80, 101],\n",
    "#                                     labels=['0-19','20-39','40-59','60-79','80-100'],\n",
    "#                                     right=False)\n",
    "\n",
    "# age_gender_cnt = age_gender_df[age_gender_df['Age'] != 'Pending'].groupby(['Age Group', 'Gender']).size().reset_index(name='count')\n",
    "# age_gender_cnt = age_gender_cnt.pivot(index='Age Group', columns='Gender', values='count')\n",
    "# age_gender_cnt.reset_index(inplace=True)\n",
    "# age_gender_cnt['Age Group'] = pd.Categorical(age_gender_cnt['Age Group'])\n",
    "# age_gender_cnt = age_gender_cnt.sort_values('Age Group')\n",
    "\n",
    "# age_gender_cnt.plot(\n",
    "#     x = 'Age Group', \n",
    "#     kind = 'barh', \n",
    "#     stacked = True, \n",
    "#     title = 'Stacked Bar Plot of Age Group and Gender for Covid-19 cases (Hong Kong)', \n",
    "#     mark_right = True) \n",
    "\n",
    "# plt.xlabel('Count')\n",
    "# plt.ylabel('Age Group')\n",
    "# plt.show()"
   ]
  },
  {
   "cell_type": "markdown",
   "id": "f9fabf22-83fd-4bdd-9414-1e5b34b76a3b",
   "metadata": {},
   "source": [
    "## Missing Value Analysis"
   ]
  },
  {
   "cell_type": "code",
   "execution_count": 18,
   "id": "0c7476ab-5d8e-4738-8162-26d65c32633a",
   "metadata": {},
   "outputs": [
    {
     "name": "stdout",
     "output_type": "stream",
     "text": [
      "The following columns have missing values:\n",
      "Date of onset: 20 (0.1%)\n",
      "Gender: 6 (0.0%)\n",
      "Age: 6 (0.0%)\n",
      "Name of hospital admitted: 15441 (100.0%)\n",
      "Hospitalised/Discharged/Deceased: 6 (0.0%)\n",
      "HK/Non-HK resident: 6 (0.0%)\n",
      "Classification*: 6 (0.0%)\n"
     ]
    }
   ],
   "source": [
    "# Number of missing values in each coumns\n",
    "print_missing_val_count(covid_hk_df)"
   ]
  },
  {
   "cell_type": "markdown",
   "id": "7dd54361-239c-4db9-ba60-576ff697fa0d",
   "metadata": {},
   "source": [
    "The field \"Name of hospital admitted\" does not have non-NULL values."
   ]
  },
  {
   "cell_type": "markdown",
   "id": "501a1d41-d76d-4bf1-a963-a96cfdc7eda4",
   "metadata": {},
   "source": [
    "As shown in univariate analysis on field \"Case status*\", all missing values in fields \"Gender\", \"Age\", \"Hospitalised/Discharged/Deceased\", \"HK/Non-HK resident\" and \"Classification*\" belong to records with \"Case status*\" == \"Deleted\"."
   ]
  },
  {
   "cell_type": "code",
   "execution_count": null,
   "id": "d3760b9b-ea72-4ff2-a5fa-78d19ab59d9a",
   "metadata": {},
   "outputs": [],
   "source": []
  },
  {
   "cell_type": "code",
   "execution_count": null,
   "id": "fb7aaf18-5424-4dff-ae21-e9190b7ff295",
   "metadata": {},
   "outputs": [],
   "source": []
  }
 ],
 "metadata": {
  "kernelspec": {
   "display_name": "Python 3 (ipykernel)",
   "language": "python",
   "name": "python3"
  },
  "language_info": {
   "codemirror_mode": {
    "name": "ipython",
    "version": 3
   },
   "file_extension": ".py",
   "mimetype": "text/x-python",
   "name": "python",
   "nbconvert_exporter": "python",
   "pygments_lexer": "ipython3",
   "version": "3.11.4"
  }
 },
 "nbformat": 4,
 "nbformat_minor": 5
}
