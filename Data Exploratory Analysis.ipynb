{
 "cells": [
  {
   "cell_type": "markdown",
   "id": "41ebee73-fd3a-4534-822c-827c2643f894",
   "metadata": {},
   "source": [
    "# The University of Hong Kong\n",
    "## DASC7600 Data Science Project 2024"
   ]
  },
  {
   "cell_type": "markdown",
   "id": "59f51aaa-e8fc-436c-a2f3-af22af07d54d",
   "metadata": {},
   "source": [
    "# Import modules and configuration"
   ]
  },
  {
   "cell_type": "code",
   "execution_count": 3,
   "id": "b551bf0a-542b-4367-9e29-33c4717f512e",
   "metadata": {},
   "outputs": [],
   "source": [
    "import pandas as pd\n",
    "import warnings\n",
    "import matplotlib.pyplot as plt\n",
    "\n",
    "pd.set_option('display.max_columns', None)\n",
    "warnings.filterwarnings(\"ignore\")\n",
    "\n",
    "%matplotlib inline"
   ]
  },
  {
   "cell_type": "markdown",
   "id": "3ea51440-c61f-4c83-8d3f-a9ed5b0bd886",
   "metadata": {},
   "source": [
    "# Load Data"
   ]
  },
  {
   "cell_type": "code",
   "execution_count": 6,
   "id": "7f4d8dcf-b637-488f-ab7f-099f82385e41",
   "metadata": {},
   "outputs": [],
   "source": [
    "# Read csv files\n",
    "covid_hk_df = pd.read_csv('./data/hk/enhanced_sur_covid_19_eng.csv')"
   ]
  },
  {
   "cell_type": "markdown",
   "id": "3f7df30c-0897-4335-ab73-742f896e5ebc",
   "metadata": {},
   "source": [
    "# Data Exploratory Analysis (EDA)"
   ]
  },
  {
   "cell_type": "code",
   "execution_count": 10,
   "id": "21449f55-325b-49ab-8c3d-f19e9b4f3835",
   "metadata": {},
   "outputs": [],
   "source": [
    "col_name_map = {'Case no.': 'case_id',\n",
    "                'Report date': 'report_date',\n",
    "                'Date of onset\t': 'onset_date',\n",
    "                'Gender': 'gender',\n",
    "                'Age': 'age',\n",
    "                'Name of hospital admitted': 'hospital_name',\n",
    "                'Hospitalised/Discharged/Deceased': 'case_outcome',\n",
    "                'HK/Non-HK resident': 'resident',\n",
    "                'Classification*': 'case_type',\n",
    "                'Case status*': 'case_status'}\n",
    "\n",
    "covid_hk_df.rename(columns=col_name_map, inplace=True)"
   ]
  },
  {
   "cell_type": "code",
   "execution_count": null,
   "id": "0c7476ab-5d8e-4738-8162-26d65c32633a",
   "metadata": {},
   "outputs": [],
   "source": []
  },
  {
   "cell_type": "code",
   "execution_count": null,
   "id": "820da647-d47d-4f8f-aba3-ff1ea96fcb2a",
   "metadata": {},
   "outputs": [],
   "source": []
  }
 ],
 "metadata": {
  "kernelspec": {
   "display_name": "Python 3 (ipykernel)",
   "language": "python",
   "name": "python3"
  },
  "language_info": {
   "codemirror_mode": {
    "name": "ipython",
    "version": 3
   },
   "file_extension": ".py",
   "mimetype": "text/x-python",
   "name": "python",
   "nbconvert_exporter": "python",
   "pygments_lexer": "ipython3",
   "version": "3.11.4"
  }
 },
 "nbformat": 4,
 "nbformat_minor": 5
}
