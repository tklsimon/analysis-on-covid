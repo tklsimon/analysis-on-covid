{
 "cells": [
  {
   "cell_type": "markdown",
   "id": "41ebee73-fd3a-4534-822c-827c2643f894",
   "metadata": {},
   "source": [
    "# The University of Hong Kong\n",
    "## DASC7600 Data Science Project 2024"
   ]
  },
  {
   "cell_type": "markdown",
   "id": "59f51aaa-e8fc-436c-a2f3-af22af07d54d",
   "metadata": {},
   "source": [
    "# Import modules and configuration"
   ]
  },
  {
   "cell_type": "code",
   "execution_count": 1,
   "id": "b551bf0a-542b-4367-9e29-33c4717f512e",
   "metadata": {},
   "outputs": [],
   "source": [
    "import pandas as pd\n",
    "import warnings\n",
    "import matplotlib.pyplot as plt\n",
    "\n",
    "pd.set_option(\"display.max_columns\", None)\n",
    "warnings.filterwarnings(\"ignore\")\n",
    "\n",
    "%matplotlib inline"
   ]
  },
  {
   "cell_type": "markdown",
   "id": "8ab1b6ac-1521-4cf1-a882-eb91393f381d",
   "metadata": {},
   "source": [
    "# Functions"
   ]
  },
  {
   "cell_type": "code",
   "execution_count": 2,
   "id": "57a52898-c567-4807-baa9-f4ced6b0dd08",
   "metadata": {},
   "outputs": [],
   "source": [
    "def print_missing_val_count(df: pd.DataFrame) -> None:\n",
    "    # Missing value counts\n",
    "    df_na_cnt = df.isnull().sum()\n",
    "    df_record_cnt = df.shape[0]\n",
    "    \n",
    "    # Print the count of missing value for each feature\n",
    "    if df_na_cnt.sum() > 0:\n",
    "        print(\"The following columns have missing values:\")\n",
    "        for col, na_cnt in zip(df_na_cnt.index, df_na_cnt.values):\n",
    "            if na_cnt > 0:\n",
    "                print(f\"{col}: {na_cnt} ({100*na_cnt/df_record_cnt:0.1f}%)\")\n",
    "    else:\n",
    "        print(\"The dataframe does not have missing values.\")"
   ]
  },
  {
   "cell_type": "markdown",
   "id": "3ea51440-c61f-4c83-8d3f-a9ed5b0bd886",
   "metadata": {},
   "source": [
    "# Load Data"
   ]
  },
  {
   "cell_type": "code",
   "execution_count": 3,
   "id": "7f4d8dcf-b637-488f-ab7f-099f82385e41",
   "metadata": {},
   "outputs": [],
   "source": [
    "# Read csv files\n",
    "covid_hk_df = pd.read_csv(\"./data/hk/enhanced_sur_covid_19_eng.csv\")"
   ]
  },
  {
   "cell_type": "markdown",
   "id": "b625ba89-b502-4a04-a003-4bcfa893d4b6",
   "metadata": {},
   "source": [
    "# Basic Information of Data Set"
   ]
  },
  {
   "cell_type": "code",
   "execution_count": 4,
   "id": "6b1f9923-e0ce-4c51-8ad7-fc86f6ee3bfd",
   "metadata": {},
   "outputs": [
    {
     "data": {
      "text/html": [
       "<div>\n",
       "<style scoped>\n",
       "    .dataframe tbody tr th:only-of-type {\n",
       "        vertical-align: middle;\n",
       "    }\n",
       "\n",
       "    .dataframe tbody tr th {\n",
       "        vertical-align: top;\n",
       "    }\n",
       "\n",
       "    .dataframe thead th {\n",
       "        text-align: right;\n",
       "    }\n",
       "</style>\n",
       "<table border=\"1\" class=\"dataframe\">\n",
       "  <thead>\n",
       "    <tr style=\"text-align: right;\">\n",
       "      <th></th>\n",
       "      <th>Case no.</th>\n",
       "      <th>Report date</th>\n",
       "      <th>Date of onset</th>\n",
       "      <th>Gender</th>\n",
       "      <th>Age</th>\n",
       "      <th>Name of hospital admitted</th>\n",
       "      <th>Hospitalised/Discharged/Deceased</th>\n",
       "      <th>HK/Non-HK resident</th>\n",
       "      <th>Classification*</th>\n",
       "      <th>Case status*</th>\n",
       "    </tr>\n",
       "  </thead>\n",
       "  <tbody>\n",
       "    <tr>\n",
       "      <th>0</th>\n",
       "      <td>1</td>\n",
       "      <td>23/01/2020</td>\n",
       "      <td>21/01/2020</td>\n",
       "      <td>M</td>\n",
       "      <td>39</td>\n",
       "      <td>NaN</td>\n",
       "      <td>Discharged</td>\n",
       "      <td>Non-HK resident</td>\n",
       "      <td>Imported case</td>\n",
       "      <td>Confirmed</td>\n",
       "    </tr>\n",
       "    <tr>\n",
       "      <th>1</th>\n",
       "      <td>2</td>\n",
       "      <td>23/01/2020</td>\n",
       "      <td>18/01/2020</td>\n",
       "      <td>M</td>\n",
       "      <td>56</td>\n",
       "      <td>NaN</td>\n",
       "      <td>Discharged</td>\n",
       "      <td>HK resident</td>\n",
       "      <td>Imported case</td>\n",
       "      <td>Confirmed</td>\n",
       "    </tr>\n",
       "    <tr>\n",
       "      <th>2</th>\n",
       "      <td>3</td>\n",
       "      <td>24/01/2020</td>\n",
       "      <td>20/01/2020</td>\n",
       "      <td>F</td>\n",
       "      <td>62</td>\n",
       "      <td>NaN</td>\n",
       "      <td>Discharged</td>\n",
       "      <td>Non-HK resident</td>\n",
       "      <td>Imported case</td>\n",
       "      <td>Confirmed</td>\n",
       "    </tr>\n",
       "    <tr>\n",
       "      <th>3</th>\n",
       "      <td>4</td>\n",
       "      <td>24/01/2020</td>\n",
       "      <td>23/01/2020</td>\n",
       "      <td>F</td>\n",
       "      <td>62</td>\n",
       "      <td>NaN</td>\n",
       "      <td>Discharged</td>\n",
       "      <td>Non-HK resident</td>\n",
       "      <td>Imported case</td>\n",
       "      <td>Confirmed</td>\n",
       "    </tr>\n",
       "    <tr>\n",
       "      <th>4</th>\n",
       "      <td>5</td>\n",
       "      <td>24/01/2020</td>\n",
       "      <td>23/01/2020</td>\n",
       "      <td>M</td>\n",
       "      <td>63</td>\n",
       "      <td>NaN</td>\n",
       "      <td>Discharged</td>\n",
       "      <td>Non-HK resident</td>\n",
       "      <td>Imported case</td>\n",
       "      <td>Confirmed</td>\n",
       "    </tr>\n",
       "    <tr>\n",
       "      <th>5</th>\n",
       "      <td>6</td>\n",
       "      <td>26/01/2020</td>\n",
       "      <td>21/01/2020</td>\n",
       "      <td>M</td>\n",
       "      <td>47</td>\n",
       "      <td>NaN</td>\n",
       "      <td>Discharged</td>\n",
       "      <td>HK resident</td>\n",
       "      <td>Imported case</td>\n",
       "      <td>Confirmed</td>\n",
       "    </tr>\n",
       "    <tr>\n",
       "      <th>6</th>\n",
       "      <td>7</td>\n",
       "      <td>26/01/2020</td>\n",
       "      <td>21/01/2020</td>\n",
       "      <td>F</td>\n",
       "      <td>68</td>\n",
       "      <td>NaN</td>\n",
       "      <td>Discharged</td>\n",
       "      <td>HK resident</td>\n",
       "      <td>Imported case</td>\n",
       "      <td>Confirmed</td>\n",
       "    </tr>\n",
       "    <tr>\n",
       "      <th>7</th>\n",
       "      <td>8</td>\n",
       "      <td>26/01/2020</td>\n",
       "      <td>25/01/2020</td>\n",
       "      <td>M</td>\n",
       "      <td>64</td>\n",
       "      <td>NaN</td>\n",
       "      <td>Discharged</td>\n",
       "      <td>Non-HK resident</td>\n",
       "      <td>Imported case</td>\n",
       "      <td>Confirmed</td>\n",
       "    </tr>\n",
       "    <tr>\n",
       "      <th>8</th>\n",
       "      <td>9</td>\n",
       "      <td>29/01/2020</td>\n",
       "      <td>25/01/2020</td>\n",
       "      <td>F</td>\n",
       "      <td>73</td>\n",
       "      <td>NaN</td>\n",
       "      <td>Discharged</td>\n",
       "      <td>Non-HK resident</td>\n",
       "      <td>Imported case</td>\n",
       "      <td>Confirmed</td>\n",
       "    </tr>\n",
       "    <tr>\n",
       "      <th>9</th>\n",
       "      <td>10</td>\n",
       "      <td>29/01/2020</td>\n",
       "      <td>25/01/2020</td>\n",
       "      <td>M</td>\n",
       "      <td>72</td>\n",
       "      <td>NaN</td>\n",
       "      <td>Discharged</td>\n",
       "      <td>Non-HK resident</td>\n",
       "      <td>Imported case</td>\n",
       "      <td>Confirmed</td>\n",
       "    </tr>\n",
       "  </tbody>\n",
       "</table>\n",
       "</div>"
      ],
      "text/plain": [
       "   Case no. Report date Date of onset Gender Age  Name of hospital admitted  \\\n",
       "0         1  23/01/2020    21/01/2020      M  39                        NaN   \n",
       "1         2  23/01/2020    18/01/2020      M  56                        NaN   \n",
       "2         3  24/01/2020    20/01/2020      F  62                        NaN   \n",
       "3         4  24/01/2020    23/01/2020      F  62                        NaN   \n",
       "4         5  24/01/2020    23/01/2020      M  63                        NaN   \n",
       "5         6  26/01/2020    21/01/2020      M  47                        NaN   \n",
       "6         7  26/01/2020    21/01/2020      F  68                        NaN   \n",
       "7         8  26/01/2020    25/01/2020      M  64                        NaN   \n",
       "8         9  29/01/2020    25/01/2020      F  73                        NaN   \n",
       "9        10  29/01/2020    25/01/2020      M  72                        NaN   \n",
       "\n",
       "  Hospitalised/Discharged/Deceased HK/Non-HK resident Classification*  \\\n",
       "0                       Discharged    Non-HK resident   Imported case   \n",
       "1                       Discharged        HK resident   Imported case   \n",
       "2                       Discharged    Non-HK resident   Imported case   \n",
       "3                       Discharged    Non-HK resident   Imported case   \n",
       "4                       Discharged    Non-HK resident   Imported case   \n",
       "5                       Discharged        HK resident   Imported case   \n",
       "6                       Discharged        HK resident   Imported case   \n",
       "7                       Discharged    Non-HK resident   Imported case   \n",
       "8                       Discharged    Non-HK resident   Imported case   \n",
       "9                       Discharged    Non-HK resident   Imported case   \n",
       "\n",
       "  Case status*  \n",
       "0    Confirmed  \n",
       "1    Confirmed  \n",
       "2    Confirmed  \n",
       "3    Confirmed  \n",
       "4    Confirmed  \n",
       "5    Confirmed  \n",
       "6    Confirmed  \n",
       "7    Confirmed  \n",
       "8    Confirmed  \n",
       "9    Confirmed  "
      ]
     },
     "execution_count": 4,
     "metadata": {},
     "output_type": "execute_result"
    }
   ],
   "source": [
    "# Print first 10 records in dataframe\n",
    "covid_hk_df.head(10)"
   ]
  },
  {
   "cell_type": "code",
   "execution_count": 5,
   "id": "89eabb62-dba5-43bf-a4c4-be136510c8f8",
   "metadata": {},
   "outputs": [
    {
     "name": "stdout",
     "output_type": "stream",
     "text": [
      "<class 'pandas.core.frame.DataFrame'>\n",
      "RangeIndex: 15441 entries, 0 to 15440\n",
      "Data columns (total 10 columns):\n",
      " #   Column                            Non-Null Count  Dtype  \n",
      "---  ------                            --------------  -----  \n",
      " 0   Case no.                          15441 non-null  int64  \n",
      " 1   Report date                       15441 non-null  object \n",
      " 2   Date of onset                     15421 non-null  object \n",
      " 3   Gender                            15435 non-null  object \n",
      " 4   Age                               15435 non-null  object \n",
      " 5   Name of hospital admitted         0 non-null      float64\n",
      " 6   Hospitalised/Discharged/Deceased  15435 non-null  object \n",
      " 7   HK/Non-HK resident                15435 non-null  object \n",
      " 8   Classification*                   15435 non-null  object \n",
      " 9   Case status*                      15441 non-null  object \n",
      "dtypes: float64(1), int64(1), object(8)\n",
      "memory usage: 1.2+ MB\n"
     ]
    }
   ],
   "source": [
    "# Basic information of dataframe\n",
    "covid_hk_df.info()"
   ]
  },
  {
   "cell_type": "markdown",
   "id": "baafc94a-e166-4966-86c4-19360c896f56",
   "metadata": {},
   "source": [
    "# Modify Column Names and Data Types"
   ]
  },
  {
   "cell_type": "code",
   "execution_count": 6,
   "id": "ea583b87-d08b-45d4-94bc-2c6adb3dc113",
   "metadata": {},
   "outputs": [],
   "source": [
    "# Rename columns\n",
    "col_name_map = {\"Case no.\": \"case_id\",\n",
    "                \"Report date\": \"report_date\",\n",
    "                \"Date of onset\": \"onset_date\",\n",
    "                \"Gender\": \"gender\",\n",
    "                \"Age\": \"age\",\n",
    "                \"Name of hospital admitted\": \"hospital_name\",\n",
    "                \"Hospitalised/Discharged/Deceased\": \"case_outcome\",\n",
    "                \"HK/Non-HK resident\": \"resident\",\n",
    "                \"Classification*\": \"case_type\",\n",
    "                \"Case status*\": \"case_status\"}\n",
    "\n",
    "covid_hk_df.rename(columns=col_name_map, inplace=True)"
   ]
  },
  {
   "cell_type": "code",
   "execution_count": 7,
   "id": "ae70eea6-7864-4621-bec5-e8f7c5c25a1e",
   "metadata": {},
   "outputs": [],
   "source": [
    "# Modify data type for datatime columns\n",
    "covid_hk_df[\"report_date\"] = pd.to_datetime(covid_hk_df[\"report_date\"])"
   ]
  },
  {
   "cell_type": "markdown",
   "id": "3f7df30c-0897-4335-ab73-742f896e5ebc",
   "metadata": {},
   "source": [
    "# Data Exploratory Analysis (EDA)"
   ]
  },
  {
   "cell_type": "markdown",
   "id": "9bf96631-8a3f-4634-9019-fed4a923f3b3",
   "metadata": {},
   "source": [
    "## Univariate Analysis"
   ]
  },
  {
   "cell_type": "code",
   "execution_count": 8,
   "id": "91a1cd79-f238-462f-8e2e-6a2bcdf01ca5",
   "metadata": {},
   "outputs": [
    {
     "data": {
      "text/plain": [
       "[nan]"
      ]
     },
     "execution_count": 8,
     "metadata": {},
     "output_type": "execute_result"
    }
   ],
   "source": [
    "# Distinct values in hospital name column\n",
    "covid_hk_df[\"hospital_name\"].drop_duplicates().to_list()"
   ]
  },
  {
   "cell_type": "code",
   "execution_count": 9,
   "id": "8328bee4-f2a4-4014-8336-59ba2bc0c549",
   "metadata": {},
   "outputs": [
    {
     "data": {
      "text/plain": [
       "min   2020-01-02\n",
       "max   2022-12-01\n",
       "Name: report_date, dtype: datetime64[ns]"
      ]
     },
     "execution_count": 9,
     "metadata": {},
     "output_type": "execute_result"
    }
   ],
   "source": [
    "# Report date Range in data set\n",
    "covid_hk_df[\"report_date\"].agg([\"min\", \"max\"])"
   ]
  },
  {
   "cell_type": "code",
   "execution_count": 10,
   "id": "302a5656-b5d0-40f6-9b77-da609b38dcd7",
   "metadata": {},
   "outputs": [],
   "source": [
    "# # Line chart - Number of new Covid-19 cases (Hong Kong)\n",
    "# plt.subplots(figsize=(15, 8))\n",
    "# plt.plot(covid_hk_df[\"report_date\"].dt.strftime(\"%Y-%m\").value_counts().sort_index())\n",
    "# plt.title(\"Number of new Covid-19 cases (Hong Kong)\")\n",
    "# plt.xlabel(\"Year-Month (%Y-%m)\")\n",
    "# plt.ylabel(\"Number of newly reported cases\")\n",
    "# plt.xticks(rotation=90)\n",
    "# plt.show()"
   ]
  },
  {
   "cell_type": "code",
   "execution_count": 11,
   "id": "7f258462-f5ac-4f64-95e4-16b5edfe4160",
   "metadata": {},
   "outputs": [],
   "source": [
    "# # Bar plot - Number of Covid-19 cases by age (Hong Kong)\n",
    "# plt.subplots(figsize=(15, 8))\n",
    "# plt.hist(covid_hk_df[~covid_hk_df[\"age\"].isin([\"<1\", \"Pending\"])][\"age\"].dropna().astype(\"int\"))\n",
    "# plt.title(\"Number of Covid-19 cases vs age (Hong Kong)\")\n",
    "# plt.xlabel(\"Age\")\n",
    "# plt.ylabel(\"Number of cases\")\n",
    "# plt.show()"
   ]
  },
  {
   "cell_type": "code",
   "execution_count": 12,
   "id": "c7fd686a-c14d-40bc-88ff-a242ed32b7a4",
   "metadata": {},
   "outputs": [],
   "source": [
    "# # Pie Charts\n",
    "# # Value counts of gender and resident\n",
    "# gender_count = covid_hk_df[\"gender\"].dropna().astype(\"str\").value_counts()\n",
    "# resident_count = covid_hk_df[\"resident\"].dropna().astype(\"str\").value_counts()\n",
    "\n",
    "# # Create a figure and add the axes for subgraphs\n",
    "# fig, axes = plt.subplots(nrows=1, ncols=2, figsize=(12, 5))\n",
    "# fig.suptitle(\"Distribution of Covid-19 cases (Hong Kong)\", fontsize=16)\n",
    "\n",
    "# # Pie Chart - Percentage of Covid-19 cases by gender (Hong Kong)\n",
    "# axes[0].pie(gender_count.values, labels = gender_count.index, autopct=\"%1.2f%%\", pctdistance=0.66, labeldistance=1.05)\n",
    "# axes[0].set_xlabel(\"Gender\")\n",
    "\n",
    "# # Pie Chart - Percentage of Covid-19 cases by resident (Hong Kong)\n",
    "# axes[1].pie(resident_count.values, labels = resident_count.index, autopct=\"%1.2f%%\", pctdistance=0.66, labeldistance=1.05)\n",
    "# axes[1].set_xlabel(\"Resident / Non-Resident\")\n",
    "\n",
    "# plt.tight_layout()\n",
    "# plt.show()"
   ]
  },
  {
   "cell_type": "code",
   "execution_count": 13,
   "id": "65051c2e-e9ae-469c-b428-3bef9e64a4cb",
   "metadata": {},
   "outputs": [],
   "source": [
    "# # Bar plots\n",
    "# # Value counts of case_outcome and case_type\n",
    "# case_outcome_count = covid_hk_df[\"case_outcome\"].dropna().astype(\"str\").value_counts()\n",
    "# case_type_count = covid_hk_df[\"case_type\"].dropna().astype(\"str\").value_counts()\n",
    "\n",
    "# # Create a figure and add the axes for subgraphs\n",
    "# fig, axes = plt.subplots(nrows=1, ncols=2, figsize=(12, 8))\n",
    "# fig.suptitle(\"Number of Covid-19 cases (Hong Kong)\", fontsize=16)\n",
    "\n",
    "# # Bar plot - Number of Covid-19 cases by case_outcome (Hong Kong)\n",
    "# axes[0].bar(case_outcome_count.index, case_outcome_count.values)\n",
    "# axes[0].set_xlabel(\"Case Outcome\")\n",
    "# axes[0].set_ylabel(\"Number of cases\")\n",
    "# axes[0].set_xticklabels(case_outcome_count.index, rotation=45)\n",
    "\n",
    "# # Bar plot - Number of Covid-19 cases by case_type (Hong Kong)\n",
    "# axes[1].bar(case_type_count.index, case_type_count.values)\n",
    "# axes[1].set_xlabel(\"Case Type\")\n",
    "# axes[1].set_ylabel(\"Number of cases\")\n",
    "# axes[1].set_xticklabels(case_type_count.index, rotation=90)\n",
    "\n",
    "# plt.tight_layout()\n",
    "# plt.show()"
   ]
  },
  {
   "cell_type": "markdown",
   "id": "a374e9f7-559e-4acc-8909-5e275cb3f2b3",
   "metadata": {},
   "source": [
    "## Multivariate Analysis"
   ]
  },
  {
   "cell_type": "code",
   "execution_count": null,
   "id": "051cea1d-22c7-4de1-a7fc-7b6967e38c1a",
   "metadata": {},
   "outputs": [],
   "source": []
  },
  {
   "cell_type": "code",
   "execution_count": null,
   "id": "116a2683-a79b-4d79-b4cf-215e32a9141f",
   "metadata": {},
   "outputs": [],
   "source": []
  },
  {
   "cell_type": "code",
   "execution_count": null,
   "id": "21449f55-325b-49ab-8c3d-f19e9b4f3835",
   "metadata": {},
   "outputs": [],
   "source": []
  },
  {
   "cell_type": "code",
   "execution_count": null,
   "id": "aee7546d-0f05-4173-a318-33b98d8d26d6",
   "metadata": {},
   "outputs": [],
   "source": []
  },
  {
   "cell_type": "code",
   "execution_count": null,
   "id": "1ed8b0f6-d432-427d-b885-ae979d151176",
   "metadata": {},
   "outputs": [],
   "source": []
  },
  {
   "cell_type": "code",
   "execution_count": null,
   "id": "aba97967-feea-4d14-af23-cd6ef49f900f",
   "metadata": {},
   "outputs": [],
   "source": []
  },
  {
   "cell_type": "code",
   "execution_count": 14,
   "id": "0c7476ab-5d8e-4738-8162-26d65c32633a",
   "metadata": {},
   "outputs": [
    {
     "name": "stdout",
     "output_type": "stream",
     "text": [
      "The following columns have missing values:\n",
      "onset_date: 20 (0.1%)\n",
      "gender: 6 (0.0%)\n",
      "age: 6 (0.0%)\n",
      "hospital_name: 15441 (100.0%)\n",
      "case_outcome: 6 (0.0%)\n",
      "resident: 6 (0.0%)\n",
      "case_type: 6 (0.0%)\n"
     ]
    }
   ],
   "source": [
    "# Number of missing values in each coumns\n",
    "print_missing_val_count(covid_hk_df)"
   ]
  },
  {
   "cell_type": "code",
   "execution_count": 15,
   "id": "03b4e86b-686d-45a0-849b-7517cf055d15",
   "metadata": {},
   "outputs": [
    {
     "data": {
      "text/html": [
       "<div>\n",
       "<style scoped>\n",
       "    .dataframe tbody tr th:only-of-type {\n",
       "        vertical-align: middle;\n",
       "    }\n",
       "\n",
       "    .dataframe tbody tr th {\n",
       "        vertical-align: top;\n",
       "    }\n",
       "\n",
       "    .dataframe thead th {\n",
       "        text-align: right;\n",
       "    }\n",
       "</style>\n",
       "<table border=\"1\" class=\"dataframe\">\n",
       "  <thead>\n",
       "    <tr style=\"text-align: right;\">\n",
       "      <th></th>\n",
       "      <th>case_id</th>\n",
       "      <th>report_date</th>\n",
       "      <th>onset_date</th>\n",
       "      <th>gender</th>\n",
       "      <th>age</th>\n",
       "      <th>hospital_name</th>\n",
       "      <th>case_outcome</th>\n",
       "      <th>resident</th>\n",
       "      <th>case_type</th>\n",
       "      <th>case_status</th>\n",
       "    </tr>\n",
       "  </thead>\n",
       "  <tbody>\n",
       "    <tr>\n",
       "      <th>11251</th>\n",
       "      <td>11252</td>\n",
       "      <td>2021-03-13</td>\n",
       "      <td>NaN</td>\n",
       "      <td>NaN</td>\n",
       "      <td>NaN</td>\n",
       "      <td>NaN</td>\n",
       "      <td>NaN</td>\n",
       "      <td>NaN</td>\n",
       "      <td>NaN</td>\n",
       "      <td>Deleted</td>\n",
       "    </tr>\n",
       "    <tr>\n",
       "      <th>11264</th>\n",
       "      <td>11265</td>\n",
       "      <td>2021-03-14</td>\n",
       "      <td>NaN</td>\n",
       "      <td>NaN</td>\n",
       "      <td>NaN</td>\n",
       "      <td>NaN</td>\n",
       "      <td>NaN</td>\n",
       "      <td>NaN</td>\n",
       "      <td>NaN</td>\n",
       "      <td>Deleted</td>\n",
       "    </tr>\n",
       "    <tr>\n",
       "      <th>11351</th>\n",
       "      <td>11352</td>\n",
       "      <td>2021-03-19</td>\n",
       "      <td>NaN</td>\n",
       "      <td>NaN</td>\n",
       "      <td>NaN</td>\n",
       "      <td>NaN</td>\n",
       "      <td>NaN</td>\n",
       "      <td>NaN</td>\n",
       "      <td>NaN</td>\n",
       "      <td>Deleted</td>\n",
       "    </tr>\n",
       "    <tr>\n",
       "      <th>11702</th>\n",
       "      <td>11703</td>\n",
       "      <td>2021-04-20</td>\n",
       "      <td>NaN</td>\n",
       "      <td>NaN</td>\n",
       "      <td>NaN</td>\n",
       "      <td>NaN</td>\n",
       "      <td>NaN</td>\n",
       "      <td>NaN</td>\n",
       "      <td>NaN</td>\n",
       "      <td>Deleted</td>\n",
       "    </tr>\n",
       "    <tr>\n",
       "      <th>11725</th>\n",
       "      <td>11726</td>\n",
       "      <td>2021-04-23</td>\n",
       "      <td>NaN</td>\n",
       "      <td>NaN</td>\n",
       "      <td>NaN</td>\n",
       "      <td>NaN</td>\n",
       "      <td>NaN</td>\n",
       "      <td>NaN</td>\n",
       "      <td>NaN</td>\n",
       "      <td>Deleted</td>\n",
       "    </tr>\n",
       "    <tr>\n",
       "      <th>13143</th>\n",
       "      <td>13144</td>\n",
       "      <td>2022-01-22</td>\n",
       "      <td>NaN</td>\n",
       "      <td>NaN</td>\n",
       "      <td>NaN</td>\n",
       "      <td>NaN</td>\n",
       "      <td>NaN</td>\n",
       "      <td>NaN</td>\n",
       "      <td>NaN</td>\n",
       "      <td>Deleted</td>\n",
       "    </tr>\n",
       "  </tbody>\n",
       "</table>\n",
       "</div>"
      ],
      "text/plain": [
       "       case_id report_date onset_date gender  age  hospital_name case_outcome  \\\n",
       "11251    11252  2021-03-13        NaN    NaN  NaN            NaN          NaN   \n",
       "11264    11265  2021-03-14        NaN    NaN  NaN            NaN          NaN   \n",
       "11351    11352  2021-03-19        NaN    NaN  NaN            NaN          NaN   \n",
       "11702    11703  2021-04-20        NaN    NaN  NaN            NaN          NaN   \n",
       "11725    11726  2021-04-23        NaN    NaN  NaN            NaN          NaN   \n",
       "13143    13144  2022-01-22        NaN    NaN  NaN            NaN          NaN   \n",
       "\n",
       "      resident case_type case_status  \n",
       "11251      NaN       NaN     Deleted  \n",
       "11264      NaN       NaN     Deleted  \n",
       "11351      NaN       NaN     Deleted  \n",
       "11702      NaN       NaN     Deleted  \n",
       "11725      NaN       NaN     Deleted  \n",
       "13143      NaN       NaN     Deleted  "
      ]
     },
     "execution_count": 15,
     "metadata": {},
     "output_type": "execute_result"
    }
   ],
   "source": [
    "# Print records with case status \"Deleted\"\n",
    "covid_hk_df[covid_hk_df[\"case_status\"] == \"Deleted\"]"
   ]
  },
  {
   "cell_type": "code",
   "execution_count": 16,
   "id": "65672d59-fecf-4b76-863d-192bb5ec6d29",
   "metadata": {},
   "outputs": [
    {
     "data": {
      "text/html": [
       "<div>\n",
       "<style scoped>\n",
       "    .dataframe tbody tr th:only-of-type {\n",
       "        vertical-align: middle;\n",
       "    }\n",
       "\n",
       "    .dataframe tbody tr th {\n",
       "        vertical-align: top;\n",
       "    }\n",
       "\n",
       "    .dataframe thead th {\n",
       "        text-align: right;\n",
       "    }\n",
       "</style>\n",
       "<table border=\"1\" class=\"dataframe\">\n",
       "  <thead>\n",
       "    <tr style=\"text-align: right;\">\n",
       "      <th></th>\n",
       "      <th>case_id</th>\n",
       "      <th>report_date</th>\n",
       "      <th>onset_date</th>\n",
       "      <th>gender</th>\n",
       "      <th>age</th>\n",
       "      <th>hospital_name</th>\n",
       "      <th>case_outcome</th>\n",
       "      <th>resident</th>\n",
       "      <th>case_type</th>\n",
       "      <th>case_status</th>\n",
       "    </tr>\n",
       "  </thead>\n",
       "  <tbody>\n",
       "    <tr>\n",
       "      <th>14531</th>\n",
       "      <td>14532</td>\n",
       "      <td>2022-03-02</td>\n",
       "      <td>Unknown</td>\n",
       "      <td>M</td>\n",
       "      <td>41</td>\n",
       "      <td>NaN</td>\n",
       "      <td>Pending admission</td>\n",
       "      <td>Non-HK resident</td>\n",
       "      <td>Imported case</td>\n",
       "      <td>Unknown</td>\n",
       "    </tr>\n",
       "  </tbody>\n",
       "</table>\n",
       "</div>"
      ],
      "text/plain": [
       "       case_id report_date onset_date gender age  hospital_name  \\\n",
       "14531    14532  2022-03-02    Unknown      M  41            NaN   \n",
       "\n",
       "            case_outcome         resident      case_type case_status  \n",
       "14531  Pending admission  Non-HK resident  Imported case     Unknown  "
      ]
     },
     "execution_count": 16,
     "metadata": {},
     "output_type": "execute_result"
    }
   ],
   "source": [
    "# Print records with case status \"Unknown\"\n",
    "covid_hk_df[covid_hk_df[\"case_status\"] == \"Unknown\"]"
   ]
  },
  {
   "cell_type": "code",
   "execution_count": 17,
   "id": "d08d8a43-abe2-45b4-9f97-735031092a57",
   "metadata": {},
   "outputs": [],
   "source": [
    "# Drop hospital name column\n",
    "covid_hk_df = covid_hk_df.drop([\"hospital_name\"], axis=1)"
   ]
  },
  {
   "cell_type": "code",
   "execution_count": 18,
   "id": "6350308d-3805-40d7-acb6-1a672ee59041",
   "metadata": {},
   "outputs": [],
   "source": [
    "# Drop records with status \"Deleted\" or \"Unknown\"\n",
    "covid_hk_df = covid_hk_df[~covid_hk_df[\"case_status\"].isin([\"Deleted\", \"Unknown\"])]"
   ]
  },
  {
   "cell_type": "code",
   "execution_count": null,
   "id": "98bee6ad-7a88-47e4-ba58-53b5b0f714ca",
   "metadata": {},
   "outputs": [],
   "source": []
  },
  {
   "cell_type": "code",
   "execution_count": null,
   "id": "e86118b3-2f69-4f08-bb64-8d748e9c6932",
   "metadata": {},
   "outputs": [],
   "source": []
  },
  {
   "cell_type": "code",
   "execution_count": null,
   "id": "6ba168a5-d553-49d0-b626-88a78c9b2479",
   "metadata": {},
   "outputs": [],
   "source": []
  },
  {
   "cell_type": "code",
   "execution_count": null,
   "id": "3ce6556a-41e8-4b3a-aa93-daadd07a6d9a",
   "metadata": {},
   "outputs": [],
   "source": []
  }
 ],
 "metadata": {
  "kernelspec": {
   "display_name": "Python 3 (ipykernel)",
   "language": "python",
   "name": "python3"
  },
  "language_info": {
   "codemirror_mode": {
    "name": "ipython",
    "version": 3
   },
   "file_extension": ".py",
   "mimetype": "text/x-python",
   "name": "python",
   "nbconvert_exporter": "python",
   "pygments_lexer": "ipython3",
   "version": "3.11.4"
  }
 },
 "nbformat": 4,
 "nbformat_minor": 5
}
