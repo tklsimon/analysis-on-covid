{
 "cells": [
  {
   "cell_type": "markdown",
   "id": "5f5fa870-3875-4d53-a621-24aefb924a65",
   "metadata": {},
   "source": [
    "# The University of Hong Kong\n",
    "## DASC7600 Data Science Project 2024\n",
    "## Time Series Regression Model"
   ]
  },
  {
   "cell_type": "markdown",
   "id": "ed22e8c9-8dbc-4134-90ac-8a4f8c4c1c25",
   "metadata": {},
   "source": [
    "# Import Modules and Settings"
   ]
  },
  {
   "cell_type": "code",
   "execution_count": 1,
   "id": "b62df672",
   "metadata": {},
   "outputs": [],
   "source": [
    "import graphviz\n",
    "import os\n",
    "import pandas as pd\n",
    "import warnings\n",
    "from sklearn.model_selection import train_test_split\n",
    "from sklearn.tree import DecisionTreeRegressor, export_graphviz\n",
    "from statsmodels.tsa.vector_ar.var_model import VAR\n",
    "\n",
    "import covid_module\n",
    "\n",
    "# Settings\n",
    "warnings.filterwarnings('ignore')\n",
    "\n",
    "os.environ[\"PATH\"] += os.pathsep + \"C:/Program Files/Graphviz/bin\" # To fix a graphviz bug"
   ]
  },
  {
   "cell_type": "markdown",
   "id": "dccdd642",
   "metadata": {},
   "source": [
    "# Functions"
   ]
  },
  {
   "cell_type": "code",
   "execution_count": 2,
   "id": "02bcc6a8",
   "metadata": {},
   "outputs": [],
   "source": [
    "def add_lag_columns(df: pd.DataFrame,\n",
    "                       col: str,\n",
    "                       lag_nbr: int) -> pd.DataFrame:\n",
    "    for nbr in range(1, lag_nbr+1):\n",
    "        df[f'{col}_lag{nbr}'] = df[col].shift(nbr)\n",
    "    return df"
   ]
  },
  {
   "cell_type": "markdown",
   "id": "95d0a5b5",
   "metadata": {},
   "source": [
    "# Load Data"
   ]
  },
  {
   "cell_type": "code",
   "execution_count": 3,
   "id": "c7d32cf5-bad0-4d70-9161-80950b01e096",
   "metadata": {},
   "outputs": [],
   "source": [
    "# Read csv files\n",
    "covid_hk_std = pd.read_csv('./data/std_data/hk/covid_hk_case_std.csv')\n",
    "hk_daily_temp_std = pd.read_csv('./data/std_data/hk/hk_daily_temp_std.csv')"
   ]
  },
  {
   "cell_type": "markdown",
   "id": "52b08bc3-0d1e-4d93-a752-708cbe623954",
   "metadata": {},
   "source": [
    "# Modify Data Type"
   ]
  },
  {
   "cell_type": "code",
   "execution_count": 4,
   "id": "0ac95a57",
   "metadata": {},
   "outputs": [],
   "source": [
    "covid_hk_std['report_date'] = pd.to_datetime(covid_hk_std['report_date'], format='%Y%m%d')\n",
    "hk_daily_temp_std['report_date'] = pd.to_datetime(hk_daily_temp_std['report_date'], format='%Y%m%d')"
   ]
  },
  {
   "cell_type": "markdown",
   "id": "80331160-55b6-4a64-9115-b75b9185be75",
   "metadata": {},
   "source": [
    "# New Case Counts"
   ]
  },
  {
   "cell_type": "code",
   "execution_count": 5,
   "id": "51d34566",
   "metadata": {},
   "outputs": [],
   "source": [
    "covid_hk_new_case_cnt_df = covid_module.get_date_count(covid_hk_std, 'report_date', '%Y%m%d')"
   ]
  },
  {
   "cell_type": "markdown",
   "id": "f0c2bd23-8807-45d4-9959-e13bf870fc63",
   "metadata": {},
   "source": [
    "# Combine Case Count and Temperature"
   ]
  },
  {
   "cell_type": "code",
   "execution_count": 6,
   "id": "beef54e1-8e5a-44c4-b128-57cd7c84a6d7",
   "metadata": {},
   "outputs": [],
   "source": [
    "covid_hk_case_cnt_temp = covid_hk_new_case_cnt_df \\\n",
    "    .merge(hk_daily_temp_std,\n",
    "           'left',\n",
    "           'report_date')"
   ]
  },
  {
   "cell_type": "markdown",
   "id": "78e517a9",
   "metadata": {},
   "source": [
    "# Train Model"
   ]
  },
  {
   "cell_type": "markdown",
   "id": "874dc9dd-ca6d-4869-9830-7920af62234d",
   "metadata": {},
   "source": [
    "## Regression Tree Model"
   ]
  },
  {
   "cell_type": "markdown",
   "id": "b572a70d",
   "metadata": {},
   "source": [
    "### Add Lag Columns for Regression Tree Model"
   ]
  },
  {
   "cell_type": "code",
   "execution_count": 7,
   "id": "3ca60692",
   "metadata": {},
   "outputs": [],
   "source": [
    "# Lagged number\n",
    "lag_nbr = 7\n",
    "\n",
    "covid_hk_case_cnt_temp_lag = covid_hk_case_cnt_temp.copy()\n",
    "for col in ['count', 'avg_temp']:\n",
    "    add_lag_columns(covid_hk_case_cnt_temp_lag, col, lag_nbr)\n",
    "\n",
    "# Drop first 7 rows\n",
    "# They have missing values due to the lagging\n",
    "covid_hk_case_cnt_temp_lag = covid_hk_case_cnt_temp_lag.iloc[7:]"
   ]
  },
  {
   "cell_type": "code",
   "execution_count": 8,
   "id": "de843cef-2bab-4e47-b047-3525707d0127",
   "metadata": {},
   "outputs": [
    {
     "name": "stdout",
     "output_type": "stream",
     "text": [
      "The dataframe does not have missing values.\n"
     ]
    }
   ],
   "source": [
    "# To confirm there is no missing values due to join or lagging\n",
    "covid_module.print_missing_val_count(covid_hk_case_cnt_temp_lag)"
   ]
  },
  {
   "cell_type": "markdown",
   "id": "8545f372-8c4f-491b-a378-c18cf979c7a2",
   "metadata": {},
   "source": [
    "### Training Data and Test Data for Tree Model"
   ]
  },
  {
   "cell_type": "code",
   "execution_count": 9,
   "id": "0caf6fe7",
   "metadata": {},
   "outputs": [],
   "source": [
    "tree_X_col_list = [col for col in covid_hk_case_cnt_temp_lag.columns if ('count_lag' in col) or ('avg_temp' in col)]\n",
    "\n",
    "tree_X = covid_hk_case_cnt_temp_lag[tree_X_col_list]\n",
    "tree_y = covid_hk_case_cnt_temp_lag['count']\n",
    "\n",
    "# Split into train set and test set with ratio 0.8 : 0.2\n",
    "tree_X_train, tree_X_test, tree_y_train, tree_y_test = train_test_split(tree_X, tree_y, test_size=0.2, random_state=2024)"
   ]
  },
  {
   "cell_type": "markdown",
   "id": "68ad0138-1fa0-4d54-be05-27ffcfffdd28",
   "metadata": {},
   "source": [
    "### Fit Regression Tree Model"
   ]
  },
  {
   "cell_type": "code",
   "execution_count": 10,
   "id": "1a10d643",
   "metadata": {},
   "outputs": [
    {
     "name": "stdout",
     "output_type": "stream",
     "text": [
      "Test score of Regression Tree Model is 0.771.\n"
     ]
    }
   ],
   "source": [
    "# Regression Tree model\n",
    "reg_tree_model = DecisionTreeRegressor(min_samples_leaf=5, max_depth=3, random_state=2024)\n",
    "\n",
    "# Fit the Regression Tree model\n",
    "reg_tree_model.fit(tree_X_train, tree_y_train)\n",
    "\n",
    "print(f\"Test score of Regression Tree Model is {reg_tree_model.score(tree_X_test, tree_y_test):.3f}.\")"
   ]
  },
  {
   "cell_type": "markdown",
   "id": "0538a24e-72d0-4cf9-9b12-50c13abc542a",
   "metadata": {},
   "source": [
    "### Graph and Feature Importance of the Tree Model"
   ]
  },
  {
   "cell_type": "code",
   "execution_count": 11,
   "id": "88d46a79-d028-436d-959f-a1886ab7e8a3",
   "metadata": {},
   "outputs": [],
   "source": [
    "# # Export a decision tree in DOT format with Graphviz\n",
    "# dot_graph = export_graphviz(reg_tree_model,\n",
    "#                             feature_names=reg_tree_model.feature_names_in_,\n",
    "#                             filled=True,\n",
    "#                             rounded=True,\n",
    "#                             special_characters=True)\n",
    "\n",
    "# tree_graph = graphviz.Source(dot_graph, format=\"png\")\n",
    "\n",
    "# # Print the structure of regression tree\n",
    "# tree_graph"
   ]
  },
  {
   "cell_type": "code",
   "execution_count": 12,
   "id": "a2a45dec",
   "metadata": {},
   "outputs": [],
   "source": [
    "# # Feature importances\n",
    "# feature_importance_df = pd.DataFrame({'Variable Name': reg_tree_model.feature_names_in_, 'Importance': reg_tree_model.feature_importances_})\n",
    "\n",
    "# feature_importance_df.sort_values(by='Importance', ascending=False)"
   ]
  },
  {
   "cell_type": "markdown",
   "id": "bb8ed27e-a30d-41da-bac5-4ef6738e51e6",
   "metadata": {},
   "source": [
    "## Vector Autoregressions (VAR) Model"
   ]
  },
  {
   "cell_type": "markdown",
   "id": "cddb8580-ef58-4309-802f-c8eb9cec1842",
   "metadata": {},
   "source": [
    "###  Data for VAR Model"
   ]
  },
  {
   "cell_type": "code",
   "execution_count": 13,
   "id": "6615e949-906b-428b-bb9c-e69d4662371e",
   "metadata": {},
   "outputs": [],
   "source": [
    "var_data = covid_hk_case_cnt_temp[['report_date', 'count', 'avg_temp']]\n",
    "\n",
    "var_data.set_index('report_date', inplace=True)"
   ]
  },
  {
   "cell_type": "markdown",
   "id": "60560d88-19e2-4057-8a4c-e01d077dfadd",
   "metadata": {},
   "source": [
    "### Training Data and Test Data for VAR Model"
   ]
  },
  {
   "cell_type": "code",
   "execution_count": 14,
   "id": "8402901f-467c-42b6-99cb-96fac059da49",
   "metadata": {},
   "outputs": [],
   "source": [
    "# Use the last 5 days as test data\n",
    "var_train = var_data[:-5]\n",
    "var_test = var_data[-5:]"
   ]
  },
  {
   "cell_type": "markdown",
   "id": "5630cc66-7ed0-4f81-a90a-a5c6a827b8d3",
   "metadata": {},
   "source": [
    "### Fit VAR Model"
   ]
  },
  {
   "cell_type": "code",
   "execution_count": 15,
   "id": "53d7bd95-37ee-4b72-b3fd-ac809e96e15e",
   "metadata": {},
   "outputs": [
    {
     "name": "stdout",
     "output_type": "stream",
     "text": [
      "  Summary of Regression Results   \n",
      "==================================\n",
      "Model:                         VAR\n",
      "Method:                        OLS\n",
      "Date:           Sat, 24, Aug, 2024\n",
      "Time:                     09:35:36\n",
      "--------------------------------------------------------------------\n",
      "No. of Equations:         2.00000    BIC:                    5.56131\n",
      "Nobs:                     726.000    HQIC:                   5.32072\n",
      "Log likelihood:          -3874.84    FPE:                    175.851\n",
      "AIC:                      5.16953    Det(Omega_mle):         161.743\n",
      "--------------------------------------------------------------------\n",
      "Results for equation count\n",
      "===============================================================================\n",
      "                  coefficient       std. error           t-stat            prob\n",
      "-------------------------------------------------------------------------------\n",
      "const                3.564321         2.252002            1.583           0.113\n",
      "L1.count             0.568997         0.037971           14.985           0.000\n",
      "L1.avg_temp         -0.193394         0.310520           -0.623           0.533\n",
      "L2.count             0.280873         0.043495            6.458           0.000\n",
      "L2.avg_temp          0.338104         0.441755            0.765           0.444\n",
      "L3.count             0.086057         0.045278            1.901           0.057\n",
      "L3.avg_temp          0.267580         0.452497            0.591           0.554\n",
      "L4.count             0.125905         0.045071            2.793           0.005\n",
      "L4.avg_temp         -0.481716         0.452922           -1.064           0.288\n",
      "L5.count            -0.015013         0.045175           -0.332           0.740\n",
      "L5.avg_temp          0.245433         0.452634            0.542           0.588\n",
      "L6.count             0.011993         0.046231            0.259           0.795\n",
      "L6.avg_temp         -0.016953         0.453511           -0.037           0.970\n",
      "L7.count            -0.045765         0.046403           -0.986           0.324\n",
      "L7.avg_temp         -0.265192         0.452055           -0.587           0.557\n",
      "L8.count            -0.071070         0.046426           -1.531           0.126\n",
      "L8.avg_temp          0.168061         0.452065            0.372           0.710\n",
      "L9.count             0.094864         0.046516            2.039           0.041\n",
      "L9.avg_temp         -0.662511         0.450454           -1.471           0.141\n",
      "L10.count           -0.112832         0.049563           -2.277           0.023\n",
      "L10.avg_temp         0.244338         0.451014            0.542           0.588\n",
      "L11.count            0.091016         0.050741            1.794           0.073\n",
      "L11.avg_temp         0.323478         0.450269            0.718           0.473\n",
      "L12.count           -0.160095         0.051109           -3.132           0.002\n",
      "L12.avg_temp        -0.692150         0.449922           -1.538           0.124\n",
      "L13.count            0.077781         0.051087            1.523           0.128\n",
      "L13.avg_temp         0.307945         0.449877            0.685           0.494\n",
      "L14.count            0.148849         0.050118            2.970           0.003\n",
      "L14.avg_temp         0.717016         0.440118            1.629           0.103\n",
      "L15.count           -0.135481         0.044564           -3.040           0.002\n",
      "L15.avg_temp        -0.396307         0.307198           -1.290           0.197\n",
      "===============================================================================\n",
      "\n",
      "Results for equation avg_temp\n",
      "===============================================================================\n",
      "                  coefficient       std. error           t-stat            prob\n",
      "-------------------------------------------------------------------------------\n",
      "const                0.505458         0.275080            1.837           0.066\n",
      "L1.count            -0.005332         0.004638           -1.150           0.250\n",
      "L1.avg_temp          1.010785         0.037930           26.649           0.000\n",
      "L2.count             0.003126         0.005313            0.588           0.556\n",
      "L2.avg_temp         -0.317346         0.053960           -5.881           0.000\n",
      "L3.count             0.008784         0.005531            1.588           0.112\n",
      "L3.avg_temp          0.112158         0.055272            2.029           0.042\n",
      "L4.count            -0.005695         0.005505           -1.034           0.301\n",
      "L4.avg_temp         -0.001582         0.055324           -0.029           0.977\n",
      "L5.count             0.003858         0.005518            0.699           0.484\n",
      "L5.avg_temp          0.058600         0.055289            1.060           0.289\n",
      "L6.count            -0.010215         0.005647           -1.809           0.070\n",
      "L6.avg_temp         -0.068738         0.055396           -1.241           0.215\n",
      "L7.count             0.000381         0.005668            0.067           0.946\n",
      "L7.avg_temp          0.126250         0.055218            2.286           0.022\n",
      "L8.count             0.004937         0.005671            0.871           0.384\n",
      "L8.avg_temp         -0.078407         0.055219           -1.420           0.156\n",
      "L9.count            -0.013688         0.005682           -2.409           0.016\n",
      "L9.avg_temp          0.071654         0.055023            1.302           0.193\n",
      "L10.count           -0.000504         0.006054           -0.083           0.934\n",
      "L10.avg_temp        -0.008942         0.055091           -0.162           0.871\n",
      "L11.count           -0.006707         0.006198           -1.082           0.279\n",
      "L11.avg_temp         0.015134         0.055000            0.275           0.783\n",
      "L12.count            0.010383         0.006243            1.663           0.096\n",
      "L12.avg_temp         0.054916         0.054958            0.999           0.318\n",
      "L13.count           -0.000677         0.006240           -0.109           0.914\n",
      "L13.avg_temp        -0.043568         0.054952           -0.793           0.428\n",
      "L14.count            0.006291         0.006122            1.028           0.304\n",
      "L14.avg_temp         0.038864         0.053760            0.723           0.470\n",
      "L15.count            0.002301         0.005443            0.423           0.672\n",
      "L15.avg_temp         0.011840         0.037524            0.316           0.752\n",
      "===============================================================================\n",
      "\n",
      "Correlation matrix of residuals\n",
      "               count  avg_temp\n",
      "count       1.000000  0.022675\n",
      "avg_temp    0.022675  1.000000\n",
      "\n",
      "\n",
      "\n"
     ]
    }
   ],
   "source": [
    "# VAR model\n",
    "var_model = VAR(var_train)\n",
    "\n",
    "# Select lag order based on AIC\n",
    "var_lag_order = var_model.select_order().aic\n",
    "\n",
    "# Fit the VAR model\n",
    "var_model = var_model.fit(maxlags=var_lag_order)\n",
    "\n",
    "# Summary of the fitted VAR model\n",
    "print(var_model.summary())"
   ]
  },
  {
   "cell_type": "markdown",
   "id": "2b7a3e55-2058-4133-8bf8-8efc1b313750",
   "metadata": {},
   "source": [
    "### Prediction of the Fitted VAR Model"
   ]
  },
  {
   "cell_type": "code",
   "execution_count": 16,
   "id": "d111648d",
   "metadata": {},
   "outputs": [
    {
     "name": "stdout",
     "output_type": "stream",
     "text": [
      "Predictions of new case counts for the next 5 days using the trained VAR model:\n"
     ]
    },
    {
     "data": {
      "text/html": [
       "<div>\n",
       "<style scoped>\n",
       "    .dataframe tbody tr th:only-of-type {\n",
       "        vertical-align: middle;\n",
       "    }\n",
       "\n",
       "    .dataframe tbody tr th {\n",
       "        vertical-align: top;\n",
       "    }\n",
       "\n",
       "    .dataframe thead th {\n",
       "        text-align: right;\n",
       "    }\n",
       "</style>\n",
       "<table border=\"1\" class=\"dataframe\">\n",
       "  <thead>\n",
       "    <tr style=\"text-align: right;\">\n",
       "      <th></th>\n",
       "      <th>count</th>\n",
       "      <th>avg_temp</th>\n",
       "    </tr>\n",
       "  </thead>\n",
       "  <tbody>\n",
       "    <tr>\n",
       "      <th>0</th>\n",
       "      <td>103.023872</td>\n",
       "      <td>13.069949</td>\n",
       "    </tr>\n",
       "    <tr>\n",
       "      <th>1</th>\n",
       "      <td>110.453119</td>\n",
       "      <td>11.820010</td>\n",
       "    </tr>\n",
       "    <tr>\n",
       "      <th>2</th>\n",
       "      <td>85.837418</td>\n",
       "      <td>12.757006</td>\n",
       "    </tr>\n",
       "    <tr>\n",
       "      <th>3</th>\n",
       "      <td>98.225874</td>\n",
       "      <td>12.631705</td>\n",
       "    </tr>\n",
       "    <tr>\n",
       "      <th>4</th>\n",
       "      <td>100.766712</td>\n",
       "      <td>13.622823</td>\n",
       "    </tr>\n",
       "  </tbody>\n",
       "</table>\n",
       "</div>"
      ],
      "text/plain": [
       "        count   avg_temp\n",
       "0  103.023872  13.069949\n",
       "1  110.453119  11.820010\n",
       "2   85.837418  12.757006\n",
       "3   98.225874  12.631705\n",
       "4  100.766712  13.622823"
      ]
     },
     "execution_count": 16,
     "metadata": {},
     "output_type": "execute_result"
    }
   ],
   "source": [
    "# Predict case counts and average temperatures for the next 5 days\n",
    "print('Predictions of new case counts for the next 5 days using the trained VAR model:')\n",
    "pd.DataFrame(var_model.forecast(var_train.values, steps=5), columns=var_train.columns)"
   ]
  },
  {
   "cell_type": "code",
   "execution_count": 17,
   "id": "3a9298d6-29da-4ae1-b66e-2bf6dc20d4fc",
   "metadata": {},
   "outputs": [
    {
     "name": "stdout",
     "output_type": "stream",
     "text": [
      "The true new case counts for the next 5 days:\n"
     ]
    },
    {
     "data": {
      "text/html": [
       "<div>\n",
       "<style scoped>\n",
       "    .dataframe tbody tr th:only-of-type {\n",
       "        vertical-align: middle;\n",
       "    }\n",
       "\n",
       "    .dataframe tbody tr th {\n",
       "        vertical-align: top;\n",
       "    }\n",
       "\n",
       "    .dataframe thead th {\n",
       "        text-align: right;\n",
       "    }\n",
       "</style>\n",
       "<table border=\"1\" class=\"dataframe\">\n",
       "  <thead>\n",
       "    <tr style=\"text-align: right;\">\n",
       "      <th></th>\n",
       "      <th>count</th>\n",
       "      <th>avg_temp</th>\n",
       "    </tr>\n",
       "    <tr>\n",
       "      <th>report_date</th>\n",
       "      <th></th>\n",
       "      <th></th>\n",
       "    </tr>\n",
       "  </thead>\n",
       "  <tbody>\n",
       "    <tr>\n",
       "      <th>2022-02-02</th>\n",
       "      <td>116</td>\n",
       "      <td>15.6</td>\n",
       "    </tr>\n",
       "    <tr>\n",
       "      <th>2022-02-03</th>\n",
       "      <td>142</td>\n",
       "      <td>13.4</td>\n",
       "    </tr>\n",
       "    <tr>\n",
       "      <th>2022-02-04</th>\n",
       "      <td>131</td>\n",
       "      <td>14.4</td>\n",
       "    </tr>\n",
       "    <tr>\n",
       "      <th>2022-02-05</th>\n",
       "      <td>356</td>\n",
       "      <td>15.2</td>\n",
       "    </tr>\n",
       "    <tr>\n",
       "      <th>2022-02-06</th>\n",
       "      <td>355</td>\n",
       "      <td>16.0</td>\n",
       "    </tr>\n",
       "  </tbody>\n",
       "</table>\n",
       "</div>"
      ],
      "text/plain": [
       "             count  avg_temp\n",
       "report_date                 \n",
       "2022-02-02     116      15.6\n",
       "2022-02-03     142      13.4\n",
       "2022-02-04     131      14.4\n",
       "2022-02-05     356      15.2\n",
       "2022-02-06     355      16.0"
      ]
     },
     "execution_count": 17,
     "metadata": {},
     "output_type": "execute_result"
    }
   ],
   "source": [
    "print('The true new case counts for the next 5 days:')\n",
    "var_test"
   ]
  },
  {
   "cell_type": "code",
   "execution_count": null,
   "id": "bee4b62d-9c65-40a8-9537-082a80126ca6",
   "metadata": {},
   "outputs": [],
   "source": []
  }
 ],
 "metadata": {
  "kernelspec": {
   "display_name": "Python 3 (ipykernel)",
   "language": "python",
   "name": "python3"
  },
  "language_info": {
   "codemirror_mode": {
    "name": "ipython",
    "version": 3
   },
   "file_extension": ".py",
   "mimetype": "text/x-python",
   "name": "python",
   "nbconvert_exporter": "python",
   "pygments_lexer": "ipython3",
   "version": "3.11.4"
  }
 },
 "nbformat": 4,
 "nbformat_minor": 5
}
