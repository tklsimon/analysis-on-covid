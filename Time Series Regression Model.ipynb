{
 "cells": [
  {
   "cell_type": "markdown",
   "id": "5f5fa870-3875-4d53-a621-24aefb924a65",
   "metadata": {},
   "source": [
    "# The University of Hong Kong\n",
    "## DASC7600 Data Science Project 2024\n",
    "## Time Series Regression Model"
   ]
  },
  {
   "cell_type": "markdown",
   "id": "ed22e8c9-8dbc-4134-90ac-8a4f8c4c1c25",
   "metadata": {},
   "source": [
    "# Import Modules and Settings"
   ]
  },
  {
   "cell_type": "code",
   "execution_count": 1,
   "id": "b62df672",
   "metadata": {},
   "outputs": [],
   "source": [
    "import graphviz\n",
    "import os\n",
    "import pandas as pd\n",
    "import warnings\n",
    "from sklearn.model_selection import train_test_split\n",
    "from sklearn.tree import DecisionTreeRegressor, export_graphviz\n",
    "from statsmodels.tsa.vector_ar.var_model import VAR\n",
    "\n",
    "import covid_module\n",
    "\n",
    "# Settings\n",
    "warnings.filterwarnings('ignore')\n",
    "\n",
    "os.environ[\"PATH\"] += os.pathsep + \"C:/Program Files/Graphviz/bin\" # To fix a graphviz bug"
   ]
  },
  {
   "cell_type": "markdown",
   "id": "dccdd642",
   "metadata": {},
   "source": [
    "# Functions"
   ]
  },
  {
   "cell_type": "code",
   "execution_count": 2,
   "id": "02bcc6a8",
   "metadata": {},
   "outputs": [],
   "source": [
    "def get_cnt_from_cuml_col(df: pd.DataFrame,\n",
    "                          cuml_cnt_col: str,\n",
    "                          new_cnt_col: str) -> pd.DataFrame:\n",
    "    df[new_cnt_col] = df[cuml_cnt_col] - df[cuml_cnt_col].shift(1).fillna(0)\n",
    "    return df\n",
    "\n",
    "def add_lag_columns(df: pd.DataFrame,\n",
    "                    col: str,\n",
    "                    lag_nbr: int) -> pd.DataFrame:\n",
    "    for nbr in range(1, lag_nbr+1):\n",
    "        df[f'{col}_lag{nbr}'] = df[col].shift(nbr).fillna(0)\n",
    "    return df"
   ]
  },
  {
   "cell_type": "markdown",
   "id": "95d0a5b5",
   "metadata": {},
   "source": [
    "# Load Data"
   ]
  },
  {
   "cell_type": "code",
   "execution_count": 3,
   "id": "c7d32cf5-bad0-4d70-9161-80950b01e096",
   "metadata": {},
   "outputs": [],
   "source": [
    "# Read csv files\n",
    "covid_hk_case_cnt_std = pd.read_csv('./data/std_data/hk/covid_hk_case_count_std.csv')\n",
    "hk_daily_avg_temp_std = pd.read_csv('./data/std_data/hk/hk_daily_avg_temp_std.csv')\n",
    "covid_hk_policy_std = pd.read_csv('./data/std_data/hk/covid_hk_policy_std.csv')"
   ]
  },
  {
   "cell_type": "markdown",
   "id": "52b08bc3-0d1e-4d93-a752-708cbe623954",
   "metadata": {},
   "source": [
    "# Modify Data Type"
   ]
  },
  {
   "cell_type": "code",
   "execution_count": 4,
   "id": "0ac95a57",
   "metadata": {},
   "outputs": [],
   "source": [
    "for df in [covid_hk_case_cnt_std,\n",
    "           hk_daily_avg_temp_std,\n",
    "           covid_hk_policy_std]:\n",
    "    df['report_date'] = pd.to_datetime(df['report_date'], format='%Y%m%d')"
   ]
  },
  {
   "cell_type": "markdown",
   "id": "80331160-55b6-4a64-9115-b75b9185be75",
   "metadata": {},
   "source": [
    "# Obtain Case Count Column"
   ]
  },
  {
   "cell_type": "code",
   "execution_count": 5,
   "id": "51d34566",
   "metadata": {},
   "outputs": [],
   "source": [
    "covid_hk_case_cnt_std = get_cnt_from_cuml_col(covid_hk_case_cnt_std, 'cuml_case_cnt', 'case_cnt')"
   ]
  },
  {
   "cell_type": "markdown",
   "id": "f0c2bd23-8807-45d4-9959-e13bf870fc63",
   "metadata": {},
   "source": [
    "# Combine Case Count and Temperature"
   ]
  },
  {
   "cell_type": "code",
   "execution_count": 6,
   "id": "beef54e1-8e5a-44c4-b128-57cd7c84a6d7",
   "metadata": {},
   "outputs": [],
   "source": [
    "# covid_hk_case_cnt_std: from 2020-01-08 to 2023-01-29\n",
    "# hk_daily_avg_temp_std: from 2020-04-01 to 2024-06-30\n",
    "# covid_hk_policy_std: from 2020-01-01 to 2023-02-28\n",
    "time_series_data = covid_hk_case_cnt_std[['report_date', 'case_cnt']] \\\n",
    "    .merge(hk_daily_avg_temp_std[['report_date', 'avg_temp']],\n",
    "           'left',\n",
    "           'report_date') \\\n",
    "    .merge(covid_hk_policy_std,\n",
    "           'left',\n",
    "           'report_date')"
   ]
  },
  {
   "cell_type": "markdown",
   "id": "78e517a9",
   "metadata": {},
   "source": [
    "# Train Model"
   ]
  },
  {
   "cell_type": "markdown",
   "id": "874dc9dd-ca6d-4869-9830-7920af62234d",
   "metadata": {},
   "source": [
    "## Regression Tree Model"
   ]
  },
  {
   "cell_type": "markdown",
   "id": "b572a70d",
   "metadata": {},
   "source": [
    "### Add Lag Columns for Regression Tree Model"
   ]
  },
  {
   "cell_type": "code",
   "execution_count": 7,
   "id": "3ca60692",
   "metadata": {},
   "outputs": [],
   "source": [
    "# Lagged number\n",
    "lag_nbr = 7\n",
    "\n",
    "reg_tree_data = time_series_data.copy()\n",
    "for col in reg_tree_data.columns:\n",
    "    if col != 'report_date':\n",
    "        add_lag_columns(reg_tree_data, col, lag_nbr)"
   ]
  },
  {
   "cell_type": "code",
   "execution_count": 8,
   "id": "de843cef-2bab-4e47-b047-3525707d0127",
   "metadata": {},
   "outputs": [
    {
     "name": "stdout",
     "output_type": "stream",
     "text": [
      "This dataframe does not have missing values.\n"
     ]
    }
   ],
   "source": [
    "# To confirm there is no missing values due to join or lagging\n",
    "covid_module.print_missing_val_count(reg_tree_data)"
   ]
  },
  {
   "cell_type": "markdown",
   "id": "8545f372-8c4f-491b-a378-c18cf979c7a2",
   "metadata": {},
   "source": [
    "### Training Data and Test Data for Tree Model"
   ]
  },
  {
   "cell_type": "code",
   "execution_count": 9,
   "id": "0caf6fe7",
   "metadata": {},
   "outputs": [],
   "source": [
    "reg_tree_X_col_list = [col for col in reg_tree_data.columns if (col != 'report_date') and (col != 'case_cnt')]\n",
    "\n",
    "reg_tree_X = reg_tree_data[reg_tree_X_col_list]\n",
    "reg_tree_y = reg_tree_data['case_cnt']\n",
    "\n",
    "# Split into train set and test set with ratio 0.8 : 0.2\n",
    "reg_tree_X_train, reg_tree_X_test, reg_tree_y_train, reg_tree_y_test = train_test_split(reg_tree_X, reg_tree_y, test_size=0.2, random_state=2024)"
   ]
  },
  {
   "cell_type": "markdown",
   "id": "68ad0138-1fa0-4d54-be05-27ffcfffdd28",
   "metadata": {},
   "source": [
    "### Fit Regression Tree Model"
   ]
  },
  {
   "cell_type": "code",
   "execution_count": 10,
   "id": "1a10d643",
   "metadata": {},
   "outputs": [
    {
     "name": "stdout",
     "output_type": "stream",
     "text": [
      "Training score of Regression Tree Classifier is 0.860.\n",
      "Test score of Regression Tree Model is 0.898.\n"
     ]
    }
   ],
   "source": [
    "# Regression Tree model\n",
    "reg_tree_model = DecisionTreeRegressor(min_samples_leaf=5, max_depth=3, random_state=2024)\n",
    "\n",
    "# Fit Regression Tree model\n",
    "reg_tree_model.fit(reg_tree_X_train, reg_tree_y_train)\n",
    "\n",
    "# Training score and test score\n",
    "print(f\"Training score of Regression Tree Classifier is {reg_tree_model.score(reg_tree_X_train, reg_tree_y_train):.3f}.\")\n",
    "print(f\"Test score of Regression Tree Model is {reg_tree_model.score(reg_tree_X_test, reg_tree_y_test):.3f}.\")"
   ]
  },
  {
   "cell_type": "markdown",
   "id": "0538a24e-72d0-4cf9-9b12-50c13abc542a",
   "metadata": {},
   "source": [
    "### Graph and Feature Importance of the Tree Model"
   ]
  },
  {
   "cell_type": "code",
   "execution_count": 11,
   "id": "88d46a79-d028-436d-959f-a1886ab7e8a3",
   "metadata": {},
   "outputs": [],
   "source": [
    "# # Export Regression Tree in DOT format with Graphviz\n",
    "# reg_dot_graph = export_graphviz(reg_tree_model,\n",
    "#                                 feature_names=reg_tree_model.feature_names_in_,\n",
    "#                                 filled=True,\n",
    "#                                 rounded=True,\n",
    "#                                 special_characters=True)\n",
    "\n",
    "# reg_tree_graph = graphviz.Source(reg_dot_graph, format=\"png\")\n",
    "\n",
    "# # Print the structure of Regression Tree model\n",
    "# reg_tree_graph"
   ]
  },
  {
   "cell_type": "code",
   "execution_count": 12,
   "id": "a2a45dec",
   "metadata": {},
   "outputs": [],
   "source": [
    "# # Feature importances\n",
    "# reg_tree_feat_import = pd.DataFrame({'Variable Name': reg_tree_model.feature_names_in_,\n",
    "#                                      'Importance': reg_tree_model.feature_importances_})\n",
    "\n",
    "# reg_tree_feat_import.sort_values(by='Importance', ascending=False)[:10]"
   ]
  },
  {
   "cell_type": "markdown",
   "id": "bb8ed27e-a30d-41da-bac5-4ef6738e51e6",
   "metadata": {},
   "source": [
    "## Vector Autoregressions (VAR) Model"
   ]
  },
  {
   "cell_type": "markdown",
   "id": "cddb8580-ef58-4309-802f-c8eb9cec1842",
   "metadata": {},
   "source": [
    "###  Data for VAR Model"
   ]
  },
  {
   "cell_type": "code",
   "execution_count": 13,
   "id": "6615e949-906b-428b-bb9c-e69d4662371e",
   "metadata": {},
   "outputs": [],
   "source": [
    "var_data = time_series_data.copy()\n",
    "\n",
    "var_data.set_index('report_date', inplace=True)"
   ]
  },
  {
   "cell_type": "markdown",
   "id": "60560d88-19e2-4057-8a4c-e01d077dfadd",
   "metadata": {},
   "source": [
    "### Training Data and Test Data for VAR Model"
   ]
  },
  {
   "cell_type": "code",
   "execution_count": 14,
   "id": "8402901f-467c-42b6-99cb-96fac059da49",
   "metadata": {},
   "outputs": [],
   "source": [
    "# Use the last 5 days as test data\n",
    "var_train = var_data[:-5]\n",
    "var_test = var_data[-5:]"
   ]
  },
  {
   "cell_type": "markdown",
   "id": "5630cc66-7ed0-4f81-a90a-a5c6a827b8d3",
   "metadata": {},
   "source": [
    "### Fit VAR Model"
   ]
  },
  {
   "cell_type": "code",
   "execution_count": 15,
   "id": "53d7bd95-37ee-4b72-b3fd-ac809e96e15e",
   "metadata": {},
   "outputs": [],
   "source": [
    "# VAR model\n",
    "var_model = VAR(var_train)\n",
    "\n",
    "# Select lag order based on AIC\n",
    "var_lag_order = var_model.select_order().aic\n",
    "\n",
    "# Fit the VAR model\n",
    "var_model = var_model.fit(maxlags=var_lag_order)\n",
    "\n",
    "# Summary of the fitted VAR model\n",
    "# print(var_model.summary())"
   ]
  },
  {
   "cell_type": "markdown",
   "id": "2b7a3e55-2058-4133-8bf8-8efc1b313750",
   "metadata": {},
   "source": [
    "### Prediction of the Fitted VAR Model"
   ]
  },
  {
   "cell_type": "code",
   "execution_count": 16,
   "id": "d111648d",
   "metadata": {},
   "outputs": [
    {
     "name": "stdout",
     "output_type": "stream",
     "text": [
      "Predictions of new case counts for the next 5 days using the trained VAR model:\n"
     ]
    },
    {
     "data": {
      "text/plain": [
       "0     501.614917\n",
       "1     690.152841\n",
       "2     833.081522\n",
       "3     964.704494\n",
       "4    1074.189370\n",
       "Name: case_cnt, dtype: float64"
      ]
     },
     "execution_count": 16,
     "metadata": {},
     "output_type": "execute_result"
    }
   ],
   "source": [
    "# Predict case counts and average temperatures for the next 5 days\n",
    "print('Predictions of new case counts for the next 5 days using the trained VAR model:')\n",
    "pd.DataFrame(var_model.forecast(var_train.values, steps=5), columns=var_train.columns)['case_cnt']"
   ]
  },
  {
   "cell_type": "code",
   "execution_count": 17,
   "id": "3a9298d6-29da-4ae1-b66e-2bf6dc20d4fc",
   "metadata": {},
   "outputs": [
    {
     "name": "stdout",
     "output_type": "stream",
     "text": [
      "The true new case counts for the next 5 days:\n"
     ]
    },
    {
     "data": {
      "text/html": [
       "<div>\n",
       "<style scoped>\n",
       "    .dataframe tbody tr th:only-of-type {\n",
       "        vertical-align: middle;\n",
       "    }\n",
       "\n",
       "    .dataframe tbody tr th {\n",
       "        vertical-align: top;\n",
       "    }\n",
       "\n",
       "    .dataframe thead th {\n",
       "        text-align: right;\n",
       "    }\n",
       "</style>\n",
       "<table border=\"1\" class=\"dataframe\">\n",
       "  <thead>\n",
       "    <tr style=\"text-align: right;\">\n",
       "      <th></th>\n",
       "      <th>report_date</th>\n",
       "      <th>case_cnt</th>\n",
       "    </tr>\n",
       "  </thead>\n",
       "  <tbody>\n",
       "    <tr>\n",
       "      <th>0</th>\n",
       "      <td>2023-01-25</td>\n",
       "      <td>485.0</td>\n",
       "    </tr>\n",
       "    <tr>\n",
       "      <th>1</th>\n",
       "      <td>2023-01-26</td>\n",
       "      <td>371.0</td>\n",
       "    </tr>\n",
       "    <tr>\n",
       "      <th>2</th>\n",
       "      <td>2023-01-27</td>\n",
       "      <td>455.0</td>\n",
       "    </tr>\n",
       "    <tr>\n",
       "      <th>3</th>\n",
       "      <td>2023-01-28</td>\n",
       "      <td>498.0</td>\n",
       "    </tr>\n",
       "    <tr>\n",
       "      <th>4</th>\n",
       "      <td>2023-01-29</td>\n",
       "      <td>456.0</td>\n",
       "    </tr>\n",
       "  </tbody>\n",
       "</table>\n",
       "</div>"
      ],
      "text/plain": [
       "  report_date  case_cnt\n",
       "0  2023-01-25     485.0\n",
       "1  2023-01-26     371.0\n",
       "2  2023-01-27     455.0\n",
       "3  2023-01-28     498.0\n",
       "4  2023-01-29     456.0"
      ]
     },
     "execution_count": 17,
     "metadata": {},
     "output_type": "execute_result"
    }
   ],
   "source": [
    "print('The true new case counts for the next 5 days:')\n",
    "var_test[['case_cnt']].reset_index()"
   ]
  },
  {
   "cell_type": "code",
   "execution_count": null,
   "id": "bee4b62d-9c65-40a8-9537-082a80126ca6",
   "metadata": {},
   "outputs": [],
   "source": []
  },
  {
   "cell_type": "code",
   "execution_count": null,
   "id": "a25d08ad-98fb-4640-9865-ce9677f1a536",
   "metadata": {},
   "outputs": [],
   "source": []
  }
 ],
 "metadata": {
  "kernelspec": {
   "display_name": "Python 3 (ipykernel)",
   "language": "python",
   "name": "python3"
  },
  "language_info": {
   "codemirror_mode": {
    "name": "ipython",
    "version": 3
   },
   "file_extension": ".py",
   "mimetype": "text/x-python",
   "name": "python",
   "nbconvert_exporter": "python",
   "pygments_lexer": "ipython3",
   "version": "3.11.4"
  }
 },
 "nbformat": 4,
 "nbformat_minor": 5
}
