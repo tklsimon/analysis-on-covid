{
 "cells": [
  {
   "cell_type": "markdown",
   "id": "5f5fa870-3875-4d53-a621-24aefb924a65",
   "metadata": {},
   "source": [
    "# The University of Hong Kong\n",
    "## DASC7600 Data Science Project 2024\n",
    "## Time Series Regression Model"
   ]
  },
  {
   "cell_type": "markdown",
   "id": "ed22e8c9-8dbc-4134-90ac-8a4f8c4c1c25",
   "metadata": {},
   "source": [
    "# Import Modules and Settings"
   ]
  },
  {
   "cell_type": "code",
   "execution_count": 1,
   "id": "b62df672",
   "metadata": {},
   "outputs": [],
   "source": [
    "import graphviz\n",
    "import os\n",
    "import pandas as pd\n",
    "import warnings\n",
    "from sklearn.model_selection import train_test_split\n",
    "from sklearn.tree import DecisionTreeRegressor, export_graphviz\n",
    "from statsmodels.tsa.vector_ar.var_model import VAR\n",
    "\n",
    "import covid_module\n",
    "\n",
    "# Settings\n",
    "warnings.filterwarnings('ignore')\n",
    "\n",
    "os.environ[\"PATH\"] += os.pathsep + \"C:/Program Files/Graphviz/bin\" # To fix a graphviz bug"
   ]
  },
  {
   "cell_type": "markdown",
   "id": "dccdd642",
   "metadata": {},
   "source": [
    "# Functions"
   ]
  },
  {
   "cell_type": "code",
   "execution_count": 2,
   "id": "02bcc6a8",
   "metadata": {},
   "outputs": [],
   "source": [
    "def add_lag_columns(df: pd.DataFrame,\n",
    "                       col: str,\n",
    "                       lag_nbr: int) -> pd.DataFrame:\n",
    "    for nbr in range(1, lag_nbr+1):\n",
    "        df[f'{col}_lag{nbr}'] = df[col].shift(nbr)\n",
    "    return df"
   ]
  },
  {
   "cell_type": "markdown",
   "id": "95d0a5b5",
   "metadata": {},
   "source": [
    "# Load Data"
   ]
  },
  {
   "cell_type": "code",
   "execution_count": 3,
   "id": "c7d32cf5-bad0-4d70-9161-80950b01e096",
   "metadata": {},
   "outputs": [],
   "source": [
    "# Read csv files\n",
    "covid_hk_std = pd.read_csv('./data/std_data/hk/covid_hk_case_std.csv')\n",
    "hk_daily_temp_std = pd.read_csv('./data/std_data/hk/hk_daily_temp_std.csv')"
   ]
  },
  {
   "cell_type": "markdown",
   "id": "52b08bc3-0d1e-4d93-a752-708cbe623954",
   "metadata": {},
   "source": [
    "# Modify Data Type"
   ]
  },
  {
   "cell_type": "code",
   "execution_count": 4,
   "id": "0ac95a57",
   "metadata": {},
   "outputs": [],
   "source": [
    "covid_hk_std['report_date'] = pd.to_datetime(covid_hk_std['report_date'], format='%Y%m%d')\n",
    "hk_daily_temp_std['report_date'] = pd.to_datetime(hk_daily_temp_std['report_date'], format='%Y%m%d')"
   ]
  },
  {
   "cell_type": "markdown",
   "id": "80331160-55b6-4a64-9115-b75b9185be75",
   "metadata": {},
   "source": [
    "# New Case Counts"
   ]
  },
  {
   "cell_type": "code",
   "execution_count": 5,
   "id": "51d34566",
   "metadata": {},
   "outputs": [],
   "source": [
    "covid_hk_new_case_cnt_df = covid_module.get_date_count(covid_hk_std, 'report_date', '%Y%m%d')"
   ]
  },
  {
   "cell_type": "markdown",
   "id": "f0c2bd23-8807-45d4-9959-e13bf870fc63",
   "metadata": {},
   "source": [
    "# Combine Case Count and Temperature"
   ]
  },
  {
   "cell_type": "code",
   "execution_count": 6,
   "id": "beef54e1-8e5a-44c4-b128-57cd7c84a6d7",
   "metadata": {},
   "outputs": [],
   "source": [
    "covid_hk_case_cnt_temp = covid_hk_new_case_cnt_df \\\n",
    "    .merge(hk_daily_temp_std,\n",
    "           'left',\n",
    "           'report_date')"
   ]
  },
  {
   "cell_type": "markdown",
   "id": "78e517a9",
   "metadata": {},
   "source": [
    "# Train Model"
   ]
  },
  {
   "cell_type": "markdown",
   "id": "874dc9dd-ca6d-4869-9830-7920af62234d",
   "metadata": {},
   "source": [
    "## Regression Tree Model"
   ]
  },
  {
   "cell_type": "markdown",
   "id": "b572a70d",
   "metadata": {},
   "source": [
    "### Add Lag Columns for Regression Tree Model"
   ]
  },
  {
   "cell_type": "code",
   "execution_count": 7,
   "id": "3ca60692",
   "metadata": {},
   "outputs": [],
   "source": [
    "# Lagged number\n",
    "lag_nbr = 7\n",
    "\n",
    "covid_hk_case_cnt_temp_lag = covid_hk_case_cnt_temp.copy()\n",
    "for col in ['count', 'avg_temp']:\n",
    "    add_lag_columns(covid_hk_case_cnt_temp_lag, col, lag_nbr)\n",
    "\n",
    "# Drop first 7 rows\n",
    "# They have missing values due to the lagging\n",
    "covid_hk_case_cnt_temp_lag = covid_hk_case_cnt_temp_lag.iloc[7:]"
   ]
  },
  {
   "cell_type": "code",
   "execution_count": 8,
   "id": "de843cef-2bab-4e47-b047-3525707d0127",
   "metadata": {},
   "outputs": [
    {
     "name": "stdout",
     "output_type": "stream",
     "text": [
      "The dataframe does not have missing values.\n"
     ]
    }
   ],
   "source": [
    "# To confirm there is no missing values due to join or lagging\n",
    "covid_module.print_missing_val_count(covid_hk_case_cnt_temp_lag)"
   ]
  },
  {
   "cell_type": "markdown",
   "id": "8545f372-8c4f-491b-a378-c18cf979c7a2",
   "metadata": {},
   "source": [
    "### Training Data and Test Data for Tree Model"
   ]
  },
  {
   "cell_type": "code",
   "execution_count": 9,
   "id": "0caf6fe7",
   "metadata": {},
   "outputs": [],
   "source": [
    "tree_X_col_list = [col for col in covid_hk_case_cnt_temp_lag.columns if ('count_lag' in col) or ('avg_temp' in col)]\n",
    "\n",
    "tree_X = covid_hk_case_cnt_temp_lag[tree_X_col_list]\n",
    "tree_y = covid_hk_case_cnt_temp_lag['count']\n",
    "\n",
    "# Split into train set and test set with ratio 0.8 : 0.2\n",
    "tree_X_train, tree_X_test, tree_y_train, tree_y_test = train_test_split(tree_X, tree_y, test_size=0.2, random_state=2024)"
   ]
  },
  {
   "cell_type": "markdown",
   "id": "68ad0138-1fa0-4d54-be05-27ffcfffdd28",
   "metadata": {},
   "source": [
    "### Fit Regression Tree Model"
   ]
  },
  {
   "cell_type": "code",
   "execution_count": 20,
   "id": "1a10d643",
   "metadata": {},
   "outputs": [
    {
     "name": "stdout",
     "output_type": "stream",
     "text": [
      "Test score of Regression Tree Model is  0.7712.\n"
     ]
    }
   ],
   "source": [
    "# Regression Tree model\n",
    "reg_tree_model = DecisionTreeRegressor(min_samples_leaf=5, max_depth=3, random_state=2024)\n",
    "\n",
    "# Fit the Regression Tree model\n",
    "reg_tree_model.fit(tree_X_train, tree_y_train)\n",
    "\n",
    "print(f\"Test score of Regression Tree Model is {reg_tree_model.score(tree_X_test, tree_y_test): .4f}.\")"
   ]
  },
  {
   "cell_type": "markdown",
   "id": "0538a24e-72d0-4cf9-9b12-50c13abc542a",
   "metadata": {},
   "source": [
    "### Graph and Feature Importance of the Tree Model"
   ]
  },
  {
   "cell_type": "code",
   "execution_count": 21,
   "id": "88d46a79-d028-436d-959f-a1886ab7e8a3",
   "metadata": {},
   "outputs": [
    {
     "data": {
      "image/svg+xml": [
       "<?xml version=\"1.0\" encoding=\"UTF-8\" standalone=\"no\"?>\n",
       "<!DOCTYPE svg PUBLIC \"-//W3C//DTD SVG 1.1//EN\"\n",
       " \"http://www.w3.org/Graphics/SVG/1.1/DTD/svg11.dtd\">\n",
       "<!-- Generated by graphviz version 10.0.1 (20240210.2158)\n",
       " -->\n",
       "<!-- Title: Tree Pages: 1 -->\n",
       "<svg width=\"1510pt\" height=\"396pt\"\n",
       " viewBox=\"0.00 0.00 1509.88 395.50\" xmlns=\"http://www.w3.org/2000/svg\" xmlns:xlink=\"http://www.w3.org/1999/xlink\">\n",
       "<g id=\"graph0\" class=\"graph\" transform=\"scale(1 1) rotate(0) translate(4 391.5)\">\n",
       "<title>Tree</title>\n",
       "<polygon fill=\"white\" stroke=\"none\" points=\"-4,4 -4,-391.5 1505.88,-391.5 1505.88,4 -4,4\"/>\n",
       "<!-- 0 -->\n",
       "<g id=\"node1\" class=\"node\">\n",
       "<title>0</title>\n",
       "<path fill=\"#fdf3ec\" stroke=\"black\" d=\"M824,-387.5C824,-387.5 664.75,-387.5 664.75,-387.5 658.75,-387.5 652.75,-381.5 652.75,-375.5 652.75,-375.5 652.75,-325.5 652.75,-325.5 652.75,-319.5 658.75,-313.5 664.75,-313.5 664.75,-313.5 824,-313.5 824,-313.5 830,-313.5 836,-319.5 836,-325.5 836,-325.5 836,-375.5 836,-375.5 836,-381.5 830,-387.5 824,-387.5\"/>\n",
       "<text text-anchor=\"start\" x=\"687.75\" y=\"-370.2\" font-family=\"Helvetica,sans-Serif\" font-size=\"14.00\">count_lag1 ≤ 49.0</text>\n",
       "<text text-anchor=\"start\" x=\"660.75\" y=\"-353.7\" font-family=\"Helvetica,sans-Serif\" font-size=\"14.00\">squared_error = 1115.575</text>\n",
       "<text text-anchor=\"start\" x=\"697.12\" y=\"-337.2\" font-family=\"Helvetica,sans-Serif\" font-size=\"14.00\">samples = 591</text>\n",
       "<text text-anchor=\"start\" x=\"697.5\" y=\"-320.7\" font-family=\"Helvetica,sans-Serif\" font-size=\"14.00\">value = 20.288</text>\n",
       "</g>\n",
       "<!-- 1 -->\n",
       "<g id=\"node2\" class=\"node\">\n",
       "<title>1</title>\n",
       "<path fill=\"#fefbf8\" stroke=\"black\" d=\"M626.88,-277.5C626.88,-277.5 475.88,-277.5 475.88,-277.5 469.88,-277.5 463.88,-271.5 463.88,-265.5 463.88,-265.5 463.88,-215.5 463.88,-215.5 463.88,-209.5 469.88,-203.5 475.88,-203.5 475.88,-203.5 626.88,-203.5 626.88,-203.5 632.88,-203.5 638.88,-209.5 638.88,-215.5 638.88,-215.5 638.88,-265.5 638.88,-265.5 638.88,-271.5 632.88,-277.5 626.88,-277.5\"/>\n",
       "<text text-anchor=\"start\" x=\"494.75\" y=\"-260.2\" font-family=\"Helvetica,sans-Serif\" font-size=\"14.00\">count_lag1 ≤ 16.5</text>\n",
       "<text text-anchor=\"start\" x=\"471.88\" y=\"-243.7\" font-family=\"Helvetica,sans-Serif\" font-size=\"14.00\">squared_error = 183.989</text>\n",
       "<text text-anchor=\"start\" x=\"504.12\" y=\"-227.2\" font-family=\"Helvetica,sans-Serif\" font-size=\"14.00\">samples = 511</text>\n",
       "<text text-anchor=\"start\" x=\"512.75\" y=\"-210.7\" font-family=\"Helvetica,sans-Serif\" font-size=\"14.00\">value = 9.62</text>\n",
       "</g>\n",
       "<!-- 0&#45;&gt;1 -->\n",
       "<g id=\"edge1\" class=\"edge\">\n",
       "<title>0&#45;&gt;1</title>\n",
       "<path fill=\"none\" stroke=\"black\" d=\"M679.3,-313.09C662.22,-303.53 643.66,-293.14 626.12,-283.33\"/>\n",
       "<polygon fill=\"black\" stroke=\"black\" points=\"628.25,-280.51 617.81,-278.68 624.83,-286.62 628.25,-280.51\"/>\n",
       "<text text-anchor=\"middle\" x=\"623.29\" y=\"-296.95\" font-family=\"Helvetica,sans-Serif\" font-size=\"14.00\">True</text>\n",
       "</g>\n",
       "<!-- 8 -->\n",
       "<g id=\"node9\" class=\"node\">\n",
       "<title>8</title>\n",
       "<path fill=\"#f2c29f\" stroke=\"black\" d=\"M1013,-277.5C1013,-277.5 853.75,-277.5 853.75,-277.5 847.75,-277.5 841.75,-271.5 841.75,-265.5 841.75,-265.5 841.75,-215.5 841.75,-215.5 841.75,-209.5 847.75,-203.5 853.75,-203.5 853.75,-203.5 1013,-203.5 1013,-203.5 1019,-203.5 1025,-209.5 1025,-215.5 1025,-215.5 1025,-265.5 1025,-265.5 1025,-271.5 1019,-277.5 1013,-277.5\"/>\n",
       "<text text-anchor=\"start\" x=\"872.62\" y=\"-260.2\" font-family=\"Helvetica,sans-Serif\" font-size=\"14.00\">count_lag1 ≤ 114.5</text>\n",
       "<text text-anchor=\"start\" x=\"849.75\" y=\"-243.7\" font-family=\"Helvetica,sans-Serif\" font-size=\"14.00\">squared_error = 1696.544</text>\n",
       "<text text-anchor=\"start\" x=\"890.25\" y=\"-227.2\" font-family=\"Helvetica,sans-Serif\" font-size=\"14.00\">samples = 80</text>\n",
       "<text text-anchor=\"start\" x=\"886.5\" y=\"-210.7\" font-family=\"Helvetica,sans-Serif\" font-size=\"14.00\">value = 88.425</text>\n",
       "</g>\n",
       "<!-- 0&#45;&gt;8 -->\n",
       "<g id=\"edge8\" class=\"edge\">\n",
       "<title>0&#45;&gt;8</title>\n",
       "<path fill=\"none\" stroke=\"black\" d=\"M808.1,-313.09C824.67,-303.62 842.66,-293.34 859.7,-283.6\"/>\n",
       "<polygon fill=\"black\" stroke=\"black\" points=\"861.35,-286.69 868.29,-278.69 857.87,-280.61 861.35,-286.69\"/>\n",
       "<text text-anchor=\"middle\" x=\"863.03\" y=\"-297.01\" font-family=\"Helvetica,sans-Serif\" font-size=\"14.00\">False</text>\n",
       "</g>\n",
       "<!-- 2 -->\n",
       "<g id=\"node3\" class=\"node\">\n",
       "<title>2</title>\n",
       "<path fill=\"#fffefd\" stroke=\"black\" d=\"M339.75,-167.5C339.75,-167.5 197,-167.5 197,-167.5 191,-167.5 185,-161.5 185,-155.5 185,-155.5 185,-105.5 185,-105.5 185,-99.5 191,-93.5 197,-93.5 197,-93.5 339.75,-93.5 339.75,-93.5 345.75,-93.5 351.75,-99.5 351.75,-105.5 351.75,-105.5 351.75,-155.5 351.75,-155.5 351.75,-161.5 345.75,-167.5 339.75,-167.5\"/>\n",
       "<text text-anchor=\"start\" x=\"215.88\" y=\"-150.2\" font-family=\"Helvetica,sans-Serif\" font-size=\"14.00\">count_lag1 ≤ 7.5</text>\n",
       "<text text-anchor=\"start\" x=\"193\" y=\"-133.7\" font-family=\"Helvetica,sans-Serif\" font-size=\"14.00\">squared_error = 32.191</text>\n",
       "<text text-anchor=\"start\" x=\"221.12\" y=\"-117.2\" font-family=\"Helvetica,sans-Serif\" font-size=\"14.00\">samples = 420</text>\n",
       "<text text-anchor=\"start\" x=\"225.62\" y=\"-100.7\" font-family=\"Helvetica,sans-Serif\" font-size=\"14.00\">value = 5.279</text>\n",
       "</g>\n",
       "<!-- 1&#45;&gt;2 -->\n",
       "<g id=\"edge2\" class=\"edge\">\n",
       "<title>1&#45;&gt;2</title>\n",
       "<path fill=\"none\" stroke=\"black\" d=\"M463.38,-205.92C431.32,-193.68 394.96,-179.81 362.39,-167.38\"/>\n",
       "<polygon fill=\"black\" stroke=\"black\" points=\"363.96,-164.23 353.37,-163.94 361.47,-170.77 363.96,-164.23\"/>\n",
       "</g>\n",
       "<!-- 5 -->\n",
       "<g id=\"node6\" class=\"node\">\n",
       "<title>5</title>\n",
       "<path fill=\"#fbece1\" stroke=\"black\" d=\"M626.88,-167.5C626.88,-167.5 475.88,-167.5 475.88,-167.5 469.88,-167.5 463.88,-161.5 463.88,-155.5 463.88,-155.5 463.88,-105.5 463.88,-105.5 463.88,-99.5 469.88,-93.5 475.88,-93.5 475.88,-93.5 626.88,-93.5 626.88,-93.5 632.88,-93.5 638.88,-99.5 638.88,-105.5 638.88,-105.5 638.88,-155.5 638.88,-155.5 638.88,-161.5 632.88,-167.5 626.88,-167.5\"/>\n",
       "<text text-anchor=\"start\" x=\"494.75\" y=\"-150.2\" font-family=\"Helvetica,sans-Serif\" font-size=\"14.00\">count_lag2 ≤ 23.5</text>\n",
       "<text text-anchor=\"start\" x=\"471.88\" y=\"-133.7\" font-family=\"Helvetica,sans-Serif\" font-size=\"14.00\">squared_error = 396.027</text>\n",
       "<text text-anchor=\"start\" x=\"508.25\" y=\"-117.2\" font-family=\"Helvetica,sans-Serif\" font-size=\"14.00\">samples = 91</text>\n",
       "<text text-anchor=\"start\" x=\"504.5\" y=\"-100.7\" font-family=\"Helvetica,sans-Serif\" font-size=\"14.00\">value = 29.659</text>\n",
       "</g>\n",
       "<!-- 1&#45;&gt;5 -->\n",
       "<g id=\"edge5\" class=\"edge\">\n",
       "<title>1&#45;&gt;5</title>\n",
       "<path fill=\"none\" stroke=\"black\" d=\"M551.38,-203.24C551.38,-195.49 551.38,-187.2 551.38,-179.1\"/>\n",
       "<polygon fill=\"black\" stroke=\"black\" points=\"554.88,-179.36 551.38,-169.36 547.88,-179.36 554.88,-179.36\"/>\n",
       "</g>\n",
       "<!-- 3 -->\n",
       "<g id=\"node4\" class=\"node\">\n",
       "<title>3</title>\n",
       "<path fill=\"#ffffff\" stroke=\"black\" d=\"M154.75,-57.5C154.75,-57.5 12,-57.5 12,-57.5 6,-57.5 0,-51.5 0,-45.5 0,-45.5 0,-12 0,-12 0,-6 6,0 12,0 12,0 154.75,0 154.75,0 160.75,0 166.75,-6 166.75,-12 166.75,-12 166.75,-45.5 166.75,-45.5 166.75,-51.5 160.75,-57.5 154.75,-57.5\"/>\n",
       "<text text-anchor=\"start\" x=\"8\" y=\"-40.2\" font-family=\"Helvetica,sans-Serif\" font-size=\"14.00\">squared_error = 14.786</text>\n",
       "<text text-anchor=\"start\" x=\"36.12\" y=\"-23.7\" font-family=\"Helvetica,sans-Serif\" font-size=\"14.00\">samples = 320</text>\n",
       "<text text-anchor=\"start\" x=\"40.62\" y=\"-7.2\" font-family=\"Helvetica,sans-Serif\" font-size=\"14.00\">value = 3.662</text>\n",
       "</g>\n",
       "<!-- 2&#45;&gt;3 -->\n",
       "<g id=\"edge3\" class=\"edge\">\n",
       "<title>2&#45;&gt;3</title>\n",
       "<path fill=\"none\" stroke=\"black\" d=\"M200.8,-93.06C182.69,-83.3 163.19,-72.79 145.39,-63.19\"/>\n",
       "<polygon fill=\"black\" stroke=\"black\" points=\"147.5,-60.35 137.03,-58.68 144.17,-66.51 147.5,-60.35\"/>\n",
       "</g>\n",
       "<!-- 4 -->\n",
       "<g id=\"node5\" class=\"node\">\n",
       "<title>4</title>\n",
       "<path fill=\"#fefaf7\" stroke=\"black\" d=\"M339.75,-57.5C339.75,-57.5 197,-57.5 197,-57.5 191,-57.5 185,-51.5 185,-45.5 185,-45.5 185,-12 185,-12 185,-6 191,0 197,0 197,0 339.75,0 339.75,0 345.75,0 351.75,-6 351.75,-12 351.75,-12 351.75,-45.5 351.75,-45.5 351.75,-51.5 345.75,-57.5 339.75,-57.5\"/>\n",
       "<text text-anchor=\"start\" x=\"193\" y=\"-40.2\" font-family=\"Helvetica,sans-Serif\" font-size=\"14.00\">squared_error = 52.788</text>\n",
       "<text text-anchor=\"start\" x=\"221.12\" y=\"-23.7\" font-family=\"Helvetica,sans-Serif\" font-size=\"14.00\">samples = 100</text>\n",
       "<text text-anchor=\"start\" x=\"225.62\" y=\"-7.2\" font-family=\"Helvetica,sans-Serif\" font-size=\"14.00\">value = 10.45</text>\n",
       "</g>\n",
       "<!-- 2&#45;&gt;4 -->\n",
       "<g id=\"edge4\" class=\"edge\">\n",
       "<title>2&#45;&gt;4</title>\n",
       "<path fill=\"none\" stroke=\"black\" d=\"M268.38,-93.21C268.38,-85.35 268.38,-77 268.38,-69.03\"/>\n",
       "<polygon fill=\"black\" stroke=\"black\" points=\"271.88,-69.24 268.38,-59.24 264.88,-69.24 271.88,-69.24\"/>\n",
       "</g>\n",
       "<!-- 6 -->\n",
       "<g id=\"node7\" class=\"node\">\n",
       "<title>6</title>\n",
       "<path fill=\"#fdf3ed\" stroke=\"black\" d=\"M532.88,-57.5C532.88,-57.5 381.88,-57.5 381.88,-57.5 375.88,-57.5 369.88,-51.5 369.88,-45.5 369.88,-45.5 369.88,-12 369.88,-12 369.88,-6 375.88,0 381.88,0 381.88,0 532.88,0 532.88,0 538.88,0 544.88,-6 544.88,-12 544.88,-12 544.88,-45.5 544.88,-45.5 544.88,-51.5 538.88,-57.5 532.88,-57.5\"/>\n",
       "<text text-anchor=\"start\" x=\"377.88\" y=\"-40.2\" font-family=\"Helvetica,sans-Serif\" font-size=\"14.00\">squared_error = 150.976</text>\n",
       "<text text-anchor=\"start\" x=\"414.25\" y=\"-23.7\" font-family=\"Helvetica,sans-Serif\" font-size=\"14.00\">samples = 38</text>\n",
       "<text text-anchor=\"start\" x=\"410.5\" y=\"-7.2\" font-family=\"Helvetica,sans-Serif\" font-size=\"14.00\">value = 19.605</text>\n",
       "</g>\n",
       "<!-- 5&#45;&gt;6 -->\n",
       "<g id=\"edge6\" class=\"edge\">\n",
       "<title>5&#45;&gt;6</title>\n",
       "<path fill=\"none\" stroke=\"black\" d=\"M517.17,-93.21C508.82,-84.34 499.88,-74.86 491.53,-65.99\"/>\n",
       "<polygon fill=\"black\" stroke=\"black\" points=\"494.18,-63.71 484.78,-58.83 489.09,-68.51 494.18,-63.71\"/>\n",
       "</g>\n",
       "<!-- 7 -->\n",
       "<g id=\"node8\" class=\"node\">\n",
       "<title>7</title>\n",
       "<path fill=\"#fae7d9\" stroke=\"black\" d=\"M725.88,-57.5C725.88,-57.5 574.88,-57.5 574.88,-57.5 568.88,-57.5 562.88,-51.5 562.88,-45.5 562.88,-45.5 562.88,-12 562.88,-12 562.88,-6 568.88,0 574.88,0 574.88,0 725.88,0 725.88,0 731.88,0 737.88,-6 737.88,-12 737.88,-12 737.88,-45.5 737.88,-45.5 737.88,-51.5 731.88,-57.5 725.88,-57.5\"/>\n",
       "<text text-anchor=\"start\" x=\"570.88\" y=\"-40.2\" font-family=\"Helvetica,sans-Serif\" font-size=\"14.00\">squared_error = 447.284</text>\n",
       "<text text-anchor=\"start\" x=\"607.25\" y=\"-23.7\" font-family=\"Helvetica,sans-Serif\" font-size=\"14.00\">samples = 53</text>\n",
       "<text text-anchor=\"start\" x=\"603.5\" y=\"-7.2\" font-family=\"Helvetica,sans-Serif\" font-size=\"14.00\">value = 36.868</text>\n",
       "</g>\n",
       "<!-- 5&#45;&gt;7 -->\n",
       "<g id=\"edge7\" class=\"edge\">\n",
       "<title>5&#45;&gt;7</title>\n",
       "<path fill=\"none\" stroke=\"black\" d=\"M587.4,-93.21C596.29,-84.25 605.8,-74.66 614.68,-65.72\"/>\n",
       "<polygon fill=\"black\" stroke=\"black\" points=\"616.98,-68.37 621.54,-58.8 612.01,-63.43 616.98,-68.37\"/>\n",
       "</g>\n",
       "<!-- 9 -->\n",
       "<g id=\"node10\" class=\"node\">\n",
       "<title>9</title>\n",
       "<path fill=\"#f4caac\" stroke=\"black\" d=\"M1008.88,-167.5C1008.88,-167.5 857.88,-167.5 857.88,-167.5 851.88,-167.5 845.88,-161.5 845.88,-155.5 845.88,-155.5 845.88,-105.5 845.88,-105.5 845.88,-99.5 851.88,-93.5 857.88,-93.5 857.88,-93.5 1008.88,-93.5 1008.88,-93.5 1014.88,-93.5 1020.88,-99.5 1020.88,-105.5 1020.88,-105.5 1020.88,-155.5 1020.88,-155.5 1020.88,-161.5 1014.88,-167.5 1008.88,-167.5\"/>\n",
       "<text text-anchor=\"start\" x=\"876.75\" y=\"-150.2\" font-family=\"Helvetica,sans-Serif\" font-size=\"14.00\">count_lag1 ≤ 78.5</text>\n",
       "<text text-anchor=\"start\" x=\"853.88\" y=\"-133.7\" font-family=\"Helvetica,sans-Serif\" font-size=\"14.00\">squared_error = 529.627</text>\n",
       "<text text-anchor=\"start\" x=\"890.25\" y=\"-117.2\" font-family=\"Helvetica,sans-Serif\" font-size=\"14.00\">samples = 64</text>\n",
       "<text text-anchor=\"start\" x=\"886.5\" y=\"-100.7\" font-family=\"Helvetica,sans-Serif\" font-size=\"14.00\">value = 76.328</text>\n",
       "</g>\n",
       "<!-- 8&#45;&gt;9 -->\n",
       "<g id=\"edge9\" class=\"edge\">\n",
       "<title>8&#45;&gt;9</title>\n",
       "<path fill=\"none\" stroke=\"black\" d=\"M933.38,-203.24C933.38,-195.49 933.38,-187.2 933.38,-179.1\"/>\n",
       "<polygon fill=\"black\" stroke=\"black\" points=\"936.88,-179.36 933.38,-169.36 929.88,-179.36 936.88,-179.36\"/>\n",
       "</g>\n",
       "<!-- 12 -->\n",
       "<g id=\"node13\" class=\"node\">\n",
       "<title>12</title>\n",
       "<path fill=\"#eb9f67\" stroke=\"black\" d=\"M1301,-167.5C1301,-167.5 1141.75,-167.5 1141.75,-167.5 1135.75,-167.5 1129.75,-161.5 1129.75,-155.5 1129.75,-155.5 1129.75,-105.5 1129.75,-105.5 1129.75,-99.5 1135.75,-93.5 1141.75,-93.5 1141.75,-93.5 1301,-93.5 1301,-93.5 1307,-93.5 1313,-99.5 1313,-105.5 1313,-105.5 1313,-155.5 1313,-155.5 1313,-161.5 1307,-167.5 1301,-167.5\"/>\n",
       "<text text-anchor=\"start\" x=\"1160.62\" y=\"-150.2\" font-family=\"Helvetica,sans-Serif\" font-size=\"14.00\">count_lag2 ≤ 129.5</text>\n",
       "<text text-anchor=\"start\" x=\"1137.75\" y=\"-133.7\" font-family=\"Helvetica,sans-Serif\" font-size=\"14.00\">squared_error = 3437.527</text>\n",
       "<text text-anchor=\"start\" x=\"1178.25\" y=\"-117.2\" font-family=\"Helvetica,sans-Serif\" font-size=\"14.00\">samples = 16</text>\n",
       "<text text-anchor=\"start\" x=\"1170.38\" y=\"-100.7\" font-family=\"Helvetica,sans-Serif\" font-size=\"14.00\">value = 136.812</text>\n",
       "</g>\n",
       "<!-- 8&#45;&gt;12 -->\n",
       "<g id=\"edge12\" class=\"edge\">\n",
       "<title>8&#45;&gt;12</title>\n",
       "<path fill=\"none\" stroke=\"black\" d=\"M1025.29,-205.03C1055.04,-193.88 1088.21,-181.44 1118.69,-170.01\"/>\n",
       "<polygon fill=\"black\" stroke=\"black\" points=\"1119.79,-173.33 1127.93,-166.54 1117.33,-166.78 1119.79,-173.33\"/>\n",
       "</g>\n",
       "<!-- 10 -->\n",
       "<g id=\"node11\" class=\"node\">\n",
       "<title>10</title>\n",
       "<path fill=\"#f6d5bd\" stroke=\"black\" d=\"M918.88,-57.5C918.88,-57.5 767.88,-57.5 767.88,-57.5 761.88,-57.5 755.88,-51.5 755.88,-45.5 755.88,-45.5 755.88,-12 755.88,-12 755.88,-6 761.88,0 767.88,0 767.88,0 918.88,0 918.88,0 924.88,0 930.88,-6 930.88,-12 930.88,-12 930.88,-45.5 930.88,-45.5 930.88,-51.5 924.88,-57.5 918.88,-57.5\"/>\n",
       "<text text-anchor=\"start\" x=\"763.88\" y=\"-40.2\" font-family=\"Helvetica,sans-Serif\" font-size=\"14.00\">squared_error = 368.022</text>\n",
       "<text text-anchor=\"start\" x=\"800.25\" y=\"-23.7\" font-family=\"Helvetica,sans-Serif\" font-size=\"14.00\">samples = 32</text>\n",
       "<text text-anchor=\"start\" x=\"796.5\" y=\"-7.2\" font-family=\"Helvetica,sans-Serif\" font-size=\"14.00\">value = 61.906</text>\n",
       "</g>\n",
       "<!-- 9&#45;&gt;10 -->\n",
       "<g id=\"edge10\" class=\"edge\">\n",
       "<title>9&#45;&gt;10</title>\n",
       "<path fill=\"none\" stroke=\"black\" d=\"M900.63,-93.21C892.71,-84.43 884.25,-75.05 876.32,-66.27\"/>\n",
       "<polygon fill=\"black\" stroke=\"black\" points=\"878.93,-63.93 869.63,-58.85 873.73,-68.62 878.93,-63.93\"/>\n",
       "</g>\n",
       "<!-- 11 -->\n",
       "<g id=\"node12\" class=\"node\">\n",
       "<title>11</title>\n",
       "<path fill=\"#f2c09c\" stroke=\"black\" d=\"M1103.75,-57.5C1103.75,-57.5 961,-57.5 961,-57.5 955,-57.5 949,-51.5 949,-45.5 949,-45.5 949,-12 949,-12 949,-6 955,0 961,0 961,0 1103.75,0 1103.75,0 1109.75,0 1115.75,-6 1115.75,-12 1115.75,-12 1115.75,-45.5 1115.75,-45.5 1115.75,-51.5 1109.75,-57.5 1103.75,-57.5\"/>\n",
       "<text text-anchor=\"start\" x=\"957\" y=\"-40.2\" font-family=\"Helvetica,sans-Serif\" font-size=\"14.00\">squared_error = 275.25</text>\n",
       "<text text-anchor=\"start\" x=\"989.25\" y=\"-23.7\" font-family=\"Helvetica,sans-Serif\" font-size=\"14.00\">samples = 32</text>\n",
       "<text text-anchor=\"start\" x=\"989.62\" y=\"-7.2\" font-family=\"Helvetica,sans-Serif\" font-size=\"14.00\">value = 90.75</text>\n",
       "</g>\n",
       "<!-- 9&#45;&gt;11 -->\n",
       "<g id=\"edge11\" class=\"edge\">\n",
       "<title>9&#45;&gt;11</title>\n",
       "<path fill=\"none\" stroke=\"black\" d=\"M969.4,-93.21C978.29,-84.25 987.8,-74.66 996.68,-65.72\"/>\n",
       "<polygon fill=\"black\" stroke=\"black\" points=\"998.98,-68.37 1003.54,-58.8 994.01,-63.43 998.98,-68.37\"/>\n",
       "</g>\n",
       "<!-- 13 -->\n",
       "<g id=\"node14\" class=\"node\">\n",
       "<title>13</title>\n",
       "<path fill=\"#eeac7d\" stroke=\"black\" d=\"M1296.88,-57.5C1296.88,-57.5 1145.88,-57.5 1145.88,-57.5 1139.88,-57.5 1133.88,-51.5 1133.88,-45.5 1133.88,-45.5 1133.88,-12 1133.88,-12 1133.88,-6 1139.88,0 1145.88,0 1145.88,0 1296.88,0 1296.88,0 1302.88,0 1308.88,-6 1308.88,-12 1308.88,-12 1308.88,-45.5 1308.88,-45.5 1308.88,-51.5 1302.88,-57.5 1296.88,-57.5\"/>\n",
       "<text text-anchor=\"start\" x=\"1141.88\" y=\"-40.2\" font-family=\"Helvetica,sans-Serif\" font-size=\"14.00\">squared_error = 284.562</text>\n",
       "<text text-anchor=\"start\" x=\"1178.25\" y=\"-23.7\" font-family=\"Helvetica,sans-Serif\" font-size=\"14.00\">samples = 11</text>\n",
       "<text text-anchor=\"start\" x=\"1170.38\" y=\"-7.2\" font-family=\"Helvetica,sans-Serif\" font-size=\"14.00\">value = 118.273</text>\n",
       "</g>\n",
       "<!-- 12&#45;&gt;13 -->\n",
       "<g id=\"edge13\" class=\"edge\">\n",
       "<title>12&#45;&gt;13</title>\n",
       "<path fill=\"none\" stroke=\"black\" d=\"M1221.38,-93.21C1221.38,-85.35 1221.38,-77 1221.38,-69.03\"/>\n",
       "<polygon fill=\"black\" stroke=\"black\" points=\"1224.88,-69.24 1221.38,-59.24 1217.88,-69.24 1224.88,-69.24\"/>\n",
       "</g>\n",
       "<!-- 14 -->\n",
       "<g id=\"node15\" class=\"node\">\n",
       "<title>14</title>\n",
       "<path fill=\"#e58139\" stroke=\"black\" d=\"M1489.88,-57.5C1489.88,-57.5 1338.88,-57.5 1338.88,-57.5 1332.88,-57.5 1326.88,-51.5 1326.88,-45.5 1326.88,-45.5 1326.88,-12 1326.88,-12 1326.88,-6 1332.88,0 1338.88,0 1338.88,0 1489.88,0 1489.88,0 1495.88,0 1501.88,-6 1501.88,-12 1501.88,-12 1501.88,-45.5 1501.88,-45.5 1501.88,-51.5 1495.88,-57.5 1489.88,-57.5\"/>\n",
       "<text text-anchor=\"start\" x=\"1334.88\" y=\"-40.2\" font-family=\"Helvetica,sans-Serif\" font-size=\"14.00\">squared_error = 7954.24</text>\n",
       "<text text-anchor=\"start\" x=\"1375.38\" y=\"-23.7\" font-family=\"Helvetica,sans-Serif\" font-size=\"14.00\">samples = 5</text>\n",
       "<text text-anchor=\"start\" x=\"1371.62\" y=\"-7.2\" font-family=\"Helvetica,sans-Serif\" font-size=\"14.00\">value = 177.6</text>\n",
       "</g>\n",
       "<!-- 12&#45;&gt;14 -->\n",
       "<g id=\"edge14\" class=\"edge\">\n",
       "<title>12&#45;&gt;14</title>\n",
       "<path fill=\"none\" stroke=\"black\" d=\"M1291.87,-93.06C1310.77,-83.3 1331.11,-72.79 1349.67,-63.19\"/>\n",
       "<polygon fill=\"black\" stroke=\"black\" points=\"1351.17,-66.36 1358.44,-58.66 1347.95,-60.14 1351.17,-66.36\"/>\n",
       "</g>\n",
       "</g>\n",
       "</svg>\n"
      ],
      "text/plain": [
       "<graphviz.sources.Source at 0x1db21650dd0>"
      ]
     },
     "execution_count": 21,
     "metadata": {},
     "output_type": "execute_result"
    }
   ],
   "source": [
    "# Export a decision tree in DOT format with Graphviz\n",
    "dot_graph = export_graphviz(reg_tree_model,\n",
    "                            feature_names=reg_tree_model.feature_names_in_,\n",
    "                            filled=True,\n",
    "                            rounded=True,\n",
    "                            special_characters=True)\n",
    "\n",
    "tree_graph = graphviz.Source(dot_graph, format=\"png\")\n",
    "\n",
    "# Print the structure of regression tree\n",
    "tree_graph"
   ]
  },
  {
   "cell_type": "code",
   "execution_count": 22,
   "id": "a2a45dec",
   "metadata": {},
   "outputs": [
    {
     "data": {
      "text/html": [
       "<div>\n",
       "<style scoped>\n",
       "    .dataframe tbody tr th:only-of-type {\n",
       "        vertical-align: middle;\n",
       "    }\n",
       "\n",
       "    .dataframe tbody tr th {\n",
       "        vertical-align: top;\n",
       "    }\n",
       "\n",
       "    .dataframe thead th {\n",
       "        text-align: right;\n",
       "    }\n",
       "</style>\n",
       "<table border=\"1\" class=\"dataframe\">\n",
       "  <thead>\n",
       "    <tr style=\"text-align: right;\">\n",
       "      <th></th>\n",
       "      <th>Variable Name</th>\n",
       "      <th>Importance</th>\n",
       "    </tr>\n",
       "  </thead>\n",
       "  <tbody>\n",
       "    <tr>\n",
       "      <th>1</th>\n",
       "      <td>count_lag1</td>\n",
       "      <td>0.966399</td>\n",
       "    </tr>\n",
       "    <tr>\n",
       "      <th>2</th>\n",
       "      <td>count_lag2</td>\n",
       "      <td>0.033601</td>\n",
       "    </tr>\n",
       "    <tr>\n",
       "      <th>0</th>\n",
       "      <td>avg_temp</td>\n",
       "      <td>0.000000</td>\n",
       "    </tr>\n",
       "    <tr>\n",
       "      <th>3</th>\n",
       "      <td>count_lag3</td>\n",
       "      <td>0.000000</td>\n",
       "    </tr>\n",
       "    <tr>\n",
       "      <th>4</th>\n",
       "      <td>count_lag4</td>\n",
       "      <td>0.000000</td>\n",
       "    </tr>\n",
       "    <tr>\n",
       "      <th>5</th>\n",
       "      <td>count_lag5</td>\n",
       "      <td>0.000000</td>\n",
       "    </tr>\n",
       "    <tr>\n",
       "      <th>6</th>\n",
       "      <td>count_lag6</td>\n",
       "      <td>0.000000</td>\n",
       "    </tr>\n",
       "    <tr>\n",
       "      <th>7</th>\n",
       "      <td>count_lag7</td>\n",
       "      <td>0.000000</td>\n",
       "    </tr>\n",
       "    <tr>\n",
       "      <th>8</th>\n",
       "      <td>avg_temp_lag1</td>\n",
       "      <td>0.000000</td>\n",
       "    </tr>\n",
       "    <tr>\n",
       "      <th>9</th>\n",
       "      <td>avg_temp_lag2</td>\n",
       "      <td>0.000000</td>\n",
       "    </tr>\n",
       "    <tr>\n",
       "      <th>10</th>\n",
       "      <td>avg_temp_lag3</td>\n",
       "      <td>0.000000</td>\n",
       "    </tr>\n",
       "    <tr>\n",
       "      <th>11</th>\n",
       "      <td>avg_temp_lag4</td>\n",
       "      <td>0.000000</td>\n",
       "    </tr>\n",
       "    <tr>\n",
       "      <th>12</th>\n",
       "      <td>avg_temp_lag5</td>\n",
       "      <td>0.000000</td>\n",
       "    </tr>\n",
       "    <tr>\n",
       "      <th>13</th>\n",
       "      <td>avg_temp_lag6</td>\n",
       "      <td>0.000000</td>\n",
       "    </tr>\n",
       "    <tr>\n",
       "      <th>14</th>\n",
       "      <td>avg_temp_lag7</td>\n",
       "      <td>0.000000</td>\n",
       "    </tr>\n",
       "  </tbody>\n",
       "</table>\n",
       "</div>"
      ],
      "text/plain": [
       "    Variable Name  Importance\n",
       "1      count_lag1    0.966399\n",
       "2      count_lag2    0.033601\n",
       "0        avg_temp    0.000000\n",
       "3      count_lag3    0.000000\n",
       "4      count_lag4    0.000000\n",
       "5      count_lag5    0.000000\n",
       "6      count_lag6    0.000000\n",
       "7      count_lag7    0.000000\n",
       "8   avg_temp_lag1    0.000000\n",
       "9   avg_temp_lag2    0.000000\n",
       "10  avg_temp_lag3    0.000000\n",
       "11  avg_temp_lag4    0.000000\n",
       "12  avg_temp_lag5    0.000000\n",
       "13  avg_temp_lag6    0.000000\n",
       "14  avg_temp_lag7    0.000000"
      ]
     },
     "execution_count": 22,
     "metadata": {},
     "output_type": "execute_result"
    }
   ],
   "source": [
    "# Feature importances\n",
    "feature_importance_df = pd.DataFrame({'Variable Name': reg_tree_model.feature_names_in_, 'Importance': reg_tree_model.feature_importances_})\n",
    "\n",
    "feature_importance_df.sort_values(by='Importance', ascending=False)"
   ]
  },
  {
   "cell_type": "markdown",
   "id": "bb8ed27e-a30d-41da-bac5-4ef6738e51e6",
   "metadata": {},
   "source": [
    "## Vector Autoregressions (VAR) Model"
   ]
  },
  {
   "cell_type": "markdown",
   "id": "cddb8580-ef58-4309-802f-c8eb9cec1842",
   "metadata": {},
   "source": [
    "###  Data for VAR Model"
   ]
  },
  {
   "cell_type": "code",
   "execution_count": 13,
   "id": "6615e949-906b-428b-bb9c-e69d4662371e",
   "metadata": {},
   "outputs": [],
   "source": [
    "var_data = covid_hk_case_cnt_temp[['report_date', 'count', 'avg_temp']]\n",
    "\n",
    "var_data.set_index('report_date', inplace=True)"
   ]
  },
  {
   "cell_type": "markdown",
   "id": "5630cc66-7ed0-4f81-a90a-a5c6a827b8d3",
   "metadata": {},
   "source": [
    "### Fit VAR Model"
   ]
  },
  {
   "cell_type": "code",
   "execution_count": 26,
   "id": "53d7bd95-37ee-4b72-b3fd-ac809e96e15e",
   "metadata": {},
   "outputs": [
    {
     "name": "stdout",
     "output_type": "stream",
     "text": [
      "  Summary of Regression Results   \n",
      "==================================\n",
      "Model:                         VAR\n",
      "Method:                        OLS\n",
      "Date:           Sat, 10, Aug, 2024\n",
      "Time:                     22:58:09\n",
      "--------------------------------------------------------------------\n",
      "No. of Equations:         2.00000    BIC:                    5.96085\n",
      "Nobs:                     731.000    HQIC:                   5.72150\n",
      "Log likelihood:          -4048.75    FPE:                    262.768\n",
      "AIC:                      5.57117    Det(Omega_mle):         241.823\n",
      "--------------------------------------------------------------------\n",
      "Results for equation count\n",
      "===============================================================================\n",
      "                  coefficient       std. error           t-stat            prob\n",
      "-------------------------------------------------------------------------------\n",
      "const                5.317364         2.743922            1.938           0.053\n",
      "L1.count             0.734335         0.037345           19.664           0.000\n",
      "L1.avg_temp         -0.048570         0.378970           -0.128           0.898\n",
      "L2.count             0.253801         0.051313            4.946           0.000\n",
      "L2.avg_temp          0.072394         0.538367            0.134           0.893\n",
      "L3.count             0.029514         0.053811            0.548           0.583\n",
      "L3.avg_temp          0.671978         0.551209            1.219           0.223\n",
      "L4.count             0.162189         0.053796            3.015           0.003\n",
      "L4.avg_temp         -0.841656         0.551941           -1.525           0.127\n",
      "L5.count            -0.109613         0.053999           -2.030           0.042\n",
      "L5.avg_temp          0.121876         0.552354            0.221           0.825\n",
      "L6.count            -0.137044         0.054074           -2.534           0.011\n",
      "L6.avg_temp         -0.283009         0.552293           -0.512           0.608\n",
      "L7.count            -0.059818         0.054363           -1.100           0.271\n",
      "L7.avg_temp          0.215874         0.550243            0.392           0.695\n",
      "L8.count            -0.072126         0.054894           -1.314           0.189\n",
      "L8.avg_temp         -0.145310         0.550120           -0.264           0.792\n",
      "L9.count             0.295731         0.054971            5.380           0.000\n",
      "L9.avg_temp         -0.261727         0.549051           -0.477           0.634\n",
      "L10.count           -0.124656         0.056225           -2.217           0.027\n",
      "L10.avg_temp         0.267241         0.548677            0.487           0.626\n",
      "L11.count            0.167616         0.057065            2.937           0.003\n",
      "L11.avg_temp         0.274499         0.548241            0.501           0.617\n",
      "L12.count           -0.128355         0.057516           -2.232           0.026\n",
      "L12.avg_temp        -0.659272         0.548171           -1.203           0.229\n",
      "L13.count            0.346845         0.057349            6.048           0.000\n",
      "L13.avg_temp         0.768680         0.547999            1.403           0.161\n",
      "L14.count           -0.019029         0.057508           -0.331           0.741\n",
      "L14.avg_temp         0.205886         0.537058            0.383           0.701\n",
      "L15.count           -0.363633         0.050198           -7.244           0.000\n",
      "L15.avg_temp        -0.538462         0.374069           -1.439           0.150\n",
      "===============================================================================\n",
      "\n",
      "Results for equation avg_temp\n",
      "===============================================================================\n",
      "                  coefficient       std. error           t-stat            prob\n",
      "-------------------------------------------------------------------------------\n",
      "const                0.535681         0.273797            1.956           0.050\n",
      "L1.count            -0.003129         0.003726           -0.840           0.401\n",
      "L1.avg_temp          1.010033         0.037815           26.710           0.000\n",
      "L2.count             0.001819         0.005120            0.355           0.722\n",
      "L2.avg_temp         -0.318920         0.053720           -5.937           0.000\n",
      "L3.count             0.007374         0.005369            1.373           0.170\n",
      "L3.avg_temp          0.112386         0.055001            2.043           0.041\n",
      "L4.count            -0.004911         0.005368           -0.915           0.360\n",
      "L4.avg_temp          0.001806         0.055074            0.033           0.974\n",
      "L5.count             0.002492         0.005388            0.462           0.644\n",
      "L5.avg_temp          0.050880         0.055116            0.923           0.356\n",
      "L6.count            -0.008841         0.005396           -1.639           0.101\n",
      "L6.avg_temp         -0.061770         0.055109           -1.121           0.262\n",
      "L7.count            -0.001647         0.005424           -0.304           0.761\n",
      "L7.avg_temp          0.122693         0.054905            2.235           0.025\n",
      "L8.count             0.006647         0.005477            1.213           0.225\n",
      "L8.avg_temp         -0.076710         0.054893           -1.397           0.162\n",
      "L9.count            -0.012700         0.005485           -2.315           0.021\n",
      "L9.avg_temp          0.073464         0.054786            1.341           0.180\n",
      "L10.count            0.002833         0.005610            0.505           0.614\n",
      "L10.avg_temp        -0.003272         0.054749           -0.060           0.952\n",
      "L11.count           -0.009858         0.005694           -1.731           0.083\n",
      "L11.avg_temp         0.005665         0.054705            0.104           0.918\n",
      "L12.count            0.011470         0.005739            1.999           0.046\n",
      "L12.avg_temp         0.060454         0.054698            1.105           0.269\n",
      "L13.count           -0.000190         0.005722           -0.033           0.974\n",
      "L13.avg_temp        -0.042978         0.054681           -0.786           0.432\n",
      "L14.count            0.005667         0.005738            0.988           0.323\n",
      "L14.avg_temp         0.035950         0.053589            0.671           0.502\n",
      "L15.count            0.000478         0.005009            0.095           0.924\n",
      "L15.avg_temp         0.010650         0.037326            0.285           0.775\n",
      "===============================================================================\n",
      "\n",
      "Correlation matrix of residuals\n",
      "               count  avg_temp\n",
      "count       1.000000  0.039975\n",
      "avg_temp    0.039975  1.000000\n",
      "\n",
      "\n",
      "\n"
     ]
    }
   ],
   "source": [
    "# VAR model\n",
    "var_model = VAR(var_data)\n",
    "\n",
    "# Select lag order based on AIC\n",
    "var_lag_order = var_model.select_order().aic\n",
    "\n",
    "# Fit the VAR model\n",
    "var_model = var_model.fit(maxlags=var_lag_order)\n",
    "\n",
    "# Summary of the fitted VAR model\n",
    "print(var_model.summary())"
   ]
  },
  {
   "cell_type": "markdown",
   "id": "2b7a3e55-2058-4133-8bf8-8efc1b313750",
   "metadata": {},
   "source": [
    "### Prediction of the Fitted VAR Model"
   ]
  },
  {
   "cell_type": "code",
   "execution_count": 15,
   "id": "d111648d",
   "metadata": {},
   "outputs": [
    {
     "data": {
      "text/html": [
       "<div>\n",
       "<style scoped>\n",
       "    .dataframe tbody tr th:only-of-type {\n",
       "        vertical-align: middle;\n",
       "    }\n",
       "\n",
       "    .dataframe tbody tr th {\n",
       "        vertical-align: top;\n",
       "    }\n",
       "\n",
       "    .dataframe thead th {\n",
       "        text-align: right;\n",
       "    }\n",
       "</style>\n",
       "<table border=\"1\" class=\"dataframe\">\n",
       "  <thead>\n",
       "    <tr style=\"text-align: right;\">\n",
       "      <th></th>\n",
       "      <th>count</th>\n",
       "      <th>avg_temp</th>\n",
       "    </tr>\n",
       "  </thead>\n",
       "  <tbody>\n",
       "    <tr>\n",
       "      <th>0</th>\n",
       "      <td>364.929408</td>\n",
       "      <td>15.011237</td>\n",
       "    </tr>\n",
       "    <tr>\n",
       "      <th>1</th>\n",
       "      <td>348.514670</td>\n",
       "      <td>17.170302</td>\n",
       "    </tr>\n",
       "    <tr>\n",
       "      <th>2</th>\n",
       "      <td>404.008979</td>\n",
       "      <td>17.937134</td>\n",
       "    </tr>\n",
       "    <tr>\n",
       "      <th>3</th>\n",
       "      <td>404.436782</td>\n",
       "      <td>18.254130</td>\n",
       "    </tr>\n",
       "    <tr>\n",
       "      <th>4</th>\n",
       "      <td>370.446990</td>\n",
       "      <td>16.407104</td>\n",
       "    </tr>\n",
       "  </tbody>\n",
       "</table>\n",
       "</div>"
      ],
      "text/plain": [
       "        count   avg_temp\n",
       "0  364.929408  15.011237\n",
       "1  348.514670  17.170302\n",
       "2  404.008979  17.937134\n",
       "3  404.436782  18.254130\n",
       "4  370.446990  16.407104"
      ]
     },
     "execution_count": 15,
     "metadata": {},
     "output_type": "execute_result"
    }
   ],
   "source": [
    "# Predict case counts and average temperatures for the next 5 days\n",
    "pd.DataFrame(var_model.forecast(var_data.values, steps=5), columns=var_data.columns)"
   ]
  },
  {
   "cell_type": "code",
   "execution_count": null,
   "id": "3a9298d6-29da-4ae1-b66e-2bf6dc20d4fc",
   "metadata": {},
   "outputs": [],
   "source": []
  },
  {
   "cell_type": "code",
   "execution_count": null,
   "id": "ee909ca4-fff7-4142-a9a2-a6e429ad2a32",
   "metadata": {},
   "outputs": [],
   "source": []
  }
 ],
 "metadata": {
  "kernelspec": {
   "display_name": "Python 3 (ipykernel)",
   "language": "python",
   "name": "python3"
  },
  "language_info": {
   "codemirror_mode": {
    "name": "ipython",
    "version": 3
   },
   "file_extension": ".py",
   "mimetype": "text/x-python",
   "name": "python",
   "nbconvert_exporter": "python",
   "pygments_lexer": "ipython3",
   "version": "3.11.4"
  }
 },
 "nbformat": 4,
 "nbformat_minor": 5
}
