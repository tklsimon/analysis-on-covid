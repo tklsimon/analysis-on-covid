{
 "cells": [
  {
   "cell_type": "markdown",
   "id": "3037b31e-f1e3-4f1f-8c4f-e1392bf1abac",
   "metadata": {},
   "source": [
    "# The University of Hong Kong\n",
    "## DASC7600 Data Science Project 2024\n",
    "## Classification Model"
   ]
  },
  {
   "cell_type": "markdown",
   "id": "3d5aa7f7-58c4-455b-bdef-b98060e3921b",
   "metadata": {},
   "source": [
    "# Import Modules and Settings"
   ]
  },
  {
   "cell_type": "code",
   "execution_count": 1,
   "id": "370db1eb-1bfd-44ed-b01a-da59e388988a",
   "metadata": {},
   "outputs": [],
   "source": [
    "import graphviz\n",
    "import os\n",
    "import pandas as pd\n",
    "import warnings\n",
    "from sklearn.model_selection import train_test_split\n",
    "from sklearn.tree import DecisionTreeClassifier, export_graphviz\n",
    "from imblearn.under_sampling import RandomUnderSampler\n",
    "\n",
    "# Settings\n",
    "warnings.filterwarnings(\"ignore\")\n",
    "%matplotlib inline\n",
    "\n",
    "os.environ[\"PATH\"] += os.pathsep + \"C:/Program Files/Graphviz/bin\" # To fix a graphviz bug"
   ]
  },
  {
   "cell_type": "markdown",
   "id": "30ebdca7-3db1-43e4-b383-15b4102c043a",
   "metadata": {},
   "source": [
    "# Load Data"
   ]
  },
  {
   "cell_type": "code",
   "execution_count": 2,
   "id": "06fe7390-634a-4c77-b2eb-3353b934b52d",
   "metadata": {},
   "outputs": [],
   "source": [
    "# Read csv files\n",
    "covid_hk_std = pd.read_csv('./data/std_data/hk/covid_hk_case_std.csv')"
   ]
  },
  {
   "cell_type": "markdown",
   "id": "a2d98b2f-de52-4387-ab8b-b19c21307a52",
   "metadata": {},
   "source": [
    "# Classification Tree Model"
   ]
  },
  {
   "cell_type": "code",
   "execution_count": 3,
   "id": "05dd6583-5ae2-4a38-bc96-b8a14abcd469",
   "metadata": {},
   "outputs": [],
   "source": [
    "# Keep records with outcomes Discharged or Deceased\n",
    "covid_hk_std = covid_hk_std[covid_hk_std[\"case_outcome\"].isin(['Discharged', 'Deceased'])]\n",
    "\n",
    "# Remove cases with imcomplete information\n",
    "covid_hk_std = covid_hk_std[~covid_hk_std['resident'].isna()]\n",
    "\n",
    "# Independent variables and target varible \n",
    "tree_X = covid_hk_std[['gender', 'age_group', 'resident', 'import_local', 'report_year_month']]\n",
    "tree_y = covid_hk_std[['case_outcome']]\n",
    "\n",
    "# Rename columns and transform the values to numeric for Decision Tree Classifier\n",
    "tree_X = tree_X \\\n",
    "    .rename(columns={'gender': 'male_ind',\n",
    "                     'import_local': 'local_ind'}) \\\n",
    "    .replace({'male_ind': {'F': 0, 'M': 1},\n",
    "              'age_group': {'0-11': 0,'12-19': 12, '20-29': 20, '30-39': 30, '40-49': 40,\n",
    "                            '50-59': 50, '60-69': 60, '70-79': 70, '80 and above': 80},\n",
    "              'resident': {'Non-HK resident': 0, 'HK resident': 1},\n",
    "              'local_ind': {'import': 0, 'local': 1}})\n",
    "\n",
    "# Under-sampling since the dataset is imbalance\n",
    "tree_X_sample, tree_y_sample = RandomUnderSampler(random_state=2024, replacement=True).fit_resample(tree_X, tree_y)\n",
    "\n",
    "# Split into train set and test set with ratio 0.8 : 0.2\n",
    "tree_X_train, tree_X_test, tree_y_train, tree_y_test = train_test_split(tree_X_sample, tree_y_sample, test_size=0.2, random_state=2024)"
   ]
  },
  {
   "cell_type": "code",
   "execution_count": 4,
   "id": "7ab0fea6-933c-4999-9b6b-34f120401f6d",
   "metadata": {
    "scrolled": true
   },
   "outputs": [
    {
     "name": "stdout",
     "output_type": "stream",
     "text": [
      "Test score of Decision Tree Classifier is 0.826.\n"
     ]
    }
   ],
   "source": [
    "# Fit Decision Tree Classifier\n",
    "covid_tree = DecisionTreeClassifier(criterion=\"gini\", min_samples_leaf=2, max_depth=3, random_state=2024)\n",
    "covid_tree.fit(tree_X_train, tree_y_train)\n",
    "print(f\"Test score of Decision Tree Classifier is {covid_tree.score(tree_X_test, tree_y_test):.3f}.\")"
   ]
  },
  {
   "cell_type": "code",
   "execution_count": 5,
   "id": "6ffb5d58-5189-44f0-baa7-328b16c6747d",
   "metadata": {},
   "outputs": [],
   "source": [
    "# # Export a decision tree in DOT format with Graphviz\n",
    "# dot_graph = export_graphviz(covid_tree,\n",
    "#                             feature_names=covid_tree.feature_names_in_,\n",
    "#                             class_names=covid_tree.classes_,\n",
    "#                             filled=True,\n",
    "#                             rounded=True,\n",
    "#                             special_characters=True)\n",
    "\n",
    "# tree_graph = graphviz.Source(dot_graph, format=\"png\")\n",
    "\n",
    "# # Print the structure of regression tree\n",
    "# tree_graph"
   ]
  },
  {
   "cell_type": "markdown",
   "id": "c121ac09-0c26-4216-8991-41403d34f356",
   "metadata": {},
   "source": [
    "1. Age group is a key feature since the 1st and 2nd split used the age group feature. \n",
    "2. The risk of being \"Deceased\" is higher for elderly.\n",
    "3. Date is also a feature that affects the outcome. In the year 2022, it is more likely to be \"Discharged\". "
   ]
  },
  {
   "cell_type": "code",
   "execution_count": null,
   "id": "af8d8347-27ee-42b7-a98f-56018be0706d",
   "metadata": {},
   "outputs": [],
   "source": []
  }
 ],
 "metadata": {
  "kernelspec": {
   "display_name": "Python 3 (ipykernel)",
   "language": "python",
   "name": "python3"
  },
  "language_info": {
   "codemirror_mode": {
    "name": "ipython",
    "version": 3
   },
   "file_extension": ".py",
   "mimetype": "text/x-python",
   "name": "python",
   "nbconvert_exporter": "python",
   "pygments_lexer": "ipython3",
   "version": "3.11.4"
  }
 },
 "nbformat": 4,
 "nbformat_minor": 5
}
