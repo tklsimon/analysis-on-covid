{
 "cells": [
  {
   "cell_type": "markdown",
   "id": "3037b31e-f1e3-4f1f-8c4f-e1392bf1abac",
   "metadata": {},
   "source": [
    "# The University of Hong Kong\n",
    "## DASC7600 Data Science Project 2024\n",
    "## Classification Model"
   ]
  },
  {
   "cell_type": "markdown",
   "id": "3d5aa7f7-58c4-455b-bdef-b98060e3921b",
   "metadata": {},
   "source": [
    "# Import Modules and Settings"
   ]
  },
  {
   "cell_type": "code",
   "execution_count": 1,
   "id": "370db1eb-1bfd-44ed-b01a-da59e388988a",
   "metadata": {},
   "outputs": [],
   "source": [
    "import graphviz\n",
    "import math\n",
    "import os\n",
    "import pandas as pd\n",
    "import warnings\n",
    "from bisect import bisect\n",
    "from imblearn.under_sampling import RandomUnderSampler\n",
    "from sklearn.metrics import confusion_matrix\n",
    "from sklearn.model_selection import train_test_split\n",
    "from sklearn.tree import DecisionTreeClassifier, export_graphviz\n",
    "\n",
    "# Settings\n",
    "warnings.filterwarnings(\"ignore\")\n",
    "\n",
    "# Add Graphviz path\n",
    "os.environ[\"PATH\"] += os.pathsep + \"C:/Program Files/Graphviz/bin\" # To fix a bug"
   ]
  },
  {
   "cell_type": "markdown",
   "id": "30ebdca7-3db1-43e4-b383-15b4102c043a",
   "metadata": {},
   "source": [
    "# Load Data"
   ]
  },
  {
   "cell_type": "code",
   "execution_count": 2,
   "id": "06fe7390-634a-4c77-b2eb-3353b934b52d",
   "metadata": {},
   "outputs": [],
   "source": [
    "# Read csv files\n",
    "covid_hk_case_detail_std = pd.read_csv('./data/std_data/hk/covid_hk_case_detail_std.csv')"
   ]
  },
  {
   "cell_type": "markdown",
   "id": "a2d98b2f-de52-4387-ab8b-b19c21307a52",
   "metadata": {},
   "source": [
    "# Classification Tree Model"
   ]
  },
  {
   "cell_type": "code",
   "execution_count": 3,
   "id": "05dd6583-5ae2-4a38-bc96-b8a14abcd469",
   "metadata": {},
   "outputs": [],
   "source": [
    "# Keep records with outcomes 'No admission', 'Discharged' and 'Deceased'\n",
    "classf_tree_data = covid_hk_case_detail_std[covid_hk_case_detail_std[\"case_outcome\"] \\\n",
    "    .isin(['No admission', 'Discharged', 'Deceased'])]\n",
    "\n",
    "\n",
    "# Replace values 'No admission' and 'Discharged' in the column 'case_outcome' to 'Recovered'\n",
    "classf_tree_data = classf_tree_data \\\n",
    "    .replace({'case_outcome': {'No admission': 'Recovered',\n",
    "                               'Discharged': 'Recovered'}})\n",
    "\n",
    "# Remove cases with imcomplete information\n",
    "classf_tree_data = classf_tree_data[~classf_tree_data['resident'].isna()]\n",
    "\n",
    "# Independent variables and target varible \n",
    "classf_tree_X = classf_tree_data[['gender', 'age_group', 'resident', 'import_local', 'report_year_month']]\n",
    "classf_tree_y = classf_tree_data[['case_outcome']]\n",
    "\n",
    "# Rename columns and transform the values to numeric for Classification Tree Model\n",
    "classf_tree_X = classf_tree_X \\\n",
    "    .rename(columns={'gender': 'male_ind',\n",
    "                     'resident': 'hk_resident_ind',\n",
    "                     'import_local': 'local_case_ind'}) \\\n",
    "    .replace({'male_ind': {'F': 0, 'M': 1},\n",
    "              'age_group': {'0-11': 0,'12-19': 12, '20-29': 20, '30-39': 30, '40-49': 40,\n",
    "                            '50-59': 50, '60-69': 60, '70-79': 70, '80 and above': 80},\n",
    "              'hk_resident_ind': {'Non-HK resident': 0, 'HK resident': 1},\n",
    "              'local_case_ind': {'import': 0, 'local': 1}})\n",
    "\n",
    "# Under-sampling since the dataset is imbalance\n",
    "classf_tree_X_sample, classf_tree_y_sample = RandomUnderSampler(random_state=2024, replacement=True).fit_resample(classf_tree_X, classf_tree_y)\n",
    "\n",
    "# Split into train set and test set with ratio 0.8 : 0.2\n",
    "classf_tree_X_train, classf_tree_X_test, classf_tree_y_train, classf_tree_y_test = \\\n",
    "    train_test_split(classf_tree_X_sample, classf_tree_y_sample, test_size=0.2, random_state=2024)"
   ]
  },
  {
   "cell_type": "code",
   "execution_count": 4,
   "id": "7ab0fea6-933c-4999-9b6b-34f120401f6d",
   "metadata": {
    "scrolled": true
   },
   "outputs": [
    {
     "name": "stdout",
     "output_type": "stream",
     "text": [
      "Training score of Classification Tree model is 0.866.\n",
      "Test score of Classification Tree model is 0.837.\n"
     ]
    }
   ],
   "source": [
    "# Fit Classification Tree model\n",
    "classf_tree_model = DecisionTreeClassifier(criterion=\"gini\", min_samples_leaf=2, max_depth=3, random_state=2024)\n",
    "classf_tree_model.fit(classf_tree_X_train, classf_tree_y_train)\n",
    "\n",
    "# Training score and test score\n",
    "print(f\"Training score of Classification Tree model is {classf_tree_model.score(classf_tree_X_train, classf_tree_y_train):.3f}.\")\n",
    "print(f\"Test score of Classification Tree model is {classf_tree_model.score(classf_tree_X_test, classf_tree_y_test):.3f}.\")"
   ]
  },
  {
   "cell_type": "code",
   "execution_count": 5,
   "id": "29bc7f81-c760-4b59-a4c3-d0e5071fa962",
   "metadata": {},
   "outputs": [
    {
     "name": "stdout",
     "output_type": "stream",
     "text": [
      "Confusion matrix of the classification tree model:\n",
      "[[40  3]\n",
      " [11 32]]\n"
     ]
    }
   ],
   "source": [
    "# Confusion matrix of Classification Tree model\n",
    "print('Confusion matrix of the classification tree model:')\n",
    "print(confusion_matrix(classf_tree_y_test, classf_tree_model.predict(classf_tree_X_test), labels=['Recovered', 'Deceased']))"
   ]
  },
  {
   "cell_type": "code",
   "execution_count": 6,
   "id": "235f3816-b0cf-4a99-a2b9-3328da8e8762",
   "metadata": {},
   "outputs": [],
   "source": [
    "# To correct the thresholds for tree diagram\n",
    "classf_tree_node_nbr = len(classf_tree_model.tree_.feature)\n",
    "age_group_numeric_values = sorted(classf_tree_X['age_group'].drop_duplicates().to_list())\n",
    "year_month_numeric_values = sorted(classf_tree_X['report_year_month'].drop_duplicates().to_list())\n",
    "\n",
    "for index in range(classf_tree_node_nbr):\n",
    "    feat_name_index = classf_tree_model.tree_.feature[index]\n",
    "    if feat_name_index != -2:\n",
    "        feat_name = classf_tree_model.feature_names_in_[feat_name_index]\n",
    "        thrhld = classf_tree_model.tree_.threshold[index]\n",
    "        if 'ind' in feat_name:\n",
    "            if thrhld == 0.5:\n",
    "                classf_tree_model.tree_.threshold[index] = 0\n",
    "        elif feat_name == 'report_year_month':\n",
    "            pos_index = bisect(year_month_numeric_values, thrhld)\n",
    "            classf_tree_model.tree_.threshold[index] = year_month_numeric_values[pos_index - 1]\n",
    "        elif feat_name == 'age_group':\n",
    "            pos_index = bisect(age_group_numeric_values, thrhld)\n",
    "            classf_tree_model.tree_.threshold[index] = age_group_numeric_values[pos_index] - 1"
   ]
  },
  {
   "cell_type": "code",
   "execution_count": 7,
   "id": "6ffb5d58-5189-44f0-baa7-328b16c6747d",
   "metadata": {},
   "outputs": [],
   "source": [
    "# # Tree diagram\n",
    "# classf_dot_graph = export_graphviz(classf_tree_model,\n",
    "#                                    feature_names=classf_tree_model.feature_names_in_,\n",
    "#                                    class_names=classf_tree_model.classes_,\n",
    "#                                    filled=True,\n",
    "#                                    rounded=True,\n",
    "#                                    special_characters=True)\n",
    "\n",
    "# classf_tree_graph = graphviz.Source(classf_dot_graph, format=\"png\")\n",
    "\n",
    "# # Print the tree diagram\n",
    "# classf_tree_graph"
   ]
  },
  {
   "cell_type": "code",
   "execution_count": null,
   "id": "af8d8347-27ee-42b7-a98f-56018be0706d",
   "metadata": {},
   "outputs": [],
   "source": []
  },
  {
   "cell_type": "code",
   "execution_count": null,
   "id": "6b2d260d-ac56-4ef7-96e7-cd831e36f62b",
   "metadata": {},
   "outputs": [],
   "source": []
  }
 ],
 "metadata": {
  "kernelspec": {
   "display_name": "Python 3 (ipykernel)",
   "language": "python",
   "name": "python3"
  },
  "language_info": {
   "codemirror_mode": {
    "name": "ipython",
    "version": 3
   },
   "file_extension": ".py",
   "mimetype": "text/x-python",
   "name": "python",
   "nbconvert_exporter": "python",
   "pygments_lexer": "ipython3",
   "version": "3.11.4"
  }
 },
 "nbformat": 4,
 "nbformat_minor": 5
}
