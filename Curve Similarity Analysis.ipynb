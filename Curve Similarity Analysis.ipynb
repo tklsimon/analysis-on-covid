{
 "cells": [
  {
   "cell_type": "markdown",
   "id": "6031dfef-ae4b-4a7e-aa5d-25cb6856d995",
   "metadata": {},
   "source": [
    "# The University of Hong Kong\n",
    "## DASC7600 Data Science Project 2024\n",
    "## Curve Similarity Analysis"
   ]
  },
  {
   "cell_type": "code",
   "execution_count": 1,
   "id": "b60a7f02-d6f4-4523-9831-5a3a86dcb392",
   "metadata": {},
   "outputs": [],
   "source": [
    "import math\n",
    "import matplotlib.pyplot as plt\n",
    "import numpy as np\n",
    "import pandas as pd\n",
    "import warnings\n",
    "from typing import Dict, List, Tuple\n",
    "from sklearn.metrics.pairwise import haversine_distances\n",
    "\n",
    "# Constant\n",
    "earth_radius_km = 6371\n",
    "\n",
    "# Argument\n",
    "lower_tri_matrix_ind = True # True, False\n",
    "\n",
    "# Settings\n",
    "pd.set_option('display.max_columns', None)\n",
    "warnings.filterwarnings('ignore')\n",
    "\n",
    "%matplotlib inline"
   ]
  },
  {
   "cell_type": "markdown",
   "id": "5e43ccb4-e3fd-4e84-b05f-89ed05c0e4b6",
   "metadata": {},
   "source": [
    "# Functions"
   ]
  },
  {
   "cell_type": "code",
   "execution_count": 2,
   "id": "ae43a077-b3eb-415d-a0a7-3e77d3a45d00",
   "metadata": {},
   "outputs": [],
   "source": [
    "def get_distance_between_two_columns(df: pd.DataFrame,\n",
    "                                     col_A: str,\n",
    "                                     col_B: str,\n",
    "                                     order: int=1) -> float:\n",
    "    num_list_A = df[col_A]\n",
    "    num_list_B = df[col_B]\n",
    "    \n",
    "    if any(val != 0 for val in num_list_A):\n",
    "        num_list_A = num_list_A / sum(num_list_A)\n",
    "    \n",
    "    if any(val != 0 for val in num_list_B):\n",
    "        num_list_B = num_list_B / sum(num_list_B)\n",
    "    \n",
    "    return np.linalg.norm(num_list_A - num_list_B, order)\n",
    "\n",
    "\n",
    "def get_distance_km(point_A: Tuple[float, float],\n",
    "                    point_B: Tuple[float, float]) -> float:\n",
    "    point_A_radius = [math.radians(x) for x in point_A]\n",
    "    point_B_radius = [math.radians(x) for x in point_B]\n",
    "    distance_matrix = haversine_distances([point_A_radius, point_B_radius])\n",
    "    return float(distance_matrix[0, 1]) * earth_radius_km\n",
    "\n",
    "\n",
    "def plot_case_count_line_chart(count_df: pd.DataFrame,\n",
    "                               simlr_cntry_dict: Dict[str, List[str]],\n",
    "                               cntry_cd: str,\n",
    "                               norm_ind: bool=True) -> None:\n",
    "    count_temp = count_df.copy()\n",
    "    date_list = count_temp['report_date']\n",
    "    \n",
    "    cntry_cnt_list = count_temp[cntry_cd]\n",
    "    if norm_ind == True:\n",
    "        cntry_cnt_list /= sum(cntry_cnt_list)\n",
    "            \n",
    "    simlr_cntry_list = simlr_cntry_dict.get(cntry_cd)\n",
    "    for simlr_cntry_cd in simlr_cntry_list:\n",
    "        # Figure and axis\n",
    "        fig, ax = plt.subplots(figsize=(16, 6))\n",
    "        title_str = 'Number of New Covid-19 Cases'\n",
    "        x_label_str = 'Date'\n",
    "        y_label_str = 'New Case Counts'\n",
    "        \n",
    "        # Plot line chart\n",
    "        simlr_cntry_cnt_list = count_temp[simlr_cntry_cd]\n",
    "        if norm_ind == True:\n",
    "            simlr_cntry_cnt_list /= sum(simlr_cntry_cnt_list)\n",
    "            y_label_str = 'New Case Counts (Normalized)'\n",
    "        \n",
    "        ax.plot_date(date_list, cntry_cnt_list,\n",
    "                     marker='', linestyle='-', label=cntry_cd)\n",
    "        \n",
    "        ax.plot_date(date_list, simlr_cntry_cnt_list,\n",
    "                     marker='', linestyle='-', label=simlr_cntry_cd)\n",
    "        \n",
    "        # Title, x-axis label and y-axis label\n",
    "        plt.title(title_str) \n",
    "        plt.xlabel(x_label_str)\n",
    "        plt.ylabel(y_label_str)\n",
    "        \n",
    "        # Legend\n",
    "        plt.legend(loc=\"upper right\")\n",
    "        \n",
    "        plt.show()"
   ]
  },
  {
   "cell_type": "markdown",
   "id": "c0731dc2-8b30-46cd-bbe3-214c18280bf7",
   "metadata": {},
   "source": [
    "# Load Data"
   ]
  },
  {
   "cell_type": "code",
   "execution_count": 3,
   "id": "f8bb48e6-3409-4ea9-8a15-048d0ba43554",
   "metadata": {},
   "outputs": [],
   "source": [
    "# Read csv files\n",
    "covid_global_new_case_count_std = pd.read_csv('./data/std_data/global/covid_global_new_case_count_std.csv')\n",
    "global_lat_long_std = pd.read_csv('./data/std_data/global/global_lat_long_std.csv')"
   ]
  },
  {
   "cell_type": "markdown",
   "id": "9c2ecb99-76f1-4a09-b6d5-4fc386dde71c",
   "metadata": {},
   "source": [
    "# Analysis"
   ]
  },
  {
   "cell_type": "code",
   "execution_count": 4,
   "id": "e3b24740-24ac-4a3d-a43b-3ec7ff10ecb1",
   "metadata": {},
   "outputs": [],
   "source": [
    "# Modify datatype for the date column\n",
    "covid_global_new_case_count_std['report_date'] = pd.to_datetime(covid_global_new_case_count_std['report_date'],  format='%Y%m%d')"
   ]
  },
  {
   "cell_type": "code",
   "execution_count": 5,
   "id": "d30eb9ce-26f0-4469-8749-4360bf6e08d5",
   "metadata": {},
   "outputs": [],
   "source": [
    "# Mapping Tables\n",
    "global_lat_long_std.set_index('cntry_cd', inplace=True)\n",
    "## Contry code to latitude and longitude\n",
    "cntry_lat_long_dict = global_lat_long_std[['lat','long']].to_dict('index')\n",
    "## Contry code to country name\n",
    "cntry_name_dict = global_lat_long_std[['cntry_name']].to_dict('index')"
   ]
  },
  {
   "cell_type": "code",
   "execution_count": 6,
   "id": "608d01a8-9d9e-408c-af3f-beb27f1ae48b",
   "metadata": {
    "scrolled": true
   },
   "outputs": [],
   "source": [
    "# Matrix with distance between columns\n",
    "col_list = [col for col in covid_global_new_case_count_std.columns \\\n",
    "                if \"DATE\" not in col.upper()]\n",
    "\n",
    "col_nbr = len(col_list)\n",
    "\n",
    "col_dist_matrix = np.empty((col_nbr, col_nbr), dtype=float)\n",
    "for i, col_A in enumerate(col_list):\n",
    "    for j, col_B in enumerate(col_list):\n",
    "        col_dist_matrix[i, j] = \\\n",
    "            get_distance_between_two_columns(covid_global_new_case_count_std, col_A, col_B)\n",
    "\n",
    "if lower_tri_matrix_ind:\n",
    "    col_dist_matrix = np.tril(col_dist_matrix, -1)\n",
    "\n",
    "col_dist_matrix_df = pd.DataFrame(data=col_dist_matrix,\n",
    "                                  index=col_list,\n",
    "                                  columns=col_list)"
   ]
  },
  {
   "cell_type": "code",
   "execution_count": 7,
   "id": "f34324a8-ddc2-4d86-ad25-32b884475050",
   "metadata": {},
   "outputs": [
    {
     "name": "stdout",
     "output_type": "stream",
     "text": [
      "AT: 'DE'\n",
      "DK: 'NO'\n",
      "\n",
      "There are 2 counties with new case counts similar to other countries (threshold: 0.3).\n"
     ]
    }
   ],
   "source": [
    "# The pairs of similar countries\n",
    "thrhld = 0.3 # 0.3, 0.4\n",
    "\n",
    "simlr_cntry_dict = {}\n",
    "for col in col_list:\n",
    "    index_list = list(col_dist_matrix_df[(col_dist_matrix_df[col] > 0) & \\\n",
    "                                         (col_dist_matrix_df[col] <= thrhld)] \\\n",
    "                          .index.values)\n",
    "    if len(index_list) > 0:\n",
    "        print(f'{col}: {str(index_list)[1:-1]}')\n",
    "        simlr_cntry_dict[col] = index_list\n",
    "\n",
    "print('')\n",
    "print(f'There are {len(simlr_cntry_dict)} counties with new case counts similar to other countries (threshold: {thrhld}).')"
   ]
  },
  {
   "cell_type": "code",
   "execution_count": 8,
   "id": "78da0699-be44-464d-86b9-454e3658cb40",
   "metadata": {},
   "outputs": [],
   "source": [
    "# # To validate the result by plotting the line charts\n",
    "# plot_case_count_line_chart(covid_global_new_case_count_std,\n",
    "#                            simlr_cntry_dict,\n",
    "#                            'FR',\n",
    "#                            True)"
   ]
  },
  {
   "cell_type": "code",
   "execution_count": 9,
   "id": "8797cae1-b683-4061-8875-a7d8cea63b09",
   "metadata": {},
   "outputs": [
    {
     "name": "stdout",
     "output_type": "stream",
     "text": [
      "For the country AT - Austria (lat: 47.52, long: 14.55),\n",
      "It has new case counts similar to 1 country/countries.\n",
      "Distance to DE - Germany (lat: 51.17, long: 10.45): 502.7 km\n",
      "\n",
      "For the country DK - Denmark (lat: 56.26, long: 9.50),\n",
      "It has new case counts similar to 1 country/countries.\n",
      "Distance to NO - Norway (lat: 60.47, long: 8.47): 471.8 km\n",
      "\n"
     ]
    }
   ],
   "source": [
    "# Print the country names, latitude, longitude for each pair and their distance\n",
    "for cntry_cd, simlr_cntry_list in simlr_cntry_dict.items():\n",
    "    try:\n",
    "        cntry_name = cntry_name_dict[cntry_cd]['cntry_name']\n",
    "        cntry_lat = cntry_lat_long_dict[cntry_cd]['lat']\n",
    "        cntry_long = cntry_lat_long_dict[cntry_cd]['long']\n",
    "    except:\n",
    "        cntry_name = 'Unknown Country'\n",
    "        cntry_lat = cntry_long = np.nan\n",
    "    \n",
    "    print(f'For the country {cntry_cd} - {cntry_name} (lat: {cntry_lat:.2f}, long: {cntry_long:.2f}),')\n",
    "    print(f'It has new case counts similar to {len(simlr_cntry_list)} country/countries.')\n",
    "    for simlr_cntry_cd in simlr_cntry_list:\n",
    "        try:\n",
    "            simlr_cntry_name = cntry_name_dict[simlr_cntry_cd]['cntry_name']\n",
    "            simlr_cntry_lat = cntry_lat_long_dict[simlr_cntry_cd]['lat']\n",
    "            simlr_cntry_long = cntry_lat_long_dict[simlr_cntry_cd]['long']\n",
    "        except:\n",
    "            simlr_cntry_name = 'Unknown Country'\n",
    "            simlr_cntry_lat = simlr_cntry_long = np.nan\n",
    "        \n",
    "        try:\n",
    "            distance_km = get_distance_km((cntry_lat, cntry_long), (simlr_cntry_lat, simlr_cntry_long))\n",
    "        except:\n",
    "            distance_km = np.nan\n",
    "        \n",
    "        print(f'Distance to {simlr_cntry_cd} - {simlr_cntry_name} (lat: {simlr_cntry_lat:.2f}, long: {simlr_cntry_long:.2f}):',\n",
    "              f'{distance_km:.1f} km')\n",
    "    print('')"
   ]
  },
  {
   "cell_type": "code",
   "execution_count": null,
   "id": "aca074e3-d03c-4823-ae2f-d3a6b2b60d2c",
   "metadata": {},
   "outputs": [],
   "source": []
  },
  {
   "cell_type": "code",
   "execution_count": null,
   "id": "6233cb6f-7e83-4f88-98a0-e80effd29d5c",
   "metadata": {},
   "outputs": [],
   "source": []
  }
 ],
 "metadata": {
  "kernelspec": {
   "display_name": "Python 3 (ipykernel)",
   "language": "python",
   "name": "python3"
  },
  "language_info": {
   "codemirror_mode": {
    "name": "ipython",
    "version": 3
   },
   "file_extension": ".py",
   "mimetype": "text/x-python",
   "name": "python",
   "nbconvert_exporter": "python",
   "pygments_lexer": "ipython3",
   "version": "3.11.4"
  }
 },
 "nbformat": 4,
 "nbformat_minor": 5
}
